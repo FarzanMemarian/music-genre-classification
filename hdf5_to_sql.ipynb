{
 "cells": [
  {
   "cell_type": "code",
   "execution_count": 1,
   "metadata": {
    "collapsed": false,
    "scrolled": true
   },
   "outputs": [
    {
     "name": "stderr",
     "output_type": "stream",
     "text": [
      "100%|██████████| 9330/9330 [00:00<00:00, 12599.60it/s]\n"
     ]
    }
   ],
   "source": [
    "'''\n",
    "import tags from lastfm dataset\n",
    "   \n",
    "@author - Farzan Memarian\n",
    " this is based on Andrew's id_title_artist.py and Alen's create_song_sql.py\n",
    "'''\n",
    "\n",
    "import hdf5_getters\n",
    "from tqdm import tqdm\n",
    "import pymysql.cursors\n",
    "import pandas as pd\n",
    "import numpy as np\n",
    "import glob\n",
    "import csv\n",
    "import pdb\n",
    "import json\n",
    "from pprint import pprint\n",
    "\n",
    "\n",
    "glob_path = '/home/frank/1CSEM/1UTCoursesTaken/dataMiningEE380L/termProject/dataset/lastfm_subset/*/*/*/*'\n",
    "filepaths = glob.glob(glob_path)\n",
    "\n",
    "for filepath in tqdm(filepaths):\n",
    "    # print (filepath)\n",
    "    with open(filepath) as data_file:    \n",
    "        data = json.load(data_file)\n",
    "        # print (data.get('tags'))\n",
    "        # pprint(data)\n",
    "\n"
   ]
  },
  {
   "cell_type": "code",
   "execution_count": null,
   "metadata": {
    "collapsed": false
   },
   "outputs": [
    {
     "name": "stderr",
     "output_type": "stream",
     "text": [
      "  3%|▎         | 305/10000 [00:05<02:51, 56.67it/s]"
     ]
    }
   ],
   "source": [
    "'''\n",
    "create sql dataset from hdf5 files directly\n",
    "   \n",
    "@author - Farzan Memarian\n",
    " this is based on Andrew's id_title_artist.py and Alen's create_song_sql.py\n",
    "'''\n",
    "\n",
    "# in this cell, some of the features of MSD dataset are imported and stored in SQL table. \n",
    "import hdf5_getters\n",
    "from tqdm import tqdm\n",
    "import pymysql.cursors\n",
    "import pandas as pd\n",
    "import numpy as np\n",
    "import glob\n",
    "import csv\n",
    "import pdb\n",
    "import json\n",
    "from pprint import pprint\n",
    "import unicodedata\n",
    "\n",
    "\n",
    "glob_path = '/home/frank/1CSEM/1UTCoursesTaken/dataMiningEE380L/termProject/teamproject/dataset/MillionSongSubset/data/*/*/*/*'\n",
    "filepaths = glob.glob(glob_path)\n",
    "\n",
    "# establish connection to sql server\n",
    "connection = pymysql.connect(host='localhost',\\\n",
    "   user='root',db='songs')\n",
    "cursor = connection.cursor()\n",
    "\n",
    "# create sql table (only need to do this once)\n",
    "sql = '''CREATE TABLE songs (\n",
    "\n",
    "songID VARCHAR(50) PRIMARY KEY, \n",
    "artist VARCHAR(400) DEFAULT NULL,\n",
    "title VARCHAR(400) DEFAULT NULL,\n",
    "danceability REAL,\n",
    "duration REAL,\n",
    "energy REAL,\n",
    "loudness REAL,\n",
    "musicalKey INT,\n",
    "mode INT,\n",
    "tempo REAL,\n",
    "\n",
    "INDEX artist (artist)\n",
    ");'''\n",
    "cursor.execute(sql)\n",
    "connection.commit()\n",
    "\n",
    "glob_path = '/home/frank/1CSEM/1UTCoursesTaken/dataMiningEE380L/termProject/dataset/MillionSongSubset/data/*/*/*/*'\n",
    "filepaths = glob.glob(glob_path)\n",
    "for filepath in tqdm(filepaths):\n",
    "    h5 = hdf5_getters.open_h5_file_read(filepath)\n",
    "    n = hdf5_getters.get_num_songs(h5)\n",
    "    # print n\n",
    "    for row in range(n):\n",
    "        artist = hdf5_getters.get_artist_name(h5,songidx=row)#.decode('UTF-8')\n",
    "        song_id = hdf5_getters.get_song_id(h5,songidx=row).decode('UTF-8')\n",
    "        title= hdf5_getters.get_title(h5,songidx=row)#.decode('UTF-8')\n",
    "        artist = \"\".join(c for c in unicodedata.normalize('NFD', str(artist.decode(\"utf8\"))) if unicodedata.category(c) != \"Mn\")\n",
    "        title = \"\".join(c for c in unicodedata.normalize('NFD', str(title.decode(\"utf8\"))) if unicodedata.category(c) != \"Mn\")\n",
    "        danceability = hdf5_getters.get_danceability(h5,songidx=row)\n",
    "        duration = hdf5_getters.get_duration(h5,songidx=row)\n",
    "        energy = hdf5_getters.get_energy(h5,songidx=row)\n",
    "        loudness = hdf5_getters.get_loudness(h5,songidx=row)\n",
    "        musicalKey = hdf5_getters.get_key(h5,songidx=row)\n",
    "        mode = hdf5_getters.get_mode(h5,songidx=row)\n",
    "        tempo = hdf5_getters.get_tempo(h5,songidx=row)\n",
    "#         artist_mbtags = hdf5_getters.get_artist_mbtags(h5,songidx=row).astype('U13')\n",
    "#         artist_mbtags_count = hdf5_getters.get_artist_mbtags_count(h5,songidx=row)\n",
    "#         artist_terms = hdf5_getters.get_artist_terms(h5, songidx=row).astype('U13')\n",
    "        tempo = hdf5_getters.get_tempo(h5,songidx=row)\n",
    "        # print (artist)\n",
    "        # print (title)\n",
    "        # print (song_id)\n",
    "        # print (artist_terms)\n",
    "        # print(tempo)\n",
    "        # print(artist_mbtags)\n",
    "        # print(artist_mbtags_count)\n",
    "        # pdb.set_trace()\n",
    "        # populate sql table with data\n",
    "        query = \"INSERT INTO songs (songID, artist, title, danceability, duration, energy, loudness, musicalKey,\\\n",
    "            mode, tempo) VALUES ('%s', '%s','%s','%s','%s','%s','%s','%s','%s','%s')\"\\\n",
    "            % (song_id, artist.replace(\"'\",\"\"), title.replace(\"'\",\"\"), danceability, duration, energy,\\\n",
    "              loudness, musicalKey, mode, tempo)\n",
    "        cursor.execute(query)\n",
    "        connection.commit()\n",
    "    h5.close()\n",
    "\n",
    "# close sql connection\n",
    "cursor.close()\n",
    "connection.close()"
   ]
  },
  {
   "cell_type": "code",
   "execution_count": null,
   "metadata": {
    "collapsed": true
   },
   "outputs": [],
   "source": []
  }
 ],
 "metadata": {
  "anaconda-cloud": {},
  "kernelspec": {
   "display_name": "Python [Root]",
   "language": "python",
   "name": "Python [Root]"
  },
  "language_info": {
   "codemirror_mode": {
    "name": "ipython",
    "version": 3
   },
   "file_extension": ".py",
   "mimetype": "text/x-python",
   "name": "python",
   "nbconvert_exporter": "python",
   "pygments_lexer": "ipython3",
   "version": "3.5.2"
  }
 },
 "nbformat": 4,
 "nbformat_minor": 0
}
