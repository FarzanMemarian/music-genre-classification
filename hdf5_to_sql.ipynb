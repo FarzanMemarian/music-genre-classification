{
 "cells": [
  {
   "cell_type": "code",
   "execution_count": 1,
   "metadata": {
    "collapsed": false,
    "scrolled": true
   },
   "outputs": [
    {
     "ename": "SyntaxError",
     "evalue": "invalid syntax (<ipython-input-1-e1f40f3ffb5f>, line 20)",
     "output_type": "error",
     "traceback": [
      "\u001b[1;36m  File \u001b[1;32m\"<ipython-input-1-e1f40f3ffb5f>\"\u001b[1;36m, line \u001b[1;32m20\u001b[0m\n\u001b[1;33m    create sql table (only need to do this once)\u001b[0m\n\u001b[1;37m             ^\u001b[0m\n\u001b[1;31mSyntaxError\u001b[0m\u001b[1;31m:\u001b[0m invalid syntax\n"
     ]
    }
   ],
   "source": [
    "'''\n",
    "create sql dataset from hdf5 files directly\n",
    "   \n",
    "@author - Farzan Memarian\n",
    " this is based on Andrew's id_title_artist.py and Alen's create_song_sql.py\n",
    "'''\n",
    "import hdf5_getters\n",
    "from tqdm import tqdm\n",
    "import pymysql.cursors\n",
    "import pandas as pd\n",
    "import numpy as np\n",
    "import glob\n",
    "import csv\n",
    "import pdb\n",
    "\n",
    "# establish connection to sql server\n",
    "connection = pymysql.connect(host='localhost',\\\n",
    "   user='root',db='songs')\n",
    "cursor = connection.cursor()\n",
    "\n",
    "# create sql table (only need to do this once)\n",
    "sql = '''CREATE TABLE songs (\n",
    "\n",
    "songID VARCHAR(50) PRIMARY KEY, \n",
    "artist VARCHAR(400) DEFAULT NULL,\n",
    "title VARCHAR(400) DEFAULT NULL,\n",
    "danceability REAL,\n",
    "duration REAL,\n",
    "energy REAL,\n",
    "loudness REAL,\n",
    "musicalKey INT,\n",
    "mode INT,\n",
    "tempo REAL,\n",
    "\n",
    "INDEX artist (artist)\n",
    ");'''\n",
    "cursor.execute(sql)\n",
    "connection.commit()\n",
    "\n",
    "glob_path = '/home/frank/1CSEM/1UTCoursesTaken/dataMiningEE380L/termProject/dataset/MillionSongSubset/data/*/*/*/*'\n",
    "filepaths = glob.glob(glob_path)\n",
    "for filepath in tqdm(filepaths):\n",
    "    h5 = hdf5_getters.open_h5_file_read(filepath)\n",
    "    n = hdf5_getters.get_num_songs(h5)\n",
    "    # print n\n",
    "    for row in range(n):\n",
    "        artist = hdf5_getters.get_artist_name(h5,songidx=row).decode('UTF-8')\n",
    "        song_id = hdf5_getters.get_song_id(h5,songidx=row).decode('UTF-8')\n",
    "        title= hdf5_getters.get_title(h5,songidx=row).decode('UTF-8')\n",
    "        danceability = hdf5_getters.get_danceability(h5,songidx=row)\n",
    "        duration = hdf5_getters.get_duration(h5,songidx=row)\n",
    "        energy = hdf5_getters.get_energy(h5,songidx=row)\n",
    "        loudness = hdf5_getters.get_loudness(h5,songidx=row)\n",
    "        musicalKey = hdf5_getters.get_key(h5,songidx=row)\n",
    "        mode = hdf5_getters.get_mode(h5,songidx=row)\n",
    "        tempo = hdf5_getters.get_tempo(h5,songidx=row)\n",
    "        artist_mbtags = hdf5_getters.get_artist_mbtags(h5,songidx=row)\n",
    "        artist_mbtags_count = hdf5_getters.get_artist_mbtags_count(h5,songidx=row)\n",
    "        tempo = hdf5_getters.get_tempo(h5,songidx=row)\n",
    "        # print(tempo)\n",
    "        # print(artist_mbtags)\n",
    "        # print(artist_mbtags_count)\n",
    "        # info = [song_id, title, artist]\n",
    "        # pdb.set_trace()\n",
    "        # populate sql table with data\n",
    "        query = \"INSERT INTO songs (songID, artist, title, danceability, duration, energy, loudness, musicalKey,\\\n",
    "            mode, tempo) VALUES ('%s', '%s','%s','%s','%s','%s','%s','%s','%s','%s')\"\\\n",
    "            % (song_id, artist.replace(\"'\",\"\"), title.replace(\"'\",\"\"), danceability, duration, energy,\\\n",
    "              loudness, musicalKey, mode, tempo)\n",
    "        cursor.execute(query)\n",
    "        connection.commit()\n",
    "    h5.close()\n",
    "\n",
    "# close sql connection\n",
    "cursor.close()\n",
    "connection.close()"
   ]
  },
  {
   "cell_type": "code",
   "execution_count": null,
   "metadata": {
    "collapsed": true
   },
   "outputs": [],
   "source": []
  }
 ],
 "metadata": {
  "anaconda-cloud": {},
  "kernelspec": {
   "display_name": "Python [Root]",
   "language": "python",
   "name": "Python [Root]"
  },
  "language_info": {
   "codemirror_mode": {
    "name": "ipython",
    "version": 3
   },
   "file_extension": ".py",
   "mimetype": "text/x-python",
   "name": "python",
   "nbconvert_exporter": "python",
   "pygments_lexer": "ipython3",
   "version": "3.5.2"
  }
 },
 "nbformat": 4,
 "nbformat_minor": 0
}
