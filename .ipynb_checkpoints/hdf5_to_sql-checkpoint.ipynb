{
 "cells": [
  {
   "cell_type": "code",
   "execution_count": 1,
   "metadata": {
    "collapsed": false
   },
   "outputs": [
    {
     "name": "stderr",
     "output_type": "stream",
     "text": [
      "100%|██████████| 10000/10000 [01:33<00:00, 107.29it/s]\n"
     ]
    }
   ],
   "source": [
    "'''\n",
    "create sql dataset from hdf5 files directly\n",
    "    this is based on Andrew's and Alen's code\n",
    "@author - Farzan Memarian\n",
    "\n",
    "'''\n",
    "\n",
    "import hdf5_getters\n",
    "from tqdm import tqdm\n",
    "import pymysql.cursors\n",
    "import pandas as pd\n",
    "import numpy as np\n",
    "import glob\n",
    "import csv\n",
    "import pdb\n",
    "\n",
    "# establish connection to sql server\n",
    "connection = pymysql.connect(host='localhost',\\\n",
    "   user='root',db='songs')\n",
    "cursor = connection.cursor()\n",
    "\n",
    "# create sql table (only need to do this once)\n",
    "sql = '''CREATE TABLE songs (\n",
    "songID VARCHAR(50) PRIMARY KEY, \n",
    "artist VARCHAR(400) DEFAULT NULL,\n",
    "title VARCHAR(400) DEFAULT NULL,\n",
    "INDEX artist (artist)\n",
    ");'''\n",
    "cursor.execute(sql)\n",
    "connection.commit()\n",
    "\n",
    "glob_path = '/home/frank/1CSEM/1UTCoursesTaken/dataMiningEE380L/termProject/dataset/MillionSongSubset/data/*/*/*/*'\n",
    "filepaths = glob.glob(glob_path)\n",
    "for filepath in tqdm(filepaths):\n",
    "    h5 = hdf5_getters.open_h5_file_read(filepath)\n",
    "    n = hdf5_getters.get_num_songs(h5)\n",
    "    # pdb.set_trace()\n",
    "    # print n\n",
    "    for row in range(n):\n",
    "        artist = hdf5_getters.get_artist_name(h5,songidx=row).decode('UTF-8')\n",
    "        song_id = hdf5_getters.get_song_id(h5,songidx=row).decode('UTF-8')\n",
    "        title= hdf5_getters.get_title(h5,songidx=row).decode('UTF-8')\n",
    "        info = [song_id, title, artist]\n",
    "        # populate sql table with data\n",
    "        query = \"INSERT INTO songs (songID, artist, title) VALUES ('%s', '%s', '%s')\"\\\n",
    "                                         % (song_id, artist.replace(\"'\",\"\"), title.replace(\"'\",\"\"))\n",
    "        cursor.execute(query)\n",
    "        connection.commit()\n",
    "        \n",
    "    h5.close()\n",
    "\n",
    "# close sql connection\n",
    "cursor.close()\n",
    "connection.close()\n",
    "    \n",
    "    "
   ]
  },
  {
   "cell_type": "code",
   "execution_count": null,
   "metadata": {
    "collapsed": true
   },
   "outputs": [],
   "source": []
  }
 ],
 "metadata": {
  "kernelspec": {
   "display_name": "Python [Root]",
   "language": "python",
   "name": "Python [Root]"
  },
  "language_info": {
   "codemirror_mode": {
    "name": "ipython",
    "version": 3
   },
   "file_extension": ".py",
   "mimetype": "text/x-python",
   "name": "python",
   "nbconvert_exporter": "python",
   "pygments_lexer": "ipython3",
   "version": "3.5.2"
  }
 },
 "nbformat": 4,
 "nbformat_minor": 0
}
