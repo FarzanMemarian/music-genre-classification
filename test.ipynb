{
 "cells": [
  {
   "cell_type": "code",
   "execution_count": 1,
   "metadata": {
    "collapsed": false
   },
   "outputs": [
    {
     "ename": "SyntaxError",
     "evalue": "invalid syntax (<ipython-input-1-09337143b85c>, line 26)",
     "output_type": "error",
     "traceback": [
      "\u001b[0;36m  File \u001b[0;32m\"<ipython-input-1-09337143b85c>\"\u001b[0;36m, line \u001b[0;32m26\u001b[0m\n\u001b[0;31m    h5 = hdf5_getters.open_h5_file_read(path to some file)\u001b[0m\n\u001b[0m                                              ^\u001b[0m\n\u001b[0;31mSyntaxError\u001b[0m\u001b[0;31m:\u001b[0m invalid syntax\n"
     ]
    }
   ],
   "source": [
    "import glob\n",
    "import hdf5_getters\n",
    "import csv\n",
    "from tqdm import tqdm\n",
    "\n",
    "myfile = open('info.csv', 'wb')\n",
    "wr = csv.writer(myfile, quoting=csv.QUOTE_ALL)\n",
    "\n",
    "glob_path = '/Users/andrew/Documents/datamining/Project/MillionSongSubset/data/*/*/*/*'\n",
    "filepaths = glob.glob(glob_path)\n",
    "for filepath in tqdm(filepaths):\n",
    "\th5 = hdf5_getters.open_h5_file_read(filepath)\n",
    "\tn = hdf5_getters.get_num_songs(h5)\n",
    "\t# print n\n",
    "\tfor row in range(n):\n",
    "\t\tartist = hdf5_getters.get_artist_name(h5,songidx=row)\n",
    "\t\tsong_id = hdf5_getters.get_song_id(h5,songidx=row)\n",
    "\t\ttitle= hdf5_getters.get_title(h5,songidx=row)\n",
    "\t\tinfo = [song_id, title, artist]\n",
    "\t\twr.writerow(info)\n",
    "\th5.close()\n",
    "\n",
    "\n",
    "\n",
    "import hdf5_getters\n",
    "h5 = hdf5_getters.open_h5_file_read(path to some file)\n",
    "duration = hdf5_getters.get_duration(h5)\n",
    "h5.close()\n",
    "\n"
   ]
  },
  {
   "cell_type": "code",
   "execution_count": null,
   "metadata": {
    "collapsed": true
   },
   "outputs": [],
   "source": []
  }
 ],
 "metadata": {
  "anaconda-cloud": {},
  "kernelspec": {
   "display_name": "Python [py27]",
   "language": "python",
   "name": "Python [py27]"
  },
  "language_info": {
   "codemirror_mode": {
    "name": "ipython",
    "version": 2
   },
   "file_extension": ".py",
   "mimetype": "text/x-python",
   "name": "python",
   "nbconvert_exporter": "python",
   "pygments_lexer": "ipython2",
   "version": "2.7.13"
  }
 },
 "nbformat": 4,
 "nbformat_minor": 0
}
