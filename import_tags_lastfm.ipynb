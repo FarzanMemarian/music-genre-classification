{
 "cells": [
  {
   "cell_type": "code",
   "execution_count": 1,
   "metadata": {
    "collapsed": false
   },
   "outputs": [
    {
     "name": "stderr",
     "output_type": "stream",
     "text": [
      "100%|██████████| 9330/9330 [00:00<00:00, 10640.48it/s]\n"
     ]
    },
    {
     "data": {
      "text/html": [
       "<div>\n",
       "<table border=\"1\" class=\"dataframe\">\n",
       "  <thead>\n",
       "    <tr style=\"text-align: right;\">\n",
       "      <th></th>\n",
       "      <th>artist</th>\n",
       "      <th>track_id</th>\n",
       "      <th>title</th>\n",
       "      <th>tags</th>\n",
       "    </tr>\n",
       "  </thead>\n",
       "  <tbody>\n",
       "    <tr>\n",
       "      <th>78</th>\n",
       "      <td>The Killers</td>\n",
       "      <td>TRBIFGK128F92F23A2</td>\n",
       "      <td>A Dustland Fairytale</td>\n",
       "      <td>[[indie rock, 100], [indie, 95], [rock, 78], [...</td>\n",
       "    </tr>\n",
       "    <tr>\n",
       "      <th>227</th>\n",
       "      <td>The Killers</td>\n",
       "      <td>TRBBJVE128F9303F10</td>\n",
       "      <td>A White Demon Love Song (Soundtrack Album Vers...</td>\n",
       "      <td>[]</td>\n",
       "    </tr>\n",
       "    <tr>\n",
       "      <th>4326</th>\n",
       "      <td>The Killers</td>\n",
       "      <td>TRADZXK128F429DB92</td>\n",
       "      <td>Show You How</td>\n",
       "      <td>[[rock, 100], [indie rock, 80], [alternative r...</td>\n",
       "    </tr>\n",
       "    <tr>\n",
       "      <th>4498</th>\n",
       "      <td>The Killers</td>\n",
       "      <td>TRASYQQ128F425092B</td>\n",
       "      <td>Mr. Brightside (Jacques Lu Cont's Thin White D...</td>\n",
       "      <td>[[remix, 100], [indie, 66], [The Killers, 48],...</td>\n",
       "    </tr>\n",
       "    <tr>\n",
       "      <th>4904</th>\n",
       "      <td>The Killers</td>\n",
       "      <td>TRAOGAZ128F42B7FFC</td>\n",
       "      <td>When You Were Young</td>\n",
       "      <td>[[rock, 100], [indie rock, 80], [indie, 64], [...</td>\n",
       "    </tr>\n",
       "    <tr>\n",
       "      <th>8745</th>\n",
       "      <td>The Killers</td>\n",
       "      <td>TRAARHS128F931689D</td>\n",
       "      <td>Spaceman</td>\n",
       "      <td>[[indie, 100], [indie rock, 90], [rock, 75], [...</td>\n",
       "    </tr>\n",
       "  </tbody>\n",
       "</table>\n",
       "</div>"
      ],
      "text/plain": [
       "           artist            track_id  \\\n",
       "78    The Killers  TRBIFGK128F92F23A2   \n",
       "227   The Killers  TRBBJVE128F9303F10   \n",
       "4326  The Killers  TRADZXK128F429DB92   \n",
       "4498  The Killers  TRASYQQ128F425092B   \n",
       "4904  The Killers  TRAOGAZ128F42B7FFC   \n",
       "8745  The Killers  TRAARHS128F931689D   \n",
       "\n",
       "                                                  title  \\\n",
       "78                                 A Dustland Fairytale   \n",
       "227   A White Demon Love Song (Soundtrack Album Vers...   \n",
       "4326                                       Show You How   \n",
       "4498  Mr. Brightside (Jacques Lu Cont's Thin White D...   \n",
       "4904                                When You Were Young   \n",
       "8745                                           Spaceman   \n",
       "\n",
       "                                                   tags  \n",
       "78    [[indie rock, 100], [indie, 95], [rock, 78], [...  \n",
       "227                                                  []  \n",
       "4326  [[rock, 100], [indie rock, 80], [alternative r...  \n",
       "4498  [[remix, 100], [indie, 66], [The Killers, 48],...  \n",
       "4904  [[rock, 100], [indie rock, 80], [indie, 64], [...  \n",
       "8745  [[indie, 100], [indie rock, 90], [rock, 75], [...  "
      ]
     },
     "execution_count": 1,
     "metadata": {},
     "output_type": "execute_result"
    }
   ],
   "source": [
    "'''\n",
    "import tags from lastfm dataset\n",
    "   \n",
    "@author - Farzan Memarian\n",
    " this is based on Andrew's id_title_artist.py and Alen's create_song_sql.py\n",
    "'''\n",
    "\n",
    "import hdf5_getters\n",
    "from tqdm import tqdm\n",
    "import pymysql.cursors\n",
    "import pandas as pd\n",
    "import numpy as np\n",
    "import glob\n",
    "import csv\n",
    "import pdb\n",
    "import json\n",
    "from pprint import pprint\n",
    "\n",
    "# for now we are just using the smaller version of the dataset corresponding to 10000 tracks\n",
    "# for development purposes. \n",
    "glob_path = '/home/frank/1CSEM/1UTCoursesTaken/dataMiningEE380L/termProject/dataset/lastfm_subset/*/*/*/*'\n",
    "filepaths = glob.glob(glob_path)\n",
    "data_list = []\n",
    "for filepath in tqdm(filepaths):\n",
    "    # print (filepath)\n",
    "    with open(filepath) as data_file:    \n",
    "        data = json.load(data_file)\n",
    "        row = [data.get('artist'), data.get('track_id'), data.get('title'), data.get('tags')]\n",
    "        data_list.append(row)        \n",
    "        # pprint(data)\n",
    "df = pd.DataFrame(data_list, columns = ['artist', 'track_id','title','tags'])\n",
    "df.loc[df['artist'] == 'The Killers']\n"
   ]
  },
  {
   "cell_type": "code",
   "execution_count": null,
   "metadata": {
    "collapsed": true
   },
   "outputs": [],
   "source": []
  }
 ],
 "metadata": {
  "anaconda-cloud": {},
  "kernelspec": {
   "display_name": "Python [Root]",
   "language": "python",
   "name": "Python [Root]"
  },
  "language_info": {
   "codemirror_mode": {
    "name": "ipython",
    "version": 3
   },
   "file_extension": ".py",
   "mimetype": "text/x-python",
   "name": "python",
   "nbconvert_exporter": "python",
   "pygments_lexer": "ipython3",
   "version": "3.5.2"
  }
 },
 "nbformat": 4,
 "nbformat_minor": 0
}
