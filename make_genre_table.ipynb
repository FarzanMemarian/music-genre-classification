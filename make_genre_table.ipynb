{
 "cells": [
  {
   "cell_type": "code",
   "execution_count": 13,
   "metadata": {
    "collapsed": false
   },
   "outputs": [
    {
     "name": "stderr",
     "output_type": "stream",
     "text": [
      "\n",
      "\n",
      "  0%|          | 0/9330 [00:00<?, ?it/s]\u001b[A\u001b[A\n",
      "\n",
      "  0%|          | 5/9330 [00:00<03:20, 46.47it/s]\u001b[A\u001b[A"
     ]
    },
    {
     "name": "stdout",
     "output_type": "stream",
     "text": [
      "TRAAAAW128F429D538\n",
      "hip-hop\n",
      "TRAAABD128F429CF47\n",
      "pop\n",
      "TRAAADZ128F9348C2E\n",
      "NULL\n",
      "TRAAAEF128F4273421\n",
      "rock and indie\n",
      "TRAAAFD128F92F423A\n",
      "rock and indie\n",
      "TRAAARJ128F9320760\n",
      "rock and indie\n",
      "TRAABDL12903CAABBA\n",
      "NULL\n",
      "TRAABJV128F1460C49\n",
      "NULL\n",
      "TRAABLR128F423B7E3\n",
      "rock and indie\n",
      "TRAABNV128F425CEE1"
     ]
    },
    {
     "name": "stderr",
     "output_type": "stream",
     "text": [
      "\n",
      "\n",
      "  0%|          | 16/9330 [00:00<02:49, 54.99it/s]\u001b[A\u001b[A\n",
      "\n",
      "  0%|          | 28/9330 [00:00<02:25, 63.85it/s]"
     ]
    },
    {
     "name": "stdout",
     "output_type": "stream",
     "text": [
      "\n",
      "jazz\n",
      "TRAABVM128F92CA9DC\n",
      "rock and indie\n",
      "TRAACER128F4290F96\n",
      "pop\n",
      "TRAACFV128F935E50B\n",
      "NULL\n",
      "TRAACHN128F1489601\n",
      "metal\n",
      "TRAACNS128F14A2DF5\n",
      "soul and reggae\n",
      "TRAACPE128F421C1B9\n",
      "soul and reggae\n",
      "TRAACQT128F9331780\n",
      "NULL\n",
      "TRAACTB12903CAAF15\n",
      "NULL\n",
      "TRAACZK128F4243829\n",
      "NULL\n"
     ]
    },
    {
     "name": "stderr",
     "output_type": "stream",
     "text": [
      "\u001b[A\u001b[A\n",
      "\n",
      "  0%|          | 40/9330 [00:00<02:08, 72.46it/s]\u001b[A\u001b[A\n",
      "\n",
      "  1%|          | 48/9330 [00:00<02:12, 70.11it/s]"
     ]
    },
    {
     "name": "stdout",
     "output_type": "stream",
     "text": [
      "TRAADEV128F9348C0A\n",
      "NULL\n",
      "TRAADIV12903CB15C1\n",
      "rock and indie\n",
      "TRAADLH12903CA70EE\n",
      "NULL\n",
      "TRAADLN128F14832E9\n",
      "pop\n",
      "TRAADMH128F9343E59\n",
      "rock and indie\n",
      "TRAADNA128F9331246\n",
      "pop\n",
      "TRAADQX128F422B4CF\n",
      "pop\n",
      "TRAADRN128F932D607\n",
      "dance and electronica\n",
      "TRAADVH128EF34DE7A\n",
      "pop\n",
      "TRAADYB128F92D7E73"
     ]
    },
    {
     "name": "stderr",
     "output_type": "stream",
     "text": [
      "\u001b[A\u001b[A\n",
      "\n",
      "  1%|          | 56/9330 [00:00<02:13, 69.26it/s]\u001b[A\u001b[A\n",
      "\n",
      "  1%|          | 63/9330 [00:00<02:14, 69.12it/s]"
     ]
    },
    {
     "name": "stdout",
     "output_type": "stream",
     "text": [
      "\n",
      "jazz\n",
      "TRAAEAM128F934B199\n",
      "rock and indie\n",
      "TRAAEEH128E0795DFE\n",
      "pop\n",
      "TRAAELO128F9302DD1\n",
      "pop\n",
      "TRAAEMJ128F425A917\n",
      "pop\n",
      "TRAAENC128F1451DE9\n",
      "rock and indie\n",
      "TRAAEOU128F9309DE0\n",
      "NULL\n",
      "TRAAEUB12903CDD3EA\n",
      "metal\n",
      "TRAAEWG128F930B3A4\n",
      "pop\n",
      "TRAAFJW128F428A424\n",
      "rock and indie\n",
      "TRAAFMS128F933AB23\n"
     ]
    },
    {
     "name": "stderr",
     "output_type": "stream",
     "text": [
      "\u001b[A\u001b[A\n",
      "\n",
      "  1%|          | 72/9330 [00:00<02:08, 71.80it/s]\u001b[A\u001b[A\n",
      "\n",
      "  1%|          | 84/9330 [00:01<01:55, 79.83it/s]"
     ]
    },
    {
     "name": "stdout",
     "output_type": "stream",
     "text": [
      "pop\n",
      "TRAAFRU128F9339158\n",
      "NULL\n",
      "TRAAFSM128F425A2C5\n",
      "rock and indie\n",
      "TRAAFYL128E07856A7\n",
      "rock and indie\n",
      "TRAAGCZ128F93210FD\n",
      "pop\n",
      "TRAAGEC128E079252C\n",
      "pop\n",
      "TRAAGJV128F1464090\n",
      "pop\n",
      "TRAAGPF12903CE027E\n",
      "NULL\n"
     ]
    },
    {
     "name": "stderr",
     "output_type": "stream",
     "text": [
      "\u001b[A\u001b[A\n",
      "\n",
      "  1%|          | 93/9330 [00:01<02:03, 74.92it/s]\u001b[A\u001b[A"
     ]
    },
    {
     "name": "stdout",
     "output_type": "stream",
     "text": [
      "TRAAGPH128F4273C8D\n",
      "pop\n",
      "TRAAGPJ128F428CD1B\n",
      "rock and indie\n",
      "TRAAGVF128E0789785\n",
      "pop\n",
      "TRAAGVM128E0784D95\n",
      "NULL\n",
      "TRAAGZU128EF360F47\n",
      "NULL\n",
      "TRAAHEG128E07861C3\n",
      "hip-hop\n",
      "TRAAHEQ128F93057B4\n",
      "NULL\n",
      "TRAAHJX128F9312B83\n",
      "NULL\n",
      "TRAAHKE128F421389B\n",
      "jazz\n",
      "TRAAHMO128F92DE7C9\n",
      "NULL\n"
     ]
    },
    {
     "name": "stderr",
     "output_type": "stream",
     "text": [
      "\n",
      "\n",
      "  1%|          | 101/9330 [00:01<02:15, 68.07it/s]\u001b[A\u001b[A\n",
      "\n",
      "  1%|          | 109/9330 [00:01<02:15, 68.23it/s]"
     ]
    },
    {
     "name": "stdout",
     "output_type": "stream",
     "text": [
      "TRAAHPZ12903CB4643\n",
      "NULL\n",
      "TRAAHRF128F92FE234\n",
      "NULL\n",
      "TRAAHVY128F92E25D6\n",
      "jazz\n",
      "TRAAHYV128F932A425\n",
      "NULL\n",
      "TRAAHZP12903CA25F4\n",
      "NULL\n",
      "TRAAIAE128F42AC53D\n",
      "NULL\n",
      "TRAAIAN12903CFF16D\n",
      "soul and reggae\n",
      "TRAAIAX128F930531B\n",
      "NULL\n",
      "TRAAIDY128F92CA454\n",
      "rock and indie\n",
      "TRAAIHL128F92E6DDA\n",
      "pop\n"
     ]
    },
    {
     "name": "stderr",
     "output_type": "stream",
     "text": [
      "\u001b[A\u001b[A\n",
      "\n",
      "  1%|▏         | 124/9330 [00:01<01:55, 79.54it/s]\u001b[A\u001b[A\n",
      "\n",
      "  1%|▏         | 133/9330 [00:01<01:53, 80.99it/s]"
     ]
    },
    {
     "name": "stdout",
     "output_type": "stream",
     "text": [
      "TRAAIIE128F4288BB1\n",
      "NULL\n",
      "TRAAINT128F933BBE0\n",
      "NULL\n",
      "TRAAIYR12903CD290D\n",
      "rock and indie\n",
      "TRAAJJG128F4284B27\n",
      "pop\n",
      "TRAAJJV128F42A2F99\n",
      "pop\n",
      "TRAAJMH128E0785407\n",
      "NULL\n",
      "TRAAJYX128F4255568\n",
      "soul and reggae\n",
      "TRAAKAS128F4246013\n",
      "pop\n",
      "TRAAKDF128F92FA302\n",
      "pop\n",
      "TRAAKDG128F42A0ECB\n",
      "pop\n"
     ]
    },
    {
     "name": "stderr",
     "output_type": "stream",
     "text": [
      "\u001b[A\u001b[A\n",
      "\n",
      "  2%|▏         | 147/9330 [00:01<01:41, 90.27it/s]\u001b[A\u001b[A\n",
      "\n",
      "  2%|▏         | 158/9330 [00:01<01:40, 91.36it/s]"
     ]
    },
    {
     "name": "stdout",
     "output_type": "stream",
     "text": [
      "TRAAKSB128F934D73A\n",
      "NULL\n",
      "TRAAKTK128F9343DCC\n",
      "pop\n",
      "TRAALDU128F930D56B\n",
      "NULL\n",
      "TRAALHD12903D0BD6A\n",
      "rock and indie\n",
      "TRAALNG12903D014E9\n",
      "metal\n",
      "TRAALRZ128F429024E\n",
      "classical\n",
      "TRAALUX12903CFD50B\n",
      "rock and indie\n",
      "TRAALZC128F92E11A6\n",
      "NULL\n",
      "TRAAMES128F42AF068\n",
      "rock and indie\n",
      "TRAAMJY128F92F5919\n",
      "dance and electronica\n"
     ]
    },
    {
     "name": "stderr",
     "output_type": "stream",
     "text": [
      "\u001b[A\u001b[A\n",
      "\n",
      "  2%|▏         | 168/9330 [00:02<01:47, 85.39it/s]\u001b[A\u001b[A"
     ]
    },
    {
     "name": "stdout",
     "output_type": "stream",
     "text": [
      "TRAAMKI128F428537A\n",
      "NULL\n",
      "TRAAMKP12903CC74F4\n",
      "NULL\n",
      "TRAAMPA128F92E7D0D\n",
      "rock and indie\n",
      "TRAAMSO128EF348DCC\n",
      "classical\n",
      "TRAAMXP128F4264F6A\n",
      "NULL\n",
      "TRAAMYQ128F148B753\n",
      "NULL\n",
      "TRAANLO128F422AE37\n",
      "rock and indie\n",
      "TRAANTZ128E0792529\n",
      "dance and electronica\n",
      "TRAAOIN128F9303790\n",
      "dance and electronica\n"
     ]
    },
    {
     "name": "stderr",
     "output_type": "stream",
     "text": [
      "\n",
      "\n",
      "  2%|▏         | 180/9330 [00:02<01:37, 93.43it/s]\u001b[A\u001b[A\n",
      "\n",
      "  2%|▏         | 193/9330 [00:02<01:33, 97.54it/s]"
     ]
    },
    {
     "name": "stdout",
     "output_type": "stream",
     "text": [
      "TRAAOJI128F1458DCD\n",
      "pop\n",
      "TRAAORY128F934984F\n",
      "NULL\n",
      "TRAAOTD128F42322FC\n",
      "NULL\n",
      "TRAAPFQ128F42684DB\n",
      "metal\n",
      "TRAAPGF128F1458F8B\n",
      "NULL\n",
      "TRAAPIV128F1493132\n",
      "rock and indie\n",
      "TRAAPPQ128F14961F5\n",
      "pop\n",
      "TRAAPSQ12903CAE86A\n",
      "rock and indie\n",
      "TRAAPVV128F425D64C\n",
      "pop\n",
      "TRAAPWD128F931ACD4\n",
      "dance and electronica\n",
      "TRAAQBF12903CF796B"
     ]
    },
    {
     "name": "stderr",
     "output_type": "stream",
     "text": [
      "\u001b[A\u001b[A\n",
      "\n",
      "  2%|▏         | 204/9330 [00:02<01:42, 89.27it/s]\u001b[A\u001b[A\n",
      "\n",
      "  2%|▏         | 214/9330 [00:02<01:40, 91.06it/s]"
     ]
    },
    {
     "name": "stdout",
     "output_type": "stream",
     "text": [
      "\n",
      "rock and indie\n",
      "TRAAQCK128F92E8C33\n",
      "pop\n",
      "TRAAQDJ128F92F95E0\n",
      "rock and indie\n",
      "TRAAQFC128F425ED83\n",
      "jazz\n",
      "TRAAQIH128F428BDEA\n",
      "hip-hop\n",
      "TRAAQLJ128F428E870\n",
      "jazz\n",
      "TRAAQPS128F429161D\n",
      "rock and indie\n",
      "TRAAQUC128F9322A82\n",
      "rock and indie\n",
      "TRAAQUF12903CDF4A4\n",
      "NULL\n",
      "TRAARHS128F931689D\n",
      "pop\n"
     ]
    },
    {
     "name": "stderr",
     "output_type": "stream",
     "text": [
      "\u001b[A\u001b[A\n",
      "\n",
      "  2%|▏         | 225/9330 [00:02<01:36, 94.40it/s]\u001b[A\u001b[A"
     ]
    },
    {
     "name": "stdout",
     "output_type": "stream",
     "text": [
      "TRAASFP128F42980BD\n",
      "pop\n",
      "TRAASGM128EF34DBB0\n",
      "hip-hop\n",
      "TRAASIG128F92C3A6B\n",
      "metal\n",
      "TRAASKQ128F4265E04\n",
      "hip-hop\n",
      "TRAASQC128F93480F0\n",
      "rock and indie\n",
      "TRAASUZ128F9314950\n",
      "hip-hop\n",
      "TRAASZE128F93499AE\n",
      "pop\n",
      "TRAATBN128F14ACE82\n",
      "classical\n",
      "TRAATGM12903C9CD7C\n",
      "rock and indie\n",
      "TRAATIU128F4291A84\n",
      "rock and indie\n",
      "TRAATJK128F9339179\n",
      "NULL\n"
     ]
    },
    {
     "name": "stderr",
     "output_type": "stream",
     "text": [
      "\n",
      "\n",
      "  3%|▎         | 235/9330 [00:02<01:44, 86.68it/s]\u001b[A\u001b[A\n",
      "\u001b[A\n",
      "\n",
      "  3%|▎         | 244/9330 [00:02<01:46, 85.56it/s]\u001b[A\u001b[A"
     ]
    },
    {
     "name": "stdout",
     "output_type": "stream",
     "text": [
      "TRAATMY128F149562F\n",
      "rock and indie\n",
      "TRAATMY128F9334DAC\n",
      "NULL\n",
      "TRAATNJ128F42631BA\n",
      "rock and indie\n",
      "TRAATPA128F146753C\n",
      "rock and indie\n",
      "TRAATWQ12903CC5BA8\n",
      "hip-hop\n",
      "TRAAUEO128E0780CB9\n",
      "pop\n",
      "TRAAUIH128F4254C9D\n",
      "soul and reggae\n",
      "TRAAUKK128F933A680\n",
      "NULL\n",
      "TRAAUMJ128F933BDB6\n",
      "NULL\n",
      "TRAAUMN128F4273561\n"
     ]
    },
    {
     "name": "stderr",
     "output_type": "stream",
     "text": [
      "\n",
      "\n",
      "  3%|▎         | 253/9330 [00:02<01:49, 83.22it/s]\u001b[A\u001b[A\n",
      "\n",
      "  3%|▎         | 263/9330 [00:03<01:47, 84.08it/s]\u001b[A\u001b[A"
     ]
    },
    {
     "name": "stdout",
     "output_type": "stream",
     "text": [
      "NULL\n",
      "TRAAUMZ12903CA97DC\n",
      "pop\n",
      "TRAAUSW128F426646E\n",
      "soul and reggae\n",
      "TRAAVAH128F4284D7C\n",
      "pop\n",
      "TRAAVGB12903CFAA99\n",
      "NULL\n",
      "TRAAVIT128F92E657C\n",
      "classical\n",
      "TRAAVJL128F14ACADD\n",
      "classical\n",
      "TRAAVOU128F422F292\n",
      "NULL\n",
      "TRAAWDK128F92E2A17\n",
      "hip-hop\n",
      "TRAAWOR128F92DF3C8\n",
      "NULL\n"
     ]
    },
    {
     "name": "stderr",
     "output_type": "stream",
     "text": [
      "\n",
      "\n",
      "  3%|▎         | 273/9330 [00:03<01:48, 83.60it/s]\u001b[A\u001b[A\n",
      "\n",
      "  3%|▎         | 285/9330 [00:03<01:41, 89.10it/s]"
     ]
    },
    {
     "name": "stdout",
     "output_type": "stream",
     "text": [
      "TRAAWUH128F427F12C\n",
      "pop\n",
      "TRAAWUM128F426009A\n",
      "jazz\n",
      "TRAAXCM128F427F97B\n",
      "NULL\n",
      "TRAAXMX128F9307699\n",
      "pop\n",
      "TRAAXUY128F426BA55\n",
      "rock and indie\n",
      "TRAAYGH128F92ECD16\n",
      "pop\n",
      "TRAAYPG128F933C941\n",
      "NULL\n",
      "TRAAYTI128F933663B\n",
      "rock and indie\n",
      "TRAAZBD128F427A97D\n",
      "hip-hop\n",
      "TRAAZBX128F1492AF8\n"
     ]
    },
    {
     "name": "stderr",
     "output_type": "stream",
     "text": [
      "\u001b[A\u001b[A\n",
      "\n",
      "  3%|▎         | 295/9330 [00:03<01:46, 84.50it/s]\u001b[A\u001b[A\n",
      "\n",
      "  3%|▎         | 305/9330 [00:03<01:43, 86.97it/s]"
     ]
    },
    {
     "name": "stdout",
     "output_type": "stream",
     "text": [
      "classical\n",
      "TRAAZGC12903CB5DFB\n",
      "NULL\n",
      "TRAAZHO128F427C9EC\n",
      "NULL\n",
      "TRAAZIE128F427961E\n",
      "pop\n",
      "TRAAZPJ128F4292DB5\n",
      "pop\n",
      "TRAAZQF128F4285BC3\n",
      "pop\n",
      "TRAAZQW128F93430DC\n",
      "pop\n",
      "TRABACN128F425B784\n",
      "hip-hop\n",
      "TRABAFJ128F42AF24E\n",
      "pop\n",
      "TRABAXL128F424FC50\n",
      "dance and electronica\n",
      "TRABAZH128F930419A\n",
      "NULL\n"
     ]
    },
    {
     "name": "stderr",
     "output_type": "stream",
     "text": [
      "\u001b[A\u001b[A\n",
      "\n",
      "  3%|▎         | 321/9330 [00:03<01:29, 100.43it/s]\u001b[A\u001b[A\n",
      "\n",
      "  4%|▎         | 332/9330 [00:03<01:28, 101.31it/s]"
     ]
    },
    {
     "name": "stdout",
     "output_type": "stream",
     "text": [
      "TRABBBV128F42967D7\n",
      "pop\n",
      "TRABBNP128F932546F\n",
      "NULL\n",
      "TRABBXU128F92FEF48\n",
      "rock and indie\n",
      "TRABCEC128F426456E\n",
      "jazz\n",
      "TRABCFL128F149BB0D\n",
      "jazz\n",
      "TRABCIX128F4265903\n",
      "NULL\n",
      "TRABCTK128F934B224\n",
      "NULL\n",
      "TRABCUQ128E0783E2B\n",
      "pop\n",
      "TRABCXB128F4286BD3\n",
      "rock and indie\n"
     ]
    },
    {
     "name": "stderr",
     "output_type": "stream",
     "text": [
      "\u001b[A\u001b[A\n",
      "\n",
      "  4%|▎         | 343/9330 [00:03<01:39, 89.90it/s] \u001b[A\u001b[A"
     ]
    },
    {
     "name": "stdout",
     "output_type": "stream",
     "text": [
      "TRABDSK128F42443F1\n",
      "rock and indie\n",
      "TRABDTV128E0791839\n",
      "hip-hop\n",
      "TRABDVD128F4292CDF\n",
      "NULL\n",
      "TRABDZC128F42AC23F\n",
      "NULL\n",
      "TRABEBP12903C9BA03\n",
      "NULL\n",
      "TRABECY128F93317AA\n",
      "rock and indie\n",
      "TRABEFN128F92D925B\n",
      "NULL\n",
      "TRABEMC128F148EF2D\n",
      "pop\n",
      "TRABFGJ12903CF6A75\n",
      "NULL\n",
      "TRABFKN12903CAF61B"
     ]
    },
    {
     "name": "stderr",
     "output_type": "stream",
     "text": [
      "\n",
      "\n",
      "  4%|▍         | 353/9330 [00:04<01:48, 82.56it/s]\u001b[A\u001b[A\n",
      "\n",
      "  4%|▍         | 364/9330 [00:04<01:41, 88.61it/s]"
     ]
    },
    {
     "name": "stdout",
     "output_type": "stream",
     "text": [
      "\n",
      "pop\n",
      "TRABFPX128F9331F21\n",
      "jazz\n",
      "TRABFQC128F4265349\n",
      "soul and reggae\n",
      "TRABFTP12903CE6A47\n",
      "rock and indie\n",
      "TRABGHG128F934B27E\n",
      "rock and indie\n",
      "TRABGMB12903CF50FE\n",
      "hip-hop\n",
      "TRABGOW128F9334C37\n",
      "jazz\n",
      "TRABGWT128F9334E43\n",
      "NULL\n",
      "TRABGZL128F428A25B\n",
      "NULL\n"
     ]
    },
    {
     "name": "stderr",
     "output_type": "stream",
     "text": [
      "\u001b[A\u001b[A\n",
      "\n",
      "  4%|▍         | 375/9330 [00:04<01:35, 93.94it/s]\u001b[A\u001b[A\n",
      "\n",
      "  4%|▍         | 385/9330 [00:04<01:35, 93.63it/s]"
     ]
    },
    {
     "name": "stdout",
     "output_type": "stream",
     "text": [
      "TRABHBA128F424CF80\n",
      "metal\n",
      "TRABHFK128F92F1271\n",
      "NULL\n",
      "TRABHNS128F93125B5\n",
      "NULL\n",
      "TRABHVL128F92EFB0E\n",
      "rock and indie\n",
      "TRABHWW128F424E9D2\n",
      "pop\n",
      "TRABIJJ128F426A1C1\n",
      "hip-hop\n",
      "TRABIPA128F1458F79\n",
      "pop\n",
      "TRABIQP128F427D0DD\n",
      "pop\n",
      "TRABIZY128F933C696\n",
      "NULL\n"
     ]
    },
    {
     "name": "stderr",
     "output_type": "stream",
     "text": [
      "\u001b[A\u001b[A\n",
      "\n",
      "  4%|▍         | 396/9330 [00:04<01:33, 95.45it/s]\u001b[A\u001b[A\n",
      "\n",
      "  4%|▍         | 406/9330 [00:04<01:39, 90.04it/s]"
     ]
    },
    {
     "name": "stdout",
     "output_type": "stream",
     "text": [
      "TRABJIA128F14B189F\n",
      "pop\n",
      "TRABJIX128C7196953\n",
      "pop\n",
      "TRABJRW128F92EEABD\n",
      "NULL\n",
      "TRABJVU128F9349CD1\n",
      "NULL\n",
      "TRABJWA128F9309C09\n",
      "metal\n",
      "TRABJZT128F425C8DC\n",
      "rock and indie\n",
      "TRABKAS128F42AB822\n",
      "NULL\n",
      "TRABKBS128F42823EC\n",
      "NULL\n",
      "TRABKJU128F422A7FE\n",
      "pop\n",
      "TRABKMS128F92EAFAA\n",
      "NULL\n"
     ]
    },
    {
     "name": "stderr",
     "output_type": "stream",
     "text": [
      "\u001b[A\u001b[A\n",
      "\n",
      "  4%|▍         | 416/9330 [00:04<01:53, 78.30it/s]\u001b[A\u001b[A"
     ]
    },
    {
     "name": "stdout",
     "output_type": "stream",
     "text": [
      "TRABKUJ128F4292445\n",
      "pop\n",
      "TRABKZZ128F426A87F\n",
      "NULL\n",
      "TRABLGI128F42B867A\n",
      "rock and indie\n",
      "TRABLHU128F1473B67\n",
      "soul and reggae\n",
      "TRABLLK128F428FFAF\n",
      "rock and indie\n",
      "TRABLMN128E0792687\n",
      "pop\n",
      "TRABLND12903CA653B\n",
      "hip-hop\n",
      "TRABLQE128F92E5E75\n",
      "NULL\n",
      "TRABLYQ128F429A9F8\n",
      "folk\n"
     ]
    },
    {
     "name": "stderr",
     "output_type": "stream",
     "text": [
      "\n",
      "\n",
      "  5%|▍         | 428/9330 [00:04<01:46, 83.30it/s]\u001b[A\u001b[A\n",
      "\n",
      "  5%|▍         | 441/9330 [00:04<01:38, 90.36it/s]"
     ]
    },
    {
     "name": "stdout",
     "output_type": "stream",
     "text": [
      "TRABMDN128F4222B61\n",
      "NULL\n",
      "TRABMDW128F14682DD\n",
      "NULL\n",
      "TRABMFI128F1476F9F\n",
      "pop\n",
      "TRABMKI128F422E0BE\n",
      "pop\n",
      "TRABMRC128F424A707\n",
      "NULL\n",
      "TRABNET128F14560AC\n",
      "rock and indie\n",
      "TRABNEV128F92F9F62\n",
      "folk\n",
      "TRABNEX128F92C9DEA\n",
      "pop\n",
      "TRABNLE128EF34B85D\n",
      "NULL\n"
     ]
    },
    {
     "name": "stderr",
     "output_type": "stream",
     "text": [
      "\u001b[A\u001b[A\n",
      "\n",
      "  5%|▍         | 451/9330 [00:05<01:38, 90.39it/s]\u001b[A\u001b[A\n",
      "\n",
      "  5%|▍         | 461/9330 [00:05<01:36, 91.68it/s]"
     ]
    },
    {
     "name": "stdout",
     "output_type": "stream",
     "text": [
      "TRABNRG128F425E087\n",
      "NULL\n",
      "TRABONH128F92D58DA\n",
      "NULL\n",
      "TRABOOL128F426E836\n",
      "pop\n",
      "TRABOXX128F92F29EB\n",
      "pop\n",
      "TRABPCJ128F930903D\n",
      "NULL\n",
      "TRABPEY128F429F541\n",
      "NULL\n",
      "TRABPGO128F931B50C\n",
      "pop\n",
      "TRABPJW128F147295E\n",
      "NULL\n",
      "TRABPKX128F14938FE\n",
      "NULL\n",
      "TRABPUI12903CF22CE\n",
      "dance and electronica\n",
      "TRABQDK128F9308F8E"
     ]
    },
    {
     "name": "stderr",
     "output_type": "stream",
     "text": [
      "\u001b[A\u001b[A\n",
      "\n",
      "  5%|▌         | 473/9330 [00:05<01:30, 98.27it/s]\u001b[A\u001b[A\n",
      "\n",
      "  5%|▌         | 485/9330 [00:05<01:29, 98.63it/s]"
     ]
    },
    {
     "name": "stdout",
     "output_type": "stream",
     "text": [
      "\n",
      "classical\n",
      "TRABQGT128F42566D3\n",
      "NULL\n",
      "TRABQLO128EF34E48A\n",
      "NULL\n",
      "TRABQVM128F92F7544\n",
      "rock and indie\n",
      "TRABQZK128F92F54F4\n",
      "pop\n",
      "TRABQZL12903CEF994\n",
      "NULL\n",
      "TRABRGV128E07999DF\n",
      "hip-hop\n",
      "TRABRMJ128E0780E42\n",
      "pop\n",
      "TRABSAR128F42324A8\n",
      "metal\n",
      "TRABSJS128F933BD67\n",
      "NULL\n",
      "TRABSKK128F421A902\n",
      "rock and indie\n"
     ]
    },
    {
     "name": "stderr",
     "output_type": "stream",
     "text": [
      "\u001b[A\u001b[A\n",
      "\n",
      "  5%|▌         | 497/9330 [00:05<01:28, 99.62it/s]\u001b[A\u001b[A\n",
      "\n",
      "  5%|▌         | 508/9330 [00:05<01:32, 95.32it/s]"
     ]
    },
    {
     "name": "stdout",
     "output_type": "stream",
     "text": [
      "TRABSUT128F429C161\n",
      "NULL\n",
      "TRABSXW128F4233422\n",
      "pop\n",
      "TRABTNT128F9315009\n",
      "NULL\n",
      "TRABTSM128F426AF07\n",
      "NULL\n",
      "TRABTXS128F92E2FDC\n",
      "rock and indie\n",
      "TRABTZP128F92D9357\n",
      "soul and reggae\n",
      "TRABUCZ128F424163A\n",
      "pop\n",
      "TRABUDI128F92D0C8C\n",
      "pop\n",
      "TRABUDK128F14943F3\n",
      "soul and reggae\n",
      "TRABUIN128F93022FF\n",
      "dance and electronica\n"
     ]
    },
    {
     "name": "stderr",
     "output_type": "stream",
     "text": [
      "\u001b[A\u001b[A\n",
      "\n",
      "  6%|▌         | 518/9330 [00:05<01:43, 85.39it/s]\u001b[A\u001b[A"
     ]
    },
    {
     "name": "stdout",
     "output_type": "stream",
     "text": [
      "TRABULK12903CC1559\n",
      "soul and reggae\n",
      "TRABUML128F4214EBB\n",
      "NULL\n",
      "TRABUMO12903CBE25F\n",
      "rock and indie\n",
      "TRABURP128F145D5DC\n",
      "NULL\n",
      "TRABUSZ128F4257BAB\n",
      "pop\n",
      "TRABUUH128F4241346\n",
      "NULL\n",
      "TRABUVN128F930633C\n",
      "hip-hop\n",
      "TRABUYT128F93069C8\n",
      "rock and indie\n",
      "TRABUZC128F4278978\n",
      "NULL\n",
      "TRABVAR128F421CFCB\n",
      "jazz\n"
     ]
    },
    {
     "name": "stderr",
     "output_type": "stream",
     "text": [
      "\n",
      "\n",
      "  6%|▌         | 527/9330 [00:05<01:44, 84.38it/s]\u001b[A\u001b[A\n",
      "\n",
      "  6%|▌         | 536/9330 [00:06<01:55, 76.00it/s]\u001b[A\u001b[A"
     ]
    },
    {
     "name": "stdout",
     "output_type": "stream",
     "text": [
      "TRABVIU128E0780DA0\n",
      "pop\n",
      "TRABVIZ128F42BA066\n",
      "rock and indie\n",
      "TRABVLU128F9337F6D\n",
      "rock and indie\n",
      "TRABVRO128F92F2A62\n",
      "NULL\n",
      "TRABVVN12903CB6445\n",
      "pop\n",
      "TRABVWG128F9359323\n",
      "rock and indie\n",
      "TRABWFU128F425949F\n",
      "dance and electronica\n",
      "TRABWJA128F1460CFC\n",
      "pop\n",
      "TRABWPT128F42B06CC\n",
      "rock and indie\n",
      "TRABXHC128F4250CCE\n",
      "NULL\n"
     ]
    },
    {
     "name": "stderr",
     "output_type": "stream",
     "text": [
      "\n",
      "\n",
      "  6%|▌         | 545/9330 [00:06<01:54, 76.47it/s]\u001b[A\u001b[A\n",
      "\n",
      "  6%|▌         | 554/9330 [00:06<01:52, 78.31it/s]"
     ]
    },
    {
     "name": "stdout",
     "output_type": "stream",
     "text": [
      "TRABXLH128F935F8E7\n",
      "pop\n",
      "TRABXPR128F92F27FE\n",
      "pop\n",
      "TRABXSA128F932BD6F\n",
      "NULL\n",
      "TRABXTZ128F14A46A3\n",
      "dance and electronica\n",
      "TRABXVE128F4284AFC\n",
      "folk\n",
      "TRABYAR128F931B1A4\n",
      "NULL\n",
      "TRABYEY128F933773A\n",
      "rock and indie\n",
      "TRABYND128F42765BB\n",
      "rock and indie\n",
      "TRABYVN128F429E5CF\n",
      "hip-hop\n",
      "TRABZCL128E0789AED\n",
      "rock and indie\n",
      "TRABZOP128F9316E24\n",
      "pop\n"
     ]
    },
    {
     "name": "stderr",
     "output_type": "stream",
     "text": [
      "\u001b[A\u001b[A\n",
      "\n",
      "  6%|▌         | 565/9330 [00:06<01:46, 82.38it/s]\u001b[A\u001b[A\n",
      "\n",
      "  6%|▌         | 579/9330 [00:06<01:35, 91.76it/s]"
     ]
    },
    {
     "name": "stdout",
     "output_type": "stream",
     "text": [
      "TRABZQU128F92ECDEF\n",
      "NULL\n",
      "TRABZRZ128F42628AD\n",
      "rock and indie\n",
      "TRACABS128E0786B0B\n",
      "rock and indie\n",
      "TRACAKD128F92D5D38\n",
      "pop\n",
      "TRACALZ12903CDCFBB\n",
      "pop\n",
      "TRACAOS128F42300B8\n",
      "NULL\n",
      "TRACAQW128F428E2B7\n",
      "dance and electronica\n",
      "TRACASH128F931C969\n",
      "pop\n",
      "TRACAUP128F931AC60\n",
      "classical\n",
      "TRACAXH128F931F3CF\n",
      "NULL\n"
     ]
    },
    {
     "name": "stderr",
     "output_type": "stream",
     "text": [
      "\u001b[A\u001b[A\n",
      "\n",
      "  6%|▋         | 589/9330 [00:06<01:47, 81.64it/s]\u001b[A\u001b[A"
     ]
    },
    {
     "name": "stdout",
     "output_type": "stream",
     "text": [
      "TRACAXP128F14A2127\n",
      "rock and indie\n",
      "TRACAXR128F92FAB1C\n",
      "NULL\n",
      "TRACAYI128F4235122\n",
      "pop\n",
      "TRACBBI12903CB8387\n",
      "NULL\n",
      "TRACBEI128F42558D3\n",
      "rock and indie\n",
      "TRACBLO128E0784286\n",
      "pop\n",
      "TRACBOR128F422CFE4\n",
      "NULL\n",
      "TRACBQQ128F4263AEB\n",
      "rock and indie\n",
      "TRACBWP128C7196948\n",
      "pop\n"
     ]
    },
    {
     "name": "stderr",
     "output_type": "stream",
     "text": [
      "\n",
      "\n",
      "  6%|▋         | 598/9330 [00:06<01:55, 75.72it/s]\u001b[A\u001b[A\n",
      "\n",
      "  7%|▋         | 608/9330 [00:06<01:49, 79.30it/s]"
     ]
    },
    {
     "name": "stdout",
     "output_type": "stream",
     "text": [
      "TRACBWQ128F92F2B91\n",
      "jazz\n",
      "TRACBWX128F92FD725\n",
      "pop\n",
      "TRACCJA128F149A144\n",
      "jazz\n",
      "TRACCMO12903CA4168\n",
      "jazz\n",
      "TRACCSW128F148C7C3\n",
      "NULL\n",
      "TRACCUS128F92E1FEB\n",
      "classical\n",
      "TRACCVS12903D014F8\n",
      "metal\n",
      "TRACCVZ128F4291A8A\n",
      "rock and indie\n"
     ]
    },
    {
     "name": "stderr",
     "output_type": "stream",
     "text": [
      "\u001b[A\u001b[A\n",
      "\n",
      "  7%|▋         | 617/9330 [00:07<01:56, 75.07it/s]\u001b[A\u001b[A\n",
      "\n",
      "  7%|▋         | 629/9330 [00:07<01:43, 84.12it/s]"
     ]
    },
    {
     "name": "stdout",
     "output_type": "stream",
     "text": [
      "TRACDCZ128F4285AE0\n",
      "NULL\n",
      "TRACDJT128F42324C7\n",
      "dance and electronica\n",
      "TRACDLK12903CE71B7\n",
      "NULL\n",
      "TRACDWG128F428B068\n",
      "hip-hop\n",
      "TRACECN128F9310E97\n",
      "pop\n",
      "TRACEDP128F145F7BB\n",
      "soul and reggae\n",
      "TRACFAP128E07862C1\n",
      "pop\n",
      "TRACFCQ128F4214EB6\n",
      "dance and electronica\n",
      "TRACFDC128F147F1C6\n",
      "pop\n"
     ]
    },
    {
     "name": "stderr",
     "output_type": "stream",
     "text": [
      "\u001b[A\u001b[A\n",
      "\n",
      "  7%|▋         | 638/9330 [00:07<01:58, 73.22it/s]\u001b[A\u001b[A"
     ]
    },
    {
     "name": "stdout",
     "output_type": "stream",
     "text": [
      "TRACFFX128F421E641\n",
      "NULL\n",
      "TRACFHZ128F4227BA4\n",
      "NULL\n",
      "TRACFNG128F146A7F3\n",
      "NULL\n",
      "TRACFOJ128F4253EFA\n",
      "pop\n",
      "TRACFOV128F9340D81\n",
      "metal\n",
      "TRACFQB12903D06042\n",
      "NULL\n",
      "TRACFRC12903CFEDD6\n",
      "dance and electronica\n",
      "TRACFWQ12903CF8148\n",
      "NULL\n",
      "TRACFXL128F930B28B\n",
      "rock and indie\n",
      "TRACFYQ128E0784150\n",
      "pop\n",
      "TRACFZI128E0795424\n",
      "rock and indie\n"
     ]
    },
    {
     "name": "stderr",
     "output_type": "stream",
     "text": [
      "\n",
      "\n",
      "  7%|▋         | 652/9330 [00:07<01:42, 84.55it/s]\u001b[A\u001b[A\n",
      "\n",
      "  7%|▋         | 665/9330 [00:07<01:33, 92.39it/s]"
     ]
    },
    {
     "name": "stdout",
     "output_type": "stream",
     "text": [
      "TRACGOI128F92FE771\n",
      "NULL\n",
      "TRACGXQ128F1457F81\n",
      "pop\n",
      "TRACHHH128E0788A35\n",
      "hip-hop\n",
      "TRACHKX128F934B07A\n",
      "pop\n",
      "TRACHTO12903CBE58B\n",
      "rock and indie\n",
      "TRACIEF128F4270573\n",
      "soul and reggae\n",
      "TRACIJF128F424317B\n",
      "dance and electronica\n",
      "TRACIKJ128F4226ABA\n",
      "NULL\n",
      "TRACISV12903D13877\n",
      "rock and indie\n",
      "TRACJDX12903CD4917\n",
      "NULL\n",
      "TRACJKR12903D02C75\n"
     ]
    },
    {
     "name": "stderr",
     "output_type": "stream",
     "text": [
      "\u001b[A\u001b[A\n",
      "\n",
      "  7%|▋         | 677/9330 [00:07<01:29, 96.60it/s]\u001b[A\u001b[A\n",
      "\n",
      "  7%|▋         | 689/9330 [00:07<01:26, 100.25it/s]"
     ]
    },
    {
     "name": "stdout",
     "output_type": "stream",
     "text": [
      "NULL\n",
      "TRACJPW128F932CA4C\n",
      "metal\n",
      "TRACKAK128F1458461\n",
      "rock and indie\n",
      "TRACKAP128F425B741\n",
      "pop\n",
      "TRACKVZ128F4285793\n",
      "NULL\n",
      "TRACKWV128F934B6B0\n",
      "metal\n",
      "TRACLCX128F4251463\n",
      "dance and electronica\n",
      "TRACLDF128F423C337\n",
      "NULL\n",
      "TRACLHC128F9343C39\n",
      "dance and electronica\n",
      "TRACLMN128F92D2B6E\n",
      "NULL\n",
      "TRACLPE128F4287687\n",
      "dance and electronica\n"
     ]
    },
    {
     "name": "stderr",
     "output_type": "stream",
     "text": [
      "\u001b[A\u001b[A\n",
      "\n",
      "  8%|▊         | 700/9330 [00:07<01:32, 93.41it/s] \u001b[A\u001b[A\n",
      "\n",
      "  8%|▊         | 710/9330 [00:08<01:39, 86.75it/s]"
     ]
    },
    {
     "name": "stdout",
     "output_type": "stream",
     "text": [
      "TRACLRS12903CE9386\n",
      "pop\n",
      "TRACLRV128EF33FAB8\n",
      "rock and indie\n",
      "TRACMFN128F4298DBE\n",
      "NULL\n",
      "TRACMHD128F931FB14\n",
      "rock and indie\n",
      "TRACMIU128F935381D\n",
      "rock and indie\n",
      "TRACMIV128F14898A3\n",
      "rock and indie\n",
      "TRACMJP128F9349362\n",
      "NULL\n",
      "TRACMJZ128F92FD86B\n",
      "soul and reggae\n",
      "TRACMMG128F146D705\n",
      "NULL\n"
     ]
    },
    {
     "name": "stderr",
     "output_type": "stream",
     "text": [
      "\u001b[A\u001b[A\n",
      "\n",
      "  8%|▊         | 721/9330 [00:08<01:33, 92.05it/s]\u001b[A\u001b[A\n",
      "\n",
      "  8%|▊         | 734/9330 [00:08<01:29, 96.46it/s]"
     ]
    },
    {
     "name": "stdout",
     "output_type": "stream",
     "text": [
      "TRACMPZ12903CF150B\n",
      "folk\n",
      "TRACMZA128F423DD3E\n",
      "rock and indie\n",
      "TRACNAS128F14567C6\n",
      "pop\n",
      "TRACNBG128F425B49E\n",
      "rock and indie\n",
      "TRACNPT128F92FBE31\n",
      "jazz\n",
      "TRACNXS128F93395BA\n",
      "rock and indie\n",
      "TRACOBC128F4266853\n",
      "NULL\n",
      "TRACOHQ128F424C5EF\n",
      "rock and indie\n",
      "TRACONJ128F4272091"
     ]
    },
    {
     "name": "stderr",
     "output_type": "stream",
     "text": [
      "\u001b[A\u001b[A\n",
      "\n",
      "  8%|▊         | 748/9330 [00:08<01:21, 104.87it/s]\u001b[A\u001b[A"
     ]
    },
    {
     "name": "stdout",
     "output_type": "stream",
     "text": [
      "\n",
      "NULL\n",
      "TRACOSY128F92F12B7\n",
      "NULL\n",
      "TRACOTC128F1455F32\n",
      "NULL\n",
      "TRACPKD128F14539CD\n",
      "hip-hop\n",
      "TRACPRG12903CB8E83\n",
      "metal\n",
      "TRACPZH128F9311764\n",
      "pop\n",
      "TRACQIL128F931B8AD\n",
      "dance and electronica\n",
      "TRACQIR128F42BAA06\n",
      "pop\n",
      "TRACQIS128F92CBED8\n",
      "pop\n",
      "TRACQKE12903D00CC7\n",
      "soul and reggae\n"
     ]
    },
    {
     "name": "stderr",
     "output_type": "stream",
     "text": [
      "\n",
      "\n",
      "  8%|▊         | 759/9330 [00:08<01:32, 92.69it/s] \u001b[A\u001b[A\n",
      "\n",
      "  8%|▊         | 769/9330 [00:08<01:30, 94.68it/s]"
     ]
    },
    {
     "name": "stdout",
     "output_type": "stream",
     "text": [
      "TRACQML128F42AE513\n",
      "folk\n",
      "TRACQUB128F427BA42\n",
      "NULL\n",
      "TRACRBQ128F4263964\n",
      "pop\n",
      "TRACRJZ128F4244626\n",
      "NULL\n",
      "TRACRON12903CB59E6\n",
      "NULL\n",
      "TRACRQV12903CC995F\n",
      "hip-hop\n",
      "TRACRTS128F9300F7E\n",
      "pop\n",
      "TRACSBL128F42480E8\n",
      "pop\n",
      "TRACSIE128F427F98E\n",
      "pop\n",
      "TRACTHF128F4295A22\n",
      "NULL\n"
     ]
    },
    {
     "name": "stderr",
     "output_type": "stream",
     "text": [
      "\u001b[A\u001b[A\n",
      "\n",
      "  8%|▊         | 781/9330 [00:08<01:28, 96.29it/s]\u001b[A\u001b[A\n",
      "\n",
      "  8%|▊         | 791/9330 [00:08<01:35, 88.96it/s]"
     ]
    },
    {
     "name": "stdout",
     "output_type": "stream",
     "text": [
      "TRACTIE128F92E473B\n",
      "rock and indie\n",
      "TRACTLX128F42A51F6\n",
      "pop\n",
      "TRACTMI128F931B412\n",
      "jazz\n",
      "TRACTQD128F14B0F9D\n",
      "soul and reggae\n",
      "TRACTUH128F92C93A3\n",
      "pop\n",
      "TRACTWW12903CB7550\n",
      "rock and indie\n",
      "TRACUCQ128F92FFBF7\n",
      "pop\n",
      "TRACUCT128F422BC2F\n",
      "rock and indie\n",
      "TRACUEE128F427EA05\n",
      "pop\n"
     ]
    },
    {
     "name": "stderr",
     "output_type": "stream",
     "text": [
      "\u001b[A\u001b[A\n",
      "\n",
      "  9%|▊         | 802/9330 [00:08<01:34, 90.16it/s]\u001b[A\u001b[A"
     ]
    },
    {
     "name": "stdout",
     "output_type": "stream",
     "text": [
      "TRACUGA128F14ACFB8\n",
      "NULL\n",
      "TRACULD128F935A67B\n",
      "metal\n",
      "TRACUUJ128F422EFF8\n",
      "soul and reggae\n",
      "TRACUWW128F4248CAA\n",
      "NULL\n",
      "TRACUXJ128E0785F2B\n",
      "pop\n",
      "TRACVBQ128E07855EE\n",
      "NULL\n",
      "TRACVFF12903CF055A\n",
      "rock and indie\n",
      "TRACVGF128F4277847\n",
      "NULL\n",
      "TRACVSS128E07846A7\n",
      "pop\n"
     ]
    },
    {
     "name": "stderr",
     "output_type": "stream",
     "text": [
      "\n",
      "\n",
      "\r",
      "  9%|▊         | 812/9330 [00:09<01:58, 71.87it/s]"
     ]
    },
    {
     "name": "stdout",
     "output_type": "stream",
     "text": [
      "TRACVTK128F4288966\n",
      "hip-hop\n",
      "TRACVZM12903CEAD72\n",
      "rock and indie\n",
      "TRACWBO128F92F322F\n",
      "pop\n",
      "TRACWBS128F932C993\n",
      "pop\n",
      "TRACWCG128F9344150\n",
      "NULL\n",
      "TRACWCV128F429D196\n",
      "pop\n",
      "TRACWEH128F1456890\n",
      "soul and reggae\n",
      "TRACWFA128F4265BDF\n",
      "NULL\n",
      "TRACWNC128F42ABB99\n",
      "metal\n",
      "TRACWON128F429BE8D\n",
      "NULL\n"
     ]
    },
    {
     "name": "stderr",
     "output_type": "stream",
     "text": [
      "\u001b[A\u001b[A\n",
      "\n",
      "  9%|▉         | 820/9330 [00:09<02:02, 69.21it/s]\u001b[A\u001b[A\n",
      "\n",
      "  9%|▉         | 834/9330 [00:09<01:46, 79.78it/s]\u001b[A\u001b[A"
     ]
    },
    {
     "name": "stdout",
     "output_type": "stream",
     "text": [
      "TRACXGH128F931686C\n",
      "pop\n",
      "TRACXGV128F9349C63\n",
      "jazz\n",
      "TRACXIF128F425E206\n",
      "pop\n",
      "TRACXYU128F425EEE8\n",
      "NULL\n",
      "TRACYBU128F14AE4DD\n",
      "NULL\n",
      "TRACYCJ128F9309246\n",
      "pop\n",
      "TRACYDP128F932BC8E\n",
      "metal\n",
      "TRACYOR128F427FB1D\n",
      "pop\n",
      "TRACYOV128F92CB613\n",
      "NULL\n",
      "TRACYPF128F9338DE0\n",
      "pop\n"
     ]
    },
    {
     "name": "stderr",
     "output_type": "stream",
     "text": [
      "\n",
      "\n",
      "  9%|▉         | 845/9330 [00:09<01:43, 82.16it/s]\u001b[A\u001b[A\n",
      "\n",
      "  9%|▉         | 854/9330 [00:09<01:44, 81.44it/s]"
     ]
    },
    {
     "name": "stdout",
     "output_type": "stream",
     "text": [
      "TRACYXW128F4297569\n",
      "classical\n",
      "TRACZDR128F14599BC\n",
      "pop\n",
      "TRACZJA128F429E665\n",
      "pop\n",
      "TRACZUC128F92F0337\n",
      "rock and indie\n",
      "TRADABC128F4274FCC\n",
      "pop\n",
      "TRADAFY128F145B77B\n",
      "NULL\n",
      "TRADAOM128F4263A78\n",
      "pop\n",
      "TRADAYS12903CDBE0F\n",
      "NULL\n",
      "TRADAZP12903D0A480\n",
      "metal\n"
     ]
    },
    {
     "name": "stderr",
     "output_type": "stream",
     "text": [
      "\u001b[A\u001b[A\n",
      "\n",
      "  9%|▉         | 863/9330 [00:09<01:41, 83.20it/s]\u001b[A\u001b[A\n",
      "\n",
      "  9%|▉         | 874/9330 [00:09<01:34, 89.43it/s]"
     ]
    },
    {
     "name": "stdout",
     "output_type": "stream",
     "text": [
      "TRADBOS128F92E6F5E\n",
      "NULL\n",
      "TRADBQZ128F146A6A7\n",
      "NULL\n",
      "TRADBSW128F933A7A8\n",
      "pop\n",
      "TRADBUP128EF354F6C\n",
      "hip-hop\n",
      "TRADCHC128F42134B5\n",
      "hip-hop\n",
      "TRADCIM128F427A3A1\n",
      "hip-hop\n",
      "TRADCRW128E078FA33\n",
      "hip-hop\n",
      "TRADCYH128F931532A\n",
      "rock and indie\n",
      "TRADDBK128F1483FF8\n",
      "NULL\n",
      "TRADDCY128F931C4E6\n",
      "NULL\n"
     ]
    },
    {
     "name": "stderr",
     "output_type": "stream",
     "text": [
      "\u001b[A\u001b[A\n",
      "\n",
      "  9%|▉         | 885/9330 [00:09<01:31, 92.56it/s]\u001b[A\u001b[A\n",
      "\n",
      " 10%|▉         | 900/9330 [00:10<01:21, 104.06it/s]"
     ]
    },
    {
     "name": "stdout",
     "output_type": "stream",
     "text": [
      "TRADDHL128F92FD8DD\n",
      "rock and indie\n",
      "TRADDRF128F145869F\n",
      "pop\n",
      "TRADDXS12903CEDB38\n",
      "pop\n",
      "TRADEMS128F92E83BB\n",
      "rock and indie\n",
      "TRADESF128F4214D8E\n",
      "rock and indie\n",
      "TRADFBR128F9308456\n",
      "NULL\n",
      "TRADFCO12903CA9439\n",
      "pop\n",
      "TRADFID128F4267231\n",
      "rock and indie\n",
      "TRADFII128F931FC9F\n",
      "rock and indie\n"
     ]
    },
    {
     "name": "stderr",
     "output_type": "stream",
     "text": [
      "\u001b[A\u001b[A\n",
      "\n",
      " 10%|▉         | 912/9330 [00:10<01:32, 91.31it/s] \u001b[A\u001b[A"
     ]
    },
    {
     "name": "stdout",
     "output_type": "stream",
     "text": [
      "TRADFJJ128F934857E\n",
      "NULL\n",
      "TRADFLD12903CB3BD8\n",
      "metal\n",
      "TRADFOJ128F425107D\n",
      "soul and reggae\n",
      "TRADFOQ128F9335409\n",
      "rock and indie\n",
      "TRADFQK128F422B492\n",
      "rock and indie\n",
      "TRADFXD128F424694C\n",
      "pop\n",
      "TRADFXO128F92F5B3D\n",
      "NULL\n",
      "TRADGLP128F427A172\n",
      "rock and indie\n",
      "TRADGMF12903CAD473\n",
      "NULL\n",
      "TRADGWP128F42618E4\n",
      "rock and indie\n"
     ]
    },
    {
     "name": "stderr",
     "output_type": "stream",
     "text": [
      "\n",
      "\n",
      " 10%|▉         | 922/9330 [00:10<01:35, 87.95it/s]\u001b[A\u001b[A\n",
      "\n",
      " 10%|▉         | 932/9330 [00:10<01:35, 87.63it/s]\u001b[A\u001b[A"
     ]
    },
    {
     "name": "stdout",
     "output_type": "stream",
     "text": [
      "TRADGXI128F92EF28F\n",
      "pop\n",
      "TRADGXJ128E078FB3A\n",
      "NULL\n",
      "TRADHBZ128F932D9E9\n",
      "NULL\n",
      "TRADHGV128F4233DE0\n",
      "NULL\n",
      "TRADHLI128F428FEFD\n",
      "dance and electronica\n",
      "TRADHRX12903CD3866\n",
      "NULL\n",
      "TRADHXU12903CB4400\n",
      "NULL\n",
      "TRADHYQ128F427095F\n",
      "pop\n",
      "TRADHZN128F428DA0D\n",
      "pop\n",
      "TRADISA128F145EB48\n",
      "NULL\n"
     ]
    },
    {
     "name": "stderr",
     "output_type": "stream",
     "text": [
      "\n",
      "\n",
      " 10%|█         | 942/9330 [00:10<01:37, 85.87it/s]\u001b[A\u001b[A\n",
      "\n",
      " 10%|█         | 951/9330 [00:10<01:40, 83.18it/s]"
     ]
    },
    {
     "name": "stdout",
     "output_type": "stream",
     "text": [
      "TRADIYD128F14656A6\n",
      "folk\n",
      "TRADJAO128F146D76E\n",
      "rock and indie\n",
      "TRADJFK128F92FB281\n",
      "rock and indie\n",
      "TRADJGI128F148B0F6\n",
      "rock and indie\n",
      "TRADJGU128F42A6C00\n",
      "pop\n",
      "TRADJHU128F425459F\n",
      "metal\n",
      "TRADJJB128E0790E7C\n",
      "soul and reggae\n",
      "TRADJJZ128F9341B40\n",
      "pop\n",
      "TRADJKG12903CE049F\n",
      "rock and indie\n",
      "TRADJPN128F14ABE7A\n",
      "hip-hop\n",
      "TRADJSM128F14894AA\n",
      "rock and indie\n"
     ]
    },
    {
     "name": "stderr",
     "output_type": "stream",
     "text": [
      "\u001b[A\u001b[A\n",
      "\n",
      " 10%|█         | 960/9330 [00:10<01:47, 77.58it/s]\u001b[A\u001b[A\n",
      "\n",
      " 10%|█         | 969/9330 [00:10<01:46, 78.82it/s]"
     ]
    },
    {
     "name": "stdout",
     "output_type": "stream",
     "text": [
      "TRADJVN128F42AC93D\n",
      "NULL\n",
      "TRADKAX128E0786B92\n",
      "dance and electronica\n",
      "TRADKDX128F9320676\n",
      "NULL\n",
      "TRADKEU12903CF1540\n",
      "metal\n",
      "TRADKGW12903CC8CB9\n",
      "dance and electronica\n",
      "TRADKLT128F9304E1D\n",
      "rock and indie\n",
      "TRADKYH128F42788EA\n",
      "NULL\n",
      "TRADLBJ128F423A031\n",
      "NULL\n",
      "TRADLCP12903CB64FC\n",
      "pop\n",
      "TRADLJV128F9336643\n",
      "NULL\n",
      "TRADLSQ128F92FF1E7\n",
      "dance and electronica\n"
     ]
    },
    {
     "name": "stderr",
     "output_type": "stream",
     "text": [
      "\u001b[A\u001b[A\n",
      "\n",
      " 10%|█         | 978/9330 [00:11<01:42, 81.80it/s]\u001b[A\u001b[A\n",
      "\n",
      " 11%|█         | 987/9330 [00:11<01:42, 81.71it/s]"
     ]
    },
    {
     "name": "stdout",
     "output_type": "stream",
     "text": [
      "TRADMAJ128F92F566E\n",
      "NULL\n",
      "TRADMCH128E0784D99\n",
      "hip-hop\n",
      "TRADMFK12903CC2478\n",
      "rock and indie\n",
      "TRADMGC128F9306CC9\n",
      "dance and electronica\n",
      "TRADMKA128F9344497\n",
      "rock and indie\n",
      "TRADMUH128F146D3CD\n",
      "pop\n",
      "TRADNBP128F932475B\n",
      "soul and reggae\n",
      "TRADNGD128E0780F88\n",
      "hip-hop\n",
      "TRADNKT128F42388A1\n",
      "dance and electronica\n",
      "TRADNOD128F4262F3D\n",
      "classical\n"
     ]
    },
    {
     "name": "stderr",
     "output_type": "stream",
     "text": [
      "\u001b[A\u001b[A\n",
      "\n",
      " 11%|█         | 996/9330 [00:11<01:43, 80.76it/s]\u001b[A\u001b[A\n",
      "\n",
      " 11%|█         | 1005/9330 [00:11<01:46, 77.87it/s]"
     ]
    },
    {
     "name": "stdout",
     "output_type": "stream",
     "text": [
      "TRADNPB128F423AEE7\n",
      "dance and electronica\n",
      "TRADNRG128F426F18C\n",
      "NULL\n",
      "TRADNRG128F4295A0E\n",
      "NULL\n",
      "TRADNRU128F428AC6D\n",
      "NULL\n",
      "TRADNZM128F9300DF3\n",
      "pop\n",
      "TRADOAJ128F428DA46\n",
      "NULL\n",
      "TRADODV128F4283EB6\n",
      "dance and electronica\n",
      "TRADOEY128F42974FF\n",
      "NULL\n",
      "TRADOSF128F9338ADB\n",
      "NULL\n",
      "TRADOYN128F42951C9\n",
      "dance and electronica\n"
     ]
    },
    {
     "name": "stderr",
     "output_type": "stream",
     "text": [
      "\u001b[A\u001b[A\n",
      "\n",
      " 11%|█         | 1013/9330 [00:11<01:47, 77.40it/s]\u001b[A\u001b[A"
     ]
    },
    {
     "name": "stdout",
     "output_type": "stream",
     "text": [
      "TRADPDI128F92EBD32\n",
      "rock and indie\n",
      "TRADPFS12903CB8C71\n",
      "soul and reggae\n",
      "TRADPIA128E078EE1B\n",
      "rock and indie\n",
      "TRADPJQ128F932E08D\n",
      "jazz\n",
      "TRADPQW128F42636C3\n",
      "rock and indie\n",
      "TRADPSM128F92F5744\n",
      "NULL\n",
      "TRADPTQ128F9313D02\n",
      "rock and indie\n",
      "TRADQAR128F92ED3DC\n",
      "rock and indie\n",
      "TRADQAW128F4274A4F\n",
      "hip-hop\n",
      "TRADQBK128F92E8B5F\n",
      "rock and indie\n"
     ]
    },
    {
     "name": "stderr",
     "output_type": "stream",
     "text": [
      "\n",
      "\n",
      " 11%|█         | 1021/9330 [00:11<01:55, 72.16it/s]\u001b[A\u001b[A\n",
      "\n",
      " 11%|█         | 1029/9330 [00:11<01:58, 69.96it/s]\u001b[A\u001b[A"
     ]
    },
    {
     "name": "stdout",
     "output_type": "stream",
     "text": [
      "TRADQHV128F92CD663\n",
      "dance and electronica\n",
      "TRADQJL128F92D9957\n",
      "pop\n",
      "TRADQPB128F931A603\n",
      "NULL\n",
      "TRADQUL128F93274F3\n",
      "NULL\n",
      "TRADRHX12903CCD1DF\n",
      "NULL\n",
      "TRADRJK128E078F041\n",
      "pop\n",
      "TRADRJM128F428DDB2\n",
      "NULL\n",
      "TRADRKK128F92FF034\n",
      "NULL\n",
      "TRADRNN128F92F7172\n",
      "NULL\n",
      "TRADROR128F42936A4\n",
      "NULL"
     ]
    },
    {
     "name": "stderr",
     "output_type": "stream",
     "text": [
      "\n",
      "\n",
      " 11%|█         | 1039/9330 [00:11<01:47, 76.86it/s]\u001b[A\u001b[A\n",
      "\n",
      " 11%|█▏        | 1052/9330 [00:11<01:36, 85.49it/s]\u001b[A\u001b[A"
     ]
    },
    {
     "name": "stdout",
     "output_type": "stream",
     "text": [
      "\n",
      "TRADRXC128F4230BE8\n",
      "pop\n",
      "TRADRZG12903CE75B5\n",
      "NULL\n",
      "TRADSQZ128F42707D7\n",
      "rock and indie\n",
      "TRADSUA128C7196C7C\n",
      "pop\n",
      "TRADSVJ12903C9CDFA\n",
      "rock and indie\n",
      "TRADTAV128F14B0F47\n",
      "NULL\n",
      "TRADTBA128F92CA48F\n",
      "rock and indie\n",
      "TRADTGV128F14B0D76\n",
      "rock and indie\n",
      "TRADTOV12903CA9E74\n",
      "pop\n",
      "TRADTQJ128F9340624\n",
      "pop\n",
      "TRADTXQ128F9331913\n",
      "pop\n",
      "TRADUCE128F9322F5A"
     ]
    },
    {
     "name": "stderr",
     "output_type": "stream",
     "text": [
      "\n",
      "\n",
      " 11%|█▏        | 1064/9330 [00:12<01:29, 92.36it/s]\u001b[A\u001b[A\n",
      "\n",
      " 12%|█▏        | 1074/9330 [00:12<01:35, 86.86it/s]"
     ]
    },
    {
     "name": "stdout",
     "output_type": "stream",
     "text": [
      "\n",
      "rock and indie\n",
      "TRADUDB128F42A61F9\n",
      "hip-hop\n",
      "TRADUHX128F931A42B\n",
      "rock and indie\n",
      "TRADUOU12903CF4323\n",
      "metal\n",
      "TRADUSB128F92C50C6\n",
      "dance and electronica\n",
      "TRADUTA128F931418A\n",
      "folk\n",
      "TRADUXF128F1498A0A\n",
      "pop\n",
      "TRADUZS12903CE95D6\n",
      "NULL\n",
      "TRADVBS128F4223455\n",
      "NULL\n",
      "TRADVDU128F42A047E\n",
      "NULL\n",
      "TRADVGV128F42BCACE\n",
      "pop\n"
     ]
    },
    {
     "name": "stderr",
     "output_type": "stream",
     "text": [
      "\u001b[A\u001b[A\n",
      "\n",
      " 12%|█▏        | 1086/9330 [00:12<01:27, 94.62it/s]\u001b[A\u001b[A\n",
      "\n",
      " 12%|█▏        | 1096/9330 [00:12<01:26, 94.72it/s]"
     ]
    },
    {
     "name": "stdout",
     "output_type": "stream",
     "text": [
      "TRADVSU128E0786371\n",
      "rock and indie\n",
      "TRADVZP128F92E0C02\n",
      "soul and reggae\n",
      "TRADWAU128F145622F\n",
      "rock and indie\n",
      "TRADWEL128E078BE94\n",
      "jazz\n",
      "TRADWOB12903C9D1EB\n",
      "rock and indie\n",
      "TRADWSG128F4259317\n",
      "NULL\n",
      "TRADWYF128F421FA69\n",
      "pop\n",
      "TRADXCF128EF357134\n",
      "pop\n",
      "TRADXCO128F426B26D\n",
      "rock and indie\n",
      "TRADXEB12903CEAC5B\n",
      "jazz\n"
     ]
    },
    {
     "name": "stderr",
     "output_type": "stream",
     "text": [
      "\u001b[A\u001b[A\n",
      "\n",
      " 12%|█▏        | 1106/9330 [00:12<01:33, 87.77it/s]\u001b[A\u001b[A\n",
      "\n",
      " 12%|█▏        | 1116/9330 [00:12<01:32, 88.35it/s]"
     ]
    },
    {
     "name": "stdout",
     "output_type": "stream",
     "text": [
      "TRADXMA128F4276D94\n",
      "hip-hop\n",
      "TRADYAX128F1475721\n",
      "hip-hop\n",
      "TRADYFD12903CE4161\n",
      "pop\n",
      "TRADYNL128F148FE5F\n",
      "jazz\n",
      "TRADYNQ128F931BCB3\n",
      "dance and electronica\n",
      "TRADYQH128F9338162\n",
      "NULL\n",
      "TRADYQK128F42A762A\n",
      "pop\n",
      "TRADYRH128F423478E\n",
      "rock and indie\n",
      "TRADYUQ128F421A896\n",
      "NULL\n",
      "TRADYYK128F145FE74\n"
     ]
    },
    {
     "name": "stderr",
     "output_type": "stream",
     "text": [
      "\u001b[A\u001b[A\n",
      "\n",
      " 12%|█▏        | 1126/9330 [00:12<01:30, 90.52it/s]\u001b[A\u001b[A"
     ]
    },
    {
     "name": "stdout",
     "output_type": "stream",
     "text": [
      "dance and electronica\n",
      "TRADYZC12903CCC8FA\n",
      "pop\n",
      "TRADZGC128F9322762\n",
      "NULL\n",
      "TRADZKZ128F4256E3B\n",
      "NULL\n",
      "TRADZQV128F14A5760\n",
      "pop\n",
      "TRADZXK128F429DB92\n",
      "pop\n",
      "TRADZYD128E078BE45\n",
      "pop\n",
      "TRADZZP128F428BCE6\n",
      "NULL\n",
      "TRAEABT128F931984D\n",
      "folk\n",
      "TRAEADK128F4270AA6\n",
      "rock and indie\n"
     ]
    },
    {
     "name": "stderr",
     "output_type": "stream",
     "text": [
      "\n",
      "\n",
      " 12%|█▏        | 1136/9330 [00:12<01:39, 82.68it/s]\u001b[A\u001b[A\n",
      "\n",
      " 12%|█▏        | 1145/9330 [00:13<01:41, 80.71it/s]"
     ]
    },
    {
     "name": "stdout",
     "output_type": "stream",
     "text": [
      "TRAEALX12903CB5701\n",
      "NULL\n",
      "TRAEARU128E0781A02\n",
      "pop\n",
      "TRAEAST128F42931B1\n",
      "NULL\n",
      "TRAEASY128F148247C\n",
      "pop\n",
      "TRAEATL128F42690A7\n",
      "rock and indie\n",
      "TRAEATZ128F426E5C8\n",
      "NULL\n",
      "TRAEAZV12903D0CBA6\n",
      "NULL\n",
      "TRAEBLA128F423CBCA\n",
      "dance and electronica\n",
      "TRAEBPG128F14AA0DA\n",
      "rock and indie\n",
      "TRAEBPU12903CE743E\n",
      "NULL\n",
      "TRAEBQO128F933C48A\n",
      "pop\n",
      "TRAEBSY128E07873C0\n",
      "pop\n"
     ]
    },
    {
     "name": "stderr",
     "output_type": "stream",
     "text": [
      "\u001b[A\u001b[A\n",
      "\n",
      " 12%|█▏        | 1154/9330 [00:13<01:54, 71.30it/s]\u001b[A\u001b[A\n",
      "\n",
      " 12%|█▏        | 1162/9330 [00:13<01:53, 72.23it/s]"
     ]
    },
    {
     "name": "stdout",
     "output_type": "stream",
     "text": [
      "TRAEBXE128F933B4F5\n",
      "pop\n",
      "TRAEBXS128F429933A\n",
      "pop\n",
      "TRAECBR128F429F8C0\n",
      "pop\n",
      "TRAECKI128F149EA48\n",
      "rock and indie\n",
      "TRAECSU128F426A84A\n",
      "metal\n",
      "TRAECVW128E078884D\n",
      "pop\n",
      "TRAECWE128F1498516\n",
      "jazz\n",
      "TRAECWI128F4226133\n",
      "rock and indie\n",
      "TRAEDJJ128F426A526\n",
      "rock and indie\n"
     ]
    },
    {
     "name": "stderr",
     "output_type": "stream",
     "text": [
      "\u001b[A\u001b[A\n",
      "\n",
      " 13%|█▎        | 1175/9330 [00:13<01:37, 83.29it/s]\u001b[A\u001b[A"
     ]
    },
    {
     "name": "stdout",
     "output_type": "stream",
     "text": [
      "TRAEDYD128F425A868\n",
      "hip-hop\n",
      "TRAEEGO12903CF7D27\n",
      "pop\n",
      "TRAEFDB128E0783952\n",
      "rock and indie\n",
      "TRAEFDK128F1473B92\n",
      "pop\n",
      "TRAEFJG128F9325FE4\n",
      "jazz\n",
      "TRAEFON128E078C6F8\n",
      "rock and indie\n",
      "TRAEFOU128F932105B\n",
      "pop\n",
      "TRAEFQG128F429F74E\n",
      "NULL\n",
      "TRAEFWP128F4238373\n",
      "NULL\n",
      "TRAEGAZ128F426240C"
     ]
    },
    {
     "name": "stderr",
     "output_type": "stream",
     "text": [
      "\n",
      "\n",
      " 13%|█▎        | 1185/9330 [00:13<01:45, 77.53it/s]\u001b[A\u001b[A\n",
      "\n",
      " 13%|█▎        | 1194/9330 [00:13<01:49, 74.64it/s]"
     ]
    },
    {
     "name": "stdout",
     "output_type": "stream",
     "text": [
      "\n",
      "NULL\n",
      "TRAEGBE128F4284973\n",
      "pop\n",
      "TRAEGFX12903CF8E7B\n",
      "rock and indie\n",
      "TRAEGGV128F92F29B2\n",
      "rock and indie\n",
      "TRAEGHJ12903CE26DF\n",
      "NULL\n",
      "TRAEGJE128F42656F1\n",
      "NULL\n",
      "TRAEGMO128F146D5F6\n",
      "NULL\n",
      "TRAEGRF128F426B2D2\n",
      "folk\n",
      "TRAEGRR128F422285F\n",
      "NULL\n",
      "TRAEGRU128F9358874\n",
      "NULL\n"
     ]
    },
    {
     "name": "stderr",
     "output_type": "stream",
     "text": [
      "\u001b[A\u001b[A\n",
      "\n",
      " 13%|█▎        | 1202/9330 [00:13<01:53, 71.67it/s]\u001b[A\u001b[A\n",
      "\n",
      " 13%|█▎        | 1219/9330 [00:13<01:35, 85.14it/s]"
     ]
    },
    {
     "name": "stdout",
     "output_type": "stream",
     "text": [
      "TRAEHBW12903CE1045\n",
      "rock and indie\n",
      "TRAEHMP128F92DCC42\n",
      "NULL\n",
      "TRAEHNA128F423786C\n",
      "rock and indie\n",
      "TRAEHXW128F146F3C5\n",
      "NULL\n",
      "TRAEIDZ128F42658BC\n",
      "jazz\n",
      "TRAEIKW128F1456B1A\n",
      "NULL\n",
      "TRAEIYU128F931BC4B\n",
      "NULL\n",
      "TRAEJDC128F92D1684\n",
      "rock and indie\n",
      "TRAEJFN128F4291C10\n",
      "pop\n",
      "TRAEJXI128F4291A83\n",
      "rock and indie\n",
      "TRAEKCV128E0781A5B\n",
      "pop\n"
     ]
    },
    {
     "name": "stderr",
     "output_type": "stream",
     "text": [
      "\u001b[A\u001b[A\n",
      "\n",
      " 13%|█▎        | 1234/9330 [00:14<01:25, 94.92it/s]\u001b[A\u001b[A\n",
      "\n",
      " 13%|█▎        | 1245/9330 [00:14<01:21, 98.67it/s]"
     ]
    },
    {
     "name": "stdout",
     "output_type": "stream",
     "text": [
      "TRAELNO128F42148EF\n",
      "soul and reggae\n",
      "TRAELRO128F92DD2F1\n",
      "pop\n",
      "TRAELUY128F93147BA\n",
      "rock and indie\n",
      "TRAELWU128F4230D12\n",
      "NULL\n",
      "TRAELXD128F14A8B21\n",
      "NULL\n",
      "TRAEMGG12903CEBB52\n",
      "NULL\n",
      "TRAEMGL128F4266177\n",
      "NULL\n",
      "TRAEMNZ128F9334662\n",
      "pop\n",
      "TRAEMZW128F148406D\n",
      "pop\n",
      "TRAENGX12903CBDFF6\n"
     ]
    },
    {
     "name": "stderr",
     "output_type": "stream",
     "text": [
      "\u001b[A\u001b[A\n",
      "\n",
      " 13%|█▎        | 1256/9330 [00:14<01:21, 98.55it/s]\u001b[A\u001b[A\n",
      "\n",
      " 14%|█▎        | 1271/9330 [00:14<01:15, 106.67it/s]"
     ]
    },
    {
     "name": "stdout",
     "output_type": "stream",
     "text": [
      "rock and indie\n",
      "TRAENGY128F4272846\n",
      "NULL\n",
      "TRAENOH128F933978A\n",
      "dance and electronica\n",
      "TRAENOR128F14585F8\n",
      "rock and indie\n",
      "TRAENRA128F934B998\n",
      "pop\n",
      "TRAENUU128F424F50C\n",
      "rock and indie\n",
      "TRAEOBA12903CAFAB0\n",
      "rock and indie\n",
      "TRAEOFB12903CB7900\n",
      "classical\n",
      "TRAEOMS128F4262357\n",
      "rock and indie\n",
      "TRAEOMT128F92FE852\n",
      "dance and electronica\n",
      "TRAEOOH128F934ACD4\n"
     ]
    },
    {
     "name": "stderr",
     "output_type": "stream",
     "text": [
      "\u001b[A\u001b[A\n",
      "\n",
      " 14%|█▍        | 1283/9330 [00:14<01:21, 99.25it/s] \u001b[A\u001b[A"
     ]
    },
    {
     "name": "stdout",
     "output_type": "stream",
     "text": [
      "rock and indie\n",
      "TRAEOUE128F93187B9\n",
      "rock and indie\n",
      "TRAEOUM128F42915ED\n",
      "pop\n",
      "TRAEPAC12903CE5DC8\n",
      "jazz\n",
      "TRAEPAW128F4285BAB\n",
      "folk\n",
      "TRAEPGH128F9343CD8\n",
      "rock and indie\n",
      "TRAEPGQ128F932AE6D\n",
      "NULL\n",
      "TRAEPIY128E0786AB7\n",
      "NULL\n",
      "TRAEPZJ12903CB00C4\n",
      "rock and indie\n",
      "TRAEQAB128F429C226\n",
      "soul and reggae\n",
      "TRAEQLX128F1468799\n",
      "dance and electronica\n"
     ]
    },
    {
     "name": "stderr",
     "output_type": "stream",
     "text": [
      "\n",
      "\n",
      " 14%|█▍        | 1294/9330 [00:14<01:37, 82.52it/s]\u001b[A\u001b[A\n",
      "\n",
      " 14%|█▍        | 1310/9330 [00:14<01:23, 95.54it/s]"
     ]
    },
    {
     "name": "stdout",
     "output_type": "stream",
     "text": [
      "TRAEQNK128F93363BB\n",
      "dance and electronica\n",
      "TRAEQOS128F92EFD47\n",
      "pop\n",
      "TRAEQPB128F1475024\n",
      "NULL\n",
      "TRAEQQE128F42920E3\n",
      "rock and indie\n",
      "TRAERCU128F42660A2\n",
      "dance and electronica\n",
      "TRAERNN12903CEABCE\n",
      "NULL\n",
      "TRAERPT128F931103E\n",
      "pop\n",
      "TRAERST128F4267A39\n",
      "rock and indie\n",
      "TRAESJK128E0792227\n",
      "hip-hop\n"
     ]
    },
    {
     "name": "stderr",
     "output_type": "stream",
     "text": [
      "\u001b[A\u001b[A\n",
      "\n",
      " 14%|█▍        | 1321/9330 [00:14<01:24, 94.66it/s]\u001b[A\u001b[A\n",
      "\n",
      " 14%|█▍        | 1332/9330 [00:15<01:23, 95.40it/s]"
     ]
    },
    {
     "name": "stdout",
     "output_type": "stream",
     "text": [
      "TRAESVN128F4213033\n",
      "NULL\n",
      "TRAESWB128F149CB2C\n",
      "pop\n",
      "TRAETAG128F93385AE\n",
      "pop\n",
      "TRAETGI12903CBCC00\n",
      "hip-hop\n",
      "TRAETLW128F92C44F3\n",
      "pop\n",
      "TRAETLY128F92FBEE0\n",
      "metal\n",
      "TRAETTV12903CBBD09\n",
      "pop\n",
      "TRAETWP128F421AD6A\n",
      "dance and electronica\n",
      "TRAETYC128F933BBF4\n",
      "NULL\n",
      "TRAETZJ128F422B208\n",
      "dance and electronica\n"
     ]
    },
    {
     "name": "stderr",
     "output_type": "stream",
     "text": [
      "\u001b[A\u001b[A\n",
      "\n",
      " 14%|█▍        | 1343/9330 [00:15<01:24, 94.57it/s]\u001b[A\u001b[A"
     ]
    },
    {
     "name": "stdout",
     "output_type": "stream",
     "text": [
      "TRAEUCH128F427FA5E\n",
      "NULL\n",
      "TRAEUDO128F149CD13\n",
      "dance and electronica\n",
      "TRAEUGG128E07826F2\n",
      "dance and electronica\n",
      "TRAEUIW12903D018F0\n",
      "pop\n",
      "TRAEVEE12903CEB465\n",
      "pop\n",
      "TRAEVHU128F92D9EA0\n",
      "rock and indie\n",
      "TRAEVIK12903CCC7E2\n",
      "dance and electronica\n",
      "TRAEVLC128F9306C77\n",
      "pop\n",
      "TRAEVLO128F933DE9E\n",
      "soul and reggae\n"
     ]
    },
    {
     "name": "stderr",
     "output_type": "stream",
     "text": [
      "\n",
      "\n",
      " 15%|█▍        | 1353/9330 [00:15<01:30, 88.60it/s]\u001b[A\u001b[A\n",
      "\n",
      " 15%|█▍        | 1367/9330 [00:15<01:22, 96.81it/s]"
     ]
    },
    {
     "name": "stdout",
     "output_type": "stream",
     "text": [
      "TRAEVRI128F93608F3\n",
      "rock and indie\n",
      "TRAEVRU128F4263351\n",
      "soul and reggae\n",
      "TRAEWKQ128F427C3EC\n",
      "NULL\n",
      "TRAEWLF128F42B1F89\n",
      "pop\n",
      "TRAEWQN128F4286306\n",
      "NULL\n",
      "TRAEWQP128F9330AF7\n",
      "hip-hop\n",
      "TRAEWUW128F42710A4\n",
      "NULL\n",
      "TRAEWVG128F428AC7F\n",
      "pop\n",
      "TRAEWXY128E0786183\n",
      "pop\n"
     ]
    },
    {
     "name": "stderr",
     "output_type": "stream",
     "text": [
      "\u001b[A\u001b[A\n",
      "\n",
      " 15%|█▍        | 1378/9330 [00:15<01:28, 90.34it/s]\u001b[A\u001b[A"
     ]
    },
    {
     "name": "stdout",
     "output_type": "stream",
     "text": [
      "TRAEXEA128F933C67D\n",
      "pop\n",
      "TRAEXHW128F92E2602\n",
      "hip-hop\n",
      "TRAEXXT128F427AF12\n",
      "dance and electronica\n",
      "TRAEYHF128F14B06D0\n",
      "NULL\n",
      "TRAEZAZ128F930608E\n",
      "rock and indie\n",
      "TRAEZFJ128F422A5C0\n",
      "pop\n",
      "TRAEZKA128F4282B79\n",
      "pop\n",
      "TRAEZLQ128F427F954\n",
      "pop\n",
      "TRAFAAS12903CF0BE2\n",
      "metal\n"
     ]
    },
    {
     "name": "stderr",
     "output_type": "stream",
     "text": [
      "\n",
      "\n",
      " 15%|█▍        | 1388/9330 [00:15<01:32, 85.79it/s]\u001b[A\u001b[A\n",
      "\n",
      " 15%|█▍        | 1397/9330 [00:15<01:36, 82.35it/s]\u001b[A\u001b[A"
     ]
    },
    {
     "name": "stdout",
     "output_type": "stream",
     "text": [
      "TRAFABO128F933DE53\n",
      "rock and indie\n",
      "TRAFAEO128F92E9A19\n",
      "dance and electronica\n",
      "TRAFAIB128F426E636\n",
      "rock and indie\n",
      "TRAFAJC128E078888B\n",
      "pop\n",
      "TRAFAQY12903CA70F7\n",
      "pop\n",
      "TRAFAXI128F9303F5B\n",
      "NULL\n",
      "TRAFBDA128F14592A9\n",
      "NULL\n",
      "TRAFBGP128F1451DFF\n",
      "rock and indie\n",
      "TRAFBML128F93163FB\n",
      "pop\n",
      "TRAFBPN128F428B8CF"
     ]
    },
    {
     "name": "stderr",
     "output_type": "stream",
     "text": [
      "\n",
      "\n",
      " 15%|█▌        | 1406/9330 [00:15<01:36, 82.18it/s]\u001b[A\u001b[A\n",
      "\n",
      " 15%|█▌        | 1415/9330 [00:16<01:36, 82.34it/s]"
     ]
    },
    {
     "name": "stdout",
     "output_type": "stream",
     "text": [
      "\n",
      "pop\n",
      "TRAFBVU128F426B3F6\n",
      "metal\n",
      "TRAFBXW128E0787291\n",
      "NULL\n",
      "TRAFCPP128F426EC01\n",
      "folk\n",
      "TRAFCVI128C7196BE6\n",
      "soul and reggae\n",
      "TRAFCWJ128F42515AE\n",
      "NULL\n",
      "TRAFCZM128F931AD24\n",
      "dance and electronica\n",
      "TRAFDBU128F93095F8\n",
      "NULL\n",
      "TRAFDFA128F932C065\n",
      "pop\n",
      "TRAFDFD128F14B07AB\n",
      "rock and indie\n"
     ]
    },
    {
     "name": "stderr",
     "output_type": "stream",
     "text": [
      "\u001b[A\u001b[A\n",
      "\n",
      " 15%|█▌        | 1424/9330 [00:16<01:37, 81.45it/s]\u001b[A\u001b[A\n",
      "\n",
      " 15%|█▌        | 1435/9330 [00:16<01:29, 88.09it/s]"
     ]
    },
    {
     "name": "stdout",
     "output_type": "stream",
     "text": [
      "TRAFDRG128F42797B6\n",
      "pop\n",
      "TRAFDXV12903D085CF\n",
      "dance and electronica\n",
      "TRAFEEO12903CFEC87\n",
      "metal\n",
      "TRAFELG128F427C373\n",
      "NULL\n",
      "TRAFEZF128F426C497\n",
      "pop\n",
      "TRAFFDW12903CE53B6\n",
      "jazz\n",
      "TRAFFEQ12903CF4356\n",
      "metal\n",
      "TRAFFPR128F421A35F\n",
      "dance and electronica\n",
      "TRAFFRG128F421BD23\n",
      "NULL\n",
      "TRAFGKU128F42889EF\n",
      "pop\n"
     ]
    },
    {
     "name": "stderr",
     "output_type": "stream",
     "text": [
      "\u001b[A\u001b[A\n",
      "\n",
      " 15%|█▌        | 1445/9330 [00:16<01:31, 86.00it/s]\u001b[A\u001b[A\n",
      "\n",
      " 16%|█▌        | 1459/9330 [00:16<01:23, 93.99it/s]"
     ]
    },
    {
     "name": "stdout",
     "output_type": "stream",
     "text": [
      "TRAFGMJ128F930F532\n",
      "NULL\n",
      "TRAFGTJ128F42802B8\n",
      "NULL\n",
      "TRAFHBH128F42970EF\n",
      "rock and indie\n",
      "TRAFHBM128F92EE7B0\n",
      "NULL\n",
      "TRAFHRS128F14599C0\n",
      "pop\n",
      "TRAFICE128F4294E27\n",
      "NULL\n",
      "TRAFIHK12903CBDFF1\n",
      "rock and indie\n",
      "TRAFINB128F426E2F1\n",
      "NULL\n",
      "TRAFJJJ128E078E0B8\n",
      "dance and electronica\n"
     ]
    },
    {
     "name": "stderr",
     "output_type": "stream",
     "text": [
      "\u001b[A\u001b[A\n",
      "\n",
      " 16%|█▌        | 1473/9330 [00:16<01:16, 102.46it/s]\u001b[A\u001b[A\n",
      "\n",
      " 16%|█▌        | 1484/9330 [00:16<01:19, 98.40it/s] "
     ]
    },
    {
     "name": "stdout",
     "output_type": "stream",
     "text": [
      "TRAFJRD128F4288F65\n",
      "soul and reggae\n",
      "TRAFJRJ128F932EC8C\n",
      "pop\n",
      "TRAFJUG128F92C77B1\n",
      "soul and reggae\n",
      "TRAFJVH128F42BC25E\n",
      "NULL\n",
      "TRAFJXD128F931D0C4\n",
      "dance and electronica\n",
      "TRAFKBW128F428C4E6\n",
      "NULL\n",
      "TRAFKDF12903D09556\n",
      "NULL\n",
      "TRAFKFP128F93366A1\n",
      "NULL\n",
      "TRAFKHA12903CF0E89\n",
      "pop\n",
      "TRAFKLJ128F9331BE6\n",
      "dance and electronica\n"
     ]
    },
    {
     "name": "stderr",
     "output_type": "stream",
     "text": [
      "\u001b[A\u001b[A\n",
      "\n",
      " 16%|█▌        | 1496/9330 [00:16<01:16, 102.54it/s]\u001b[A\u001b[A"
     ]
    },
    {
     "name": "stdout",
     "output_type": "stream",
     "text": [
      "TRAFKRE128F932002B\n",
      "pop\n",
      "TRAFLAR128F427FE8D\n",
      "pop\n",
      "TRAFLFY128F92C637A\n",
      "NULL\n",
      "TRAFLMU128F4274A4D\n",
      "hip-hop\n",
      "TRAFLNZ128F92FE8CB\n",
      "NULL\n",
      "TRAFLYL128F932DB93\n",
      "NULL\n",
      "TRAFLZY128F148959F\n",
      "dance and electronica\n",
      "TRAFMDA128F4224347\n",
      "NULL\n",
      "TRAFMEJ128F4284652\n",
      "pop\n",
      "TRAFMES128F930AB06\n",
      "NULL\n"
     ]
    },
    {
     "name": "stderr",
     "output_type": "stream",
     "text": [
      "\n",
      "\n",
      " 16%|█▌        | 1507/9330 [00:16<01:23, 93.52it/s] \u001b[A\u001b[A\n",
      "\n",
      " 16%|█▋        | 1517/9330 [00:17<01:26, 90.80it/s]\u001b[A\u001b[A"
     ]
    },
    {
     "name": "stdout",
     "output_type": "stream",
     "text": [
      "TRAFMIA128F92E2B2B\n",
      "rock and indie\n",
      "TRAFMME128F932B4D5\n",
      "rock and indie\n",
      "TRAFMNM128F4251008\n",
      "jazz\n",
      "TRAFMPX128F4246C49\n",
      "rock and indie\n",
      "TRAFNAH128F42A400D\n",
      "pop\n",
      "TRAFNEI128F1458CAA\n",
      "dance and electronica\n",
      "TRAFNJM128F933D6DB\n",
      "NULL\n",
      "TRAFNVQ12903CE7322\n",
      "soul and reggae\n",
      "TRAFNWS128F931A45D\n",
      "rock and indie\n",
      "TRAFOHK128F425F232\n",
      "rock and indie\n"
     ]
    },
    {
     "name": "stderr",
     "output_type": "stream",
     "text": [
      "\n",
      "\n",
      " 16%|█▋        | 1527/9330 [00:17<01:32, 83.93it/s]\u001b[A\u001b[A\n",
      "\n",
      " 16%|█▋        | 1536/9330 [00:17<01:38, 79.05it/s]"
     ]
    },
    {
     "name": "stdout",
     "output_type": "stream",
     "text": [
      "TRAFOKY128F4276D91\n",
      "hip-hop\n",
      "TRAFOKY128F92ED751\n",
      "pop\n",
      "TRAFONO128F4248100\n",
      "NULL\n",
      "TRAFOTS128F42255A6\n",
      "pop\n",
      "TRAFPAY128F146B23B\n",
      "rock and indie\n",
      "TRAFPDD128F92FBBA6\n",
      "NULL\n",
      "TRAFPFW128F423B0A6\n",
      "dance and electronica\n",
      "TRAFPHE128F4267123\n",
      "NULL\n",
      "TRAFPQG128E07870D6\n",
      "folk\n",
      "TRAFQEG128F92FC332\n",
      "soul and reggae\n"
     ]
    },
    {
     "name": "stderr",
     "output_type": "stream",
     "text": [
      "\u001b[A\u001b[A\n",
      "\n",
      " 17%|█▋        | 1548/9330 [00:17<01:30, 85.80it/s]\u001b[A\u001b[A"
     ]
    },
    {
     "name": "stdout",
     "output_type": "stream",
     "text": [
      "TRAFQFM128E078EC97\n",
      "pop\n",
      "TRAFQJK128F92F5EBE\n",
      "NULL\n",
      "TRAFQKX128F9347448\n",
      "metal\n",
      "TRAFQMD128F92D4950\n",
      "NULL\n",
      "TRAFQQM128F92E2FD0\n",
      "NULL\n",
      "TRAFRBN128F93095F4\n",
      "NULL\n",
      "TRAFRCH12903CEA22D\n",
      "pop\n",
      "TRAFRFF128F9345B75\n",
      "NULL\n",
      "TRAFRJH128E0781C5B\n",
      "dance and electronica\n",
      "TRAFRKU128F933CE16\n",
      "rock and indie\n"
     ]
    },
    {
     "name": "stderr",
     "output_type": "stream",
     "text": [
      "\n",
      "\n",
      " 17%|█▋        | 1557/9330 [00:17<01:41, 76.68it/s]\u001b[A\u001b[A\n",
      "\n",
      " 17%|█▋        | 1566/9330 [00:17<01:54, 67.85it/s]\u001b[A\u001b[A"
     ]
    },
    {
     "name": "stdout",
     "output_type": "stream",
     "text": [
      "TRAFRLV128F4267ADF\n",
      "rock and indie\n",
      "TRAFRTX128F93426B7\n",
      "NULL\n",
      "TRAFRVU128F42649A6\n",
      "pop\n",
      "TRAFRYJ128F92E638B\n",
      "pop\n",
      "TRAFSAP128E0780ECF\n",
      "pop\n",
      "TRAFSGJ12903CAA742\n",
      "pop\n",
      "TRAFSGL128F42ADA3E\n",
      "rock and indie\n",
      "TRAFSIP128F9301AE9\n",
      "dance and electronica\n",
      "TRAFSQP128F424C04F\n",
      "jazz\n"
     ]
    },
    {
     "name": "stderr",
     "output_type": "stream",
     "text": [
      "\n",
      "\n",
      " 17%|█▋        | 1574/9330 [00:17<01:53, 68.32it/s]\u001b[A\u001b[A"
     ]
    },
    {
     "name": "stdout",
     "output_type": "stream",
     "text": [
      "TRAFSSU128EF344074\n",
      "jazz\n",
      "TRAFTAM128F4294843\n",
      "soul and reggae\n",
      "TRAFTCT128F425A900\n",
      "pop\n",
      "TRAFTDN128F427C29D\n",
      "pop\n",
      "TRAFTFF128F930F77C\n",
      "metal\n",
      "TRAFTJB128F931919E\n",
      "NULL\n",
      "TRAFTMA128F933A3D7\n",
      "pop\n",
      "TRAFTOE12903CF3F5E\n",
      "NULL\n",
      "TRAFTRX128F422D182\n",
      "NULL\n",
      "TRAFTRY128F9329C26\n",
      "rock and indie\n"
     ]
    },
    {
     "name": "stderr",
     "output_type": "stream",
     "text": [
      "\n",
      "\n",
      " 17%|█▋        | 1582/9330 [00:18<01:56, 66.34it/s]\u001b[A\u001b[A\n",
      "\n",
      " 17%|█▋        | 1601/9330 [00:18<01:35, 80.93it/s]\u001b[A\u001b[A"
     ]
    },
    {
     "name": "stdout",
     "output_type": "stream",
     "text": [
      "TRAFUKW12903CD802A\n",
      "rock and indie\n",
      "TRAFUTO128F428E434\n",
      "NULL\n",
      "TRAFUWI128F934C730\n",
      "metal\n",
      "TRAFWEV128F428D391\n",
      "pop\n",
      "TRAFWIJ128F93305F6\n",
      "NULL\n",
      "TRAFWRG128F4295089\n",
      "pop\n",
      "TRAFXEY128F148AECD\n",
      "NULL\n",
      "TRAFXHL128F148D175\n",
      "rock and indie\n",
      "TRAFXMZ128F42AFC47\n",
      "NULL\n",
      "TRAFXPQ128F425385C\n",
      "classical\n"
     ]
    },
    {
     "name": "stderr",
     "output_type": "stream",
     "text": [
      "\n",
      "\n",
      " 17%|█▋        | 1612/9330 [00:18<01:29, 86.16it/s]\u001b[A\u001b[A\n",
      "\n",
      " 17%|█▋        | 1622/9330 [00:18<01:36, 79.97it/s]\u001b[A\u001b[A"
     ]
    },
    {
     "name": "stdout",
     "output_type": "stream",
     "text": [
      "TRAFXYN128F148B3B4\n",
      "pop\n",
      "TRAFYAV128F42ACA8C\n",
      "rock and indie\n",
      "TRAFYEG12903CB647E\n",
      "rock and indie\n",
      "TRAFYGA128F425A92C\n",
      "pop\n",
      "TRAFYGO128F42727E7\n",
      "pop\n",
      "TRAFYRA128F92FD549\n",
      "NULL\n",
      "TRAFYRO128F42ACFC7\n",
      "dance and electronica\n",
      "TRAFYUE12903CAFDF3\n",
      "dance and electronica\n",
      "TRAFYVC128F4268F8B\n",
      "dance and electronica\n"
     ]
    },
    {
     "name": "stderr",
     "output_type": "stream",
     "text": [
      "\n",
      "\n",
      " 17%|█▋        | 1631/9330 [00:18<01:40, 76.59it/s]\u001b[A\u001b[A\n",
      "\n",
      " 18%|█▊        | 1642/9330 [00:18<01:33, 82.27it/s]"
     ]
    },
    {
     "name": "stdout",
     "output_type": "stream",
     "text": [
      "TRAFYYU128F4229376\n",
      "rock and indie\n",
      "TRAFZHK128F145E86B\n",
      "rock and indie\n",
      "TRAFZIM128F427D344\n",
      "NULL\n",
      "TRAFZKY128EF36588B\n",
      "hip-hop\n",
      "TRAFZVZ12903CE7548\n",
      "NULL\n",
      "TRAGAAF128F9338911\n",
      "jazz\n",
      "TRAGACV128F1474DEC\n",
      "hip-hop\n",
      "TRAGADP128EF341C7F\n",
      "dance and electronica\n",
      "TRAGAGQ128E0781352\n",
      "NULL\n",
      "TRAGALB128EF3676EC\n",
      "rock and indie\n",
      "TRAGALM128F4236C86\n",
      "hip-hop\n"
     ]
    },
    {
     "name": "stderr",
     "output_type": "stream",
     "text": [
      "\u001b[A\u001b[A\n",
      "\n",
      " 18%|█▊        | 1651/9330 [00:18<01:36, 79.33it/s]\u001b[A\u001b[A"
     ]
    },
    {
     "name": "stdout",
     "output_type": "stream",
     "text": [
      "TRAGAPY128F92F5DDE\n",
      "pop\n",
      "TRAGAQX128F429ABFE\n",
      "NULL\n",
      "TRAGARS128F427216A\n",
      "rock and indie\n",
      "TRAGAVF128F424829B\n",
      "NULL\n",
      "TRAGBBI128F4261828\n",
      "pop\n",
      "TRAGBHV128F4295074\n",
      "rock and indie\n",
      "TRAGBND128F92FC400\n",
      "NULL\n",
      "TRAGBOA128F4232A6E\n",
      "NULL\n",
      "TRAGBOR128F92E1064\n",
      "metal\n",
      "TRAGBPI128E0792998\n",
      "rock and indie\n",
      "TRAGCDN128F932855A\n",
      "dance and electronica\n"
     ]
    },
    {
     "name": "stderr",
     "output_type": "stream",
     "text": [
      "\n",
      "\n",
      " 18%|█▊        | 1660/9330 [00:18<01:42, 74.77it/s]\u001b[A\u001b[A\n",
      "\n",
      " 18%|█▊        | 1675/9330 [00:18<01:27, 87.94it/s]\u001b[A\u001b[A"
     ]
    },
    {
     "name": "stdout",
     "output_type": "stream",
     "text": [
      "TRAGCTZ128F4290974\n",
      "NULL\n",
      "TRAGCUZ128F92E6E26\n",
      "NULL\n",
      "TRAGCXQ128F426BDD9\n",
      "rock and indie\n",
      "TRAGCYG128F428C517\n",
      "NULL\n",
      "TRAGDDL128F4248973\n",
      "NULL\n",
      "TRAGDLM128F4233397\n",
      "rock and indie\n",
      "TRAGDPH128F9344020\n",
      "pop\n",
      "TRAGDPS128F145F8EE\n",
      "rock and indie\n",
      "TRAGDRH128F93182E1\n",
      "hip-hop\n",
      "TRAGEAS128F4258B9E\n",
      "NULL\n"
     ]
    },
    {
     "name": "stderr",
     "output_type": "stream",
     "text": [
      "\n",
      "\n",
      " 18%|█▊        | 1686/9330 [00:19<01:25, 88.89it/s]\u001b[A\u001b[A\n",
      "\n",
      " 18%|█▊        | 1696/9330 [00:19<01:26, 88.73it/s]\u001b[A\u001b[A"
     ]
    },
    {
     "name": "stdout",
     "output_type": "stream",
     "text": [
      "TRAGEFP128F429B217\n",
      "NULL\n",
      "TRAGEHE128F423E5A1\n",
      "dance and electronica\n",
      "TRAGEQI128F429154D\n",
      "rock and indie\n",
      "TRAGEVR128F4276B92\n",
      "dance and electronica\n",
      "TRAGEVS128F145FEAD\n",
      "classical\n",
      "TRAGFIS128F14947B0\n",
      "rock and indie\n",
      "TRAGFOI128F428E060\n",
      "folk\n",
      "TRAGFPP128E078F34C\n",
      "pop\n",
      "TRAGFQG128F42418D5\n",
      "NULL\n"
     ]
    },
    {
     "name": "stderr",
     "output_type": "stream",
     "text": [
      "\n",
      "\n",
      " 18%|█▊        | 1706/9330 [00:19<01:32, 82.51it/s]\u001b[A\u001b[A\n",
      "\n",
      " 18%|█▊        | 1716/9330 [00:19<01:27, 86.65it/s]"
     ]
    },
    {
     "name": "stdout",
     "output_type": "stream",
     "text": [
      "TRAGFSV12903CE532D\n",
      "pop\n",
      "TRAGFVT128F92ECB5D\n",
      "pop\n",
      "TRAGGQQ128F931D8E1\n",
      "pop\n",
      "TRAGGSJ128F42A5AE1\n",
      "soul and reggae\n",
      "TRAGGVS128F4250CE8\n",
      "metal\n",
      "TRAGGVT128F428F842\n",
      "rock and indie\n",
      "TRAGGXK12903CDA84B\n",
      "NULL\n",
      "TRAGHBP128E0793AF7\n",
      "pop\n",
      "TRAGHCZ12903CEC3EF"
     ]
    },
    {
     "name": "stderr",
     "output_type": "stream",
     "text": [
      "\u001b[A\u001b[A\n",
      "\n",
      " 18%|█▊        | 1726/9330 [00:19<01:29, 84.77it/s]\u001b[A\u001b[A\n",
      "\n",
      " 19%|█▊        | 1740/9330 [00:19<01:20, 93.90it/s]"
     ]
    },
    {
     "name": "stdout",
     "output_type": "stream",
     "text": [
      "\n",
      "NULL\n",
      "TRAGHGU128F92CC064\n",
      "NULL\n",
      "TRAGHJX128F426F76F\n",
      "rock and indie\n",
      "TRAGIGX12903CF3AD4\n",
      "NULL\n",
      "TRAGIJM12903D11E62\n",
      "rock and indie\n",
      "TRAGIKK128F42424EF\n",
      "rock and indie\n",
      "TRAGJFW12903C9D027\n",
      "soul and reggae\n",
      "TRAGJGZ128F421EE19\n",
      "NULL\n",
      "TRAGJPA128F92F9665\n",
      "pop\n",
      "TRAGJQL128E078E840\n",
      "pop\n",
      "TRAGJQZ128F9302ADA"
     ]
    },
    {
     "name": "stderr",
     "output_type": "stream",
     "text": [
      "\u001b[A\u001b[A\n",
      "\n",
      " 19%|█▉        | 1750/9330 [00:19<01:21, 93.35it/s]\u001b[A\u001b[A\n",
      "\n",
      " 19%|█▉        | 1761/9330 [00:19<01:19, 94.62it/s]"
     ]
    },
    {
     "name": "stdout",
     "output_type": "stream",
     "text": [
      "\n",
      "pop\n",
      "TRAGKAC128F4225537\n",
      "rock and indie\n",
      "TRAGKFX128F9308791\n",
      "pop\n",
      "TRAGKHQ12903D0518B\n",
      "NULL\n",
      "TRAGKLF128F9315B67\n",
      "NULL\n",
      "TRAGKMU128F429757E\n",
      "NULL\n",
      "TRAGKPD128F4275DF9\n",
      "NULL\n",
      "TRAGKQO128F92F0E10\n",
      "jazz\n",
      "TRAGKTN128F933C68B\n",
      "NULL\n",
      "TRAGKUI128F92F4698\n",
      "metal\n",
      "TRAGKVI128F1459B5E\n",
      "pop\n"
     ]
    },
    {
     "name": "stderr",
     "output_type": "stream",
     "text": [
      "\u001b[A\u001b[A\n",
      "\n",
      " 19%|█▉        | 1771/9330 [00:20<01:22, 91.99it/s]\u001b[A\u001b[A"
     ]
    },
    {
     "name": "stdout",
     "output_type": "stream",
     "text": [
      "TRAGKXX128F424F3B5\n",
      "rock and indie\n",
      "TRAGLAE12903CFFEED\n",
      "metal\n",
      "TRAGLEQ128F934055A\n",
      "NULL\n",
      "TRAGLFE128F428566B\n",
      "pop\n",
      "TRAGLMS128F425FE0A\n",
      "pop\n",
      "TRAGLRX128F932A5A3\n",
      "rock and indie\n",
      "TRAGLSU128F145FFB2\n",
      "pop\n",
      "TRAGLUL128F426F94C\n",
      "NULL\n",
      "TRAGLUU12903D024F2\n",
      "NULL\n",
      "TRAGLXF128E078703E\n",
      "hip-hop\n"
     ]
    },
    {
     "name": "stderr",
     "output_type": "stream",
     "text": [
      "\n",
      "\n",
      " 19%|█▉        | 1781/9330 [00:20<01:27, 86.76it/s]\u001b[A\u001b[A\n",
      "\n",
      " 19%|█▉        | 1790/9330 [00:20<01:38, 76.40it/s]\u001b[A\u001b[A"
     ]
    },
    {
     "name": "stdout",
     "output_type": "stream",
     "text": [
      "TRAGMAD128F429AEA4\n",
      "NULL\n",
      "TRAGMKE128E078543E\n",
      "folk\n",
      "TRAGMXK128F9305A50\n",
      "pop\n",
      "TRAGMXM128F934AA30\n",
      "soul and reggae\n",
      "TRAGNAX128F9313AE8\n",
      "NULL\n",
      "TRAGNBQ128F149CB93\n",
      "pop\n",
      "TRAGNCM128F92EF1E8\n",
      "NULL\n",
      "TRAGNGY12903C9CD76\n",
      "rock and indie\n",
      "TRAGNYU128F42246AC\n",
      "NULL\n",
      "TRAGOUB128F42369BA\n"
     ]
    },
    {
     "name": "stderr",
     "output_type": "stream",
     "text": [
      "\n",
      "\n",
      " 19%|█▉        | 1807/9330 [00:20<01:22, 90.89it/s]\u001b[A\u001b[A\n",
      "\n",
      " 19%|█▉        | 1818/9330 [00:20<01:25, 87.82it/s]"
     ]
    },
    {
     "name": "stdout",
     "output_type": "stream",
     "text": [
      "NULL\n",
      "TRAGOVG128F42A963D\n",
      "pop\n",
      "TRAGOVH128F42480F5\n",
      "NULL\n",
      "TRAGPAF128EF34542A\n",
      "rock and indie\n",
      "TRAGPEA128F422B47E\n",
      "NULL\n",
      "TRAGPMS128F4248295\n",
      "NULL\n",
      "TRAGPNN128F4230758\n",
      "pop\n",
      "TRAGPOW128F932DC3A\n",
      "NULL\n",
      "TRAGQBY128F42635B7\n",
      "pop\n",
      "TRAGQLB128F422AB83\n",
      "NULL\n"
     ]
    },
    {
     "name": "stderr",
     "output_type": "stream",
     "text": [
      "\u001b[A\u001b[A\n",
      "\n",
      " 20%|█▉        | 1829/9330 [00:20<01:23, 90.00it/s]\u001b[A\u001b[A\n",
      "\n",
      " 20%|█▉        | 1845/9330 [00:20<01:14, 100.73it/s]"
     ]
    },
    {
     "name": "stdout",
     "output_type": "stream",
     "text": [
      "TRAGQLG128F9351109\n",
      "pop\n",
      "TRAGQQK128F42561AB\n",
      "NULL\n",
      "TRAGQVO128F145C0AF\n",
      "hip-hop\n",
      "TRAGRIH128F426FE32\n",
      "NULL\n",
      "TRAGRRP12903CD2911\n",
      "rock and indie\n",
      "TRAGSGF128E0780CA7\n",
      "pop\n",
      "TRAGSJQ128F149EF8D\n",
      "metal\n",
      "TRAGSKH12903CCCAA9\n",
      "rock and indie\n",
      "TRAGSOA128E078F934\n",
      "soul and reggae\n"
     ]
    },
    {
     "name": "stderr",
     "output_type": "stream",
     "text": [
      "\u001b[A\u001b[A\n",
      "\n",
      " 20%|█▉        | 1856/9330 [00:20<01:18, 95.13it/s] \u001b[A\u001b[A"
     ]
    },
    {
     "name": "stdout",
     "output_type": "stream",
     "text": [
      "TRAGSQU128F145693D\n",
      "NULL\n",
      "TRAGSWL12903CF67CB\n",
      "folk\n",
      "TRAGSWQ128F428109C\n",
      "NULL\n",
      "TRAGTDM12903CE2E9D\n",
      "NULL\n",
      "TRAGTFI12903CA06E7\n",
      "metal\n",
      "TRAGTPQ128F42920A5\n",
      "folk\n",
      "TRAGTUL12903CC81E8\n",
      "rock and indie\n",
      "TRAGTXE128F4229231\n",
      "rock and indie\n",
      "TRAGUAA128F4291AB1\n",
      "folk\n",
      "TRAGUHI12903C9F729\n",
      "NULL\n"
     ]
    },
    {
     "name": "stderr",
     "output_type": "stream",
     "text": [
      "\n",
      "\n",
      " 20%|██        | 1867/9330 [00:21<01:21, 92.08it/s]\u001b[A\u001b[A\n",
      "\n",
      " 20%|██        | 1878/9330 [00:21<01:17, 96.17it/s]"
     ]
    },
    {
     "name": "stdout",
     "output_type": "stream",
     "text": [
      "TRAGUJK128F42A75C3\n",
      "pop\n",
      "TRAGVAO128F4289B5D\n",
      "hip-hop\n",
      "TRAGVCD128F42A4C01\n",
      "hip-hop\n",
      "TRAGVGB128F423098D\n",
      "NULL\n",
      "TRAGVJG128F93386C6\n",
      "NULL\n",
      "TRAGVJI128F9331513\n",
      "NULL\n",
      "TRAGVKL128F427E896\n",
      "rock and indie\n",
      "TRAGVRL128F4264526\n",
      "NULL\n",
      "TRAGVTG128F92FE9E2\n",
      "rock and indie\n"
     ]
    },
    {
     "name": "stderr",
     "output_type": "stream",
     "text": [
      "\u001b[A\u001b[A\n",
      "\n",
      " 20%|██        | 1889/9330 [00:21<01:18, 94.81it/s]\u001b[A\u001b[A\n",
      "\n",
      " 20%|██        | 1900/9330 [00:21<01:18, 95.16it/s]"
     ]
    },
    {
     "name": "stdout",
     "output_type": "stream",
     "text": [
      "TRAGVWF128F4230C95\n",
      "soul and reggae\n",
      "TRAGWJS128F933005F\n",
      "NULL\n",
      "TRAGWKV128F92C316A\n",
      "pop\n",
      "TRAGWPR128F426BDC3\n",
      "NULL\n",
      "TRAGWTT128F148CF2C\n",
      "rock and indie\n",
      "TRAGXBL128F149EBA2\n",
      "rock and indie\n",
      "TRAGXBP128F42311F4\n",
      "rock and indie\n",
      "TRAGXHN128F933F557\n",
      "NULL\n",
      "TRAGXUZ128F9311745\n",
      "rock and indie\n",
      "TRAGYDZ12903D0957F\n",
      "rock and indie\n"
     ]
    },
    {
     "name": "stderr",
     "output_type": "stream",
     "text": [
      "\u001b[A\u001b[A\n",
      "\n",
      " 20%|██        | 1910/9330 [00:21<01:17, 95.46it/s]\u001b[A\u001b[A\n",
      "\n",
      " 21%|██        | 1922/9330 [00:21<01:13, 100.57it/s]"
     ]
    },
    {
     "name": "stdout",
     "output_type": "stream",
     "text": [
      "TRAGYJM128EF3466D2\n",
      "pop\n",
      "TRAGYLX128F427C5EC\n",
      "NULL\n",
      "TRAGYML128F4286683\n",
      "NULL\n",
      "TRAGYXF12903CC55B2\n",
      "NULL\n",
      "TRAGYXL128F92F9FCB\n",
      "rock and indie\n",
      "TRAGZCW128EF34B85B\n",
      "NULL\n",
      "TRAGZIJ12903CE27E4\n",
      "dance and electronica\n",
      "TRAGZQD128F428E68B\n",
      "rock and indie\n",
      "TRAGZRF128E0781872\n",
      "rock and indie\n",
      "TRAGZTU128F9348113\n",
      "NULL\n"
     ]
    },
    {
     "name": "stderr",
     "output_type": "stream",
     "text": [
      "\u001b[A\u001b[A\n",
      "\n",
      " 21%|██        | 1934/9330 [00:21<01:12, 102.13it/s]\u001b[A\u001b[A\n",
      "\n",
      " 21%|██        | 1945/9330 [00:21<01:21, 90.52it/s] "
     ]
    },
    {
     "name": "stdout",
     "output_type": "stream",
     "text": [
      "TRAHBEF128F42416F7\n",
      "dance and electronica\n",
      "TRAHBGV128F92F0790\n",
      "NULL\n",
      "TRAHBNZ128F92FC2A7\n",
      "hip-hop\n",
      "TRAHBOV128F92EF77A\n",
      "NULL\n",
      "TRAHBQT128F4213403\n",
      "hip-hop\n",
      "TRAHBWE128F9349247\n",
      "pop\n",
      "TRAHBWK12903D0044A\n",
      "NULL\n",
      "TRAHBXB128F42797AE\n",
      "rock and indie\n",
      "TRAHCBD128F9336A3E\n",
      "rock and indie\n",
      "TRAHCDJ128F9310F1C"
     ]
    },
    {
     "name": "stderr",
     "output_type": "stream",
     "text": [
      "\u001b[A\u001b[A\n",
      "\n",
      " 21%|██        | 1955/9330 [00:21<01:23, 88.20it/s]\u001b[A\u001b[A"
     ]
    },
    {
     "name": "stdout",
     "output_type": "stream",
     "text": [
      "\n",
      "pop\n",
      "TRAHCHN128F4276D58\n",
      "NULL\n",
      "TRAHCRI128F4255C6E\n",
      "NULL\n",
      "TRAHCTH128F9330B4A\n",
      "metal\n",
      "TRAHCVT128F4282806\n",
      "rock and indie\n",
      "TRAHDIR12903CEB9EE\n",
      "NULL\n",
      "TRAHDJL128F9305B80\n",
      "pop\n",
      "TRAHDSD12903CFE7D0\n",
      "dance and electronica\n",
      "TRAHDSO128F426B033\n",
      "NULL\n",
      "TRAHECO128F9360EB4\n",
      "NULL\n"
     ]
    },
    {
     "name": "stderr",
     "output_type": "stream",
     "text": [
      "\n",
      "\n",
      " 21%|██        | 1968/9330 [00:22<01:15, 97.08it/s]\u001b[A\u001b[A\n",
      "\n",
      " 21%|██        | 1982/9330 [00:22<01:10, 104.42it/s]\u001b[A\u001b[A"
     ]
    },
    {
     "name": "stdout",
     "output_type": "stream",
     "text": [
      "TRAHEEQ128F4237D87\n",
      "NULL\n",
      "TRAHEEY128F9335ECD\n",
      "pop\n",
      "TRAHEII128F9307D9A\n",
      "NULL\n",
      "TRAHEWR128F422BDF8\n",
      "pop\n",
      "TRAHFAO12903CBCD36\n",
      "pop\n",
      "TRAHFCR128F422A375\n",
      "NULL\n",
      "TRAHFHR12903CCCAF8\n",
      "rock and indie\n",
      "TRAHFOU128F42B3F2A\n",
      "hip-hop\n",
      "TRAHFPA128F14A473A\n",
      "pop\n",
      "TRAHFQG128F149892A\n",
      "NULL\n",
      "TRAHFSC128F92EACAB\n",
      "classical\n"
     ]
    },
    {
     "name": "stderr",
     "output_type": "stream",
     "text": [
      "\n",
      "\n",
      " 21%|██▏       | 1993/9330 [00:22<01:17, 94.62it/s] \u001b[A\u001b[A\n",
      "\n",
      " 22%|██▏       | 2009/9330 [00:22<01:08, 106.13it/s]"
     ]
    },
    {
     "name": "stdout",
     "output_type": "stream",
     "text": [
      "TRAHGAF128F930468E\n",
      "NULL\n",
      "TRAHGGG12903CEA033\n",
      "rock and indie\n",
      "TRAHGGH128F425529F\n",
      "NULL\n",
      "TRAHGMV128F92CD444\n",
      "pop\n",
      "TRAHGRQ128F9307C90\n",
      "rock and indie\n",
      "TRAHGXT12903CF1566\n",
      "NULL\n",
      "TRAHHMM128F932D5D9\n",
      "NULL\n",
      "TRAHHMV12903CD0B0D\n",
      "pop\n",
      "TRAHHSV128F42374E3\n",
      "NULL\n",
      "TRAHHUN128F4227029\n",
      "rock and indie\n",
      "TRAHHVA128F424ED80\n",
      "rock and indie\n"
     ]
    },
    {
     "name": "stderr",
     "output_type": "stream",
     "text": [
      "\u001b[A\u001b[A\n",
      "\n",
      " 22%|██▏       | 2021/9330 [00:22<01:15, 96.69it/s] \u001b[A\u001b[A"
     ]
    },
    {
     "name": "stdout",
     "output_type": "stream",
     "text": [
      "TRAHIJE128F4243356\n",
      "pop\n",
      "TRAHIPA128F4279744\n",
      "pop\n",
      "TRAHIWK12903CB0F3F\n",
      "rock and indie\n",
      "TRAHIZR128F148D3D1\n",
      "dance and electronica\n",
      "TRAHJCI128F92FFB38\n",
      "dance and electronica\n",
      "TRAHJPC128F4268DC7\n",
      "NULL\n",
      "TRAHKCD128F42969ED\n",
      "NULL\n",
      "TRAHKGQ128F1458CAB\n",
      "jazz\n",
      "TRAHKLC12903CC632E\n",
      "pop\n",
      "TRAHKMS128F934B09E\n",
      "rock and indie\n"
     ]
    },
    {
     "name": "stderr",
     "output_type": "stream",
     "text": [
      "\n",
      "\n",
      " 22%|██▏       | 2032/9330 [00:22<01:22, 88.21it/s]\u001b[A\u001b[A\n",
      "\n",
      " 22%|██▏       | 2042/9330 [00:22<01:28, 82.77it/s]\u001b[A\u001b[A"
     ]
    },
    {
     "name": "stdout",
     "output_type": "stream",
     "text": [
      "TRAHKNW128F9312CFD\n",
      "NULL\n",
      "TRAHKOV128F4295F9C\n",
      "dance and electronica\n",
      "TRAHKRO128F9320EA7\n",
      "rock and indie\n",
      "TRAHLDG128F92EB4A9\n",
      "pop\n",
      "TRAHLDM128F933A3B1\n",
      "rock and indie\n",
      "TRAHLIF128F92E9CCF\n",
      "NULL\n",
      "TRAHLMD128F146A75F\n",
      "dance and electronica\n",
      "TRAHLQF12903CDB530\n",
      "rock and indie\n",
      "TRAHMGK128F423AB8B\n",
      "NULL\n",
      "TRAHMIV128F14693DC\n",
      "pop\n"
     ]
    },
    {
     "name": "stderr",
     "output_type": "stream",
     "text": [
      "\n",
      "\n",
      " 22%|██▏       | 2054/9330 [00:22<01:21, 89.27it/s]\u001b[A\u001b[A\n",
      "\n",
      " 22%|██▏       | 2064/9330 [00:23<01:18, 92.19it/s]"
     ]
    },
    {
     "name": "stdout",
     "output_type": "stream",
     "text": [
      "TRAHMLN128E0786AC2\n",
      "NULL\n",
      "TRAHMLW128F92D9D82\n",
      "dance and electronica\n",
      "TRAHMQV12903CB2DB7\n",
      "folk\n",
      "TRAHMWO128F42A2181\n",
      "dance and electronica\n",
      "TRAHNKH128F93426EC\n",
      "NULL\n",
      "TRAHNMN128F932DA8E\n",
      "dance and electronica\n",
      "TRAHNSH128F425346F\n",
      "NULL\n",
      "TRAHNVN128F933EBE8\n",
      "soul and reggae\n",
      "TRAHOBV128F933CE68\n",
      "NULL\n",
      "TRAHOIN128F1473575"
     ]
    },
    {
     "name": "stderr",
     "output_type": "stream",
     "text": [
      "\u001b[A\u001b[A\n",
      "\n",
      " 22%|██▏       | 2074/9330 [00:23<01:19, 91.26it/s]\u001b[A\u001b[A\n",
      "\n",
      " 22%|██▏       | 2086/9330 [00:23<01:15, 95.84it/s]"
     ]
    },
    {
     "name": "stdout",
     "output_type": "stream",
     "text": [
      "\n",
      "jazz\n",
      "TRAHOLR12903CD4869\n",
      "NULL\n",
      "TRAHOOP128F42B62AB\n",
      "hip-hop\n",
      "TRAHORF12903CDA9FB\n",
      "pop\n",
      "TRAHOSP128F4260E9B\n",
      "rock and indie\n",
      "TRAHPBP128E079367D\n",
      "rock and indie\n",
      "TRAHPHY128F9345BA0\n",
      "NULL\n",
      "TRAHPJP128F92F7661\n",
      "NULL\n",
      "TRAHPNB12903CCB8FA\n",
      "dance and electronica\n",
      "TRAHPUC128F92D1EC3\n",
      "rock and indie\n",
      "TRAHQBJ12903CAB1FA\n",
      "rock and indie\n"
     ]
    },
    {
     "name": "stderr",
     "output_type": "stream",
     "text": [
      "\u001b[A\u001b[A\n",
      "\n",
      " 22%|██▏       | 2096/9330 [00:23<01:18, 92.60it/s]\u001b[A\u001b[A\n",
      "\n",
      " 23%|██▎       | 2118/9330 [00:23<01:05, 109.95it/s]"
     ]
    },
    {
     "name": "stdout",
     "output_type": "stream",
     "text": [
      "TRAHQDQ128F421F629\n",
      "NULL\n",
      "TRAHQHC128F42A77D8\n",
      "NULL\n",
      "TRAHQHK128F4288FC7\n",
      "rock and indie\n",
      "TRAHRGA12903CBB8AA\n",
      "dance and electronica\n",
      "TRAHRJN128F42ACA90\n",
      "NULL\n",
      "TRAHRMY128F427D064\n",
      "NULL\n",
      "TRAHSAW128F4253EFC\n",
      "rock and indie\n",
      "TRAHSFC128F9303E8E\n",
      "NULL\n",
      "TRAHSHB128F426E253\n",
      "NULL\n",
      "TRAHSIB128E0784FEA\n",
      "NULL\n"
     ]
    },
    {
     "name": "stderr",
     "output_type": "stream",
     "text": [
      "\u001b[A\u001b[A\n",
      "\n",
      " 23%|██▎       | 2131/9330 [00:23<01:15, 95.87it/s] \u001b[A\u001b[A"
     ]
    },
    {
     "name": "stdout",
     "output_type": "stream",
     "text": [
      "TRAHSPW128F149867A\n",
      "jazz\n",
      "TRAHSQL128F4288AC7\n",
      "hip-hop\n",
      "TRAHSRU12903CBBA9F\n",
      "NULL\n",
      "TRAHSSO128EF347345\n",
      "rock and indie\n",
      "TRAHSTL128F931708D\n",
      "jazz\n",
      "TRAHSWZ128F9332296\n",
      "NULL\n",
      "TRAHSYA128F428143A\n",
      "pop\n",
      "TRAHTDA128F147A055\n",
      "dance and electronica\n",
      "TRAHTHN128F93309DB\n",
      "NULL\n",
      "TRAHTIM128F1475DBA\n",
      "NULL\n",
      "TRAHTNH12903CAB43D\n",
      "NULL\n"
     ]
    },
    {
     "name": "stderr",
     "output_type": "stream",
     "text": [
      "\n",
      "\n",
      " 23%|██▎       | 2142/9330 [00:23<01:14, 97.00it/s]\u001b[A\u001b[A\n",
      "\n",
      " 23%|██▎       | 2153/9330 [00:23<01:20, 88.74it/s]"
     ]
    },
    {
     "name": "stdout",
     "output_type": "stream",
     "text": [
      "TRAHTXN128F933746C\n",
      "NULL\n",
      "TRAHTZF128F4229377\n",
      "dance and electronica\n",
      "TRAHUAG12903D07658\n",
      "NULL\n",
      "TRAHUAW128F425BA0B\n",
      "NULL\n",
      "TRAHUCB128F930E732\n",
      "pop\n",
      "TRAHUGQ128F92FF08F\n",
      "dance and electronica\n",
      "TRAHUHP128F424BD36\n",
      "NULL\n",
      "TRAHULA128F92CC05F\n",
      "pop\n",
      "TRAHUQF128F934EF0C\n",
      "soul and reggae\n",
      "TRAHUQT128F4281228\n",
      "rock and indie\n"
     ]
    },
    {
     "name": "stderr",
     "output_type": "stream",
     "text": [
      "\u001b[A\u001b[A\n",
      "\n",
      " 23%|██▎       | 2163/9330 [00:24<01:23, 85.99it/s]\u001b[A\u001b[A\n",
      "\n",
      " 23%|██▎       | 2173/9330 [00:24<01:22, 87.22it/s]"
     ]
    },
    {
     "name": "stdout",
     "output_type": "stream",
     "text": [
      "TRAHUWM128F42801C0\n",
      "NULL\n",
      "TRAHUZS12903C9D9DD\n",
      "rock and indie\n",
      "TRAHVBC12903CEF90F\n",
      "NULL\n",
      "TRAHVBF12903CB81F3\n",
      "NULL\n",
      "TRAHVGN128F1484412\n",
      "rock and indie\n",
      "TRAHVRW128F92F15FE\n",
      "pop\n",
      "TRAHVUK128F1456988\n",
      "hip-hop\n",
      "TRAHVWT128F148D428\n",
      "hip-hop\n",
      "TRAHVYQ128F429826B\n",
      "NULL\n",
      "TRAHWBI128F4234331\n",
      "NULL\n"
     ]
    },
    {
     "name": "stderr",
     "output_type": "stream",
     "text": [
      "\u001b[A\u001b[A\n",
      "\n",
      " 23%|██▎       | 2185/9330 [00:24<01:18, 91.19it/s]\u001b[A\u001b[A"
     ]
    },
    {
     "name": "stdout",
     "output_type": "stream",
     "text": [
      "TRAHWBP12903CAEBFC\n",
      "metal\n",
      "TRAHWNG128F932AFB7\n",
      "pop\n",
      "TRAHXBP128F92E7528\n",
      "rock and indie\n",
      "TRAHXGG128F9350452\n",
      "rock and indie\n",
      "TRAHXHO128F933934B\n",
      "rock and indie\n",
      "TRAHXKA128F426E903\n",
      "pop\n",
      "TRAHXKC128F4264AC1\n",
      "soul and reggae\n",
      "TRAHXMC128F4267B70\n",
      "NULL\n",
      "TRAHXWA128F4265D32\n",
      "pop\n",
      "TRAHXWI128F428B7DA\n",
      "rock and indie\n"
     ]
    },
    {
     "name": "stderr",
     "output_type": "stream",
     "text": [
      "\n",
      "\n",
      " 24%|██▎       | 2195/9330 [00:24<01:19, 89.78it/s]\u001b[A\u001b[A\n",
      "\n",
      " 24%|██▎       | 2206/9330 [00:24<01:17, 91.46it/s]\u001b[A\u001b[A"
     ]
    },
    {
     "name": "stdout",
     "output_type": "stream",
     "text": [
      "TRAHYDH128F9325200\n",
      "NULL\n",
      "TRAHYFB128F4280BB8\n",
      "pop\n",
      "TRAHYLE128F1494718\n",
      "rock and indie\n",
      "TRAHYMJ128E0787801\n",
      "NULL\n",
      "TRAHYVC128F421BB24\n",
      "jazz\n",
      "TRAHZAL128F9323495\n",
      "NULL\n",
      "TRAHZFD12903C9AC7E\n",
      "rock and indie\n",
      "TRAHZFI128F92C21D6\n",
      "NULL\n",
      "TRAHZHD128F1462C2D\n",
      "NULL\n",
      "TRAHZIL12903CF1DC2\n",
      "NULL\n",
      "TRAHZLT12903CBEE31\n",
      "NULL\n"
     ]
    },
    {
     "name": "stderr",
     "output_type": "stream",
     "text": [
      "\n",
      "\n",
      " 24%|██▍       | 2216/9330 [00:24<01:20, 88.87it/s]\u001b[A\u001b[A\n",
      "\n",
      " 24%|██▍       | 2231/9330 [00:24<01:13, 96.26it/s]"
     ]
    },
    {
     "name": "stdout",
     "output_type": "stream",
     "text": [
      "TRAHZMM128E07838FF\n",
      "pop\n",
      "TRAHZVZ128F9322915\n",
      "NULL\n",
      "TRAIACZ128F428C60A\n",
      "pop\n",
      "TRAIADF12903D0023E\n",
      "soul and reggae\n",
      "TRAIAFH128F4271742\n",
      "NULL\n",
      "TRAIAJT12903CED2F9\n",
      "NULL\n",
      "TRAIAJU128F42581EF\n",
      "rock and indie\n",
      "TRAIAMS128EF34DC1B\n",
      "rock and indie\n",
      "TRAIAOL12903CEB667\n",
      "NULL\n"
     ]
    },
    {
     "name": "stderr",
     "output_type": "stream",
     "text": [
      "\u001b[A\u001b[A\n",
      "\n",
      " 24%|██▍       | 2241/9330 [00:24<01:20, 88.52it/s]\u001b[A\u001b[A\n",
      "\n",
      " 24%|██▍       | 2251/9330 [00:25<01:18, 90.46it/s]"
     ]
    },
    {
     "name": "stdout",
     "output_type": "stream",
     "text": [
      "TRAIAQH128F423B794\n",
      "NULL\n",
      "TRAIATD128F9331CD6\n",
      "hip-hop\n",
      "TRAIAUB12903CDFB3D\n",
      "hip-hop\n",
      "TRAIBMN128E0780C96\n",
      "pop\n",
      "TRAIBXJ128F4260700\n",
      "pop\n",
      "TRAIBXQ128F425E6A5\n",
      "dance and electronica\n",
      "TRAICBC128F932D9F6\n",
      "NULL\n",
      "TRAICIL128F42598E2\n",
      "pop\n",
      "TRAICJQ12903CF2681\n",
      "metal\n"
     ]
    },
    {
     "name": "stderr",
     "output_type": "stream",
     "text": [
      "\u001b[A\u001b[A\n",
      "\n",
      " 24%|██▍       | 2265/9330 [00:25<01:12, 97.66it/s]\u001b[A\u001b[A\n",
      "\n",
      " 24%|██▍       | 2276/9330 [00:25<01:10, 99.51it/s]"
     ]
    },
    {
     "name": "stdout",
     "output_type": "stream",
     "text": [
      "TRAICKK128F421847C\n",
      "rock and indie\n",
      "TRAIDFK128F428A25D\n",
      "NULL\n",
      "TRAIDGE128F4260E9F\n",
      "rock and indie\n",
      "TRAIDMR128F9327232\n",
      "NULL\n",
      "TRAIDPY128F425E9D0\n",
      "NULL\n",
      "TRAIDUU128F145B15D\n",
      "pop\n",
      "TRAIELD128F92DC682\n",
      "pop\n",
      "TRAIEPK128EF340961\n",
      "NULL\n",
      "TRAIEWD128F42A0039\n",
      "rock and indie\n",
      "TRAIEXH128F9353678\n",
      "NULL\n"
     ]
    },
    {
     "name": "stderr",
     "output_type": "stream",
     "text": [
      "\u001b[A\u001b[A\n",
      "\n",
      " 25%|██▍       | 2290/9330 [00:25<01:07, 104.29it/s]\u001b[A\u001b[A\n",
      "\n",
      " 25%|██▍       | 2305/9330 [00:25<01:03, 110.98it/s]"
     ]
    },
    {
     "name": "stdout",
     "output_type": "stream",
     "text": [
      "TRAIEYB128F4212FFE\n",
      "NULL\n",
      "TRAIFSM128F42722F1\n",
      "pop\n",
      "TRAIFZX128F92F193C\n",
      "folk\n",
      "TRAIGCZ128F428C2D9\n",
      "NULL\n",
      "TRAIGJV12903CEFD5E\n",
      "NULL\n",
      "TRAIGRF128F9332355\n",
      "NULL\n",
      "TRAIGSC128F933BBD7\n",
      "NULL\n",
      "TRAIGYC128F93474E4\n",
      "NULL\n",
      "TRAIHFF128EF351817\n",
      "pop\n"
     ]
    },
    {
     "name": "stderr",
     "output_type": "stream",
     "text": [
      "\u001b[A\u001b[A\n",
      "\n",
      " 25%|██▍       | 2319/9330 [00:25<01:00, 114.95it/s]\u001b[A\u001b[A"
     ]
    },
    {
     "name": "stdout",
     "output_type": "stream",
     "text": [
      "TRAIHPX128F428081B\n",
      "rock and indie\n",
      "TRAIHSY128F1484AB6\n",
      "soul and reggae\n",
      "TRAIIEV128F934712A\n",
      "rock and indie\n",
      "TRAIIPY128F426B797\n",
      "dance and electronica\n",
      "TRAIISE128F42AE299\n",
      "pop\n",
      "TRAIIUE128E07826EC\n",
      "dance and electronica\n",
      "TRAIIXC128F92EA806\n",
      "rock and indie\n",
      "TRAIJER128F9332661\n",
      "NULL\n",
      "TRAIJGU128F931FA16\n",
      "soul and reggae\n"
     ]
    },
    {
     "name": "stderr",
     "output_type": "stream",
     "text": [
      "\n",
      "\n",
      " 25%|██▍       | 2331/9330 [00:25<01:07, 103.74it/s]\u001b[A\u001b[A\n",
      "\n",
      " 25%|██▌       | 2342/9330 [00:25<01:18, 89.15it/s] "
     ]
    },
    {
     "name": "stdout",
     "output_type": "stream",
     "text": [
      "TRAIJLI128F92FC94A\n",
      "pop\n",
      "TRAIJMG12903D08168\n",
      "pop\n",
      "TRAIJMO128F424C8AF\n",
      "NULL\n",
      "TRAIJQV128F421B159\n",
      "NULL\n",
      "TRAIJVF128F9309AF9\n",
      "jazz\n",
      "TRAIJVO128F145EB53\n",
      "NULL\n",
      "TRAIKAW128E0785000\n",
      "rock and indie\n",
      "TRAIKBB128F428AD73\n",
      "NULL\n",
      "TRAIKBM128F429160A\n",
      "NULL\n",
      "TRAIKRJ128F4275BED\n",
      "pop\n"
     ]
    },
    {
     "name": "stderr",
     "output_type": "stream",
     "text": [
      "\u001b[A\u001b[A\n",
      "\n",
      " 25%|██▌       | 2352/9330 [00:26<01:21, 85.84it/s]\u001b[A\u001b[A\n",
      "\n",
      " 25%|██▌       | 2364/9330 [00:26<01:14, 93.75it/s]"
     ]
    },
    {
     "name": "stdout",
     "output_type": "stream",
     "text": [
      "TRAIKSH128E07816DF\n",
      "pop\n",
      "TRAILFA128EF349FE5\n",
      "dance and electronica\n",
      "TRAILKS128F14A3AC9\n",
      "hip-hop\n",
      "TRAILLW128F4278C90\n",
      "NULL\n",
      "TRAILTN128F42796DB\n",
      "pop\n",
      "TRAILUH128E0784D6D\n",
      "pop\n",
      "TRAIMFD128F92ED3CD\n",
      "dance and electronica\n",
      "TRAIMGT128F935F8F2\n",
      "NULL\n"
     ]
    },
    {
     "name": "stderr",
     "output_type": "stream",
     "text": [
      "\u001b[A\u001b[A\n",
      "\n",
      " 25%|██▌       | 2375/9330 [00:26<01:12, 96.12it/s]\u001b[A\u001b[A"
     ]
    },
    {
     "name": "stdout",
     "output_type": "stream",
     "text": [
      "TRAIMTD128F92E198E\n",
      "NULL\n",
      "TRAINIF128F426416B\n",
      "pop\n",
      "TRAINMM128F92ECF70\n",
      "NULL\n",
      "TRAINYU128F4246BD1\n",
      "metal\n",
      "TRAIOBB128F146A944\n",
      "NULL\n",
      "TRAIOKS12903CFEE8D\n",
      "NULL\n",
      "TRAIOWX128F14750E5\n",
      "rock and indie\n",
      "TRAIPAB128F42626AE\n",
      "NULL\n",
      "TRAIPAC128F9320FAA\n",
      "NULL\n",
      "TRAIPQD128F4258D24\n",
      "NULL\n",
      "TRAIPQN128F933A3AA"
     ]
    },
    {
     "name": "stderr",
     "output_type": "stream",
     "text": [
      "\n",
      "\n",
      " 26%|██▌       | 2387/9330 [00:26<01:10, 98.58it/s]\u001b[A\u001b[A\n",
      "\n",
      " 26%|██▌       | 2398/9330 [00:26<01:14, 93.34it/s]\u001b[A\u001b[A"
     ]
    },
    {
     "name": "stdout",
     "output_type": "stream",
     "text": [
      "\n",
      "rock and indie\n",
      "TRAIPST128F9302AE9\n",
      "pop\n",
      "TRAIPZK12903CE9F24\n",
      "NULL\n",
      "TRAIPZU128F42418F0\n",
      "NULL\n",
      "TRAIPZY128E0787299\n",
      "rock and indie\n",
      "TRAIQAH128F93402D2\n",
      "NULL\n",
      "TRAIQGR128F4287DF7\n",
      "hip-hop\n",
      "TRAIQKO128F92E5970\n",
      "NULL\n",
      "TRAIQNE128F423851B\n",
      "pop\n",
      "TRAIQNF128F428386A\n",
      "rock and indie\n",
      "TRAIQUG128F92F946E\n",
      "metal\n",
      "TRAIQUW128F4221467\n",
      "rock and indie\n"
     ]
    },
    {
     "name": "stderr",
     "output_type": "stream",
     "text": [
      "\n",
      "\n",
      " 26%|██▌       | 2408/9330 [00:26<01:17, 89.24it/s]\u001b[A\u001b[A\n",
      "\n",
      " 26%|██▌       | 2419/9330 [00:26<01:14, 92.88it/s]"
     ]
    },
    {
     "name": "stdout",
     "output_type": "stream",
     "text": [
      "TRAIQVJ128F93235B3\n",
      "rock and indie\n",
      "TRAIRGP128F9337847\n",
      "NULL\n",
      "TRAIRHS128F4287576\n",
      "NULL\n",
      "TRAIRIK128F92F0212\n",
      "metal\n",
      "TRAIRNE128F146B1FA\n",
      "jazz\n",
      "TRAIRRA128F42788ED\n",
      "jazz\n",
      "TRAISAT128F42BADC2\n",
      "rock and indie\n",
      "TRAISFF128F92F598E\n",
      "dance and electronica\n",
      "TRAISNF128E078B72C\n",
      "NULL\n",
      "TRAISYO128E07888A6\n"
     ]
    },
    {
     "name": "stderr",
     "output_type": "stream",
     "text": [
      "\u001b[A\u001b[A\n",
      "\n",
      " 26%|██▌       | 2429/9330 [00:26<01:13, 93.63it/s]\u001b[A\u001b[A\n",
      "\n",
      " 26%|██▌       | 2439/9330 [00:26<01:17, 88.69it/s]"
     ]
    },
    {
     "name": "stdout",
     "output_type": "stream",
     "text": [
      "pop\n",
      "TRAISYU128F427F486\n",
      "NULL\n",
      "TRAITDY128F149431C\n",
      "pop\n",
      "TRAITHF128F423FDFE\n",
      "NULL\n",
      "TRAITOL128F148528B\n",
      "NULL\n",
      "TRAITRS128F9308142\n",
      "NULL\n",
      "TRAITVP128F9305CF5\n",
      "dance and electronica\n",
      "TRAITXM128F428E1F0\n",
      "rock and indie\n",
      "TRAIUGS128EF360F52\n",
      "NULL\n",
      "TRAIUPS128F92F2825\n"
     ]
    },
    {
     "name": "stderr",
     "output_type": "stream",
     "text": [
      "\u001b[A\u001b[A\n",
      "\n",
      " 26%|██▌       | 2449/9330 [00:27<01:22, 83.48it/s]\u001b[A\u001b[A"
     ]
    },
    {
     "name": "stdout",
     "output_type": "stream",
     "text": [
      "metal\n",
      "TRAIUSY12903CF0C92\n",
      "metal\n",
      "TRAIUTE128F92F96F3\n",
      "dance and electronica\n",
      "TRAIUUS128F4214452\n",
      "pop\n",
      "TRAIUVT12903CD76F3\n",
      "dance and electronica\n",
      "TRAIUYK128F9328FCA\n",
      "jazz\n",
      "TRAIUYZ128F425BD2F\n",
      "dance and electronica\n",
      "TRAIVEH128E078526A\n",
      "NULL\n",
      "TRAIVFK128F932C825\n",
      "rock and indie\n",
      "TRAIVLC12903CF3A0C\n",
      "dance and electronica\n"
     ]
    },
    {
     "name": "stderr",
     "output_type": "stream",
     "text": [
      "\n",
      "\n",
      " 26%|██▋       | 2458/9330 [00:27<01:31, 75.49it/s]\u001b[A\u001b[A\n",
      "\n",
      " 26%|██▋       | 2466/9330 [00:27<01:33, 73.48it/s]"
     ]
    },
    {
     "name": "stdout",
     "output_type": "stream",
     "text": [
      "TRAIVMM128F4266056\n",
      "rock and indie\n",
      "TRAIVMM12903CFAD62\n",
      "rock and indie\n",
      "TRAIVMN128F147C5B8\n",
      "NULL\n",
      "TRAIVNL128F422CFE2\n",
      "pop\n",
      "TRAIVRW128F930F6DD\n",
      "pop\n",
      "TRAIVVQ128F146AB17\n",
      "NULL\n",
      "TRAIVZI128F42642DE\n",
      "pop\n",
      "TRAIWBW128F92F3DE0\n",
      "rock and indie\n",
      "TRAIWMU128E0783D7D\n",
      "rock and indie\n",
      "TRAIWMZ128F428B6D8\n",
      "classical\n",
      "TRAIWNA128F145E2CD\n",
      "rock and indie\n"
     ]
    },
    {
     "name": "stderr",
     "output_type": "stream",
     "text": [
      "\u001b[A\u001b[A\n",
      "\n",
      " 27%|██▋       | 2474/9330 [00:27<01:34, 72.91it/s]\u001b[A\u001b[A\n",
      "\n",
      " 27%|██▋       | 2482/9330 [00:27<01:42, 66.57it/s]"
     ]
    },
    {
     "name": "stdout",
     "output_type": "stream",
     "text": [
      "TRAIWNK128F429245D\n",
      "NULL\n",
      "TRAIWQJ128F4287A6F\n",
      "hip-hop\n",
      "TRAIWSR128F42222BC\n",
      "soul and reggae\n",
      "TRAIWXX128F1461FE9\n",
      "dance and electronica\n",
      "TRAIWZZ128F9306AFF\n",
      "metal\n",
      "TRAIXEO128F424AD97\n",
      "dance and electronica\n",
      "TRAIXFB128F423C5A8\n",
      "pop\n",
      "TRAIXHM128F9302149\n",
      "jazz\n",
      "TRAIXJZ12903CEDB1D\n",
      "rock and indie\n",
      "TRAIXQL128F1467D66\n",
      "NULL\n"
     ]
    },
    {
     "name": "stderr",
     "output_type": "stream",
     "text": [
      "\u001b[A\u001b[A\n",
      "\n",
      " 27%|██▋       | 2493/9330 [00:27<01:35, 71.87it/s]\u001b[A\u001b[A"
     ]
    },
    {
     "name": "stdout",
     "output_type": "stream",
     "text": [
      "TRAIYAT128F931FEA5\n",
      "NULL\n",
      "TRAIYDL128E0791583\n",
      "pop\n",
      "TRAIYFL128F427D658\n",
      "jazz\n",
      "TRAIYWQ128F426BC5C\n",
      "jazz\n",
      "TRAIYYA128F92E5A59\n",
      "pop\n",
      "TRAIYZW128F9330F7D\n",
      "pop\n",
      "TRAIZHG128F934FE42\n",
      "hip-hop\n",
      "TRAIZLC12903CE6A57\n",
      "rock and indie\n",
      "TRAIZQI128F42A51F9\n",
      "hip-hop\n",
      "TRAIZRI128F1466316\n",
      "pop\n"
     ]
    },
    {
     "name": "stderr",
     "output_type": "stream",
     "text": [
      "\n",
      "\n",
      " 27%|██▋       | 2504/9330 [00:27<01:27, 77.99it/s]\u001b[A\u001b[A\n",
      "\n",
      " 27%|██▋       | 2516/9330 [00:27<01:19, 85.78it/s]"
     ]
    },
    {
     "name": "stdout",
     "output_type": "stream",
     "text": [
      "TRAIZWI128F4247EFD\n",
      "NULL\n",
      "TRAJABU128F4239037\n",
      "dance and electronica\n",
      "TRAJAGW128EF3664E1\n",
      "NULL\n",
      "TRAJAPH128F4271357\n",
      "NULL\n",
      "TRAJASJ128F1492899\n",
      "NULL\n",
      "TRAJAVF12903CD4825\n",
      "NULL\n",
      "TRAJAXB128F92C65CD\n",
      "NULL\n",
      "TRAJAZP128F4290FF9\n",
      "rock and indie\n",
      "TRAJAZY12903CDD671\n",
      "soul and reggae\n",
      "TRAJBGL128F145C7A8\n",
      "rock and indie\n"
     ]
    },
    {
     "name": "stderr",
     "output_type": "stream",
     "text": [
      "\u001b[A\u001b[A\n",
      "\n",
      " 27%|██▋       | 2526/9330 [00:28<01:24, 80.17it/s]\u001b[A\u001b[A\n",
      "\n",
      " 27%|██▋       | 2540/9330 [00:28<01:15, 89.92it/s]"
     ]
    },
    {
     "name": "stdout",
     "output_type": "stream",
     "text": [
      "TRAJBIZ128F4252408\n",
      "NULL\n",
      "TRAJBLX128F4253677\n",
      "NULL\n",
      "TRAJBOD128F9303DCD\n",
      "NULL\n",
      "TRAJBRT128F9303318\n",
      "jazz\n",
      "TRAJBSL128F428A021\n",
      "NULL\n",
      "TRAJBTZ12903CB818C\n",
      "NULL\n",
      "TRAJCHY128EF349619\n",
      "pop\n",
      "TRAJCJT128F4269E0C\n",
      "soul and reggae\n",
      "TRAJCLY128F930F893\n",
      "hip-hop\n",
      "TRAJCZE128E0785987\n",
      "pop\n"
     ]
    },
    {
     "name": "stderr",
     "output_type": "stream",
     "text": [
      "\u001b[A\u001b[A\n",
      "\n",
      " 27%|██▋       | 2551/9330 [00:28<01:13, 91.68it/s]\u001b[A\u001b[A\n",
      "\n",
      " 27%|██▋       | 2564/9330 [00:28<01:10, 96.05it/s]"
     ]
    },
    {
     "name": "stdout",
     "output_type": "stream",
     "text": [
      "TRAJDCS128F92F9236\n",
      "NULL\n",
      "TRAJDGB128F42882AC\n",
      "hip-hop\n",
      "TRAJDHN128F92C2EEF\n",
      "pop\n",
      "TRAJDTK128F429FFDF\n",
      "NULL\n",
      "TRAJDVT128F4252F37\n",
      "NULL\n",
      "TRAJENI128F9300B02\n",
      "jazz\n",
      "TRAJEUV12903D15D6D\n",
      "dance and electronica\n",
      "TRAJEYL128F931B518\n",
      "dance and electronica\n",
      "TRAJEZT128E0795DF3\n",
      "dance and electronica\n"
     ]
    },
    {
     "name": "stderr",
     "output_type": "stream",
     "text": [
      "\u001b[A\u001b[A\n",
      "\n",
      " 28%|██▊       | 2574/9330 [00:28<01:24, 80.02it/s]\u001b[A\u001b[A"
     ]
    },
    {
     "name": "stdout",
     "output_type": "stream",
     "text": [
      "TRAJFCB128F427FE87\n",
      "dance and electronica\n",
      "TRAJFCC12903CC55AD\n",
      "jazz\n",
      "TRAJFDU128F426A5F4\n",
      "rock and indie\n",
      "TRAJFFF128F429874A\n",
      "pop\n",
      "TRAJFHV128F4274FC0\n",
      "pop\n",
      "TRAJFQF128F92E354E\n",
      "pop\n",
      "TRAJFRJ128F9328FF1\n",
      "rock and indie\n",
      "TRAJFYK128F42579B0\n",
      "metal\n",
      "TRAJGCA128F9306CFF\n",
      "rock and indie\n",
      "TRAJGCF128F1499E61\n",
      "rock and indie\n"
     ]
    },
    {
     "name": "stderr",
     "output_type": "stream",
     "text": [
      "\n",
      "\n",
      " 28%|██▊       | 2583/9330 [00:28<01:31, 73.70it/s]\u001b[A\u001b[A\n",
      "\n",
      " 28%|██▊       | 2591/9330 [00:28<01:30, 74.45it/s]"
     ]
    },
    {
     "name": "stdout",
     "output_type": "stream",
     "text": [
      "TRAJGEC128F9300463\n",
      "soul and reggae\n",
      "TRAJGGH128F42679C1\n",
      "rock and indie\n",
      "TRAJGGI128F423A12A\n",
      "dance and electronica\n",
      "TRAJGMN128F148C8BD\n",
      "NULL\n",
      "TRAJHAH128F9314177\n",
      "NULL\n",
      "TRAJHCS128F93192B5\n",
      "pop\n",
      "TRAJHDR128F92FA863\n",
      "metal\n",
      "TRAJHEE12903CB937A\n",
      "NULL\n"
     ]
    },
    {
     "name": "stderr",
     "output_type": "stream",
     "text": [
      "\u001b[A\u001b[A\n",
      "\n",
      " 28%|██▊       | 2602/9330 [00:28<01:21, 82.28it/s]\u001b[A\u001b[A\n",
      "\n",
      " 28%|██▊       | 2611/9330 [00:29<01:23, 80.19it/s]"
     ]
    },
    {
     "name": "stdout",
     "output_type": "stream",
     "text": [
      "TRAJHEN128F92CC43E\n",
      "NULL\n",
      "TRAJHHE128F146815C\n",
      "dance and electronica\n",
      "TRAJHHJ128F4279625\n",
      "pop\n",
      "TRAJIIR128F149AE01\n",
      "NULL\n",
      "TRAJIKY128F932AD73\n",
      "rock and indie\n",
      "TRAJIUK128F42668E6\n",
      "rock and indie\n",
      "TRAJJBG128F148A7CA\n",
      "rock and indie\n",
      "TRAJJCI12903CE53D7\n",
      "jazz\n",
      "TRAJJIG128F1474EF0\n",
      "NULL\n",
      "TRAJJMN128F9321946\n",
      "NULL\n"
     ]
    },
    {
     "name": "stderr",
     "output_type": "stream",
     "text": [
      "\u001b[A\u001b[A\n",
      "\n",
      " 28%|██▊       | 2623/9330 [00:29<01:17, 86.18it/s]\u001b[A\u001b[A"
     ]
    },
    {
     "name": "stdout",
     "output_type": "stream",
     "text": [
      "TRAJJNB128F42A0A4F\n",
      "hip-hop\n",
      "TRAJKIG128F92D9132\n",
      "rock and indie\n",
      "TRAJKMI128F4281107\n",
      "pop\n",
      "TRAJKTV128F1453E3C\n",
      "NULL\n",
      "TRAJKXS128F42340B5\n",
      "pop\n",
      "TRAJKZZ128F4237B19\n",
      "NULL\n",
      "TRAJLEC128F93385A1\n",
      "pop\n",
      "TRAJLGV128F4232684\n",
      "NULL\n",
      "TRAJLIV128F42882D8\n"
     ]
    },
    {
     "name": "stderr",
     "output_type": "stream",
     "text": [
      "\n",
      "\n",
      " 28%|██▊       | 2633/9330 [00:29<01:29, 74.75it/s]\u001b[A\u001b[A\n",
      "\n",
      " 28%|██▊       | 2642/9330 [00:29<01:27, 76.05it/s]"
     ]
    },
    {
     "name": "stdout",
     "output_type": "stream",
     "text": [
      "rock and indie\n",
      "TRAJLJY12903CAF344\n",
      "dance and electronica\n",
      "TRAJLKH128F422C613\n",
      "rock and indie\n",
      "TRAJLOR128F428CCC9\n",
      "rock and indie\n",
      "TRAJLOY128F92E4EAF\n",
      "rock and indie\n",
      "TRAJMEL128F4262B4A\n",
      "rock and indie\n",
      "TRAJMQE128F9322DDD\n",
      "NULL\n",
      "TRAJMZL12903CA4807\n",
      "NULL\n"
     ]
    },
    {
     "name": "stderr",
     "output_type": "stream",
     "text": [
      "\u001b[A\u001b[A\n",
      "\n",
      " 28%|██▊       | 2650/9330 [00:29<01:38, 67.73it/s]\u001b[A\u001b[A"
     ]
    },
    {
     "name": "stdout",
     "output_type": "stream",
     "text": [
      "TRAJNFU128F4263469\n",
      "jazz\n",
      "TRAJNIL12903D15541\n",
      "pop\n",
      "TRAJNTJ12903CDB09A\n",
      "rock and indie\n",
      "TRAJNWY128E078907F\n",
      "pop\n",
      "TRAJNXG12903CB474D\n",
      "metal\n",
      "TRAJNYD128F9340A32\n",
      "pop\n",
      "TRAJNYU128E07856A5\n",
      "pop\n",
      "TRAJODO12903CD7591\n",
      "rock and indie\n"
     ]
    },
    {
     "name": "stderr",
     "output_type": "stream",
     "text": [
      "\n",
      "\n",
      " 28%|██▊       | 2658/9330 [00:29<01:36, 69.43it/s]\u001b[A\u001b[A\n",
      "\n",
      " 29%|██▊       | 2666/9330 [00:29<01:35, 69.76it/s]\u001b[A\u001b[A"
     ]
    },
    {
     "name": "stdout",
     "output_type": "stream",
     "text": [
      "TRAJOIH128F14B08F7\n",
      "pop\n",
      "TRAJOLQ128EF346088\n",
      "pop\n",
      "TRAJOPH12903CE6732\n",
      "NULL\n",
      "TRAJOPN128F423BEC3\n",
      "pop\n",
      "TRAJOWK128F4263735\n",
      "rock and indie\n",
      "TRAJOZN128F92D688E\n",
      "metal\n",
      "TRAJPCX12903CE8ACB\n",
      "rock and indie\n",
      "TRAJPIQ128F14819A8\n",
      "pop\n",
      "TRAJPPJ128F1497140\n",
      "rock and indie\n"
     ]
    },
    {
     "name": "stderr",
     "output_type": "stream",
     "text": [
      "\n",
      "\n",
      " 29%|██▊       | 2674/9330 [00:29<01:33, 70.85it/s]\u001b[A\u001b[A\n",
      "\n",
      " 29%|██▉       | 2685/9330 [00:30<01:27, 76.35it/s]\u001b[A\u001b[A"
     ]
    },
    {
     "name": "stdout",
     "output_type": "stream",
     "text": [
      "TRAJPPX128F4259FD4\n",
      "pop\n",
      "TRAJPUF128E0784808\n",
      "rock and indie\n",
      "TRAJPZH128F93554AA\n",
      "NULL\n",
      "TRAJQBF128F423C324\n",
      "pop\n",
      "TRAJQXD128F428767D\n",
      "dance and electronica\n",
      "TRAJRBF12903CDCA3F\n",
      "NULL\n",
      "TRAJRIT128F92F4352\n",
      "pop\n",
      "TRAJRMO128F421FA6F\n",
      "soul and reggae\n",
      "TRAJRMZ128F932DC12\n",
      "soul and reggae\n"
     ]
    },
    {
     "name": "stderr",
     "output_type": "stream",
     "text": [
      "\n",
      "\n",
      " 29%|██▉       | 2693/9330 [00:30<01:28, 74.59it/s]\u001b[A\u001b[A\n",
      "\n",
      " 29%|██▉       | 2701/9330 [00:30<01:30, 73.29it/s]"
     ]
    },
    {
     "name": "stdout",
     "output_type": "stream",
     "text": [
      "TRAJRTY128F426CF1F\n",
      "NULL\n",
      "TRAJSCE128F92F9AC6\n",
      "dance and electronica\n",
      "TRAJSDQ12903CD481F\n",
      "NULL\n",
      "TRAJSHB128F92FCC80\n",
      "dance and electronica\n",
      "TRAJSIX12903CBAE2B\n",
      "NULL\n",
      "TRAJSNE128F9305CFD\n",
      "hip-hop\n",
      "TRAJSNU128F92F2AC0\n",
      "NULL\n",
      "TRAJSPE12903C9F712\n",
      "NULL\n"
     ]
    },
    {
     "name": "stderr",
     "output_type": "stream",
     "text": [
      "\u001b[A\u001b[A\n",
      "\n",
      " 29%|██▉       | 2709/9330 [00:30<01:34, 69.88it/s]\u001b[A\u001b[A\n",
      "\n",
      " 29%|██▉       | 2717/9330 [00:30<01:31, 72.37it/s]"
     ]
    },
    {
     "name": "stdout",
     "output_type": "stream",
     "text": [
      "TRAJSQA128F4263330\n",
      "pop\n",
      "TRAJSRH128F425DDC7\n",
      "pop\n",
      "TRAJTCX128F42990AD\n",
      "NULL\n",
      "TRAJTDG128E0792698\n",
      "pop\n",
      "TRAJTOI128F9335EEC\n",
      "dance and electronica\n",
      "TRAJTYX128F145AD24\n",
      "rock and indie\n",
      "TRAJUAP128F423CB89\n",
      "NULL\n",
      "TRAJUPF128F4231A2C\n",
      "rock and indie\n",
      "TRAJUPI128F9324529\n",
      "dance and electronica\n"
     ]
    },
    {
     "name": "stderr",
     "output_type": "stream",
     "text": [
      "\u001b[A\u001b[A\n",
      "\n",
      " 29%|██▉       | 2726/9330 [00:30<01:27, 75.67it/s]\u001b[A\u001b[A\n",
      "\n",
      " 29%|██▉       | 2738/9330 [00:30<01:18, 84.24it/s]"
     ]
    },
    {
     "name": "stdout",
     "output_type": "stream",
     "text": [
      "TRAJUWA128F92E5B59\n",
      "hip-hop\n",
      "TRAJUXT128F932B03C\n",
      "dance and electronica\n",
      "TRAJUYV128F93378E6\n",
      "NULL\n",
      "TRAJVBC128F92F76B2\n",
      "NULL\n",
      "TRAJVHI128F930EFAF\n",
      "pop\n",
      "TRAJXGX12903D077EC\n",
      "dance and electronica\n",
      "TRAJXHP128F9344F44\n",
      "dance and electronica\n",
      "TRAJXKX128F428021C\n",
      "pop\n"
     ]
    },
    {
     "name": "stderr",
     "output_type": "stream",
     "text": [
      "\u001b[A\u001b[A\n",
      "\n",
      " 29%|██▉       | 2747/9330 [00:30<01:27, 75.58it/s]\u001b[A\u001b[A"
     ]
    },
    {
     "name": "stdout",
     "output_type": "stream",
     "text": [
      "TRAJXNB128F4261F43\n",
      "rock and indie\n",
      "TRAJXNN128E078F945\n",
      "soul and reggae\n",
      "TRAJXQL128F428CAF0\n",
      "pop\n",
      "TRAJXUS128F9309CEE\n",
      "NULL\n",
      "TRAJXYE128F92C9BD7\n",
      "pop\n",
      "TRAJYRB128F1491A59\n",
      "classical\n",
      "TRAJZBD128F42A2502\n",
      "NULL\n",
      "TRAJZCH128F933D2B7\n",
      "pop\n"
     ]
    },
    {
     "name": "stderr",
     "output_type": "stream",
     "text": [
      "\n",
      "\n",
      " 30%|██▉       | 2755/9330 [00:31<01:32, 70.94it/s]\u001b[A\u001b[A\n",
      "\n",
      " 30%|██▉       | 2767/9330 [00:31<01:21, 80.83it/s]\u001b[A\u001b[A"
     ]
    },
    {
     "name": "stdout",
     "output_type": "stream",
     "text": [
      "TRAJZDD128F425AA57\n",
      "NULL\n",
      "TRAJZIS128F4288E43\n",
      "pop\n",
      "TRAJZLM128F427CEB7\n",
      "pop\n",
      "TRAJZPU128F422C1D2\n",
      "classical\n",
      "TRAJZWM128F4262BBD\n",
      "pop\n",
      "TRAJZYI128F424B412\n",
      "rock and indie\n",
      "TRAKABH128F14A0747\n",
      "NULL\n",
      "TRAKABJ12903CA14CE\n",
      "NULL\n",
      "TRAKAGL128F148B3B7\n",
      "pop\n"
     ]
    },
    {
     "name": "stderr",
     "output_type": "stream",
     "text": [
      "\n",
      "\n",
      " 30%|██▉       | 2776/9330 [00:31<01:22, 79.32it/s]\u001b[A\u001b[A\n",
      "\n",
      " 30%|██▉       | 2785/9330 [00:31<01:30, 72.11it/s]\u001b[A\u001b[A"
     ]
    },
    {
     "name": "stdout",
     "output_type": "stream",
     "text": [
      "TRAKAJM128F429BEED\n",
      "NULL\n",
      "TRAKARY128F427253E\n",
      "pop\n",
      "TRAKAVM128F92F34F2\n",
      "NULL\n",
      "TRAKBAS128F427F12A\n",
      "pop\n",
      "TRAKBHG12903CDA83B\n",
      "NULL\n",
      "TRAKBKO128F1481CFA\n",
      "rock and indie\n",
      "TRAKBON128F9311039\n",
      "pop\n",
      "TRAKCAE128F92DACD8\n",
      "pop\n"
     ]
    },
    {
     "name": "stderr",
     "output_type": "stream",
     "text": [
      "\n",
      "\n",
      " 30%|██▉       | 2798/9330 [00:31<01:21, 80.48it/s]\u001b[A\u001b[A"
     ]
    },
    {
     "name": "stdout",
     "output_type": "stream",
     "text": [
      "TRAKCFG128F149D9B7\n",
      "dance and electronica\n",
      "TRAKCHU128F4234E44\n",
      "NULL\n",
      "TRAKCML128F4246E27\n",
      "rock and indie\n",
      "TRAKCPH128F930F9CD\n",
      "NULL\n",
      "TRAKCRM128F42542F3\n",
      "NULL\n",
      "TRAKCWC128F4271E34\n",
      "NULL\n",
      "TRAKCXY128F92D6D9E\n",
      "NULL\n",
      "TRAKDCQ128F42A247A\n",
      "hip-hop\n"
     ]
    },
    {
     "name": "stderr",
     "output_type": "stream",
     "text": [
      "\n",
      "\n",
      " 30%|███       | 2807/9330 [00:31<01:36, 67.44it/s]\u001b[A\u001b[A\n",
      "\n",
      " 30%|███       | 2819/9330 [00:31<01:26, 75.07it/s]"
     ]
    },
    {
     "name": "stdout",
     "output_type": "stream",
     "text": [
      "TRAKDDB128F92D168A\n",
      "jazz\n",
      "TRAKDDH128F427813C\n",
      "rock and indie\n",
      "TRAKDMK128F92F9AFC\n",
      "NULL\n",
      "TRAKEDS128F9337392\n",
      "NULL\n",
      "TRAKEMT128F92C2CAC\n",
      "NULL\n",
      "TRAKEUZ128E078BE99\n",
      "NULL\n",
      "TRAKEVX128F4246BF3\n",
      "pop\n",
      "TRAKFCE128F93081A9"
     ]
    },
    {
     "name": "stderr",
     "output_type": "stream",
     "text": [
      "\u001b[A\u001b[A\n",
      "\n",
      " 30%|███       | 2829/9330 [00:31<01:25, 75.90it/s]\u001b[A\u001b[A"
     ]
    },
    {
     "name": "stdout",
     "output_type": "stream",
     "text": [
      "\n",
      "jazz\n",
      "TRAKFPX128F4235FEF\n",
      "NULL\n",
      "TRAKFQV128F145C912\n",
      "NULL\n",
      "TRAKFSV128F4257C10\n",
      "rock and indie\n",
      "TRAKFWY128F429DA3D\n",
      "dance and electronica\n",
      "TRAKFYU128F4283EB5\n",
      "NULL\n",
      "TRAKGAX128F4264182\n",
      "soul and reggae\n"
     ]
    },
    {
     "name": "stderr",
     "output_type": "stream",
     "text": [
      "\n",
      "\n",
      " 30%|███       | 2838/9330 [00:32<01:39, 65.51it/s]\u001b[A\u001b[A\n",
      "\n",
      " 31%|███       | 2849/9330 [00:32<01:28, 72.90it/s]"
     ]
    },
    {
     "name": "stdout",
     "output_type": "stream",
     "text": [
      "TRAKGDA128F423CBC8\n",
      "dance and electronica\n",
      "TRAKGDZ12903CE4867\n",
      "pop\n",
      "TRAKGOF128F93060F6\n",
      "soul and reggae\n",
      "TRAKGRM128F149DAFB\n",
      "NULL\n",
      "TRAKHAU128F42927B4\n",
      "hip-hop\n",
      "TRAKHFI128F1475133\n",
      "NULL\n",
      "TRAKHUW12903CF0048\n",
      "metal\n",
      "TRAKHXX128E07877EB\n",
      "NULL\n"
     ]
    },
    {
     "name": "stderr",
     "output_type": "stream",
     "text": [
      "\u001b[A\u001b[A\n",
      "\n",
      " 31%|███       | 2858/9330 [00:32<01:31, 70.86it/s]\u001b[A\u001b[A\n",
      "\n",
      " 31%|███       | 2869/9330 [00:32<01:22, 78.34it/s]"
     ]
    },
    {
     "name": "stdout",
     "output_type": "stream",
     "text": [
      "TRAKHYP128E0792F07\n",
      "rock and indie\n",
      "TRAKIHI12903D007DE\n",
      "NULL\n",
      "TRAKIJI128F42494D1\n",
      "NULL\n",
      "TRAKJNX128F92CF428\n",
      "pop\n",
      "TRAKJOW128F1489DE4\n",
      "rock and indie\n",
      "TRAKJTB128F148C560\n",
      "NULL\n",
      "TRAKJZM12903CDCF1E\n",
      "NULL\n",
      "TRAKKCD128F92D95AC\n",
      "soul and reggae\n"
     ]
    },
    {
     "name": "stderr",
     "output_type": "stream",
     "text": [
      "\u001b[A\u001b[A\n",
      "\n",
      " 31%|███       | 2878/9330 [00:32<01:23, 77.72it/s]\u001b[A\u001b[A"
     ]
    },
    {
     "name": "stdout",
     "output_type": "stream",
     "text": [
      "TRAKKGJ128F1469B28\n",
      "rock and indie\n",
      "TRAKKLW128F9317389\n",
      "NULL\n",
      "TRAKKMS128F42B3BF6\n",
      "hip-hop\n",
      "TRAKKOH128F42AF40E\n",
      "pop\n",
      "TRAKKTE128F934B0D9\n",
      "pop\n",
      "TRAKKWR128F9314A64\n",
      "NULL\n",
      "TRAKKZM128F427CFD5\n",
      "metal\n",
      "TRAKLEZ128F4270649\n",
      "pop\n",
      "TRAKLHO128F42BA554\n",
      "NULL\n"
     ]
    },
    {
     "name": "stderr",
     "output_type": "stream",
     "text": [
      "\n",
      "\n",
      " 31%|███       | 2887/9330 [00:32<01:32, 69.59it/s]\u001b[A\u001b[A\n",
      "\n",
      " 31%|███       | 2897/9330 [00:32<01:24, 75.93it/s]"
     ]
    },
    {
     "name": "stdout",
     "output_type": "stream",
     "text": [
      "TRAKLML128E07999DA\n",
      "NULL\n",
      "TRAKLQJ128F42607F9\n",
      "pop\n",
      "TRAKMGY128F4269E37\n",
      "rock and indie\n",
      "TRAKMLM128F14932B0\n",
      "rock and indie\n",
      "TRAKMUO128F4215890\n",
      "pop\n",
      "TRAKMYR128F4281FAA\n",
      "metal\n",
      "TRAKNBW128F4249FD8\n",
      "rock and indie\n",
      "TRAKNDG128F428A228\n",
      "NULL\n"
     ]
    },
    {
     "name": "stderr",
     "output_type": "stream",
     "text": [
      "\u001b[A\u001b[A\n",
      "\n",
      " 31%|███       | 2906/9330 [00:32<01:22, 77.49it/s]\u001b[A\u001b[A"
     ]
    },
    {
     "name": "stdout",
     "output_type": "stream",
     "text": [
      "TRAKNPA128F4238BCC\n",
      "NULL\n",
      "TRAKOAK128F4248629\n",
      "hip-hop\n",
      "TRAKOBG128F9344340\n",
      "NULL\n",
      "TRAKOEB128F1478783\n",
      "rock and indie\n",
      "TRAKOLG128F427541A\n",
      "metal\n",
      "TRAKOLY128F4280217\n",
      "NULL\n",
      "TRAKOMW128F428A81A\n",
      "pop\n",
      "TRAKOPE128F421CE6A\n",
      "NULL\n",
      "TRAKORW128F1484DF0\n",
      "pop\n"
     ]
    },
    {
     "name": "stderr",
     "output_type": "stream",
     "text": [
      "\n",
      "\n",
      " 31%|███       | 2915/9330 [00:33<01:34, 68.10it/s]\u001b[A\u001b[A\n",
      "\n",
      " 31%|███▏      | 2923/9330 [00:33<01:31, 69.80it/s]\u001b[A\u001b[A"
     ]
    },
    {
     "name": "stdout",
     "output_type": "stream",
     "text": [
      "TRAKOWI12903D04402\n",
      "classical\n",
      "TRAKOWP128F42988F8\n",
      "pop\n",
      "TRAKOXF128F1477B81\n",
      "NULL\n",
      "TRAKPHP128F42807B0\n",
      "dance and electronica\n",
      "TRAKPJC128F4258613\n",
      "pop\n",
      "TRAKPND128F42389EA\n",
      "pop\n",
      "TRAKPUY128F4271101\n",
      "NULL\n",
      "TRAKQCY128F934416C\n",
      "NULL\n"
     ]
    },
    {
     "name": "stderr",
     "output_type": "stream",
     "text": [
      "\n",
      "\n",
      " 31%|███▏      | 2933/9330 [00:33<01:23, 76.58it/s]\u001b[A\u001b[A\n",
      "\n",
      " 32%|███▏      | 2942/9330 [00:33<01:24, 75.22it/s]\u001b[A\u001b[A"
     ]
    },
    {
     "name": "stdout",
     "output_type": "stream",
     "text": [
      "TRAKQFZ128F429D3C9\n",
      "rock and indie\n",
      "TRAKQKT128F4259E25\n",
      "rock and indie\n",
      "TRAKQNK128F933D92A\n",
      "NULL\n",
      "TRAKQPE128F429A7B3\n",
      "NULL\n",
      "TRAKQXJ128F147A028\n",
      "pop\n",
      "TRAKRCM128F146B4DE\n",
      "NULL\n",
      "TRAKRHU128F92E7AA6\n",
      "NULL\n",
      "TRAKROC128F9326B09\n",
      "NULL\n"
     ]
    },
    {
     "name": "stderr",
     "output_type": "stream",
     "text": [
      "\n",
      "\n",
      " 32%|███▏      | 2951/9330 [00:33<01:20, 78.83it/s]\u001b[A\u001b[A\n",
      "\n",
      " 32%|███▏      | 2961/9330 [00:33<01:18, 81.41it/s]"
     ]
    },
    {
     "name": "stdout",
     "output_type": "stream",
     "text": [
      "TRAKRUY128F92FB943\n",
      "NULL\n",
      "TRAKRXM128F4250E33\n",
      "dance and electronica\n",
      "TRAKRXN128F42670BE\n",
      "pop\n",
      "TRAKSPS128F933B3D9\n",
      "rock and indie\n",
      "TRAKSRQ128F4269AE8\n",
      "NULL\n",
      "TRAKTJE128F93539EF\n",
      "hip-hop\n",
      "TRAKTNE128EF3427CC\n",
      "rock and indie\n",
      "TRAKTWZ128EF35E206\n",
      "pop\n",
      "TRAKUJE128F42AE89C\n",
      "pop\n"
     ]
    },
    {
     "name": "stderr",
     "output_type": "stream",
     "text": [
      "\u001b[A\u001b[A\n",
      "\n",
      " 32%|███▏      | 2970/9330 [00:33<01:16, 82.65it/s]\u001b[A\u001b[A\n",
      "\n",
      " 32%|███▏      | 2979/9330 [00:33<01:19, 79.67it/s]"
     ]
    },
    {
     "name": "stdout",
     "output_type": "stream",
     "text": [
      "TRAKUJS128F14668E5\n",
      "dance and electronica\n",
      "TRAKVFJ12903CD4045\n",
      "NULL\n",
      "TRAKVJB128F4279598\n",
      "dance and electronica\n",
      "TRAKVJQ12903CB141D\n",
      "rock and indie\n",
      "TRAKVLY128F426E6AD\n",
      "NULL\n",
      "TRAKVQI12903CB7343\n",
      "soul and reggae\n",
      "TRAKVSG128EF34E609\n",
      "rock and indie\n",
      "TRAKWFH128F4236026\n",
      "NULL\n"
     ]
    },
    {
     "name": "stderr",
     "output_type": "stream",
     "text": [
      "\u001b[A\u001b[A\n",
      "\n",
      " 32%|███▏      | 2988/9330 [00:34<01:29, 70.88it/s]\u001b[A\u001b[A"
     ]
    },
    {
     "name": "stdout",
     "output_type": "stream",
     "text": [
      "TRAKWJG128F14AEE04\n",
      "NULL\n",
      "TRAKWKF128F92EE20C\n",
      "NULL\n",
      "TRAKWNL12903CC37B6\n",
      "rock and indie\n",
      "TRAKWOG128F425F89A\n",
      "NULL\n",
      "TRAKWTG128F42454E2\n",
      "NULL\n",
      "TRAKWUV128F42699BD\n",
      "dance and electronica\n",
      "TRAKWXV128F42889FB\n",
      "metal\n",
      "TRAKWZL128F93346EE\n",
      "rock and indie\n",
      "TRAKWZS128F4284294\n",
      "pop\n"
     ]
    },
    {
     "name": "stderr",
     "output_type": "stream",
     "text": [
      "\n",
      "\n",
      " 32%|███▏      | 2996/9330 [00:34<01:31, 69.37it/s]\u001b[A\u001b[A\n",
      "\n",
      " 32%|███▏      | 3004/9330 [00:34<01:30, 69.67it/s]\u001b[A\u001b[A"
     ]
    },
    {
     "name": "stdout",
     "output_type": "stream",
     "text": [
      "TRAKXIR128F92CF85A\n",
      "NULL\n",
      "TRAKXJS12903CE0434\n",
      "pop\n",
      "TRAKXMS12903CB36F2\n",
      "pop\n",
      "TRAKXPE128F1462FF2\n",
      "pop\n",
      "TRAKXYJ128F42525ED\n",
      "metal\n",
      "TRAKYCT12903CBBE17\n",
      "NULL\n",
      "TRAKYHF128F42944ED\n",
      "jazz\n",
      "TRAKYNP128F427FB32\n",
      "rock and indie\n"
     ]
    },
    {
     "name": "stderr",
     "output_type": "stream",
     "text": [
      "\n",
      "\n",
      " 32%|███▏      | 3015/9330 [00:34<01:21, 77.42it/s]\u001b[A\u001b[A\n",
      "\n",
      " 32%|███▏      | 3024/9330 [00:34<01:23, 75.72it/s]\u001b[A\u001b[A"
     ]
    },
    {
     "name": "stdout",
     "output_type": "stream",
     "text": [
      "TRAKYON128F429470C\n",
      "pop\n",
      "TRAKYRW128F425979E\n",
      "pop\n",
      "TRAKYWY128F9310CF4\n",
      "pop\n",
      "TRAKYXS128F4248FE3\n",
      "rock and indie\n",
      "TRAKZHN128F426C3D2\n",
      "rock and indie\n",
      "TRALAJG128F4213080\n",
      "NULL\n",
      "TRALARH128F9312D62\n",
      "folk\n",
      "TRALAZG128F93170BF\n",
      "dance and electronica\n"
     ]
    },
    {
     "name": "stderr",
     "output_type": "stream",
     "text": [
      "\n",
      "\n",
      " 33%|███▎      | 3036/9330 [00:34<01:14, 84.94it/s]\u001b[A\u001b[A\n",
      "\n",
      " 33%|███▎      | 3046/9330 [00:34<01:18, 80.23it/s]\u001b[A\u001b[A"
     ]
    },
    {
     "name": "stdout",
     "output_type": "stream",
     "text": [
      "TRALBHB12903CA2E52\n",
      "soul and reggae\n",
      "TRALBIA128F4272082\n",
      "pop\n",
      "TRALBOZ128F4251490\n",
      "pop\n",
      "TRALCCO12903CEBB97\n",
      "rock and indie\n",
      "TRALCFV128F93417AD\n",
      "NULL\n",
      "TRALCPV128F4254A68\n",
      "jazz\n",
      "TRALDAC128F9349882\n",
      "NULL\n",
      "TRALDCM128F4222464\n",
      "NULL\n",
      "TRALDDK128F9300AC5\n",
      "rock and indie\n"
     ]
    },
    {
     "name": "stderr",
     "output_type": "stream",
     "text": [
      "\n",
      "\n",
      " 33%|███▎      | 3055/9330 [00:34<01:18, 79.93it/s]\u001b[A\u001b[A\n",
      "\n",
      " 33%|███▎      | 3064/9330 [00:35<01:24, 73.75it/s]"
     ]
    },
    {
     "name": "stdout",
     "output_type": "stream",
     "text": [
      "TRALDEZ128F4265BF7\n",
      "pop\n",
      "TRALDSB12903CB4242\n",
      "metal\n",
      "TRALDUE128F9312AF2\n",
      "pop\n",
      "TRALDWN128EF33FB6E\n",
      "pop\n",
      "TRALDYU128F422C336\n",
      "rock and indie\n",
      "TRALECB128F42A35E8\n",
      "NULL\n",
      "TRALEER128F4268E6D\n",
      "NULL\n",
      "TRALEHY128F4225882\n",
      "NULL\n",
      "TRALENK128F92F39E9\n",
      "pop\n"
     ]
    },
    {
     "name": "stderr",
     "output_type": "stream",
     "text": [
      "\u001b[A\u001b[A\n",
      "\n",
      " 33%|███▎      | 3072/9330 [00:35<01:29, 70.30it/s]\u001b[A\u001b[A\n",
      "\n",
      " 33%|███▎      | 3083/9330 [00:35<01:22, 76.15it/s]"
     ]
    },
    {
     "name": "stdout",
     "output_type": "stream",
     "text": [
      "TRALEPN128F9311179\n",
      "pop\n",
      "TRALERB128F4243938\n",
      "NULL\n",
      "TRALESW128F92C7B94\n",
      "NULL\n",
      "TRALFBU12903CC030F\n",
      "metal\n",
      "TRALFLH128F148AE6B\n",
      "pop\n",
      "TRALGCQ128F931D8D5\n",
      "pop\n",
      "TRALGOQ128F93409F3\n",
      "NULL\n",
      "TRALGQH12903CD4922\n",
      "NULL\n",
      "TRALGQW128F1466EAD\n",
      "NULL\n"
     ]
    },
    {
     "name": "stderr",
     "output_type": "stream",
     "text": [
      "\u001b[A\u001b[A\n",
      "\n",
      " 33%|███▎      | 3092/9330 [00:35<01:21, 76.30it/s]\u001b[A\u001b[A\n",
      "\n",
      " 33%|███▎      | 3100/9330 [00:35<01:20, 77.02it/s]"
     ]
    },
    {
     "name": "stdout",
     "output_type": "stream",
     "text": [
      "TRALGWZ128F4241B20\n",
      "dance and electronica\n",
      "TRALGYO128F934D18D\n",
      "dance and electronica\n",
      "TRALGZN128F14956C4\n",
      "NULL\n",
      "TRALHES128F425A496\n",
      "NULL\n",
      "TRALHIQ12903D00496\n",
      "metal\n",
      "TRALHMS128F930C08C\n",
      "rock and indie\n",
      "TRALHUV128F92CBAFB\n",
      "pop\n",
      "TRALIEV128F92DE23C\n",
      "pop\n",
      "TRALIHL128E0791C9A"
     ]
    },
    {
     "name": "stderr",
     "output_type": "stream",
     "text": [
      "\u001b[A\u001b[A\n",
      "\n",
      " 33%|███▎      | 3108/9330 [00:35<01:24, 73.41it/s]\u001b[A\u001b[A"
     ]
    },
    {
     "name": "stdout",
     "output_type": "stream",
     "text": [
      "\n",
      "rock and indie\n",
      "TRALIIP128F4246C80\n",
      "rock and indie\n",
      "TRALIOV128F92C50C4\n",
      "dance and electronica\n",
      "TRALIQF128F930B7B0\n",
      "hip-hop\n",
      "TRALIVO128F4279262\n",
      "pop\n",
      "TRALIZA128F4233586\n",
      "pop\n",
      "TRALJAZ128F933DE4A\n",
      "NULL\n",
      "TRALJBG128F9301EDD\n",
      "rock and indie\n",
      "TRALJBT128F4266FD8\n",
      "pop\n",
      "TRALJGO128F9347068\n",
      "NULL\n"
     ]
    },
    {
     "name": "stderr",
     "output_type": "stream",
     "text": [
      "\n",
      "\n",
      " 33%|███▎      | 3116/9330 [00:35<01:25, 72.44it/s]\u001b[A\u001b[A\n",
      "\n",
      " 34%|███▎      | 3126/9330 [00:35<01:20, 76.75it/s]\u001b[A\u001b[A"
     ]
    },
    {
     "name": "stdout",
     "output_type": "stream",
     "text": [
      "TRALJKN128F92C5F5E\n",
      "NULL\n",
      "TRALJPG128F14B0B34\n",
      "NULL\n",
      "TRALJVQ128F428C764\n",
      "pop\n",
      "TRALKBG128F1457FCF\n",
      "jazz\n",
      "TRALKGV128F932CADE\n",
      "jazz\n",
      "TRALKHJ128F92E9D36\n",
      "NULL\n",
      "TRALKHT128F148833B\n",
      "pop\n",
      "TRALKHV128F4270340\n",
      "jazz\n",
      "TRALKRO128F931CF20\n",
      "NULL\n",
      "TRALKVK128F14554D7\n",
      "rock and indie\n",
      "TRALKVM128F92C9738"
     ]
    },
    {
     "name": "stderr",
     "output_type": "stream",
     "text": [
      "\n",
      "\n",
      " 34%|███▎      | 3134/9330 [00:35<01:23, 74.26it/s]\u001b[A\u001b[A\n",
      "\n",
      " 34%|███▎      | 3143/9330 [00:36<01:20, 76.80it/s]\u001b[A\u001b[A"
     ]
    },
    {
     "name": "stdout",
     "output_type": "stream",
     "text": [
      "\n",
      "NULL\n",
      "TRALLAR128F933C692\n",
      "NULL\n",
      "TRALLFD128EF34A8B9\n",
      "pop\n",
      "TRALLOU12903CC36FE\n",
      "NULL\n",
      "TRALLQJ128F933C68A\n",
      "NULL\n",
      "TRALLQX12903CD838C\n",
      "jazz\n",
      "TRALLRJ128F428CB6F\n",
      "NULL\n",
      "TRALLSP128F148AD75\n",
      "NULL\n",
      "TRALMBM128F92EAA15\n",
      "pop\n",
      "TRALMTD128E07862AC\n",
      "hip-hop\n"
     ]
    },
    {
     "name": "stderr",
     "output_type": "stream",
     "text": [
      "\n",
      "\n",
      " 34%|███▍      | 3153/9330 [00:36<01:19, 78.02it/s]\u001b[A\u001b[A\n",
      "\n",
      " 34%|███▍      | 3161/9330 [00:36<01:26, 71.63it/s]"
     ]
    },
    {
     "name": "stdout",
     "output_type": "stream",
     "text": [
      "TRALMYT12903D0954C\n",
      "NULL\n",
      "TRALNAB128F421B318\n",
      "dance and electronica\n",
      "TRALNAU128F9340B60\n",
      "jazz\n",
      "TRALNJR128F145AC96\n",
      "pop\n",
      "TRALNOD128F4264AEB\n",
      "pop\n",
      "TRALNOK128F9302230\n",
      "NULL\n",
      "TRALNYJ12903CF840F\n",
      "NULL\n",
      "TRALOBE12903CDA6C5\n",
      "NULL\n",
      "TRALOBQ128F428AB9E\n",
      "NULL\n"
     ]
    },
    {
     "name": "stderr",
     "output_type": "stream",
     "text": [
      "\u001b[A\u001b[A\n",
      "\n",
      " 34%|███▍      | 3172/9330 [00:36<01:17, 79.70it/s]\u001b[A\u001b[A\n",
      "\n",
      " 34%|███▍      | 3181/9330 [00:36<01:15, 81.04it/s]"
     ]
    },
    {
     "name": "stdout",
     "output_type": "stream",
     "text": [
      "TRALONM128EF35A199\n",
      "pop\n",
      "TRALOUF128F422F329\n",
      "NULL\n",
      "TRALOZX128EF35725C\n",
      "rock and indie\n",
      "TRALPFL128F424B5F4\n",
      "jazz\n",
      "TRALPGW12903CAFFB5\n",
      "rock and indie\n",
      "TRALPHD128F428A7B1\n",
      "NULL\n",
      "TRALPJJ128F9311763\n",
      "rock and indie\n",
      "TRALPKG12903CDCA8A\n",
      "pop\n",
      "TRALPOE128F4272278\n",
      "folk\n",
      "TRALPQM128F931C28A\n",
      "dance and electronica\n"
     ]
    },
    {
     "name": "stderr",
     "output_type": "stream",
     "text": [
      "\u001b[A\u001b[A\n",
      "\n",
      " 34%|███▍      | 3190/9330 [00:36<01:26, 70.64it/s]\u001b[A\u001b[A\n",
      "\n",
      " 34%|███▍      | 3199/9330 [00:36<01:21, 75.00it/s]"
     ]
    },
    {
     "name": "stdout",
     "output_type": "stream",
     "text": [
      "TRALPQV128F424F989\n",
      "pop\n",
      "TRALPXC128E07819A8\n",
      "pop\n",
      "TRALPZN128F4241A2F\n",
      "hip-hop\n",
      "TRALQGZ128F146F500\n",
      "pop\n",
      "TRALQZK128F429802D\n",
      "rock and indie\n",
      "TRALRBI128F931C20A\n",
      "NULL\n",
      "TRALRKB128F42B74D2\n",
      "metal\n",
      "TRALRKL128F427B6EB\n",
      "NULL\n",
      "TRALRNQ128F428CE3E\n",
      "NULL\n"
     ]
    },
    {
     "name": "stderr",
     "output_type": "stream",
     "text": [
      "\u001b[A\u001b[A\n",
      "\n",
      " 34%|███▍      | 3208/9330 [00:36<01:20, 75.83it/s]\u001b[A\u001b[A\n",
      "\n",
      " 34%|███▍      | 3216/9330 [00:37<01:21, 75.10it/s]"
     ]
    },
    {
     "name": "stdout",
     "output_type": "stream",
     "text": [
      "TRALROP128F92CA9CC\n",
      "pop\n",
      "TRALRPL12903CA71F2\n",
      "NULL\n",
      "TRALRTY128F428BE43\n",
      "NULL\n",
      "TRALRYI128F147158D\n",
      "soul and reggae\n",
      "TRALSAJ128F92EDC84\n",
      "NULL\n",
      "TRALSIS128F4223DAC\n",
      "rock and indie\n",
      "TRALSOA128F4275F49\n",
      "NULL\n",
      "TRALSQW12903CEDA8C\n",
      "NULL\n",
      "TRALSWJ128F1467EDE\n",
      "rock and indie\n",
      "TRALSXX128F92F94B0"
     ]
    },
    {
     "name": "stderr",
     "output_type": "stream",
     "text": [
      "\u001b[A\u001b[A\n",
      "\n",
      " 35%|███▍      | 3231/9330 [00:37<01:10, 86.00it/s]\u001b[A\u001b[A"
     ]
    },
    {
     "name": "stdout",
     "output_type": "stream",
     "text": [
      "\n",
      "pop\n",
      "TRALTAK128EF340776\n",
      "NULL\n",
      "TRALTDA128F427D0A3\n",
      "jazz\n",
      "TRALTKQ128F932DA67\n",
      "dance and electronica\n",
      "TRALUNR128EF3425DE\n",
      "NULL\n",
      "TRALUTY128F9322DC0\n",
      "rock and indie\n",
      "TRALUZM128C7196779\n",
      "soul and reggae\n",
      "TRALUZX12903CAD456\n",
      "dance and electronica\n",
      "TRALVCW128F4288926\n",
      "NULL\n",
      "TRALVKP128F42AD00C\n",
      "NULL\n"
     ]
    },
    {
     "name": "stderr",
     "output_type": "stream",
     "text": [
      "\n",
      "\n",
      " 35%|███▍      | 3241/9330 [00:37<01:11, 84.64it/s]\u001b[A\u001b[A\n",
      "\n",
      " 35%|███▍      | 3253/9330 [00:37<01:08, 89.12it/s]"
     ]
    },
    {
     "name": "stdout",
     "output_type": "stream",
     "text": [
      "TRALVNT128F931C4C6\n",
      "dance and electronica\n",
      "TRALVWU12903CE67BA\n",
      "NULL\n",
      "TRALVZY12903D0048B\n",
      "metal\n",
      "TRALWLU128F428C39A\n",
      "NULL\n",
      "TRALWNE12903C95228\n",
      "soul and reggae\n",
      "TRALXEX128F425D50E\n",
      "pop\n",
      "TRALXGM128F92C7D26\n",
      "pop\n",
      "TRALXYQ128F1470E15\n",
      "NULL\n",
      "TRALYEW128F146A755\n",
      "dance and electronica\n"
     ]
    },
    {
     "name": "stderr",
     "output_type": "stream",
     "text": [
      "\u001b[A\u001b[A\n",
      "\n",
      " 35%|███▌      | 3266/9330 [00:37<01:02, 96.97it/s]\u001b[A\u001b[A\n",
      "\n",
      " 35%|███▌      | 3277/9330 [00:37<01:01, 97.64it/s]"
     ]
    },
    {
     "name": "stdout",
     "output_type": "stream",
     "text": [
      "TRALYPO128F429C4AF\n",
      "rock and indie\n",
      "TRALYQN128F42624E1\n",
      "NULL\n",
      "TRALYWI128EF33EDC7\n",
      "rock and indie\n",
      "TRALZBP128F4263E1A\n",
      "NULL\n",
      "TRALZBV128F4250E60\n",
      "pop\n",
      "TRALZKE128F42A45D1\n",
      "NULL\n",
      "TRALZPL128F423BE6B\n",
      "NULL\n",
      "TRALZTM128F92EC5F0\n",
      "pop\n",
      "TRALZUL128F4236D23\n",
      "NULL\n",
      "TRALZXZ128F92E26EF\n",
      "rock and indie\n"
     ]
    },
    {
     "name": "stderr",
     "output_type": "stream",
     "text": [
      "\u001b[A\u001b[A\n",
      "\n",
      " 35%|███▌      | 3288/9330 [00:37<01:08, 88.68it/s]\u001b[A\u001b[A"
     ]
    },
    {
     "name": "stdout",
     "output_type": "stream",
     "text": [
      "TRAMAHA12903CBF34E\n",
      "rock and indie\n",
      "TRAMAKK128F9301EE4\n",
      "rock and indie\n",
      "TRAMARM128E0796A50\n",
      "pop\n",
      "TRAMAYD128F426DDBD\n",
      "pop\n",
      "TRAMBAG128F427D469\n",
      "rock and indie\n",
      "TRAMBBV128F9337714\n",
      "rock and indie\n",
      "TRAMBEV128F424C478\n",
      "NULL\n",
      "TRAMBEY128F42408F1\n",
      "rock and indie\n",
      "TRAMBFD128EF34B848\n",
      "pop\n",
      "TRAMBHU128F425A620\n",
      "pop\n"
     ]
    },
    {
     "name": "stderr",
     "output_type": "stream",
     "text": [
      "\n",
      "\n",
      " 35%|███▌      | 3298/9330 [00:37<01:22, 73.39it/s]\u001b[A\u001b[A\n",
      "\n",
      " 35%|███▌      | 3309/9330 [00:38<01:14, 80.90it/s]"
     ]
    },
    {
     "name": "stdout",
     "output_type": "stream",
     "text": [
      "TRAMBLO128F4287D24\n",
      "hip-hop\n",
      "TRAMBNF128F426FBB6\n",
      "rock and indie\n",
      "TRAMBRA128F92D257A\n",
      "jazz\n",
      "TRAMBRB128F931E683\n",
      "NULL\n",
      "TRAMBVP128F424DD31\n",
      "rock and indie\n",
      "TRAMCDV128F423386E\n",
      "NULL\n",
      "TRAMCEY12903CA74B5\n",
      "folk\n",
      "TRAMCGL128F92F3D87\n",
      "rock and indie\n",
      "TRAMCJI128F93335AF\n",
      "pop\n",
      "TRAMCLN128F9302E27\n",
      "NULL\n"
     ]
    },
    {
     "name": "stderr",
     "output_type": "stream",
     "text": [
      "\u001b[A\u001b[A\n",
      "\n",
      " 36%|███▌      | 3318/9330 [00:38<01:17, 77.58it/s]\u001b[A\u001b[A\n",
      "\n",
      " 36%|███▌      | 3334/9330 [00:38<01:06, 90.52it/s]"
     ]
    },
    {
     "name": "stdout",
     "output_type": "stream",
     "text": [
      "TRAMCND128F1466ACF\n",
      "dance and electronica\n",
      "TRAMCUA128F4238312\n",
      "pop\n",
      "TRAMDCB128F42772E3\n",
      "dance and electronica\n",
      "TRAMDCX128E07908F1\n",
      "rock and indie\n",
      "TRAMDQE128F1458F98\n",
      "dance and electronica\n",
      "TRAMDUW12903CB5100\n",
      "dance and electronica\n",
      "TRAMEBP12903CD7EEA\n",
      "rock and indie\n",
      "TRAMEDG128E07933F4\n",
      "hip-hop\n",
      "TRAMEEC128F9307A54\n",
      "dance and electronica\n"
     ]
    },
    {
     "name": "stderr",
     "output_type": "stream",
     "text": [
      "\u001b[A\u001b[A\n",
      "\n",
      " 36%|███▌      | 3346/9330 [00:38<01:01, 96.57it/s]\u001b[A\u001b[A"
     ]
    },
    {
     "name": "stdout",
     "output_type": "stream",
     "text": [
      "TRAMEEO128F1462296\n",
      "pop\n",
      "TRAMESI128F93509F7\n",
      "pop\n",
      "TRAMEVZ128F4280A16\n",
      "rock and indie\n",
      "TRAMFAS12903CD7030\n",
      "pop\n",
      "TRAMFCQ128E078CF59\n",
      "rock and indie\n",
      "TRAMFDZ12903CA7820\n",
      "NULL\n",
      "TRAMFFW128F4263AD7\n",
      "pop\n",
      "TRAMFHI12903CB4349\n",
      "metal\n",
      "TRAMFIU128F426B004\n",
      "NULL\n",
      "TRAMFJR128F92C1DB1\n",
      "pop\n"
     ]
    },
    {
     "name": "stderr",
     "output_type": "stream",
     "text": [
      "\n",
      "\n",
      " 36%|███▌      | 3357/9330 [00:38<01:08, 87.24it/s]\u001b[A\u001b[A\n",
      "\n",
      " 36%|███▌      | 3372/9330 [00:38<01:01, 96.80it/s]"
     ]
    },
    {
     "name": "stdout",
     "output_type": "stream",
     "text": [
      "TRAMFRD128E07833DA\n",
      "NULL\n",
      "TRAMGAZ128F148D4C3\n",
      "rock and indie\n",
      "TRAMGJJ128F421487E\n",
      "NULL\n",
      "TRAMGPM128F9311196\n",
      "pop\n",
      "TRAMGZR128F429AF94\n",
      "NULL\n",
      "TRAMGZV128F426FAB3\n",
      "NULL\n",
      "TRAMHFW128F4254303\n",
      "dance and electronica\n",
      "TRAMHGR128F933E350\n",
      "soul and reggae\n",
      "TRAMHIY128F427A892\n",
      "jazz\n"
     ]
    },
    {
     "name": "stderr",
     "output_type": "stream",
     "text": [
      "\u001b[A\u001b[A\n",
      "\n",
      " 36%|███▋      | 3383/9330 [00:38<01:09, 85.20it/s]\u001b[A\u001b[A\n",
      "\n",
      " 36%|███▋      | 3395/9330 [00:38<01:04, 91.78it/s]"
     ]
    },
    {
     "name": "stdout",
     "output_type": "stream",
     "text": [
      "TRAMHJH128E0793259\n",
      "dance and electronica\n",
      "TRAMHKT128F9309043\n",
      "NULL\n",
      "TRAMHMO128F93167EA\n",
      "pop\n",
      "TRAMHPR128F92EDD34\n",
      "dance and electronica\n",
      "TRAMIFH128F4242961\n",
      "NULL\n",
      "TRAMING128F4281ECA\n",
      "dance and electronica\n",
      "TRAMIOZ128F4267176\n",
      "rock and indie\n",
      "TRAMIUD128E07825DB\n",
      "rock and indie\n",
      "TRAMIYZ128EF35CBD1\n"
     ]
    },
    {
     "name": "stderr",
     "output_type": "stream",
     "text": [
      "\u001b[A\u001b[A\n",
      "\n",
      " 36%|███▋      | 3405/9330 [00:39<01:05, 91.13it/s]\u001b[A\u001b[A"
     ]
    },
    {
     "name": "stdout",
     "output_type": "stream",
     "text": [
      "NULL\n",
      "TRAMJTV128F425A5A4\n",
      "NULL\n",
      "TRAMKCK128F4266769\n",
      "pop\n",
      "TRAMKDJ128F92F3D8B\n",
      "dance and electronica\n",
      "TRAMKKJ128F1463612\n",
      "soul and reggae\n",
      "TRAMKPP128F92F6F0C\n",
      "NULL\n",
      "TRAMKQJ128F1499D81\n",
      "jazz\n",
      "TRAMKRX128EF3686A4\n",
      "NULL\n",
      "TRAMKUA128F92ED3E1\n",
      "rock and indie\n",
      "TRAMKUF128F9353E34\n",
      "NULL\n",
      "TRAMKVB128F4223DAE\n",
      "rock and indie\n"
     ]
    },
    {
     "name": "stderr",
     "output_type": "stream",
     "text": [
      "\n",
      "\n",
      " 37%|███▋      | 3415/9330 [00:39<01:16, 77.71it/s]\u001b[A\u001b[A\n",
      "\n",
      " 37%|███▋      | 3424/9330 [00:39<01:13, 80.42it/s]"
     ]
    },
    {
     "name": "stdout",
     "output_type": "stream",
     "text": [
      "TRAMKXD128F146697F\n",
      "pop\n",
      "TRAMLAE128F931FBE7\n",
      "classical\n",
      "TRAMLGE128F92F81DD\n",
      "pop\n",
      "TRAMLGZ12903CA6BC4\n",
      "jazz\n",
      "TRAMLQC128F429222A\n",
      "NULL\n",
      "TRAMLQH12903CA69B2\n",
      "pop\n",
      "TRAMLUE128F147230E\n",
      "pop\n",
      "TRAMLZC128F92F3EB9\n",
      "rock and indie\n",
      "TRAMMAF128F93051B0\n",
      "pop\n",
      "TRAMMDM128F425EAA9\n",
      "hip-hop\n"
     ]
    },
    {
     "name": "stderr",
     "output_type": "stream",
     "text": [
      "\u001b[A\u001b[A\n",
      "\n",
      " 37%|███▋      | 3433/9330 [00:39<01:14, 79.55it/s]\u001b[A\u001b[A\n",
      "\n",
      " 37%|███▋      | 3444/9330 [00:39<01:08, 85.34it/s]"
     ]
    },
    {
     "name": "stdout",
     "output_type": "stream",
     "text": [
      "TRAMMDO128E0781A5D\n",
      "pop\n",
      "TRAMMFP12903CB59C2\n",
      "NULL\n",
      "TRAMMQW128F42621E1\n",
      "rock and indie\n",
      "TRAMNAO128F92FACF2\n",
      "rock and indie\n",
      "TRAMNDO128F9315128\n",
      "NULL\n",
      "TRAMNFT128F9316759\n",
      "hip-hop\n",
      "TRAMNJB128F92EFDC7\n",
      "pop\n",
      "TRAMNUT128F14B07A9\n",
      "NULL\n",
      "TRAMNVF128F92DE562\n",
      "NULL\n",
      "TRAMODP128F426247B\n",
      "NULL\n"
     ]
    },
    {
     "name": "stderr",
     "output_type": "stream",
     "text": [
      "\u001b[A\u001b[A\n",
      "\n",
      " 37%|███▋      | 3456/9330 [00:39<01:04, 91.72it/s]\u001b[A\u001b[A\n",
      "\n",
      " 37%|███▋      | 3466/9330 [00:39<01:03, 92.98it/s]"
     ]
    },
    {
     "name": "stdout",
     "output_type": "stream",
     "text": [
      "TRAMOLS128F92F99E3\n",
      "NULL\n",
      "TRAMOON128F92CB142\n",
      "NULL\n",
      "TRAMOPU128E07888FD\n",
      "rock and indie\n",
      "TRAMOXE128EF36565E\n",
      "NULL\n",
      "TRAMPCW128F92CC022\n",
      "pop\n",
      "TRAMPHV12903CF952C\n",
      "NULL\n",
      "TRAMPPQ128F92C2E36\n",
      "rock and indie\n",
      "TRAMPPS128F14A9068\n",
      "rock and indie\n",
      "TRAMPPX128F429BF75\n",
      "NULL\n"
     ]
    },
    {
     "name": "stderr",
     "output_type": "stream",
     "text": [
      "\u001b[A\u001b[A\n",
      "\n",
      " 37%|███▋      | 3476/9330 [00:39<01:10, 82.73it/s]\u001b[A\u001b[A\n",
      "\n",
      " 37%|███▋      | 3487/9330 [00:40<01:06, 87.71it/s]"
     ]
    },
    {
     "name": "stdout",
     "output_type": "stream",
     "text": [
      "TRAMPQY128F933935E\n",
      "rock and indie\n",
      "TRAMPWN128F934C221\n",
      "metal\n",
      "TRAMPXI128F931154A\n",
      "NULL\n",
      "TRAMQCL128F426F80D\n",
      "NULL\n",
      "TRAMRFE128F4267DF3\n",
      "pop\n",
      "TRAMRQS12903D0FD39\n",
      "soul and reggae\n",
      "TRAMRWS128F14985A2\n",
      "jazz\n",
      "TRAMRZO12903CA82FB\n",
      "NULL\n",
      "TRAMSAY128F92ED0DD"
     ]
    },
    {
     "name": "stderr",
     "output_type": "stream",
     "text": [
      "\u001b[A\u001b[A\n",
      "\n",
      " 37%|███▋      | 3497/9330 [00:40<01:05, 88.63it/s]\u001b[A\u001b[A"
     ]
    },
    {
     "name": "stdout",
     "output_type": "stream",
     "text": [
      "\n",
      "rock and indie\n",
      "TRAMSBQ128F4238B2D\n",
      "NULL\n",
      "TRAMSDM12903CAAB21\n",
      "jazz\n",
      "TRAMSSA128F92F60D1\n",
      "NULL\n",
      "TRAMSSK128F92FDC80\n",
      "pop\n",
      "TRAMTFQ128F9352EDB\n",
      "rock and indie\n",
      "TRAMTIH128F933E8E4\n",
      "rock and indie\n",
      "TRAMTTD128F42246F3\n",
      "NULL\n",
      "TRAMTYX128F42985D0\n",
      "rock and indie\n",
      "TRAMUCQ128F4254CA3\n",
      "rock and indie\n"
     ]
    },
    {
     "name": "stderr",
     "output_type": "stream",
     "text": [
      "\n",
      "\n",
      " 38%|███▊      | 3507/9330 [00:40<01:07, 86.25it/s]\u001b[A\u001b[A\n",
      "\n",
      " 38%|███▊      | 3518/9330 [00:40<01:05, 88.57it/s]"
     ]
    },
    {
     "name": "stdout",
     "output_type": "stream",
     "text": [
      "TRAMUFV128F428DA9F\n",
      "NULL\n",
      "TRAMUUZ128F933CA08\n",
      "hip-hop\n",
      "TRAMUYQ128F428CA58\n",
      "rock and indie\n",
      "TRAMVBZ12903CB2635\n",
      "NULL\n",
      "TRAMVOM128F42ACB16\n",
      "pop\n",
      "TRAMVUW128F42325F9\n",
      "rock and indie\n",
      "TRAMWDI128F92FF678\n",
      "rock and indie\n",
      "TRAMWIC128F92FCC79\n",
      "NULL\n",
      "TRAMWJH128F145DBE9\n",
      "NULL\n",
      "TRAMWKK128F9314838\n",
      "metal\n"
     ]
    },
    {
     "name": "stderr",
     "output_type": "stream",
     "text": [
      "\u001b[A\u001b[A\n",
      "\n",
      " 38%|███▊      | 3531/9330 [00:40<01:01, 93.61it/s]\u001b[A\u001b[A\n",
      "\n",
      " 38%|███▊      | 3541/9330 [00:40<01:07, 85.71it/s]"
     ]
    },
    {
     "name": "stdout",
     "output_type": "stream",
     "text": [
      "TRAMWQG128F427BA3C\n",
      "NULL\n",
      "TRAMWSA128F9359719\n",
      "NULL\n",
      "TRAMXDO128E0798C6A\n",
      "pop\n",
      "TRAMXGR128E07822CC\n",
      "pop\n",
      "TRAMXJC128F428E68F\n",
      "pop\n",
      "TRAMXPQ128F148B0C2\n",
      "NULL\n",
      "TRAMXVR128F92EE43B\n",
      "NULL\n",
      "TRAMXVY128F931C1EF\n",
      "rock and indie\n",
      "TRAMXWX128F424D76B\n",
      "folk\n",
      "TRAMYHK128F9348112\n",
      "pop\n"
     ]
    },
    {
     "name": "stderr",
     "output_type": "stream",
     "text": [
      "\u001b[A\u001b[A\n",
      "\n",
      " 38%|███▊      | 3556/9330 [00:40<01:00, 95.67it/s]\u001b[A\u001b[A"
     ]
    },
    {
     "name": "stdout",
     "output_type": "stream",
     "text": [
      "TRAMYZP128F4296A16\n",
      "NULL\n",
      "TRAMZGZ128F42413C2\n",
      "soul and reggae\n",
      "TRANAHT128E07895F8\n",
      "pop\n",
      "TRANAIE128F146E588\n",
      "NULL\n",
      "TRANANS128F14ABE7E\n",
      "hip-hop\n",
      "TRANAPL128F147328F\n",
      "NULL\n",
      "TRANASA12903D11452\n",
      "folk\n",
      "TRANAUJ128E07860B0\n",
      "hip-hop\n",
      "TRANAYD128F9322A70\n",
      "rock and indie\n"
     ]
    },
    {
     "name": "stderr",
     "output_type": "stream",
     "text": [
      "\n",
      "\n",
      " 38%|███▊      | 3567/9330 [00:40<01:13, 78.79it/s]\u001b[A\u001b[A\n",
      "\n",
      " 38%|███▊      | 3576/9330 [00:41<01:10, 81.67it/s]"
     ]
    },
    {
     "name": "stdout",
     "output_type": "stream",
     "text": [
      "TRANAYU128F4252987\n",
      "NULL\n",
      "TRANBMY128F426416A\n",
      "pop\n",
      "TRANBRL12903CED03D\n",
      "NULL\n",
      "TRANBUW128F933C645\n",
      "pop\n",
      "TRANCCN128E0794B18\n",
      "pop\n",
      "TRANCEE128F4267C92\n",
      "NULL\n",
      "TRANCFS12903C9B61B\n",
      "pop\n",
      "TRANCFU128F42307F9\n",
      "NULL\n",
      "TRANCJG128F14528B4\n",
      "rock and indie\n"
     ]
    },
    {
     "name": "stderr",
     "output_type": "stream",
     "text": [
      "\u001b[A\u001b[A\n",
      "\n",
      " 38%|███▊      | 3585/9330 [00:41<01:12, 78.76it/s]\u001b[A\u001b[A\n",
      "\n",
      " 39%|███▊      | 3594/9330 [00:41<01:12, 79.32it/s]"
     ]
    },
    {
     "name": "stdout",
     "output_type": "stream",
     "text": [
      "TRANCOS128F4267DFB\n",
      "pop\n",
      "TRANCSE128F93044F1\n",
      "pop\n",
      "TRANDBY128F146E8CC\n",
      "rock and indie\n",
      "TRANDEK128F4259EBC\n",
      "rock and indie\n",
      "TRANDHE128F9305CDA\n",
      "pop\n",
      "TRANEHV12903CD1E33\n",
      "soul and reggae\n",
      "TRANELG128F424F264\n",
      "NULL\n",
      "TRANEMQ128F42A10A8\n",
      "rock and indie\n",
      "TRANEQB128F4284978\n",
      "folk\n",
      "TRANEQC12903D01CE6\n",
      "folk\n"
     ]
    },
    {
     "name": "stderr",
     "output_type": "stream",
     "text": [
      "\u001b[A\u001b[A\n",
      "\n",
      " 39%|███▊      | 3603/9330 [00:41<01:16, 75.21it/s]\u001b[A\u001b[A"
     ]
    },
    {
     "name": "stdout",
     "output_type": "stream",
     "text": [
      "TRANFBR128F4294EAF\n",
      "jazz\n",
      "TRANFDB12903CD486C\n",
      "NULL\n",
      "TRANFFQ12903CFFF64\n",
      "rock and indie\n",
      "TRANFIR128F429180A\n",
      "jazz\n",
      "TRANFMB128F146631E\n",
      "NULL\n",
      "TRANFNQ128F425EF2B\n",
      "NULL\n",
      "TRANFTA128F92EA606\n",
      "jazz\n",
      "TRANGCR128F148CF28\n",
      "rock and indie\n",
      "TRANGIY128F427FA51\n",
      "rock and indie\n",
      "TRANGLC128F14B1025\n",
      "NULL\n",
      "TRANGYF128E0786C33\n",
      "pop\n"
     ]
    },
    {
     "name": "stderr",
     "output_type": "stream",
     "text": [
      "\n",
      "\n",
      " 39%|███▊      | 3615/9330 [00:41<01:08, 83.41it/s]\u001b[A\u001b[A\n",
      "\n",
      " 39%|███▉      | 3624/9330 [00:41<01:12, 78.88it/s]"
     ]
    },
    {
     "name": "stdout",
     "output_type": "stream",
     "text": [
      "TRANHJZ128F9331A71\n",
      "NULL\n",
      "TRANHKC128F9309BF4\n",
      "pop\n",
      "TRANHMJ128F9330B50\n",
      "metal\n",
      "TRANHMQ12903CA12E8\n",
      "NULL\n",
      "TRANHQB128F92E1B21\n",
      "hip-hop\n",
      "TRANHQG12903CF5C15\n",
      "rock and indie\n",
      "TRANHRS128F426B925\n",
      "pop\n",
      "TRANHYE128F92DE232\n",
      "pop\n",
      "TRANIBF12903CFA420\n",
      "pop\n",
      "TRANIHL128F42970BD\n",
      "NULL\n",
      "TRANIJQ128F4298A10\n",
      "pop\n"
     ]
    },
    {
     "name": "stderr",
     "output_type": "stream",
     "text": [
      "\u001b[A\u001b[A\n",
      "\n",
      " 39%|███▉      | 3633/9330 [00:41<01:12, 78.61it/s]\u001b[A\u001b[A\n",
      "\n",
      " 39%|███▉      | 3642/9330 [00:41<01:18, 72.85it/s]"
     ]
    },
    {
     "name": "stdout",
     "output_type": "stream",
     "text": [
      "TRANIPA128F93151A2\n",
      "jazz\n",
      "TRANIUD12903CCE692\n",
      "dance and electronica\n",
      "TRANIUS12903D00EC7\n",
      "metal\n",
      "TRANIVG128F1484DED\n",
      "pop\n",
      "TRANIWL128F4262AB0\n",
      "NULL\n",
      "TRANIZO128F9335764\n",
      "dance and electronica\n",
      "TRANJGM128F427A41B\n",
      "pop\n",
      "TRANJJM128F4267B03\n",
      "jazz\n",
      "TRANJWP128F428560C\n",
      "pop\n"
     ]
    },
    {
     "name": "stderr",
     "output_type": "stream",
     "text": [
      "\u001b[A\u001b[A\n",
      "\n",
      " 39%|███▉      | 3651/9330 [00:42<01:17, 73.50it/s]\u001b[A\u001b[A"
     ]
    },
    {
     "name": "stdout",
     "output_type": "stream",
     "text": [
      "TRANKFC128F92D8CB9\n",
      "NULL\n",
      "TRANKIL128F1476FA2\n",
      "pop\n",
      "TRANKKB128EF34A897\n",
      "pop\n",
      "TRANKMZ128F4229023\n",
      "jazz\n",
      "TRANKMZ128F42A0098\n",
      "NULL\n",
      "TRANKPC128F92F79F5\n",
      "jazz\n",
      "TRANKVF128F42724A1\n",
      "soul and reggae\n",
      "TRANKYM128F428B7A4\n",
      "NULL\n",
      "TRANLHL12903CF88E5\n",
      "metal\n",
      "TRANLJA128F42A5379\n",
      "NULL\n",
      "TRANLLL128F42268D9\n",
      "jazz\n"
     ]
    },
    {
     "name": "stderr",
     "output_type": "stream",
     "text": [
      "\n",
      "\n",
      " 39%|███▉      | 3663/9330 [00:42<01:10, 80.35it/s]\u001b[A\u001b[A\n",
      "\n",
      " 39%|███▉      | 3672/9330 [00:42<01:10, 80.78it/s]\u001b[A\u001b[A"
     ]
    },
    {
     "name": "stdout",
     "output_type": "stream",
     "text": [
      "TRANLMB12903CA8250\n",
      "NULL\n",
      "TRANLRX128F4259030\n",
      "dance and electronica\n",
      "TRANLSP128F14671CA\n",
      "hip-hop\n",
      "TRANLYF128F1491D3B\n",
      "NULL\n",
      "TRANMJW128F92D944A\n",
      "jazz\n",
      "TRANMKA128F426C3B0\n",
      "NULL\n",
      "TRANMKF128E07995A8\n",
      "pop\n",
      "TRANMNY128F934FE38\n",
      "hip-hop\n",
      "TRANMOT128F92EFF19\n",
      "NULL\n",
      "TRANMSK128F4234DD8\n",
      "NULL\n"
     ]
    },
    {
     "name": "stderr",
     "output_type": "stream",
     "text": [
      "\n",
      "\n",
      " 39%|███▉      | 3681/9330 [00:42<01:07, 83.29it/s]\u001b[A\u001b[A\n",
      "\n",
      " 40%|███▉      | 3694/9330 [00:42<01:01, 91.47it/s]\u001b[A\u001b[A"
     ]
    },
    {
     "name": "stdout",
     "output_type": "stream",
     "text": [
      "TRANMXY128F1489C65\n",
      "hip-hop\n",
      "TRANNCZ128F92F1D22\n",
      "NULL\n",
      "TRANNES128F4277849\n",
      "NULL\n",
      "TRANNZZ128F92C22F7\n",
      "pop\n",
      "TRANOBE12903CE4DF3\n",
      "NULL\n",
      "TRANOEV128F427957F\n",
      "dance and electronica\n",
      "TRANOHA128F428B1CB\n",
      "pop\n",
      "TRANOKE128F42703A6\n",
      "dance and electronica\n",
      "TRANPHV128F9344CC3\n",
      "rock and indie\n",
      "TRANPLE128F9322D6F\n",
      "rock and indie\n"
     ]
    },
    {
     "name": "stderr",
     "output_type": "stream",
     "text": [
      "\n",
      "\n",
      " 40%|███▉      | 3709/9330 [00:42<00:55, 101.48it/s]\u001b[A\u001b[A\n",
      "\n",
      " 40%|███▉      | 3720/9330 [00:42<00:56, 99.20it/s] \u001b[A\u001b[A"
     ]
    },
    {
     "name": "stdout",
     "output_type": "stream",
     "text": [
      "TRANPRQ128EF348E34\n",
      "pop\n",
      "TRANPRZ128F92FD7B1\n",
      "NULL\n",
      "TRANPUZ128F422B236\n",
      "NULL\n",
      "TRANPWV128F9341281\n",
      "metal\n",
      "TRANPXL128F42B8FED\n",
      "dance and electronica\n",
      "TRANQDK128F9326202\n",
      "NULL\n",
      "TRANQDS12903CE3E1D\n",
      "soul and reggae\n",
      "TRANQEB128F92C46CC\n",
      "NULL\n",
      "TRANQEQ128F428AD70\n",
      "NULL\n",
      "TRANQKF12903CDEC7A\n",
      "NULL\n"
     ]
    },
    {
     "name": "stderr",
     "output_type": "stream",
     "text": [
      "\n",
      "\n",
      " 40%|███▉      | 3731/9330 [00:42<01:04, 86.98it/s]\u001b[A\u001b[A\n",
      "\n",
      " 40%|████      | 3742/9330 [00:42<01:00, 92.73it/s]"
     ]
    },
    {
     "name": "stdout",
     "output_type": "stream",
     "text": [
      "TRANQLL128F92F5263\n",
      "pop\n",
      "TRANQQZ128E079224E\n",
      "pop\n",
      "TRANRDW128E0793D49\n",
      "rock and indie\n",
      "TRANREH128F93462CF\n",
      "hip-hop\n",
      "TRANRFB128F1481F1E\n",
      "pop\n",
      "TRANRGP128F1465737\n",
      "rock and indie\n",
      "TRANRIK128F148C860\n",
      "hip-hop\n",
      "TRANRKN128F93127BB\n",
      "rock and indie\n",
      "TRANRTT128F9347342\n",
      "pop\n"
     ]
    },
    {
     "name": "stderr",
     "output_type": "stream",
     "text": [
      "\u001b[A\u001b[A\n",
      "\n",
      " 40%|████      | 3752/9330 [00:43<01:01, 90.13it/s]\u001b[A\u001b[A\n",
      "\n",
      " 40%|████      | 3766/9330 [00:43<00:57, 97.19it/s]"
     ]
    },
    {
     "name": "stdout",
     "output_type": "stream",
     "text": [
      "TRANRWM128F42873F9\n",
      "dance and electronica\n",
      "TRANRYI128F424D3FB\n",
      "rock and indie\n",
      "TRANRYX128F1488B7F\n",
      "rock and indie\n",
      "TRANSGS128F9303A11\n",
      "rock and indie\n",
      "TRANSKF128F147FCB4\n",
      "pop\n",
      "TRANSSH128F4231393\n",
      "NULL\n",
      "TRANSYV128F428A00C\n",
      "NULL\n",
      "TRANTAD128F92FD042\n",
      "pop\n",
      "TRANTAN128E078B326\n",
      "NULL\n",
      "TRANTEO128F429B51B\n",
      "pop\n"
     ]
    },
    {
     "name": "stderr",
     "output_type": "stream",
     "text": [
      "\u001b[A\u001b[A\n",
      "\n",
      " 40%|████      | 3777/9330 [00:43<00:56, 98.96it/s]\u001b[A\u001b[A\n",
      "\n",
      " 41%|████      | 3790/9330 [00:43<00:53, 102.94it/s]"
     ]
    },
    {
     "name": "stdout",
     "output_type": "stream",
     "text": [
      "TRANTFR128F931C7DA\n",
      "pop\n",
      "TRANTFV128F428447A\n",
      "NULL\n",
      "TRANTMY128F92D3536\n",
      "NULL\n",
      "TRANULO128F422E6FE\n",
      "metal\n",
      "TRANUME128E0789D4C\n",
      "pop\n",
      "TRANUNR12903CE6E2E\n",
      "soul and reggae\n",
      "TRANUPI12903CA6A4F\n",
      "NULL\n",
      "TRANUUU12903CD4347\n",
      "NULL\n",
      "TRANUVH12903D1059F\n",
      "pop\n",
      "TRANVEG12903CAFD2C\n",
      "NULL\n"
     ]
    },
    {
     "name": "stderr",
     "output_type": "stream",
     "text": [
      "\u001b[A\u001b[A\n",
      "\n",
      " 41%|████      | 3801/9330 [00:43<00:53, 103.58it/s]\u001b[A\u001b[A"
     ]
    },
    {
     "name": "stdout",
     "output_type": "stream",
     "text": [
      "TRANVKJ128F92F1561\n",
      "NULL\n",
      "TRANVML128F426ACB2\n",
      "metal\n",
      "TRANVTB128F92E2C34\n",
      "NULL\n",
      "TRANVZT128F42AE134\n",
      "pop\n",
      "TRANWBG128F934AC15\n",
      "metal\n",
      "TRANWEM128F92D75C4\n",
      "rock and indie\n",
      "TRANWIK128F930CDE2\n",
      "NULL\n",
      "TRANWOF12903CB3E19\n",
      "dance and electronica\n",
      "TRANWVZ128F4216718\n",
      "NULL\n",
      "TRANWZE128E078EE09\n",
      "rock and indie\n"
     ]
    },
    {
     "name": "stderr",
     "output_type": "stream",
     "text": [
      "\n",
      "\n",
      " 41%|████      | 3812/9330 [00:43<01:03, 87.29it/s] \u001b[A\u001b[A\n",
      "\n",
      " 41%|████      | 3823/9330 [00:43<01:00, 91.37it/s]"
     ]
    },
    {
     "name": "stdout",
     "output_type": "stream",
     "text": [
      "TRANXBK128F9335042\n",
      "dance and electronica\n",
      "TRANXBO128F428CB28\n",
      "rock and indie\n",
      "TRANXHZ128F148D4DB\n",
      "pop\n",
      "TRANXOR128F930CE22\n",
      "soul and reggae\n",
      "TRANXPU128F428CE4A\n",
      "NULL\n",
      "TRANXZZ128F4230613\n",
      "NULL\n",
      "TRANYAM12903CD9CFC\n",
      "rock and indie\n",
      "TRANYAR12903CFF59B\n",
      "NULL\n",
      "TRANYLM128F1477EC9\n",
      "NULL\n",
      "TRANYLR128F933D81F\n",
      "NULL\n"
     ]
    },
    {
     "name": "stderr",
     "output_type": "stream",
     "text": [
      "\u001b[A\u001b[A\n",
      "\n",
      " 41%|████      | 3833/9330 [00:43<01:03, 86.04it/s]\u001b[A\u001b[A\n",
      "\n",
      " 41%|████      | 3842/9330 [00:44<01:05, 83.33it/s]"
     ]
    },
    {
     "name": "stdout",
     "output_type": "stream",
     "text": [
      "TRANYSY128F1473B74\n",
      "NULL\n",
      "TRANYVC12903CF1535\n",
      "NULL\n",
      "TRANYYX128F4276EE3\n",
      "dance and electronica\n",
      "TRANYZJ128F423B989\n",
      "soul and reggae\n",
      "TRANZDB12903CC55EF\n",
      "soul and reggae\n",
      "TRANZFP128E07995A9\n",
      "pop\n",
      "TRANZHO128F4289A58\n",
      "hip-hop\n",
      "TRANZIC128F931CE6D\n",
      "pop\n",
      "TRANZIL128F42A2670\n",
      "pop\n",
      "TRANZKG128F429068A\n",
      "NULL\n"
     ]
    },
    {
     "name": "stderr",
     "output_type": "stream",
     "text": [
      "\u001b[A\u001b[A\n",
      "\n",
      " 41%|████▏     | 3851/9330 [00:44<01:17, 71.08it/s]\u001b[A\u001b[A"
     ]
    },
    {
     "name": "stdout",
     "output_type": "stream",
     "text": [
      "TRANZLM128F92F741E\n",
      "pop\n",
      "TRANZOR128F9307EFD\n",
      "rock and indie\n",
      "TRANZPN128F934935A\n",
      "jazz\n",
      "TRANZRO128F4278401\n",
      "pop\n",
      "TRANZTY128F424D794\n",
      "rock and indie\n",
      "TRANZYG12903CFB180\n",
      "NULL\n",
      "TRANZYU128F4229CDB\n",
      "dance and electronica\n",
      "TRAOAAX128F93170DE\n",
      "pop\n",
      "TRAOAFS12903CF2B40\n",
      "pop\n",
      "TRAOASQ128F429822C\n",
      "NULL\n",
      "TRAOATJ128F147FC9B"
     ]
    },
    {
     "name": "stderr",
     "output_type": "stream",
     "text": [
      "\n",
      "\n",
      " 41%|████▏     | 3860/9330 [00:44<01:12, 75.73it/s]\u001b[A\u001b[A\n",
      "\n",
      " 41%|████▏     | 3869/9330 [00:44<01:11, 75.93it/s]"
     ]
    },
    {
     "name": "stdout",
     "output_type": "stream",
     "text": [
      "\n",
      "pop\n",
      "TRAOAVZ128F9306038\n",
      "soul and reggae\n",
      "TRAOAXK128F4268FE6\n",
      "NULL\n",
      "TRAOAYQ128F428A098\n",
      "NULL\n",
      "TRAOAYQ12903CFE05C\n",
      "NULL\n",
      "TRAOBBJ128F429D31D\n",
      "pop\n",
      "TRAOBBM128F4255271\n",
      "rock and indie\n",
      "TRAOBDT128F42B62F8\n",
      "soul and reggae\n",
      "TRAOBNW128F92FCCC0\n",
      "metal\n",
      "TRAOBOQ12903CC1289\n",
      "rock and indie\n"
     ]
    },
    {
     "name": "stderr",
     "output_type": "stream",
     "text": [
      "\u001b[A\u001b[A\n",
      "\n",
      " 42%|████▏     | 3883/9330 [00:44<01:03, 85.14it/s]\u001b[A\u001b[A\n",
      "\n",
      " 42%|████▏     | 3893/9330 [00:44<01:01, 88.33it/s]"
     ]
    },
    {
     "name": "stdout",
     "output_type": "stream",
     "text": [
      "TRAOBQO12903CCEF53\n",
      "NULL\n",
      "TRAOBUI128E078E073\n",
      "pop\n",
      "TRAOCOE128F4276D18\n",
      "pop\n",
      "TRAOCSE128F4282321\n",
      "NULL\n",
      "TRAOCVH128F930A8EF\n",
      "NULL\n",
      "TRAODAO12903CB24B8\n",
      "rock and indie\n",
      "TRAODGF128F92F3FF9\n",
      "pop\n",
      "TRAOEAQ12903CC26BD\n",
      "rock and indie\n"
     ]
    },
    {
     "name": "stderr",
     "output_type": "stream",
     "text": [
      "\u001b[A\u001b[A\n",
      "\n",
      " 42%|████▏     | 3905/9330 [00:44<00:57, 93.85it/s]\u001b[A\u001b[A"
     ]
    },
    {
     "name": "stdout",
     "output_type": "stream",
     "text": [
      "TRAOECP128F9302A6C\n",
      "rock and indie\n",
      "TRAOEFE128F425C67A\n",
      "NULL\n",
      "TRAOEFX128F4241203\n",
      "hip-hop\n",
      "TRAOEQO128E0785439\n",
      "folk\n",
      "TRAOEYW128E0792A0C\n",
      "hip-hop\n",
      "TRAOFJS12903CF3F3D\n",
      "pop\n",
      "TRAOFJZ128F92F8F65\n",
      "NULL\n",
      "TRAOFMZ128F9317D06\n",
      "NULL\n",
      "TRAOGAZ128F42B7FFC\n",
      "pop\n",
      "TRAOGHG12903CA3B89"
     ]
    },
    {
     "name": "stderr",
     "output_type": "stream",
     "text": [
      "\n",
      "\n",
      " 42%|████▏     | 3915/9330 [00:44<01:03, 85.67it/s]\u001b[A\u001b[A\n",
      "\n",
      " 42%|████▏     | 3924/9330 [00:45<01:06, 81.12it/s]"
     ]
    },
    {
     "name": "stdout",
     "output_type": "stream",
     "text": [
      "\n",
      "pop\n",
      "TRAOHBA128F92EFE63\n",
      "NULL\n",
      "TRAOHGX12903CE5F83\n",
      "NULL\n",
      "TRAOHJU128E0780CD2\n",
      "pop\n",
      "TRAOHMN128F92EA786\n",
      "NULL\n",
      "TRAOHNR128F428CD58\n",
      "pop\n",
      "TRAOHPG12903CE4155\n",
      "rock and indie\n",
      "TRAOINP128F92F0217\n",
      "metal\n",
      "TRAOIRH128F427C366\n",
      "NULL\n",
      "TRAOJEW128F4294CBD\n",
      "NULL\n"
     ]
    },
    {
     "name": "stderr",
     "output_type": "stream",
     "text": [
      "\u001b[A\u001b[A\n",
      "\n",
      " 42%|████▏     | 3943/9330 [00:45<00:56, 95.89it/s]\u001b[A\u001b[A\n",
      "\n",
      " 42%|████▏     | 3954/9330 [00:45<00:59, 90.65it/s]"
     ]
    },
    {
     "name": "stdout",
     "output_type": "stream",
     "text": [
      "TRAOJFT128F92CF5B5\n",
      "NULL\n",
      "TRAOJMY128E07836D9\n",
      "rock and indie\n",
      "TRAOJPT128F423F63E\n",
      "NULL\n",
      "TRAOJXQ128F1465473\n",
      "NULL\n",
      "TRAOJYI128F42AD95E\n",
      "NULL\n",
      "TRAOJZC128F14932D5\n",
      "pop\n",
      "TRAOJZU128F93211FA\n",
      "pop\n",
      "TRAOKSC128F4264989\n",
      "pop\n",
      "TRAOKXG128F4232497\n",
      "rock and indie\n"
     ]
    },
    {
     "name": "stderr",
     "output_type": "stream",
     "text": [
      "\u001b[A\u001b[A\n",
      "\n",
      " 42%|████▏     | 3965/9330 [00:45<01:08, 78.05it/s]\u001b[A\u001b[A"
     ]
    },
    {
     "name": "stdout",
     "output_type": "stream",
     "text": [
      "TRAOLGV12903CB4229\n",
      "metal\n",
      "TRAOLIX128E0793AFA\n",
      "pop\n",
      "TRAOLOX128F422F02B\n",
      "NULL\n",
      "TRAOLUA128F422BB1D\n",
      "NULL\n",
      "TRAOLZJ12903CB4FC7\n",
      "pop\n",
      "TRAOMBK128F1495E45\n",
      "NULL\n",
      "TRAOMDT12903CF73C3\n",
      "rock and indie\n",
      "TRAOMIC128F92F2B0B\n",
      "jazz\n",
      "TRAOMKV128F428CD51\n",
      "hip-hop\n",
      "TRAOMMU128F933878B\n",
      "rock and indie\n",
      "TRAOMNR128F422C3FC"
     ]
    },
    {
     "name": "stderr",
     "output_type": "stream",
     "text": [
      "\n",
      "\n",
      " 43%|████▎     | 3974/9330 [00:45<01:15, 71.36it/s]\u001b[A\u001b[A"
     ]
    },
    {
     "name": "stdout",
     "output_type": "stream",
     "text": [
      "\n",
      "NULL\n",
      "TRAOMQN128F9328043\n",
      "hip-hop\n",
      "TRAOMVL128F14662F1\n",
      "NULL\n",
      "TRAOMYU12903CF2C83\n",
      "pop\n",
      "TRAONBN128F145F0C0\n",
      "rock and indie\n",
      "TRAONEQ128F42A8AB7\n",
      "NULL\n",
      "TRAONMS128F1481B05\n",
      "NULL\n",
      "TRAONNA128F4268CCA\n",
      "hip-hop\n",
      "TRAONPF128F42480A7\n",
      "NULL\n",
      "TRAONYI128F9324BA3\n",
      "pop\n",
      "TRAOOGD128F92E4768\n",
      "pop\n"
     ]
    },
    {
     "name": "stderr",
     "output_type": "stream",
     "text": [
      "\n",
      "\n",
      " 43%|████▎     | 3982/9330 [00:45<01:19, 67.65it/s]\u001b[A\u001b[A\n",
      "\n",
      " 43%|████▎     | 3994/9330 [00:45<01:09, 76.96it/s]\u001b[A\u001b[A"
     ]
    },
    {
     "name": "stdout",
     "output_type": "stream",
     "text": [
      "TRAOOGL128F93303AA\n",
      "NULL\n",
      "TRAOOGO128F92CC441\n",
      "NULL\n",
      "TRAOOHM128F1453E33\n",
      "hip-hop\n",
      "TRAOOQN12903CEB763\n",
      "jazz\n",
      "TRAOOSW12903CBF122\n",
      "NULL\n",
      "TRAOPAR128F92EFD17\n",
      "NULL\n",
      "TRAOPAT128F92C970F\n",
      "NULL\n",
      "TRAOPRI12903C9FC25\n",
      "pop\n",
      "TRAOPRY12903CDD3E0\n",
      "metal\n",
      "TRAOPTT128F145837E\n",
      "NULL\n"
     ]
    },
    {
     "name": "stderr",
     "output_type": "stream",
     "text": [
      "\n",
      "\n",
      " 43%|████▎     | 4006/9330 [00:45<01:02, 85.05it/s]\u001b[A\u001b[A\n",
      "\n",
      " 43%|████▎     | 4020/9330 [00:46<00:57, 92.81it/s]\u001b[A\u001b[A"
     ]
    },
    {
     "name": "stdout",
     "output_type": "stream",
     "text": [
      "TRAOPVD128F425A989\n",
      "dance and electronica\n",
      "TRAOQRI128F424399C\n",
      "dance and electronica\n",
      "TRAOQSA128F42AE616\n",
      "pop\n",
      "TRAOQVC128F930B50A\n",
      "classical\n",
      "TRAOREE128F934DB89\n",
      "hip-hop\n",
      "TRAOREV128F42640FF\n",
      "rock and indie\n",
      "TRAORSC128F4235056\n",
      "NULL\n",
      "TRAOSDM128F93085C0\n",
      "NULL\n",
      "TRAOSFC128F42618F6\n",
      "jazz\n",
      "TRAOTMV128F934F29D\n",
      "NULL\n"
     ]
    },
    {
     "name": "stderr",
     "output_type": "stream",
     "text": [
      "\n",
      "\n",
      " 43%|████▎     | 4038/9330 [00:46<00:48, 108.48it/s]\u001b[A\u001b[A\n",
      "\n",
      " 43%|████▎     | 4051/9330 [00:46<00:49, 107.12it/s]\u001b[A\u001b[A"
     ]
    },
    {
     "name": "stdout",
     "output_type": "stream",
     "text": [
      "TRAOTTA128F4284288\n",
      "NULL\n",
      "TRAOUAG12903CBD58D\n",
      "dance and electronica\n",
      "TRAOUGE128E078AB7A\n",
      "dance and electronica\n",
      "TRAOUOI128F4290E44\n",
      "folk\n",
      "TRAOURR128F931A9EA\n",
      "NULL\n",
      "TRAOUTM128F4267580\n",
      "pop\n",
      "TRAOVFR128F93275B4\n",
      "dance and electronica\n",
      "TRAOVRK128F4289B3A\n",
      "rock and indie\n",
      "TRAOVVK128F932E4EF\n",
      "metal\n",
      "TRAOWBP128F4257C64\n",
      "pop\n"
     ]
    },
    {
     "name": "stderr",
     "output_type": "stream",
     "text": [
      "\n",
      "\n",
      " 44%|████▎     | 4063/9330 [00:46<00:52, 99.72it/s] \u001b[A\u001b[A\n",
      "\n",
      " 44%|████▎     | 4076/9330 [00:46<00:50, 104.12it/s]"
     ]
    },
    {
     "name": "stdout",
     "output_type": "stream",
     "text": [
      "TRAOWFX128F4261A00\n",
      "NULL\n",
      "TRAOWIU128F423195C\n",
      "metal\n",
      "TRAOWKB128F9339C18\n",
      "hip-hop\n",
      "TRAOWVD128F930C0D1\n",
      "jazz\n",
      "TRAOWXO128E0783F68\n",
      "NULL\n",
      "TRAOXGY12903CD926C\n",
      "pop\n",
      "TRAOXJM128F4261E07\n",
      "pop\n",
      "TRAOXSN128F4282FB5\n",
      "NULL\n",
      "TRAOXXM128F932FC70\n",
      "pop\n"
     ]
    },
    {
     "name": "stderr",
     "output_type": "stream",
     "text": [
      "\u001b[A\u001b[A\n",
      "\n",
      " 44%|████▍     | 4088/9330 [00:46<00:54, 95.73it/s] \u001b[A\u001b[A\n",
      "\n",
      " 44%|████▍     | 4104/9330 [00:46<00:48, 108.80it/s]"
     ]
    },
    {
     "name": "stdout",
     "output_type": "stream",
     "text": [
      "TRAOXXQ12903CB5BB0\n",
      "pop\n",
      "TRAOYHS128F427EF8B\n",
      "pop\n",
      "TRAOYPB128F425AF1C\n",
      "dance and electronica\n",
      "TRAOYQV12903CF8089\n",
      "dance and electronica\n",
      "TRAOZEJ128F428CCEA\n",
      "hip-hop\n",
      "TRAOZSG128EF3428D8\n",
      "NULL\n",
      "TRAPAAV128F426677B\n",
      "soul and reggae\n",
      "TRAPAES128E0786E60\n",
      "rock and indie\n",
      "TRAPARR12903CE2125\n",
      "jazz\n",
      "TRAPASL128F422BC00\n",
      "pop\n"
     ]
    },
    {
     "name": "stderr",
     "output_type": "stream",
     "text": [
      "\u001b[A\u001b[A\n",
      "\n",
      " 44%|████▍     | 4116/9330 [00:46<00:49, 104.62it/s]\u001b[A\u001b[A"
     ]
    },
    {
     "name": "stdout",
     "output_type": "stream",
     "text": [
      "TRAPAZE128F4233355\n",
      "rock and indie\n",
      "TRAPBCW12903D07A48\n",
      "NULL\n",
      "TRAPBHY128F148946F\n",
      "pop\n",
      "TRAPBNC128F4250CD2\n",
      "NULL\n",
      "TRAPBPP128F92F07BF\n",
      "NULL\n",
      "TRAPBSY128F4282B60\n",
      "dance and electronica\n",
      "TRAPBUF128F4278988\n",
      "rock and indie\n",
      "TRAPCDS128F147E530\n",
      "pop\n",
      "TRAPCHT128F4239830\n",
      "rock and indie\n",
      "TRAPCIB128F14731ED\n",
      "hip-hop\n"
     ]
    },
    {
     "name": "stderr",
     "output_type": "stream",
     "text": [
      "\n",
      "\n",
      " 44%|████▍     | 4128/9330 [00:47<00:58, 88.34it/s] \u001b[A\u001b[A"
     ]
    },
    {
     "name": "stdout",
     "output_type": "stream",
     "text": [
      "TRAPCIQ128F4241A74\n",
      "pop\n",
      "TRAPCIS128F931F63D\n",
      "jazz\n",
      "TRAPCLC128EF35AE0B\n",
      "NULL\n",
      "TRAPCNK128F427D7B5\n",
      "dance and electronica\n",
      "TRAPCRL128F1458F41\n",
      "classical\n",
      "TRAPCRV128F931425C\n",
      "NULL\n",
      "TRAPCVT128F428A9D0\n",
      "rock and indie\n",
      "TRAPDCB128F42824A6\n",
      "pop\n",
      "TRAPDHL128F145401B\n",
      "NULL\n",
      "TRAPDIO128F933C680\n",
      "pop\n",
      "TRAPDNS128F425F97E\n",
      "pop\n"
     ]
    },
    {
     "name": "stderr",
     "output_type": "stream",
     "text": [
      "\n",
      "\n",
      " 44%|████▍     | 4138/9330 [00:47<01:02, 82.83it/s]\u001b[A\u001b[A\n",
      "\n",
      " 44%|████▍     | 4148/9330 [00:47<01:05, 78.62it/s]\u001b[A\u001b[A"
     ]
    },
    {
     "name": "stdout",
     "output_type": "stream",
     "text": [
      "TRAPDOI128F9327982\n",
      "rock and indie\n",
      "TRAPDQG128F93018C0\n",
      "rock and indie\n",
      "TRAPDXB128F42AF71A\n",
      "NULL\n",
      "TRAPDZT128F42A8498\n",
      "dance and electronica\n",
      "TRAPEBL128F149E768\n",
      "NULL\n",
      "TRAPEHR128E0786D5A\n",
      "pop\n",
      "TRAPEIN128E078892E\n",
      "rock and indie\n",
      "TRAPEPI128F4226DDD\n",
      "NULL\n",
      "TRAPESV128F92FE5E9\n",
      "rock and indie\n",
      "TRAPFAQ128F14A050F\n",
      "pop\n"
     ]
    },
    {
     "name": "stderr",
     "output_type": "stream",
     "text": [
      "\n",
      "\n",
      " 45%|████▍     | 4157/9330 [00:47<01:10, 73.06it/s]\u001b[A\u001b[A\n",
      "\n",
      " 45%|████▍     | 4165/9330 [00:47<01:10, 73.53it/s]"
     ]
    },
    {
     "name": "stdout",
     "output_type": "stream",
     "text": [
      "TRAPFBJ128F9308EE6\n",
      "rock and indie\n",
      "TRAPFCP128F9307630\n",
      "NULL\n",
      "TRAPFDK128F426F284\n",
      "NULL\n",
      "TRAPFFR12903CDB202\n",
      "NULL\n",
      "TRAPFIP128F42AC31E\n",
      "pop\n",
      "TRAPFPH128F42269F6\n",
      "pop\n",
      "TRAPFXX128E0785EBA\n",
      "pop\n",
      "TRAPGAG128F42ADAF7\n",
      "pop\n",
      "TRAPGFN12903CB5BAC\n",
      "pop\n"
     ]
    },
    {
     "name": "stderr",
     "output_type": "stream",
     "text": [
      "\u001b[A\u001b[A\n",
      "\n",
      " 45%|████▍     | 4173/9330 [00:47<01:15, 67.92it/s]\u001b[A\u001b[A"
     ]
    },
    {
     "name": "stdout",
     "output_type": "stream",
     "text": [
      "TRAPGGP128F92E83B3\n",
      "soul and reggae\n",
      "TRAPGKY128F42972A9\n",
      "rock and indie\n",
      "TRAPGNA128F421A89E\n",
      "rock and indie\n",
      "TRAPGOC128F932F01A\n",
      "soul and reggae\n",
      "TRAPGOZ128F933A945\n",
      "rock and indie\n",
      "TRAPGPZ128E0784AB8\n",
      "pop\n",
      "TRAPGYN128F92C40CC\n",
      "NULL\n",
      "TRAPHAH128F42677A4\n",
      "pop\n",
      "TRAPHAW128F1479508\n",
      "NULL\n",
      "TRAPHDI128F92F5EA1\n",
      "pop\n"
     ]
    },
    {
     "name": "stderr",
     "output_type": "stream",
     "text": [
      "\n",
      "\n",
      " 45%|████▍     | 4182/9330 [00:47<01:11, 71.86it/s]\u001b[A\u001b[A\n",
      "\n",
      " 45%|████▍     | 4193/9330 [00:47<01:06, 77.38it/s]\u001b[A\u001b[A"
     ]
    },
    {
     "name": "stdout",
     "output_type": "stream",
     "text": [
      "TRAPHFD12903CFCEA0\n",
      "dance and electronica\n",
      "TRAPHQB128F424AB35\n",
      "dance and electronica\n",
      "TRAPHZT128F147A02B\n",
      "pop\n",
      "TRAPHZY128F149579B\n",
      "rock and indie\n",
      "TRAPIGH128F1469B29\n",
      "dance and electronica\n",
      "TRAPIIR128F42555AE\n",
      "pop\n",
      "TRAPIIR128F42AEE95\n",
      "hip-hop\n",
      "TRAPIOP128F4287338\n",
      "rock and indie\n",
      "TRAPIPG128F42521C6\n",
      "NULL\n",
      "TRAPISC128F14671D3\n",
      "hip-hop\n"
     ]
    },
    {
     "name": "stderr",
     "output_type": "stream",
     "text": [
      "\n",
      "\n",
      " 45%|████▌     | 4202/9330 [00:48<01:05, 78.27it/s]\u001b[A\u001b[A\n",
      "\n",
      " 45%|████▌     | 4211/9330 [00:48<01:09, 73.47it/s]\u001b[A\u001b[A"
     ]
    },
    {
     "name": "stdout",
     "output_type": "stream",
     "text": [
      "TRAPJBL12903CE2AA7\n",
      "rock and indie\n",
      "TRAPJFL128F42AA7B4\n",
      "pop\n",
      "TRAPJJR128F92E132D\n",
      "NULL\n",
      "TRAPJLL128F92EC0E1\n",
      "rock and indie\n",
      "TRAPJPD128F14572B3\n",
      "rock and indie\n",
      "TRAPJTU128F147A054\n",
      "dance and electronica\n",
      "TRAPJYG128F9320780\n",
      "NULL\n",
      "TRAPKBI128F92F9D33\n",
      "rock and indie\n",
      "TRAPKIJ128F42ACBC5\n",
      "dance and electronica\n",
      "TRAPKJB12903CE3A70\n",
      "NULL\n",
      "TRAPKJT128F9311D9E\n",
      "pop\n"
     ]
    },
    {
     "name": "stderr",
     "output_type": "stream",
     "text": [
      "\n",
      "\n",
      " 45%|████▌     | 4219/9330 [00:48<01:17, 66.26it/s]\u001b[A\u001b[A\n",
      "\n",
      " 45%|████▌     | 4230/9330 [00:48<01:09, 73.02it/s]"
     ]
    },
    {
     "name": "stdout",
     "output_type": "stream",
     "text": [
      "TRAPKSE128F42AB9FB\n",
      "NULL\n",
      "TRAPLBK128F930FDB4\n",
      "pop\n",
      "TRAPLET128F145B049\n",
      "NULL\n",
      "TRAPLGZ128E0795B5C\n",
      "pop\n",
      "TRAPLMD128F932FF43\n",
      "rock and indie\n",
      "TRAPLSD128E0781A94\n",
      "pop\n",
      "TRAPMCS128F92E88C5\n",
      "rock and indie\n",
      "TRAPMFR128F9316841\n",
      "rock and indie\n"
     ]
    },
    {
     "name": "stderr",
     "output_type": "stream",
     "text": [
      "\u001b[A\u001b[A\n",
      "\n",
      " 45%|████▌     | 4238/9330 [00:48<01:13, 69.08it/s]\u001b[A\u001b[A"
     ]
    },
    {
     "name": "stdout",
     "output_type": "stream",
     "text": [
      "TRAPMHX12903CB682B\n",
      "NULL\n",
      "TRAPMMM128F932E204\n",
      "hip-hop\n",
      "TRAPMRB128E078E21E\n",
      "pop\n",
      "TRAPMRV128F92F5F4C\n",
      "pop\n",
      "TRAPMTM128F425B4E5\n",
      "pop\n",
      "TRAPMTY128F1459DA1\n",
      "NULL\n",
      "TRAPMYO128F14903F5\n",
      "NULL\n",
      "TRAPMZJ128F42AFC5C\n",
      "NULL\n",
      "TRAPNDJ128F427AB8A\n",
      "pop\n",
      "TRAPNII12903CEA4F8\n",
      "rock and indie\n"
     ]
    },
    {
     "name": "stderr",
     "output_type": "stream",
     "text": [
      "\n",
      "\n",
      " 46%|████▌     | 4246/9330 [00:48<01:19, 63.97it/s]\u001b[A\u001b[A\n",
      "\n",
      " 46%|████▌     | 4261/9330 [00:48<01:05, 77.24it/s]"
     ]
    },
    {
     "name": "stdout",
     "output_type": "stream",
     "text": [
      "TRAPNJP128F1463E4B\n",
      "dance and electronica\n",
      "TRAPNMR128F4296B0F\n",
      "dance and electronica\n",
      "TRAPNQZ128F145B04E\n",
      "NULL\n",
      "TRAPNSM128F9343E74\n",
      "jazz\n",
      "TRAPNZR128EF3583E8\n",
      "rock and indie\n",
      "TRAPOAD128E0788A38\n",
      "hip-hop\n",
      "TRAPOEA12903CDBB5F\n",
      "NULL\n",
      "TRAPOYK128F426BE3B\n",
      "NULL\n",
      "TRAPOYU128F42644C3\n",
      "rock and indie\n",
      "TRAPPEH128F4294772\n",
      "dance and electronica\n",
      "TRAPPUJ128F931B3D1\n",
      "pop\n"
     ]
    },
    {
     "name": "stderr",
     "output_type": "stream",
     "text": [
      "\u001b[A\u001b[A\n",
      "\n",
      " 46%|████▌     | 4271/9330 [00:49<01:04, 77.92it/s]\u001b[A\u001b[A\n",
      "\n",
      " 46%|████▌     | 4280/9330 [00:49<01:02, 80.47it/s]"
     ]
    },
    {
     "name": "stdout",
     "output_type": "stream",
     "text": [
      "TRAPPUN128F429400B\n",
      "pop\n",
      "TRAPQBU128F934C32D\n",
      "rock and indie\n",
      "TRAPQDB128F930BD28\n",
      "rock and indie\n",
      "TRAPQMG128F930DEC3\n",
      "NULL\n",
      "TRAPQNA128F93000EB\n",
      "NULL\n",
      "TRAPQQI128F1460D64\n",
      "pop\n",
      "TRAPQQP128F42142F6\n",
      "NULL\n",
      "TRAPQSY12903CF53D1\n",
      "jazz\n",
      "TRAPQWM128EF342970\n",
      "NULL\n",
      "TRAPQZO12903CFA319\n",
      "NULL\n"
     ]
    },
    {
     "name": "stderr",
     "output_type": "stream",
     "text": [
      "\u001b[A\u001b[A\n",
      "\n",
      " 46%|████▌     | 4293/9330 [00:49<00:56, 89.76it/s]\u001b[A\u001b[A\n",
      "\n",
      " 46%|████▌     | 4303/9330 [00:49<00:59, 84.94it/s]"
     ]
    },
    {
     "name": "stdout",
     "output_type": "stream",
     "text": [
      "TRAPRDY128F930DBA5\n",
      "dance and electronica\n",
      "TRAPRLP128F429302A\n",
      "NULL\n",
      "TRAPRQZ128F427E188\n",
      "pop\n",
      "TRAPRRP12903CD97E9\n",
      "rock and indie\n",
      "TRAPSBI128F149D9EC\n",
      "folk\n",
      "TRAPSHW128F14560A6\n",
      "rock and indie\n",
      "TRAPSJN128F422AF18\n",
      "metal\n",
      "TRAPSLP12903CC80EC\n",
      "NULL\n",
      "TRAPSLR128F4258D62\n",
      "NULL\n",
      "TRAPSZU128E0785BD2\n"
     ]
    },
    {
     "name": "stderr",
     "output_type": "stream",
     "text": [
      "\u001b[A\u001b[A\n",
      "\n",
      " 46%|████▌     | 4313/9330 [00:49<00:58, 85.86it/s]\u001b[A\u001b[A\n",
      "\n",
      " 46%|████▋     | 4326/9330 [00:49<00:53, 93.80it/s]"
     ]
    },
    {
     "name": "stdout",
     "output_type": "stream",
     "text": [
      "NULL\n",
      "TRAPTCZ12903CD4408\n",
      "dance and electronica\n",
      "TRAPTGG128F9326020\n",
      "pop\n",
      "TRAPTHJ128F92C70D6\n",
      "NULL\n",
      "TRAPTOE128F4272000\n",
      "pop\n",
      "TRAPTQA128F42341FA\n",
      "rock and indie\n",
      "TRAPTRH128F4271659\n",
      "pop\n",
      "TRAPUED128F92C5741\n",
      "jazz\n",
      "TRAPUFL128F425A8F9\n",
      "pop\n",
      "TRAPUFV128F4231392\n",
      "NULL\n"
     ]
    },
    {
     "name": "stderr",
     "output_type": "stream",
     "text": [
      "\u001b[A\u001b[A\n",
      "\n",
      " 46%|████▋     | 4336/9330 [00:49<01:01, 81.59it/s]\u001b[A\u001b[A"
     ]
    },
    {
     "name": "stdout",
     "output_type": "stream",
     "text": [
      "TRAPUVW128F42980AD\n",
      "pop\n",
      "TRAPUWG128EF3425E7\n",
      "pop\n",
      "TRAPVBP128F9308A86\n",
      "pop\n",
      "TRAPVDC128F422C711\n",
      "metal\n",
      "TRAPVGB128F42725AF\n",
      "pop\n",
      "TRAPVRU128F9302300\n",
      "dance and electronica\n",
      "TRAPVXQ128F425A974\n",
      "dance and electronica\n",
      "TRAPVXU128F149E7CD\n",
      "dance and electronica\n",
      "TRAPVYD12903CE0269\n",
      "metal"
     ]
    },
    {
     "name": "stderr",
     "output_type": "stream",
     "text": [
      "\n",
      "\n",
      " 47%|████▋     | 4347/9330 [00:49<00:57, 86.57it/s]\u001b[A\u001b[A\n",
      "\n",
      " 47%|████▋     | 4357/9330 [00:49<00:57, 86.06it/s]\u001b[A\u001b[A"
     ]
    },
    {
     "name": "stdout",
     "output_type": "stream",
     "text": [
      "\n",
      "TRAPVZR128F92F8FD0\n",
      "NULL\n",
      "TRAPWMY128F4275285\n",
      "pop\n",
      "TRAPWXY128F14B0901\n",
      "rock and indie\n",
      "TRAPWZW128F4292E66\n",
      "pop\n",
      "TRAPXHQ128F9340E67\n",
      "soul and reggae\n",
      "TRAPXLO128F931B20B\n",
      "NULL\n",
      "TRAPXOE128F92FAB15\n",
      "NULL\n",
      "TRAPXSL128F42305D6\n",
      "dance and electronica\n",
      "TRAPXVE128F92DD085\n",
      "NULL\n"
     ]
    },
    {
     "name": "stderr",
     "output_type": "stream",
     "text": [
      "\n",
      "\n",
      " 47%|████▋     | 4366/9330 [00:50<00:57, 86.06it/s]\u001b[A\u001b[A\n",
      "\n",
      " 47%|████▋     | 4378/9330 [00:50<00:53, 91.94it/s]"
     ]
    },
    {
     "name": "stdout",
     "output_type": "stream",
     "text": [
      "TRAPXZH128F92E1E72\n",
      "NULL\n",
      "TRAPYCR128F4289604\n",
      "rock and indie\n",
      "TRAPYGN128F42345D8\n",
      "NULL\n",
      "TRAPYML128F423DF98\n",
      "NULL\n",
      "TRAPYVH128F428CFD7\n",
      "rock and indie\n",
      "TRAPZLI128F92DB0CD\n",
      "hip-hop\n",
      "TRAPZQI128F428CF18\n",
      "rock and indie\n",
      "TRAPZQV128F9313F84\n",
      "rock and indie\n",
      "TRAPZTV128F92CAA4E\n",
      "pop\n",
      "TRAPZYO128EF3519A2\n",
      "dance and electronica\n"
     ]
    },
    {
     "name": "stderr",
     "output_type": "stream",
     "text": [
      "\u001b[A\u001b[A\n",
      "\n",
      " 47%|████▋     | 4388/9330 [00:50<00:57, 86.40it/s]\u001b[A\u001b[A\n",
      "\n",
      " 47%|████▋     | 4397/9330 [00:50<00:58, 84.66it/s]"
     ]
    },
    {
     "name": "stdout",
     "output_type": "stream",
     "text": [
      "TRAQACB128F4263F7B\n",
      "pop\n",
      "TRAQADQ12903CDCEF5\n",
      "NULL\n",
      "TRAQAIW12903C9B61E\n",
      "pop\n",
      "TRAQAMG128F934AED9\n",
      "NULL\n",
      "TRAQAYU128EF340AD0\n",
      "pop\n",
      "TRAQBGZ128F932CD62\n",
      "NULL\n",
      "TRAQBNL128F421DC67\n",
      "NULL\n",
      "TRAQBNL128F4254D13\n",
      "dance and electronica\n"
     ]
    },
    {
     "name": "stderr",
     "output_type": "stream",
     "text": [
      "\u001b[A\u001b[A\n",
      "\n",
      " 47%|████▋     | 4410/9330 [00:50<00:54, 90.78it/s]\u001b[A\u001b[A"
     ]
    },
    {
     "name": "stdout",
     "output_type": "stream",
     "text": [
      "TRAQCCG128F14AD361\n",
      "NULL\n",
      "TRAQCIO128EF34C3F7\n",
      "NULL\n",
      "TRAQCKG128F421C277\n",
      "rock and indie\n",
      "TRAQCXM128F4230BAD\n",
      "NULL\n",
      "TRAQDBO128F92ED2AC\n",
      "metal\n",
      "TRAQDID128F92FF26D\n",
      "NULL\n",
      "TRAQDSN128F42934A2\n",
      "pop\n",
      "TRAQDUR128F931B4E9\n",
      "pop\n",
      "TRAQDVL128F9311923\n",
      "dance and electronica\n"
     ]
    },
    {
     "name": "stderr",
     "output_type": "stream",
     "text": [
      "\n",
      "\n",
      " 47%|████▋     | 4420/9330 [00:50<01:02, 78.01it/s]\u001b[A\u001b[A\n",
      "\n",
      " 47%|████▋     | 4429/9330 [00:50<01:07, 72.47it/s]"
     ]
    },
    {
     "name": "stdout",
     "output_type": "stream",
     "text": [
      "TRAQDWW12903CF4274\n",
      "classical\n",
      "TRAQDXL128F4260EB8\n",
      "rock and indie\n",
      "TRAQDXM128F421F033\n",
      "pop\n",
      "TRAQDZM128F426444D\n",
      "NULL\n",
      "TRAQDZZ128F42AF66A\n",
      "NULL\n",
      "TRAQEEB128F9332D97\n",
      "pop\n",
      "TRAQEFY128F42A0036\n",
      "rock and indie\n",
      "TRAQEKD128F425293D\n",
      "pop\n",
      "TRAQELD128F4274F52\n",
      "NULL\n"
     ]
    },
    {
     "name": "stderr",
     "output_type": "stream",
     "text": [
      "\u001b[A\u001b[A\n",
      "\n",
      " 48%|████▊     | 4437/9330 [00:50<01:09, 70.17it/s]\u001b[A\u001b[A\n",
      "\n",
      " 48%|████▊     | 4446/9330 [00:51<01:08, 71.70it/s]"
     ]
    },
    {
     "name": "stdout",
     "output_type": "stream",
     "text": [
      "TRAQEOG128F9353981\n",
      "rock and indie\n",
      "TRAQEOP12903CA65E2\n",
      "pop\n",
      "TRAQESC128F92D9527\n",
      "jazz\n",
      "TRAQEUQ128F425282E\n",
      "metal\n",
      "TRAQEVV128EF34E413\n",
      "rock and indie\n",
      "TRAQEZO128F9345243\n",
      "pop\n",
      "TRAQFEZ128F92E565D\n",
      "jazz\n",
      "TRAQFHK128F92F3274\n",
      "NULL\n",
      "TRAQFXU128F424DF7C\n"
     ]
    },
    {
     "name": "stderr",
     "output_type": "stream",
     "text": [
      "\u001b[A\u001b[A\n",
      "\n",
      " 48%|████▊     | 4456/9330 [00:51<01:05, 74.01it/s]\u001b[A\u001b[A\n",
      "\n",
      " 48%|████▊     | 4466/9330 [00:51<01:03, 76.72it/s]"
     ]
    },
    {
     "name": "stdout",
     "output_type": "stream",
     "text": [
      "NULL\n",
      "TRAQGLM128EF356DEA\n",
      "NULL\n",
      "TRAQGMY128F425A2F5\n",
      "pop\n",
      "TRAQGNV128C7196894\n",
      "pop\n",
      "TRAQGWU128F93275F9\n",
      "rock and indie\n",
      "TRAQHAK128F425EDD8\n",
      "pop\n",
      "TRAQHHV128F92E0787\n",
      "pop\n",
      "TRAQHHW128F14A8FF9\n",
      "NULL\n",
      "TRAQHLV12903CB6474\n",
      "pop\n"
     ]
    },
    {
     "name": "stderr",
     "output_type": "stream",
     "text": [
      "\u001b[A\u001b[A\n",
      "\n",
      " 48%|████▊     | 4474/9330 [00:51<01:06, 73.53it/s]\u001b[A\u001b[A"
     ]
    },
    {
     "name": "stdout",
     "output_type": "stream",
     "text": [
      "TRAQHNX128E07822A7\n",
      "pop\n",
      "TRAQHOI128F4233163\n",
      "metal\n",
      "TRAQHPK128F92E339B\n",
      "NULL\n",
      "TRAQHVX128F92E444A\n",
      "NULL\n",
      "TRAQHWF128F146FF11\n",
      "rock and indie\n",
      "TRAQIBP12903CBD3E0\n",
      "dance and electronica\n",
      "TRAQICU128F4295BED\n",
      "pop\n",
      "TRAQIQP128E079505F\n",
      "NULL\n",
      "TRAQITZ128F4265E0E\n",
      "NULL\n"
     ]
    },
    {
     "name": "stderr",
     "output_type": "stream",
     "text": [
      "\n",
      "\n",
      " 48%|████▊     | 4482/9330 [00:51<01:05, 74.26it/s]\u001b[A\u001b[A\n",
      "\n",
      " 48%|████▊     | 4491/9330 [00:51<01:05, 74.23it/s]\u001b[A\u001b[A"
     ]
    },
    {
     "name": "stdout",
     "output_type": "stream",
     "text": [
      "TRAQIUE128F4286303\n",
      "soul and reggae\n",
      "TRAQJAM128F14AC5E8\n",
      "pop\n",
      "TRAQJBM128F428DA47\n",
      "pop\n",
      "TRAQJGB128F426A9B6\n",
      "pop\n",
      "TRAQJMP128F92E3821\n",
      "pop\n",
      "TRAQJOE128F92F1D58\n",
      "NULL\n",
      "TRAQJOP128F424C3D2\n",
      "NULL\n"
     ]
    },
    {
     "name": "stderr",
     "output_type": "stream",
     "text": [
      "\n",
      "\n",
      " 48%|████▊     | 4499/9330 [00:51<01:05, 74.27it/s]\u001b[A\u001b[A\n",
      "\n",
      " 48%|████▊     | 4507/9330 [00:51<01:03, 75.42it/s]"
     ]
    },
    {
     "name": "stdout",
     "output_type": "stream",
     "text": [
      "TRAQJSB128F1454BB2\n",
      "pop\n",
      "TRAQKCW128F9352A52\n",
      "NULL\n",
      "TRAQKPR128F427DDF8\n",
      "pop\n",
      "TRAQKUB128F1460B81\n",
      "hip-hop\n",
      "TRAQKVC128F425E65C\n",
      "pop\n",
      "TRAQKVM128F145BB26\n",
      "NULL\n",
      "TRAQLMY128F42313D6\n",
      "rock and indie\n",
      "TRAQLNE128F42AC1AF\n",
      "metal\n",
      "TRAQLOD128F145EC9D\n",
      "pop\n"
     ]
    },
    {
     "name": "stderr",
     "output_type": "stream",
     "text": [
      "\u001b[A\u001b[A\n",
      "\n",
      " 48%|████▊     | 4516/9330 [00:52<01:03, 76.32it/s]\u001b[A\u001b[A\n",
      "\n",
      " 48%|████▊     | 4525/9330 [00:52<01:02, 76.33it/s]"
     ]
    },
    {
     "name": "stdout",
     "output_type": "stream",
     "text": [
      "TRAQLWZ12903CC77C2\n",
      "soul and reggae\n",
      "TRAQMAK128F930D5F6\n",
      "hip-hop\n",
      "TRAQMBC128F424FC8B\n",
      "NULL\n",
      "TRAQMKM128F92E4EDD\n",
      "pop\n",
      "TRAQMLV128F92F33CB\n",
      "pop\n",
      "TRAQMNB12903CDD58F\n",
      "metal\n",
      "TRAQMWJ12903D02BD4\n",
      "NULL\n",
      "TRAQMZG128F427C15C\n",
      "NULL\n",
      "TRAQNHD128F42438E2\n",
      "soul and reggae\n"
     ]
    },
    {
     "name": "stderr",
     "output_type": "stream",
     "text": [
      "\u001b[A\u001b[A\n",
      "\n",
      " 49%|████▊     | 4537/9330 [00:52<00:57, 83.72it/s]\u001b[A\u001b[A\n",
      "\n",
      " 49%|████▊     | 4546/9330 [00:52<00:58, 81.14it/s]"
     ]
    },
    {
     "name": "stdout",
     "output_type": "stream",
     "text": [
      "TRAQNUS128F14698ED\n",
      "dance and electronica\n",
      "TRAQNXY128EF35D3CB\n",
      "NULL\n",
      "TRAQOOL128F93030A4\n",
      "pop\n",
      "TRAQOOW128F932FA3C\n",
      "NULL\n",
      "TRAQOPC128F422850C\n",
      "NULL\n",
      "TRAQOXO128F42636BD\n",
      "pop\n",
      "TRAQOXP128F4275511\n",
      "pop\n",
      "TRAQPFR12903CC26CF\n",
      "NULL\n",
      "TRAQPHD128F4226E5E\n",
      "rock and indie\n"
     ]
    },
    {
     "name": "stderr",
     "output_type": "stream",
     "text": [
      "\u001b[A\u001b[A\n",
      "\n",
      " 49%|████▉     | 4555/9330 [00:52<00:59, 80.72it/s]\u001b[A\u001b[A\n",
      "\n",
      " 49%|████▉     | 4564/9330 [00:52<01:07, 70.26it/s]"
     ]
    },
    {
     "name": "stdout",
     "output_type": "stream",
     "text": [
      "TRAQPKV128E078EE32\n",
      "pop\n",
      "TRAQQEE128EF342942\n",
      "NULL\n",
      "TRAQQHJ128F9345DC3\n",
      "pop\n",
      "TRAQQLM128F147CBFE\n",
      "NULL\n",
      "TRAQQTW128F1466D86\n",
      "NULL\n",
      "TRAQQUC128F9314732\n",
      "NULL\n",
      "TRAQQUX128F92F9F10\n",
      "NULL\n",
      "TRAQQVR128F4255A3A\n",
      "pop\n",
      "TRAQQZN128F931FA31\n",
      "rock and indie\n"
     ]
    },
    {
     "name": "stderr",
     "output_type": "stream",
     "text": [
      "\u001b[A\u001b[A\n",
      "\n",
      " 49%|████▉     | 4572/9330 [00:52<01:11, 66.81it/s]\u001b[A\u001b[A"
     ]
    },
    {
     "name": "stdout",
     "output_type": "stream",
     "text": [
      "TRAQRFD128F9322DE6\n",
      "rock and indie\n",
      "TRAQRFN128F93071EA\n",
      "NULL\n",
      "TRAQRHA128F93001EB\n",
      "pop\n",
      "TRAQRLZ128F425CE1D\n",
      "NULL\n",
      "TRAQRNL128F42148D3\n",
      "soul and reggae\n",
      "TRAQRRD128F425F8E7\n",
      "pop\n",
      "TRAQRTB128F9332168\n",
      "rock and indie\n",
      "TRAQRTQ128F42707EA\n",
      "pop\n",
      "TRAQRYZ128F4291DCB"
     ]
    },
    {
     "name": "stderr",
     "output_type": "stream",
     "text": [
      "\n",
      "\n",
      " 49%|████▉     | 4580/9330 [00:52<01:11, 66.19it/s]\u001b[A\u001b[A\n",
      "\n",
      " 49%|████▉     | 4589/9330 [00:52<01:06, 71.70it/s]\u001b[A\u001b[A"
     ]
    },
    {
     "name": "stdout",
     "output_type": "stream",
     "text": [
      "\n",
      "pop\n",
      "TRAQRZP128F931C1F1\n",
      "NULL\n",
      "TRAQSPU128F422146B\n",
      "rock and indie\n",
      "TRAQSWI128F9343039\n",
      "pop\n",
      "TRAQSWY12903CEB99F\n",
      "rock and indie\n",
      "TRAQTBF12903CCC1B7\n",
      "pop\n",
      "TRAQTKV128F427BFA5\n",
      "pop\n",
      "TRAQTOS128F428E94B\n",
      "metal\n",
      "TRAQTYT12903D134AC\n",
      "dance and electronica\n"
     ]
    },
    {
     "name": "stderr",
     "output_type": "stream",
     "text": [
      "\n",
      "\n",
      " 49%|████▉     | 4597/9330 [00:53<01:04, 72.90it/s]\u001b[A\u001b[A\n",
      "\n",
      " 49%|████▉     | 4606/9330 [00:53<01:03, 74.04it/s]\u001b[A\u001b[A"
     ]
    },
    {
     "name": "stdout",
     "output_type": "stream",
     "text": [
      "TRAQUCX12903CD43F9\n",
      "NULL\n",
      "TRAQUFS12903CF9F32\n",
      "rock and indie\n",
      "TRAQUJP128F146082C\n",
      "classical\n",
      "TRAQUQK128F92D13C1\n",
      "NULL\n",
      "TRAQUWF128E07924E4\n",
      "NULL\n",
      "TRAQVCT12903CD7F32\n",
      "NULL\n",
      "TRAQVDI128F42969C8\n",
      "NULL\n",
      "TRAQVJM128F9310F20\n",
      "pop\n",
      "TRAQVMY128F424C862\n",
      "pop\n"
     ]
    },
    {
     "name": "stderr",
     "output_type": "stream",
     "text": [
      "\n",
      "\n",
      " 49%|████▉     | 4614/9330 [00:53<01:05, 72.15it/s]\u001b[A\u001b[A\n",
      "\n",
      " 50%|████▉     | 4622/9330 [00:53<01:10, 66.37it/s]"
     ]
    },
    {
     "name": "stdout",
     "output_type": "stream",
     "text": [
      "TRAQVOG128F9340E58\n",
      "pop\n",
      "TRAQVQM128F933DFEB\n",
      "NULL\n",
      "TRAQVSH128F92EF9A5\n",
      "pop\n",
      "TRAQVTO128F14696A6\n",
      "pop\n",
      "TRAQVUG128F145EB2E\n",
      "dance and electronica\n",
      "TRAQVUG128F4286DE3\n",
      "NULL\n",
      "TRAQVWM128F426CFAD\n",
      "rock and indie\n",
      "TRAQWKC128F428BD2C\n",
      "NULL\n"
     ]
    },
    {
     "name": "stderr",
     "output_type": "stream",
     "text": [
      "\u001b[A\u001b[A\n",
      "\n",
      " 50%|████▉     | 4635/9330 [00:53<01:01, 76.28it/s]\u001b[A\u001b[A\n",
      "\n",
      " 50%|████▉     | 4644/9330 [00:53<00:59, 79.38it/s]"
     ]
    },
    {
     "name": "stdout",
     "output_type": "stream",
     "text": [
      "TRAQXJY12903CF3A0E\n",
      "soul and reggae\n",
      "TRAQYFL12903D138CF\n",
      "hip-hop\n",
      "TRAQYOC128F9341CDC\n",
      "hip-hop\n",
      "TRAQYUA128F428742F\n",
      "pop\n",
      "TRAQYXL128F425EA21\n",
      "NULL\n",
      "TRAQYZI128F4273CF3\n",
      "rock and indie\n",
      "TRAQYZO12903CB818E\n",
      "NULL\n",
      "TRAQZFU128F429AF8D\n",
      "NULL\n"
     ]
    },
    {
     "name": "stderr",
     "output_type": "stream",
     "text": [
      "\u001b[A\u001b[A\n",
      "\n",
      " 50%|████▉     | 4658/9330 [00:53<00:52, 89.54it/s]\u001b[A\u001b[A\n",
      "\n",
      " 50%|█████     | 4669/9330 [00:53<00:50, 91.60it/s]"
     ]
    },
    {
     "name": "stdout",
     "output_type": "stream",
     "text": [
      "TRAQZPU128F14B06DE\n",
      "NULL\n",
      "TRARACF128F424FACF\n",
      "metal\n",
      "TRARAEG128F42647B2\n",
      "pop\n",
      "TRARAIO128E0780FDE\n",
      "pop\n",
      "TRARANL128F1478789\n",
      "pop\n",
      "TRARBBK128F427ED68\n",
      "rock and indie\n",
      "TRARBFC128EF3500F8\n",
      "NULL\n"
     ]
    },
    {
     "name": "stderr",
     "output_type": "stream",
     "text": [
      "\u001b[A\u001b[A\n",
      "\n",
      " 50%|█████     | 4679/9330 [00:54<00:54, 84.61it/s]\u001b[A\u001b[A"
     ]
    },
    {
     "name": "stdout",
     "output_type": "stream",
     "text": [
      "TRARBGM12903CC5026\n",
      "rock and indie\n",
      "TRARBGR128F42264D1\n",
      "pop\n",
      "TRARBJW128E0788A1A\n",
      "pop\n",
      "TRARBKD128F42BA84D\n",
      "hip-hop\n",
      "TRARBKI128F423DFA4\n",
      "NULL\n",
      "TRARBXA128F426E188\n",
      "NULL\n",
      "TRARBYC128F92CEF3C\n",
      "NULL\n",
      "TRARCAU128F9337F05\n",
      "dance and electronica\n",
      "TRARCNN12903CD5262\n",
      "NULL\n"
     ]
    },
    {
     "name": "stderr",
     "output_type": "stream",
     "text": [
      "\n",
      "\n",
      " 50%|█████     | 4688/9330 [00:54<00:58, 78.95it/s]\u001b[A\u001b[A\n",
      "\n",
      " 50%|█████     | 4697/9330 [00:54<00:58, 79.06it/s]"
     ]
    },
    {
     "name": "stdout",
     "output_type": "stream",
     "text": [
      "TRARCNT12903CC4767\n",
      "NULL\n",
      "TRARCSJ12903CA71D8\n",
      "pop\n",
      "TRARCZH12903CF7D2F\n",
      "rock and indie\n",
      "TRARDCR12903CE6FBE\n",
      "NULL\n",
      "TRARDJY128F14750EA\n",
      "pop\n",
      "TRARDOK128F9300AB5\n",
      "rock and indie\n",
      "TRARDRX128F9325812\n",
      "pop\n",
      "TRARDUI12903CBF6B6\n",
      "hip-hop\n",
      "TRAREDZ12903CFB6E3\n",
      "pop\n",
      "TRAREGG128F425A5D8\n",
      "rock and indie\n"
     ]
    },
    {
     "name": "stderr",
     "output_type": "stream",
     "text": [
      "\u001b[A\u001b[A\n",
      "\n",
      " 51%|█████     | 4712/9330 [00:54<00:51, 89.75it/s]\u001b[A\u001b[A\n",
      "\n",
      " 51%|█████     | 4722/9330 [00:54<00:50, 90.56it/s]"
     ]
    },
    {
     "name": "stdout",
     "output_type": "stream",
     "text": [
      "TRARESK12903D169F7\n",
      "NULL\n",
      "TRARFAZ128F93481AD\n",
      "metal\n",
      "TRARFKP12903CF5DF1\n",
      "metal\n",
      "TRARFOC128F92ED401\n",
      "pop\n",
      "TRARFQL128F931E523\n",
      "pop\n",
      "TRARFSI128F92C5B06\n",
      "pop\n",
      "TRARFWJ128F9339D70\n",
      "pop\n",
      "TRARFXI128F1468CE3\n",
      "soul and reggae\n",
      "TRARGBM128F428F65E\n",
      "soul and reggae\n",
      "TRARGLY128F935AAD5\n",
      "NULL\n"
     ]
    },
    {
     "name": "stderr",
     "output_type": "stream",
     "text": [
      "\u001b[A\u001b[A\n",
      "\n",
      " 51%|█████     | 4732/9330 [00:54<00:50, 91.19it/s]\u001b[A\u001b[A\n",
      "\n",
      " 51%|█████     | 4746/9330 [00:54<00:46, 97.66it/s]"
     ]
    },
    {
     "name": "stdout",
     "output_type": "stream",
     "text": [
      "TRARGTV128F4274FB6\n",
      "hip-hop\n",
      "TRARHCB128F148D1B0\n",
      "pop\n",
      "TRARIIY128F147187D\n",
      "rock and indie\n",
      "TRARINE128F4280B9C\n",
      "rock and indie\n",
      "TRARIPU128F92FA1E1\n",
      "NULL\n",
      "TRARIRG128F147FC96\n",
      "pop\n",
      "TRARIWH128E079349F\n",
      "pop\n",
      "TRARIZK128F92FF27A\n",
      "rock and indie\n",
      "TRARJEK128F930B3AA\n",
      "rock and indie\n"
     ]
    },
    {
     "name": "stderr",
     "output_type": "stream",
     "text": [
      "\u001b[A\u001b[A\n",
      "\n",
      " 51%|█████     | 4757/9330 [00:54<00:50, 89.75it/s]\u001b[A\u001b[A"
     ]
    },
    {
     "name": "stdout",
     "output_type": "stream",
     "text": [
      "TRARJEM128F92E444D\n",
      "NULL\n",
      "TRARJKN128F92F6CF8\n",
      "NULL\n",
      "TRARJLC128F9323715\n",
      "NULL\n",
      "TRARJMX128F149BE14\n",
      "NULL\n",
      "TRARJPL128F931C7D2\n",
      "rock and indie\n",
      "TRARKDV128F42500F2\n",
      "pop\n",
      "TRARKEH128F1463CB2\n",
      "rock and indie\n",
      "TRARKGW128F92EB8F9\n",
      "pop\n",
      "TRARKRC128E0791D82\n",
      "rock and indie\n",
      "TRARKXM128F14911B0\n",
      "hip-hop\n"
     ]
    },
    {
     "name": "stderr",
     "output_type": "stream",
     "text": [
      "\n",
      "\n",
      " 51%|█████     | 4767/9330 [00:55<00:52, 87.62it/s]\u001b[A\u001b[A\n",
      "\n",
      " 51%|█████     | 4778/9330 [00:55<00:49, 91.75it/s]\u001b[A\u001b[A"
     ]
    },
    {
     "name": "stdout",
     "output_type": "stream",
     "text": [
      "TRARLTG12903CF06FD\n",
      "NULL\n",
      "TRARMFD128F4231386\n",
      "NULL\n",
      "TRARMHA128F92E7D32\n",
      "pop\n",
      "TRARMRC128F424317A\n",
      "dance and electronica\n",
      "TRARMRJ128F92EBD5C\n",
      "NULL\n",
      "TRARMUI128F147162F\n",
      "pop\n",
      "TRARMYQ128F149F18A\n",
      "NULL\n",
      "TRARMYZ128F426150A\n",
      "pop\n",
      "TRARNJN12903CE49F8\n",
      "jazz\n"
     ]
    },
    {
     "name": "stderr",
     "output_type": "stream",
     "text": [
      "\n",
      "\n",
      " 51%|█████▏    | 4791/9330 [00:55<00:45, 99.84it/s]\u001b[A\u001b[A\n",
      "\n",
      " 51%|█████▏    | 4803/9330 [00:55<00:45, 99.37it/s]\u001b[A\u001b[A"
     ]
    },
    {
     "name": "stdout",
     "output_type": "stream",
     "text": [
      "TRARODD128F4225D3F\n",
      "NULL\n",
      "TRARODV128F1460DBC\n",
      "pop\n",
      "TRAROFY12903CD2618\n",
      "NULL\n",
      "TRAROPS128F92F09A5\n",
      "NULL\n",
      "TRAROPZ128F42A8AB2\n",
      "dance and electronica\n",
      "TRAROQC128F4273979\n",
      "pop\n",
      "TRARPCK128F92FEA7F\n",
      "pop\n",
      "TRARPKM128F429A7A6\n",
      "NULL\n",
      "TRARPTJ12903CE2898\n",
      "soul and reggae\n"
     ]
    },
    {
     "name": "stderr",
     "output_type": "stream",
     "text": [
      "\n",
      "\n",
      " 52%|█████▏    | 4815/9330 [00:55<00:44, 100.43it/s]\u001b[A\u001b[A\n",
      "\n",
      " 52%|█████▏    | 4826/9330 [00:55<00:49, 90.43it/s] "
     ]
    },
    {
     "name": "stdout",
     "output_type": "stream",
     "text": [
      "TRARPWX128F92CD69C\n",
      "NULL\n",
      "TRARPXT128F425FDF9\n",
      "rock and indie\n",
      "TRARPYM128F425A88B\n",
      "NULL\n",
      "TRARQBS128F4262E62\n",
      "pop\n",
      "TRARQSD128F427E2AA\n",
      "pop\n",
      "TRARQSR128F933A1BF\n",
      "rock and indie\n",
      "TRARREF128F422FD96\n",
      "dance and electronica\n",
      "TRARRER128F9328521\n",
      "NULL\n",
      "TRARRJL128F92DED0E\n",
      "NULL\n",
      "TRARRMK12903CDF793\n",
      "metal\n"
     ]
    },
    {
     "name": "stderr",
     "output_type": "stream",
     "text": [
      "\u001b[A\u001b[A\n",
      "\n",
      " 52%|█████▏    | 4837/9330 [00:55<00:49, 91.62it/s]\u001b[A\u001b[A\n",
      "\n",
      " 52%|█████▏    | 4847/9330 [00:55<00:50, 89.25it/s]"
     ]
    },
    {
     "name": "stdout",
     "output_type": "stream",
     "text": [
      "TRARRQO128F427B5F5\n",
      "metal\n",
      "TRARRWA128F42A0195\n",
      "NULL\n",
      "TRARRZU128F4253CA2\n",
      "NULL\n",
      "TRARSAM128F4256E04\n",
      "metal\n",
      "TRARSKA128F9336A04\n",
      "pop\n",
      "TRARSMV128F1469CCF\n",
      "soul and reggae\n",
      "TRARSZV12903CDB2DE\n",
      "pop\n",
      "TRARTBH128F93087A4\n",
      "NULL\n",
      "TRARTCZ128F427A176\n",
      "NULL\n",
      "TRARTEH128F423DBC1\n"
     ]
    },
    {
     "name": "stderr",
     "output_type": "stream",
     "text": [
      "\u001b[A\u001b[A\n",
      "\n",
      " 52%|█████▏    | 4857/9330 [00:55<00:53, 84.34it/s]\u001b[A\u001b[A"
     ]
    },
    {
     "name": "stdout",
     "output_type": "stream",
     "text": [
      "pop\n",
      "TRARTGG128F424ABCD\n",
      "rock and indie\n",
      "TRARTHV128F429B77A\n",
      "NULL\n",
      "TRARTJL128F92CB44B\n",
      "pop\n",
      "TRARTOQ12903CA1CA9\n",
      "rock and indie\n",
      "TRARTSA128F4291550\n",
      "rock and indie\n",
      "TRARTSZ128F427642F\n",
      "jazz\n",
      "TRARTYI128F427E74C\n",
      "rock and indie\n",
      "TRARUHU128F92FDC00\n",
      "hip-hop\n",
      "TRARUOP12903CF2384\n",
      "rock and indie\n"
     ]
    },
    {
     "name": "stderr",
     "output_type": "stream",
     "text": [
      "\n",
      "\n",
      " 52%|█████▏    | 4866/9330 [00:56<00:53, 84.19it/s]\u001b[A\u001b[A\n",
      "\n",
      " 52%|█████▏    | 4875/9330 [00:56<00:57, 77.73it/s]"
     ]
    },
    {
     "name": "stdout",
     "output_type": "stream",
     "text": [
      "TRARUTP128E0797FC7\n",
      "metal\n",
      "TRARVCC128F930733D\n",
      "NULL\n",
      "TRARVDX128F424A397\n",
      "NULL\n",
      "TRARVEY128F9300AC3\n",
      "rock and indie\n",
      "TRARVMJ128F146A77E\n",
      "dance and electronica\n",
      "TRARVMO128F427DF04\n",
      "NULL\n",
      "TRARVQK128F932BFA0\n",
      "NULL\n",
      "TRARVSQ12903CA6A4B\n",
      "NULL\n",
      "TRARVVB128F4264CEB\n",
      "NULL\n"
     ]
    },
    {
     "name": "stderr",
     "output_type": "stream",
     "text": [
      "\u001b[A\u001b[A\n",
      "\n",
      " 52%|█████▏    | 4885/9330 [00:56<00:54, 81.00it/s]\u001b[A\u001b[A\n",
      "\n",
      " 52%|█████▏    | 4894/9330 [00:56<00:54, 80.70it/s]"
     ]
    },
    {
     "name": "stdout",
     "output_type": "stream",
     "text": [
      "TRARVZG128F1497359\n",
      "dance and electronica\n",
      "TRARWFL128F42B4686\n",
      "pop\n",
      "TRARWMG128F933667C\n",
      "jazz\n",
      "TRARWQY128F1462A4C\n",
      "NULL\n",
      "TRARWXF128F9353B37\n",
      "NULL\n",
      "TRARWXH128F425D881\n",
      "NULL\n",
      "TRARWXU128F92EC637\n",
      "NULL\n",
      "TRARWYG128F424D766\n",
      "rock and indie\n",
      "TRARWYL128F423B96A\n",
      "soul and reggae\n",
      "TRARXGB128F42927B0\n",
      "NULL\n",
      "TRARXIQ128F9354D9C\n",
      "hip-hop\n"
     ]
    },
    {
     "name": "stderr",
     "output_type": "stream",
     "text": [
      "\u001b[A\u001b[A\n",
      "\n",
      " 53%|█████▎    | 4903/9330 [00:56<00:56, 78.81it/s]\u001b[A\u001b[A\n",
      "\n",
      " 53%|█████▎    | 4914/9330 [00:56<00:52, 84.30it/s]"
     ]
    },
    {
     "name": "stdout",
     "output_type": "stream",
     "text": [
      "TRARXIT128F423DC97\n",
      "NULL\n",
      "TRARXJJ128F1452983\n",
      "NULL\n",
      "TRARXMV128F92F59C8\n",
      "rock and indie\n",
      "TRARYCL128F1456224\n",
      "pop\n",
      "TRARYHD128F9344512\n",
      "dance and electronica\n",
      "TRARYPU128F42552CF\n",
      "NULL\n",
      "TRARYXL128F92F939E\n",
      "NULL\n",
      "TRARZBQ128F42649A6\n",
      "jazz\n",
      "TRARZBR128F934715D\n",
      "pop\n"
     ]
    },
    {
     "name": "stderr",
     "output_type": "stream",
     "text": [
      "\u001b[A\u001b[A\n",
      "\n",
      " 53%|█████▎    | 4923/9330 [00:56<00:53, 82.63it/s]\u001b[A\u001b[A"
     ]
    },
    {
     "name": "stdout",
     "output_type": "stream",
     "text": [
      "TRARZBX12903CD70DA\n",
      "dance and electronica\n",
      "TRARZIV128F147AADB\n",
      "NULL\n",
      "TRARZKD128F425D64D\n",
      "pop\n",
      "TRASAFS12903CF10BD\n",
      "dance and electronica\n",
      "TRASAGX128F4262E28\n",
      "dance and electronica\n",
      "TRASAIH128F931F567\n",
      "pop\n",
      "TRASAQI128F426EEA3\n",
      "rock and indie\n",
      "TRASARM12903D03718\n",
      "NULL\n"
     ]
    },
    {
     "name": "stderr",
     "output_type": "stream",
     "text": [
      "\n",
      "\n",
      " 53%|█████▎    | 4932/9330 [00:56<00:59, 74.26it/s]\u001b[A\u001b[A\n",
      "\n",
      " 53%|█████▎    | 4944/9330 [00:57<00:53, 81.92it/s]"
     ]
    },
    {
     "name": "stdout",
     "output_type": "stream",
     "text": [
      "TRASARO128F145E40F\n",
      "pop\n",
      "TRASBCH128F93369B6\n",
      "hip-hop\n",
      "TRASBSO128F1465A78\n",
      "pop\n",
      "TRASBVS12903CF4537\n",
      "pop\n",
      "TRASBZK128F42692CA\n",
      "rock and indie\n",
      "TRASCMB128F422B871\n",
      "pop\n",
      "TRASCTM128F92F6F3A\n",
      "NULL\n",
      "TRASCUS12903CA4D22\n",
      "metal\n"
     ]
    },
    {
     "name": "stderr",
     "output_type": "stream",
     "text": [
      "\u001b[A\u001b[A\n",
      "\n",
      " 53%|█████▎    | 4955/9330 [00:57<00:49, 88.50it/s]\u001b[A\u001b[A\n",
      "\n",
      " 53%|█████▎    | 4965/9330 [00:57<00:49, 88.34it/s]"
     ]
    },
    {
     "name": "stdout",
     "output_type": "stream",
     "text": [
      "TRASCWR12903CCC575\n",
      "pop\n",
      "TRASDGG128F933EDE2\n",
      "rock and indie\n",
      "TRASDMK128F4243937\n",
      "NULL\n",
      "TRASDOI128F1480E28\n",
      "pop\n",
      "TRASDON128F42AD04D\n",
      "NULL\n",
      "TRASDRJ128F428B1A7\n",
      "NULL\n",
      "TRASDYA128F425E84F\n",
      "hip-hop\n",
      "TRASEAT12903CEF0B3\n",
      "jazz\n",
      "TRASFBL128EF34E274\n",
      "NULL\n",
      "TRASFDP12903CD475A\n",
      "NULL\n"
     ]
    },
    {
     "name": "stderr",
     "output_type": "stream",
     "text": [
      "\u001b[A\u001b[A\n",
      "\n",
      " 53%|█████▎    | 4975/9330 [00:57<00:53, 81.54it/s]\u001b[A\u001b[A\n",
      "\n",
      " 53%|█████▎    | 4984/9330 [00:57<00:54, 80.05it/s]"
     ]
    },
    {
     "name": "stdout",
     "output_type": "stream",
     "text": [
      "TRASFJS128F92FFC18\n",
      "NULL\n",
      "TRASFNK12903CF4195\n",
      "soul and reggae\n",
      "TRASFNS128F145247D\n",
      "dance and electronica\n",
      "TRASGBN128F42951D4\n",
      "NULL\n",
      "TRASGGA128F92E8BF8\n",
      "NULL\n",
      "TRASGKG128F426C7D3\n",
      "rock and indie\n",
      "TRASGKM128F42644C5\n",
      "rock and indie\n",
      "TRASGLA128F147F4F6\n",
      "NULL\n",
      "TRASGMH128F14B04A3\n",
      "NULL\n",
      "TRASGQX128F932516C\n",
      "NULL\n",
      "TRASGRP128F9338663\n",
      "NULL\n"
     ]
    },
    {
     "name": "stderr",
     "output_type": "stream",
     "text": [
      "\u001b[A\u001b[A\n",
      "\n",
      " 54%|█████▎    | 4994/9330 [00:57<00:52, 83.25it/s]\u001b[A\u001b[A\n",
      "\n",
      " 54%|█████▎    | 5003/9330 [00:57<00:53, 80.77it/s]"
     ]
    },
    {
     "name": "stdout",
     "output_type": "stream",
     "text": [
      "TRASHIP128F428FC4B\n",
      "rock and indie\n",
      "TRASHPV128F4281CB1\n",
      "pop\n",
      "TRASHSN12903CA9E34\n",
      "pop\n",
      "TRASHZB128E0791E81\n",
      "soul and reggae\n",
      "TRASIJO128F4258025\n",
      "rock and indie\n",
      "TRASIKP128F423EED7\n",
      "dance and electronica\n",
      "TRASIVA128F933DB52\n",
      "soul and reggae\n",
      "TRASIWA12903CFFC4D\n",
      "dance and electronica\n",
      "TRASIWH128F4234005\n",
      "rock and indie\n",
      "TRASJHN128F421E3F1\n",
      "NULL\n"
     ]
    },
    {
     "name": "stderr",
     "output_type": "stream",
     "text": [
      "\u001b[A\u001b[A\n",
      "\n",
      " 54%|█████▎    | 5012/9330 [00:57<00:57, 74.91it/s]\u001b[A\u001b[A"
     ]
    },
    {
     "name": "stdout",
     "output_type": "stream",
     "text": [
      "TRASJIY128F149998B\n",
      "hip-hop\n",
      "TRASJMT128F9314118\n",
      "NULL\n",
      "TRASJND128F423587C\n",
      "NULL\n",
      "TRASJND128F427F993\n",
      "dance and electronica\n",
      "TRASJNR128F14795F7\n",
      "pop\n",
      "TRASJRH12903CF2689\n",
      "metal\n",
      "TRASKHI12903CC8F27\n",
      "NULL\n",
      "TRASKII128F92FA33E\n",
      "rock and indie\n",
      "TRASKSG12903CDA87C\n",
      "NULL\n",
      "TRASLGT12903CDFC6C\n",
      "dance and electronica\n"
     ]
    },
    {
     "name": "stderr",
     "output_type": "stream",
     "text": [
      "\n",
      "\n",
      " 54%|█████▍    | 5024/9330 [00:58<00:51, 84.10it/s]\u001b[A\u001b[A\n",
      "\n",
      " 54%|█████▍    | 5033/9330 [00:58<00:51, 83.36it/s]\u001b[A\u001b[A"
     ]
    },
    {
     "name": "stdout",
     "output_type": "stream",
     "text": [
      "TRASLHI128EF343C84\n",
      "pop\n",
      "TRASLMY128E0782D6A\n",
      "NULL\n",
      "TRASLTD128F92F9E1F\n",
      "NULL\n",
      "TRASLVK128F935046C\n",
      "pop\n",
      "TRASMER128F4272C1D\n",
      "rock and indie\n",
      "TRASMUR128F42775D6\n",
      "dance and electronica\n",
      "TRASMYK12903CAA1B7\n",
      "NULL\n",
      "TRASNDA12903CB1B4B\n",
      "NULL\n",
      "TRASNDM128F92E17E7\n",
      "pop\n",
      "TRASNJX128F4230E5E\n",
      "NULL\n"
     ]
    },
    {
     "name": "stderr",
     "output_type": "stream",
     "text": [
      "\n",
      "\n",
      " 54%|█████▍    | 5042/9330 [00:58<00:51, 82.70it/s]\u001b[A\u001b[A\n",
      "\n",
      " 54%|█████▍    | 5053/9330 [00:58<00:49, 86.17it/s]\u001b[A\u001b[A"
     ]
    },
    {
     "name": "stdout",
     "output_type": "stream",
     "text": [
      "TRASNOR128F422BCDC\n",
      "dance and electronica\n",
      "TRASNOT128E0791785\n",
      "pop\n",
      "TRASNPV128F92F9771\n",
      "NULL\n",
      "TRASNRV128F931AE2E\n",
      "pop\n",
      "TRASOCX128F4271AB9\n",
      "NULL\n",
      "TRASOEA128F934BF50\n",
      "NULL\n",
      "TRASOFS128F4243346\n",
      "pop\n",
      "TRASOHB128F92D88B6\n",
      "NULL\n",
      "TRASONX128F429BE8C\n",
      "NULL\n",
      "TRASOPN128F9316701\n",
      "metal\n"
     ]
    },
    {
     "name": "stderr",
     "output_type": "stream",
     "text": [
      "\n",
      "\n",
      " 54%|█████▍    | 5062/9330 [00:58<00:52, 80.78it/s]\u001b[A\u001b[A\n",
      "\n",
      " 54%|█████▍    | 5071/9330 [00:58<00:53, 79.53it/s]"
     ]
    },
    {
     "name": "stdout",
     "output_type": "stream",
     "text": [
      "TRASOQC12903CFFED7\n",
      "metal\n",
      "TRASOQQ128F14A7968\n",
      "NULL\n",
      "TRASOQY128F92FEC9F\n",
      "NULL\n",
      "TRASOUI128E078F152\n",
      "pop\n",
      "TRASOWA128F427A1B6\n",
      "rock and indie\n",
      "TRASPAS128E078DFB3\n",
      "soul and reggae\n",
      "TRASPDG128F1489FAF\n",
      "NULL\n",
      "TRASPQA128F4273D22\n",
      "NULL\n",
      "TRASPTN128F14B0EF2\n",
      "rock and indie\n"
     ]
    },
    {
     "name": "stderr",
     "output_type": "stream",
     "text": [
      "\u001b[A\u001b[A\n",
      "\n",
      " 54%|█████▍    | 5083/9330 [00:58<00:48, 87.84it/s]\u001b[A\u001b[A\n",
      "\n",
      " 55%|█████▍    | 5093/9330 [00:58<00:50, 84.28it/s]"
     ]
    },
    {
     "name": "stdout",
     "output_type": "stream",
     "text": [
      "TRASPZQ128F933BBDA\n",
      "NULL\n",
      "TRASQBA128F427B273\n",
      "metal\n",
      "TRASQCW12903CA07D9\n",
      "rock and indie\n",
      "TRASQED12903CBAD54\n",
      "soul and reggae\n",
      "TRASQHA128F4280A1D\n",
      "rock and indie\n",
      "TRASQIB128F426693D\n",
      "pop\n",
      "TRASRBB128F42AFD5C\n",
      "pop\n",
      "TRASRBP12903CA768B\n",
      "NULL\n",
      "TRASRNM128F92E1C70\n",
      "soul and reggae\n",
      "TRASRVD128F933624A"
     ]
    },
    {
     "name": "stderr",
     "output_type": "stream",
     "text": [
      "\u001b[A\u001b[A\n",
      "\n",
      " 55%|█████▍    | 5102/9330 [00:58<00:49, 85.86it/s]\u001b[A\u001b[A\n",
      "\n",
      " 55%|█████▍    | 5111/9330 [00:59<00:50, 83.25it/s]"
     ]
    },
    {
     "name": "stdout",
     "output_type": "stream",
     "text": [
      "\n",
      "pop\n",
      "TRASRXK128F9311176\n",
      "pop\n",
      "TRASRXQ128F92F8CF1\n",
      "NULL\n",
      "TRASSFI128F92E2743\n",
      "jazz\n",
      "TRASSJE128F427927A\n",
      "NULL\n",
      "TRASSZI128F146EC5F\n",
      "pop\n",
      "TRASSZL128F428FA5D\n",
      "pop\n",
      "TRASTBP128F429755E\n",
      "NULL\n",
      "TRASTGT12903CDD457\n",
      "NULL\n"
     ]
    },
    {
     "name": "stderr",
     "output_type": "stream",
     "text": [
      "\u001b[A\u001b[A\n",
      "\n",
      " 55%|█████▍    | 5120/9330 [00:59<00:57, 73.40it/s]\u001b[A\u001b[A"
     ]
    },
    {
     "name": "stdout",
     "output_type": "stream",
     "text": [
      "TRASTIS128F92FA998\n",
      "classical\n",
      "TRASTKB128F92F6AE7\n",
      "rock and indie\n",
      "TRASTLC128F931603A\n",
      "NULL\n",
      "TRASTLO128F42683EB\n",
      "metal\n",
      "TRASTMM12903CBEF91\n",
      "dance and electronica\n",
      "TRASTMN12903CF98DB\n",
      "jazz\n",
      "TRASTOM12903CBE8A6\n",
      "rock and indie\n",
      "TRASTRY12903CB4B0A\n",
      "pop\n",
      "TRASTZY128F145B055\n",
      "soul and reggae\n",
      "TRASUBB12903CE6546\n",
      "NULL\n"
     ]
    },
    {
     "name": "stderr",
     "output_type": "stream",
     "text": [
      "\n",
      "\n",
      " 55%|█████▍    | 5131/9330 [00:59<00:53, 78.61it/s]\u001b[A\u001b[A\n",
      "\n",
      " 55%|█████▌    | 5140/9330 [00:59<00:51, 80.77it/s]"
     ]
    },
    {
     "name": "stdout",
     "output_type": "stream",
     "text": [
      "TRASUDV128F42B86FB\n",
      "pop\n",
      "TRASUJK128E0789C12\n",
      "pop\n",
      "TRASUKM128F422AA6F\n",
      "NULL\n",
      "TRASUTG128F935A445\n",
      "rock and indie\n",
      "TRASUVR128F14956C8\n",
      "NULL\n",
      "TRASVHD128F1465963\n",
      "dance and electronica\n",
      "TRASVKL128F931652A\n",
      "pop\n",
      "TRASVOH12903CCDC0B\n",
      "pop\n",
      "TRASVRH128F14AC24A\n",
      "rock and indie\n",
      "TRASVXM128F934792B\n",
      "dance and electronica\n"
     ]
    },
    {
     "name": "stderr",
     "output_type": "stream",
     "text": [
      "\u001b[A\u001b[A\n",
      "\n",
      " 55%|█████▌    | 5150/9330 [00:59<00:51, 80.88it/s]\u001b[A\u001b[A\n",
      "\n",
      " 55%|█████▌    | 5159/9330 [00:59<00:54, 76.66it/s]"
     ]
    },
    {
     "name": "stdout",
     "output_type": "stream",
     "text": [
      "TRASVZZ128EF35EB69\n",
      "rock and indie\n",
      "TRASWAT128F93369E7\n",
      "dance and electronica\n",
      "TRASWFP128E0789E6C\n",
      "metal\n",
      "TRASWIV128E0788A84\n",
      "pop\n",
      "TRASWKJ128E0792FE7\n",
      "pop\n",
      "TRASWPD128F42B4F7B\n",
      "pop\n",
      "TRASWQE128F146C987\n",
      "rock and indie\n",
      "TRASWSV128F92F0E7E\n",
      "NULL\n",
      "TRASXHB128F933D3BD\n",
      "metal\n"
     ]
    },
    {
     "name": "stderr",
     "output_type": "stream",
     "text": [
      "\u001b[A\u001b[A\n",
      "\n",
      " 55%|█████▌    | 5173/9330 [00:59<00:48, 86.38it/s]\u001b[A\u001b[A"
     ]
    },
    {
     "name": "stdout",
     "output_type": "stream",
     "text": [
      "TRASXSI128F9345EA2\n",
      "rock and indie\n",
      "TRASXZE128F427F156\n",
      "pop\n",
      "TRASYBF128F4249F28\n",
      "NULL\n",
      "TRASYDM128F421A907\n",
      "NULL\n",
      "TRASYIH12903D08529\n",
      "pop\n",
      "TRASYLN128F14AB9B9\n",
      "NULL\n",
      "TRASYLV128E0794878\n",
      "pop\n",
      "TRASYQN128F9309915\n",
      "soul and reggae\n",
      "TRASYQQ128F425092B\n",
      "dance and electronica\n",
      "TRASYSY128F92F39F5\n",
      "pop\n"
     ]
    },
    {
     "name": "stderr",
     "output_type": "stream",
     "text": [
      "\n",
      "\n",
      " 56%|█████▌    | 5183/9330 [00:59<00:53, 77.86it/s]\u001b[A\u001b[A\n",
      "\n",
      " 56%|█████▌    | 5196/9330 [01:00<00:47, 86.76it/s]"
     ]
    },
    {
     "name": "stdout",
     "output_type": "stream",
     "text": [
      "TRASYVP12903D09590\n",
      "pop\n",
      "TRASYVY128F4254487\n",
      "soul and reggae\n",
      "TRASYWM128F14804A5\n",
      "rock and indie\n",
      "TRASZIF128F42542A1\n",
      "NULL\n",
      "TRASZPM128F425A17C\n",
      "pop\n",
      "TRASZQB12903CAAE1B\n",
      "pop\n",
      "TRASZQZ128F424B2FE\n",
      "rock and indie\n",
      "TRASZSF128F428B8F3\n",
      "NULL\n",
      "TRASZUN128F148B165\n",
      "pop\n",
      "TRASZVC128F1485291\n",
      "NULL\n"
     ]
    },
    {
     "name": "stderr",
     "output_type": "stream",
     "text": [
      "\u001b[A\u001b[A\n",
      "\n",
      " 56%|█████▌    | 5206/9330 [01:00<00:53, 77.11it/s]\u001b[A\u001b[A"
     ]
    },
    {
     "name": "stdout",
     "output_type": "stream",
     "text": [
      "TRASZWP128F426730E\n",
      "rock and indie\n",
      "TRATAFP128F423F8DD\n",
      "NULL\n",
      "TRATAGT128F42807AF\n",
      "rock and indie\n",
      "TRATAIB128F92E81CB\n",
      "rock and indie\n",
      "TRATARQ128F932BD75\n",
      "NULL\n",
      "TRATAZV128F425A410\n",
      "pop\n",
      "TRATBFX128F4221186\n",
      "NULL\n",
      "TRATBGP128F1482545\n",
      "rock and indie\n"
     ]
    },
    {
     "name": "stderr",
     "output_type": "stream",
     "text": [
      "\n",
      "\n",
      " 56%|█████▌    | 5215/9330 [01:00<00:56, 72.96it/s]\u001b[A\u001b[A\n",
      "\n",
      " 56%|█████▌    | 5224/9330 [01:00<00:54, 75.50it/s]"
     ]
    },
    {
     "name": "stdout",
     "output_type": "stream",
     "text": [
      "TRATBLI128F92F78F8\n",
      "pop\n",
      "TRATBNG128F92CADA8\n",
      "dance and electronica\n",
      "TRATBQM128F146DD5B\n",
      "NULL\n",
      "TRATBRJ12903D06127\n",
      "NULL\n",
      "TRATBVA128F9312ACC\n",
      "pop\n",
      "TRATBWX128F427D343\n",
      "NULL\n",
      "TRATCDG128F932B4D2\n",
      "rock and indie\n",
      "TRATCLI128F422BCF8\n",
      "pop\n",
      "TRATCMK12903CABAC8\n",
      "pop\n"
     ]
    },
    {
     "name": "stderr",
     "output_type": "stream",
     "text": [
      "\u001b[A\u001b[A\n",
      "\n",
      " 56%|█████▌    | 5232/9330 [01:00<00:53, 76.74it/s]\u001b[A\u001b[A\n",
      "\n",
      " 56%|█████▌    | 5240/9330 [01:00<00:55, 73.76it/s]"
     ]
    },
    {
     "name": "stdout",
     "output_type": "stream",
     "text": [
      "TRATCOE128F145F694\n",
      "NULL\n",
      "TRATDDF128F4294E6A\n",
      "rock and indie\n",
      "TRATDDM128F93417AF\n",
      "pop\n",
      "TRATDIZ128F4242796\n",
      "NULL\n",
      "TRATDKN128E078EDB3\n",
      "pop\n",
      "TRATDLH128F93384B0\n",
      "pop\n",
      "TRATDTH128F4263AAD\n",
      "pop\n",
      "TRATESL128F92F12DF\n",
      "NULL\n"
     ]
    },
    {
     "name": "stderr",
     "output_type": "stream",
     "text": [
      "\u001b[A\u001b[A\n",
      "\n",
      " 56%|█████▋    | 5250/9330 [01:00<00:52, 77.55it/s]\u001b[A\u001b[A\n",
      "\n",
      " 56%|█████▋    | 5260/9330 [01:00<00:50, 81.22it/s]"
     ]
    },
    {
     "name": "stdout",
     "output_type": "stream",
     "text": [
      "TRATESS128F934DA9F\n",
      "jazz\n",
      "TRATFBG128F9352D17\n",
      "metal\n",
      "TRATFDV128F42B62F7\n",
      "NULL\n",
      "TRATFEN128F14A3A6E\n",
      "pop\n",
      "TRATFFU12903CFA9D6\n",
      "NULL\n",
      "TRATGDS128F426A2E8\n",
      "rock and indie\n",
      "TRATGOC12903CC5BE2\n",
      "soul and reggae\n",
      "TRATGQE128F93060E3\n",
      "soul and reggae\n"
     ]
    },
    {
     "name": "stderr",
     "output_type": "stream",
     "text": [
      "\u001b[A\u001b[A\n",
      "\n",
      " 56%|█████▋    | 5269/9330 [01:01<00:57, 70.73it/s]\u001b[A\u001b[A"
     ]
    },
    {
     "name": "stdout",
     "output_type": "stream",
     "text": [
      "TRATGQO128F421B850\n",
      "metal\n",
      "TRATGQP128F93306B0\n",
      "folk\n",
      "TRATGQQ128F9314185\n",
      "folk\n",
      "TRATGRG128F145310B\n",
      "metal\n",
      "TRATGTP128F427021D\n",
      "pop\n",
      "TRATHCF128F4293FC8\n",
      "rock and indie\n",
      "TRATHFM128F148ADD4\n",
      "pop\n",
      "TRATHPX128F9341B8A\n",
      "rock and indie\n"
     ]
    },
    {
     "name": "stderr",
     "output_type": "stream",
     "text": [
      "\n",
      "\n",
      " 57%|█████▋    | 5279/9330 [01:01<00:53, 76.30it/s]\u001b[A\u001b[A\n",
      "\n",
      " 57%|█████▋    | 5288/9330 [01:01<00:57, 70.48it/s]"
     ]
    },
    {
     "name": "stdout",
     "output_type": "stream",
     "text": [
      "TRATHSS128F9304F31\n",
      "NULL\n",
      "TRATHTH128F42BC347\n",
      "pop\n",
      "TRATHVA128F9322A79\n",
      "rock and indie\n",
      "TRATIAH128F426B422\n",
      "rock and indie\n",
      "TRATIAY12903CF7B87\n",
      "NULL\n",
      "TRATIBL128F4250E1C\n",
      "soul and reggae\n",
      "TRATIHR128F9305D63\n",
      "hip-hop\n",
      "TRATIKG128F4233475\n",
      "NULL\n",
      "TRATIKX128F42697BF\n",
      "NULL\n"
     ]
    },
    {
     "name": "stderr",
     "output_type": "stream",
     "text": [
      "\u001b[A\u001b[A\n",
      "\n",
      " 57%|█████▋    | 5299/9330 [01:01<00:51, 78.21it/s]\u001b[A\u001b[A\n",
      "\n",
      " 57%|█████▋    | 5308/9330 [01:01<00:52, 77.07it/s]"
     ]
    },
    {
     "name": "stdout",
     "output_type": "stream",
     "text": [
      "TRATIWY128F42716A6\n",
      "NULL\n",
      "TRATIYP128F14A3056\n",
      "NULL\n",
      "TRATJBD128F4263C26\n",
      "NULL\n",
      "TRATJIU12903CA7269\n",
      "hip-hop\n",
      "TRATJNG128F4255834\n",
      "pop\n",
      "TRATJSR128F4266791\n",
      "pop\n",
      "TRATJXC128F93124CE\n",
      "NULL\n",
      "TRATKAA128F426E8A0\n",
      "pop\n",
      "TRATKHE12903CE1216\n",
      "metal\n"
     ]
    },
    {
     "name": "stderr",
     "output_type": "stream",
     "text": [
      "\u001b[A\u001b[A\n",
      "\n",
      " 57%|█████▋    | 5317/9330 [01:01<00:50, 80.01it/s]\u001b[A\u001b[A\n",
      "\n",
      " 57%|█████▋    | 5327/9330 [01:01<00:49, 80.90it/s]"
     ]
    },
    {
     "name": "stdout",
     "output_type": "stream",
     "text": [
      "TRATKIX12903D02EB1\n",
      "NULL\n",
      "TRATKNE128F9354E8D\n",
      "dance and electronica\n",
      "TRATKVY128EF35F97A\n",
      "pop\n",
      "TRATKZR128F426B930\n",
      "rock and indie\n",
      "TRATLLL128F149DBEB\n",
      "jazz\n",
      "TRATLOJ128F9308ABB\n",
      "NULL\n",
      "TRATLTV128F92FC979\n",
      "pop\n",
      "TRATMAL128F427EC8D\n",
      "hip-hop\n",
      "TRATMBF128F421B3E7\n",
      "NULL\n"
     ]
    },
    {
     "name": "stderr",
     "output_type": "stream",
     "text": [
      "\u001b[A\u001b[A\n",
      "\n",
      " 57%|█████▋    | 5340/9330 [01:01<00:43, 90.75it/s]\u001b[A\u001b[A\n",
      "\n",
      " 57%|█████▋    | 5350/9330 [01:02<00:47, 83.71it/s]"
     ]
    },
    {
     "name": "stdout",
     "output_type": "stream",
     "text": [
      "TRATMDD12903D11C7A\n",
      "NULL\n",
      "TRATMXT12903CC1153\n",
      "hip-hop\n",
      "TRATMYK12903CD4305\n",
      "dance and electronica\n",
      "TRATNHC12903CFA949\n",
      "NULL\n",
      "TRATNJH128F1452449\n",
      "NULL\n",
      "TRATNKU128F92F60C1\n",
      "pop\n",
      "TRATNMX128F427C2FC\n",
      "rock and indie\n",
      "TRATNNX128F426AA41\n",
      "dance and electronica\n",
      "TRATOAJ128F422F6A7\n"
     ]
    },
    {
     "name": "stderr",
     "output_type": "stream",
     "text": [
      "\u001b[A\u001b[A\n",
      "\n",
      " 57%|█████▋    | 5359/9330 [01:02<00:51, 77.81it/s]\u001b[A\u001b[A"
     ]
    },
    {
     "name": "stdout",
     "output_type": "stream",
     "text": [
      "dance and electronica\n",
      "TRATOCH128F4285825\n",
      "dance and electronica\n",
      "TRATOFK128F422AD0C\n",
      "NULL\n",
      "TRATOHB128F930270D\n",
      "jazz\n",
      "TRATOHC128EF3460DA\n",
      "pop\n",
      "TRATONC128F4299381\n",
      "NULL\n",
      "TRATOQD128F9336A53\n",
      "rock and indie\n",
      "TRATOZH12903CFA6DC\n",
      "NULL\n"
     ]
    },
    {
     "name": "stderr",
     "output_type": "stream",
     "text": [
      "\n",
      "\n",
      " 58%|█████▊    | 5368/9330 [01:02<00:49, 79.52it/s]\u001b[A\u001b[A\n",
      "\n",
      " 58%|█████▊    | 5377/9330 [01:02<00:50, 78.04it/s]"
     ]
    },
    {
     "name": "stdout",
     "output_type": "stream",
     "text": [
      "TRATPGP128F14700F8\n",
      "NULL\n",
      "TRATPGR12903CEDED4\n",
      "rock and indie\n",
      "TRATPJK12903CBF745\n",
      "pop\n",
      "TRATPKE128F1467FE7\n",
      "NULL\n",
      "TRATPRE128F931B12E\n",
      "NULL\n",
      "TRATPRU128F426E8AC\n",
      "NULL\n",
      "TRATPZY128F930CFD0\n",
      "folk\n",
      "TRATQDK128F1489B3E\n",
      "NULL\n",
      "TRATQHP128F421CDBA\n",
      "pop\n"
     ]
    },
    {
     "name": "stderr",
     "output_type": "stream",
     "text": [
      "\u001b[A\u001b[A\n",
      "\n",
      " 58%|█████▊    | 5386/9330 [01:02<01:01, 63.96it/s]"
     ]
    },
    {
     "name": "stdout",
     "output_type": "stream",
     "text": [
      "TRATQII12903CC785F\n",
      "NULL\n",
      "TRATQQC128F423851A\n",
      "pop\n",
      "TRATQQQ128F93084BE\n",
      "rock and indie\n",
      "TRATQRH12903CE2B65\n",
      "dance and electronica\n",
      "TRATQSL128F932E2ED\n",
      "pop\n",
      "TRATQTC128F9358C8B\n",
      "dance and electronica\n",
      "TRATQUI128F9347C68\n",
      "rock and indie\n",
      "TRATQWS128F931E5EA\n",
      "rock and indie\n",
      "TRATQWZ128F93133F8\n",
      "NULL\n",
      "TRATRER128EF3441CE\n",
      "dance and electronica\n"
     ]
    },
    {
     "name": "stderr",
     "output_type": "stream",
     "text": [
      "\u001b[A\u001b[A\n",
      "\n",
      " 58%|█████▊    | 5393/9330 [01:02<01:01, 64.35it/s]\u001b[A\u001b[A\n",
      "\n",
      " 58%|█████▊    | 5400/9330 [01:02<01:02, 63.05it/s]"
     ]
    },
    {
     "name": "stdout",
     "output_type": "stream",
     "text": [
      "TRATRJV128F428D077\n",
      "soul and reggae\n",
      "TRATRMT128F4249901\n",
      "pop\n",
      "TRATRMZ128F42A9AAC\n",
      "pop\n",
      "TRATSNE128F427EDB6\n",
      "NULL\n",
      "TRATSSL128F92F67BD\n",
      "soul and reggae\n",
      "TRATSVH128F428A9BA\n",
      "NULL\n",
      "TRATTAF128F147CA09\n",
      "pop\n",
      "TRATTGP128F932854B\n",
      "NULL\n",
      "TRATTGW128F427A82D\n",
      "pop\n"
     ]
    },
    {
     "name": "stderr",
     "output_type": "stream",
     "text": [
      "\u001b[A\u001b[A\n",
      "\n",
      " 58%|█████▊    | 5407/9330 [01:02<01:02, 62.70it/s]\u001b[A\u001b[A\n",
      "\n",
      " 58%|█████▊    | 5417/9330 [01:03<00:55, 70.58it/s]"
     ]
    },
    {
     "name": "stdout",
     "output_type": "stream",
     "text": [
      "TRATTMT128F149167B\n",
      "pop\n",
      "TRATTNI128E0799697\n",
      "pop\n",
      "TRATTRX128F92E764F\n",
      "pop\n",
      "TRATTTA128F9306B7F\n",
      "dance and electronica\n",
      "TRATUBW128F92F3866\n",
      "jazz\n",
      "TRATUPO128F9305A5C\n",
      "hip-hop\n",
      "TRATUSS128F92FD5AA\n",
      "pop\n",
      "TRATUUD128F9307F90\n",
      "NULL\n",
      "TRATVGT128F9310C89\n",
      "NULL\n"
     ]
    },
    {
     "name": "stderr",
     "output_type": "stream",
     "text": [
      "\u001b[A\u001b[A\n",
      "\n",
      " 58%|█████▊    | 5426/9330 [01:03<00:51, 75.13it/s]\u001b[A\u001b[A\n",
      "\n",
      " 58%|█████▊    | 5436/9330 [01:03<00:48, 80.58it/s]"
     ]
    },
    {
     "name": "stdout",
     "output_type": "stream",
     "text": [
      "TRATWFN128F932CEF6\n",
      "rock and indie\n",
      "TRATWQQ128F426F1EC\n",
      "NULL\n",
      "TRATWTC128F4291AB3\n",
      "NULL\n",
      "TRATWUD128F9309671\n",
      "NULL\n",
      "TRATWYC12903CE60D6\n",
      "rock and indie\n",
      "TRATXIS128F92D9676\n",
      "jazz\n",
      "TRATXSW128F4243364\n",
      "rock and indie\n",
      "TRATXYI128F42AC8F2\n",
      "NULL\n",
      "TRATYGR128F427D08C\n"
     ]
    },
    {
     "name": "stderr",
     "output_type": "stream",
     "text": [
      "\u001b[A\u001b[A\n",
      "\n",
      " 58%|█████▊    | 5445/9330 [01:03<00:46, 83.03it/s]\u001b[A\u001b[A\n",
      "\n",
      " 58%|█████▊    | 5455/9330 [01:03<00:45, 85.00it/s]\u001b[A\u001b[A"
     ]
    },
    {
     "name": "stdout",
     "output_type": "stream",
     "text": [
      "dance and electronica\n",
      "TRATYJI128F4255D27\n",
      "pop\n",
      "TRATYQP12903CF5881\n",
      "jazz\n",
      "TRATYYP128F9335EE9\n",
      "dance and electronica\n",
      "TRATYZP128F4236CBD\n",
      "jazz\n",
      "TRATZDT12903CAECE5\n",
      "NULL\n",
      "TRATZLF128F4273C2B\n",
      "NULL\n",
      "TRATZPD12903CC99FB\n",
      "hip-hop\n",
      "TRATZQS128F1467D4B\n",
      "pop\n"
     ]
    },
    {
     "name": "stderr",
     "output_type": "stream",
     "text": [
      "\n",
      "\n",
      " 59%|█████▊    | 5464/9330 [01:03<00:47, 81.40it/s]\u001b[A\u001b[A\n",
      "\n",
      " 59%|█████▊    | 5478/9330 [01:03<00:41, 93.02it/s]"
     ]
    },
    {
     "name": "stdout",
     "output_type": "stream",
     "text": [
      "TRAUACD12903CEF021\n",
      "soul and reggae\n",
      "TRAUALF128E0781331\n",
      "dance and electronica\n",
      "TRAUAZA128F424847C\n",
      "NULL\n",
      "TRAUBKK128F4254C97\n",
      "dance and electronica\n",
      "TRAUBNN128F4298B31\n",
      "dance and electronica\n",
      "TRAUBRC128F92EF13F\n",
      "NULL\n",
      "TRAUCBH128F4275052\n",
      "rock and indie\n"
     ]
    },
    {
     "name": "stderr",
     "output_type": "stream",
     "text": [
      "\u001b[A\u001b[A\n",
      "\n",
      " 59%|█████▉    | 5489/9330 [01:03<00:40, 94.98it/s]\u001b[A\u001b[A\n",
      "\n",
      " 59%|█████▉    | 5500/9330 [01:03<00:42, 90.04it/s]"
     ]
    },
    {
     "name": "stdout",
     "output_type": "stream",
     "text": [
      "TRAUCIQ12903D00769\n",
      "rock and indie\n",
      "TRAUCKR128F428C915\n",
      "NULL\n",
      "TRAUCME128F422A115\n",
      "dance and electronica\n",
      "TRAUCNU128F42671EB\n",
      "pop\n",
      "TRAUCPI128F4224350\n",
      "NULL\n",
      "TRAUCSN128F148CB99\n",
      "dance and electronica\n",
      "TRAUCVY12903CF2B1E\n",
      "pop\n",
      "TRAUCZX128F149D9AE\n",
      "NULL\n"
     ]
    },
    {
     "name": "stderr",
     "output_type": "stream",
     "text": [
      "\u001b[A\u001b[A\n",
      "\n",
      " 59%|█████▉    | 5510/9330 [01:04<00:46, 82.79it/s]\u001b[A\u001b[A"
     ]
    },
    {
     "name": "stdout",
     "output_type": "stream",
     "text": [
      "TRAUDFG128F423AC77\n",
      "NULL\n",
      "TRAUDGS128F92FC6AE\n",
      "NULL\n",
      "TRAUDIU128F933AD92\n",
      "NULL\n",
      "TRAUDRC128F148D15E\n",
      "rock and indie\n",
      "TRAUDWB128F9318EA4\n",
      "NULL\n",
      "TRAUDYH128F9301EF1\n",
      "rock and indie\n",
      "TRAUENF128F931FC35\n",
      "metal\n",
      "TRAUEVU128F42B7B0A\n",
      "hip-hop\n",
      "TRAUEWN128F932C32C\n",
      "NULL\n"
     ]
    },
    {
     "name": "stderr",
     "output_type": "stream",
     "text": [
      "\n",
      "\n",
      " 59%|█████▉    | 5520/9330 [01:04<00:45, 84.66it/s]\u001b[A\u001b[A\n",
      "\n",
      " 59%|█████▉    | 5529/9330 [01:04<00:48, 77.78it/s]\u001b[A\u001b[A"
     ]
    },
    {
     "name": "stdout",
     "output_type": "stream",
     "text": [
      "TRAUEYX12903CEAF48\n",
      "pop\n",
      "TRAUFCU128F42882B7\n",
      "pop\n",
      "TRAUFDN128E07926A5\n",
      "NULL\n",
      "TRAUFLM128F42AECDC\n",
      "pop\n",
      "TRAUFRH128F93502AC\n",
      "NULL\n",
      "TRAUGHD128F42A8B9B\n",
      "dance and electronica\n",
      "TRAUGIS128F92EB03D\n",
      "NULL\n",
      "TRAUGLQ128F1495E6D\n",
      "jazz\n",
      "TRAUGNY12903CFEFB5\n",
      "dance and electronica\n"
     ]
    },
    {
     "name": "stderr",
     "output_type": "stream",
     "text": [
      "\n",
      "\n",
      " 59%|█████▉    | 5538/9330 [01:04<00:51, 73.75it/s]\u001b[A\u001b[A\n",
      "\n",
      " 59%|█████▉    | 5546/9330 [01:04<00:51, 73.14it/s]"
     ]
    },
    {
     "name": "stdout",
     "output_type": "stream",
     "text": [
      "TRAUGRD128F425E997\n",
      "pop\n",
      "TRAUGTI128F4273726\n",
      "NULL\n",
      "TRAUGWE128F42670DB\n",
      "jazz\n",
      "TRAUGYG128F428A174\n",
      "NULL\n",
      "TRAUHJH128F92CA20E\n",
      "jazz\n",
      "TRAUHVP128F933657C\n",
      "dance and electronica\n",
      "TRAUHXR12903CBDFE4\n",
      "rock and indie\n",
      "TRAUIOQ128F92EDC51\n",
      "rock and indie\n"
     ]
    },
    {
     "name": "stderr",
     "output_type": "stream",
     "text": [
      "\u001b[A\u001b[A\n",
      "\n",
      " 60%|█████▉    | 5558/9330 [01:04<00:47, 79.61it/s]\u001b[A\u001b[A"
     ]
    },
    {
     "name": "stdout",
     "output_type": "stream",
     "text": [
      "TRAUJEB128F4240FD4\n",
      "jazz\n",
      "TRAUJKJ128E078FA48\n",
      "pop\n",
      "TRAUJLJ128E0784E7C\n",
      "hip-hop\n",
      "TRAUJMN128F421A8EC\n",
      "rock and indie\n",
      "TRAUJPQ128F930D4C5\n",
      "rock and indie\n",
      "TRAUJTZ12903CF7BB4\n",
      "pop\n",
      "TRAUJVM128F422C5A2\n",
      "rock and indie\n",
      "TRAUJVS128F93324DA\n",
      "pop\n",
      "TRAUKGN128F1499A8D\n",
      "NULL\n"
     ]
    },
    {
     "name": "stderr",
     "output_type": "stream",
     "text": [
      "\n",
      "\n",
      " 60%|█████▉    | 5567/9330 [01:04<00:52, 72.32it/s]\u001b[A\u001b[A\n",
      "\n",
      " 60%|█████▉    | 5577/9330 [01:04<00:48, 77.39it/s]\u001b[A\u001b[A"
     ]
    },
    {
     "name": "stdout",
     "output_type": "stream",
     "text": [
      "TRAUKNJ128F933A413\n",
      "soul and reggae\n",
      "TRAUKQD128F932C66D\n",
      "folk\n",
      "TRAUKYS128F14636CB\n",
      "pop\n",
      "TRAULAE128F92FD865\n",
      "soul and reggae\n",
      "TRAULEG128F92F035B\n",
      "metal\n",
      "TRAULGT12903D10B94\n",
      "NULL\n",
      "TRAULJK128F4294B58\n",
      "NULL\n",
      "TRAULOO12903CF47B6\n",
      "pop\n",
      "TRAULTS128F931290B\n",
      "dance and electronica\n"
     ]
    },
    {
     "name": "stderr",
     "output_type": "stream",
     "text": [
      "\n",
      "\n",
      " 60%|█████▉    | 5586/9330 [01:05<00:56, 65.90it/s]\u001b[A\u001b[A\n",
      "\n",
      " 60%|█████▉    | 5594/9330 [01:05<00:56, 66.70it/s]"
     ]
    },
    {
     "name": "stdout",
     "output_type": "stream",
     "text": [
      "TRAULZG128F425E06C\n",
      "rock and indie\n",
      "TRAULZV12903CF968F\n",
      "rock and indie\n",
      "TRAULZX128F92F5464\n",
      "NULL\n",
      "TRAUMEN128F9355DCC\n",
      "NULL\n",
      "TRAUMHL128F930CFCB\n",
      "folk\n",
      "TRAUMIT128F424DA18\n",
      "pop\n",
      "TRAUMNH128F92FB67F\n",
      "rock and indie\n",
      "TRAUMPU12903CBD2E2\n",
      "soul and reggae\n",
      "TRAUMZG128F934462A\n",
      "rock and indie\n",
      "TRAUNEL128F1467D5C"
     ]
    },
    {
     "name": "stderr",
     "output_type": "stream",
     "text": [
      "\u001b[A\u001b[A\n",
      "\n",
      " 60%|██████    | 5603/9330 [01:05<00:53, 70.01it/s]\u001b[A\u001b[A"
     ]
    },
    {
     "name": "stdout",
     "output_type": "stream",
     "text": [
      "\n",
      "pop\n",
      "TRAUNGN12903CE12A6\n",
      "dance and electronica\n",
      "TRAUNND12903CD03BC\n",
      "NULL\n",
      "TRAUNNH12903CB038C\n",
      "metal\n",
      "TRAUNPM12903CB7CCC\n",
      "pop\n",
      "TRAUOAA128F4245ECF\n",
      "NULL\n",
      "TRAUOBO128F4280122\n",
      "NULL\n",
      "TRAUODU128F9307467\n",
      "pop\n",
      "TRAUOEY128F421CBD3\n",
      "pop\n"
     ]
    },
    {
     "name": "stderr",
     "output_type": "stream",
     "text": [
      "\n",
      "\n",
      " 60%|██████    | 5611/9330 [01:05<00:58, 63.69it/s]\u001b[A\u001b[A\n",
      "\n",
      " 60%|██████    | 5618/9330 [01:05<01:02, 59.21it/s]"
     ]
    },
    {
     "name": "stdout",
     "output_type": "stream",
     "text": [
      "TRAUOEZ12903CAC030\n",
      "NULL\n",
      "TRAUONA128F4255A38\n",
      "pop\n",
      "TRAUOPA128F93537F2\n",
      "rock and indie\n",
      "TRAUOPC128F92F5EDE\n",
      "rock and indie\n",
      "TRAUOPE128EF367610\n",
      "rock and indie\n",
      "TRAUOPR128F933634F\n",
      "rock and indie\n",
      "TRAUORF128F424D160\n",
      "pop\n",
      "TRAUOUZ128E078F8BB\n",
      "hip-hop\n",
      "TRAUOXB128F146573B\n",
      "rock and indie\n"
     ]
    },
    {
     "name": "stderr",
     "output_type": "stream",
     "text": [
      "\u001b[A\u001b[A\n",
      "\n",
      " 60%|██████    | 5626/9330 [01:05<00:57, 64.18it/s]\u001b[A\u001b[A\n",
      "\n",
      " 60%|██████    | 5640/9330 [01:05<00:48, 75.99it/s]"
     ]
    },
    {
     "name": "stdout",
     "output_type": "stream",
     "text": [
      "TRAUPEE128F425943A\n",
      "rock and indie\n",
      "TRAUPSV128F427B621\n",
      "pop\n",
      "TRAUQFT128F4270904\n",
      "NULL\n",
      "TRAUREN128F931F5AB\n",
      "pop\n",
      "TRAURHK12903CA60F8\n",
      "rock and indie\n",
      "TRAURQM128F423C581\n",
      "pop\n",
      "TRAURRO128F1489B2C\n",
      "rock and indie\n"
     ]
    },
    {
     "name": "stderr",
     "output_type": "stream",
     "text": [
      "\u001b[A\u001b[A\n",
      "\n",
      " 61%|██████    | 5649/9330 [01:05<00:47, 77.99it/s]\u001b[A\u001b[A\n",
      "\n",
      " 61%|██████    | 5658/9330 [01:06<00:48, 76.49it/s]"
     ]
    },
    {
     "name": "stdout",
     "output_type": "stream",
     "text": [
      "TRAURRP128F4261B94\n",
      "pop\n",
      "TRAURYF128F147805D\n",
      "dance and electronica\n",
      "TRAUSBV128F9344D08\n",
      "NULL\n",
      "TRAUSHD128E0795347\n",
      "pop\n",
      "TRAUSMF12903CE71E5\n",
      "rock and indie\n",
      "TRAUSQP128F4230490\n",
      "NULL\n",
      "TRAUSYQ12903CE5242\n",
      "hip-hop\n",
      "TRAUTAI128F4275F53\n",
      "NULL\n",
      "TRAUTCA128F429B624\n",
      "rock and indie\n"
     ]
    },
    {
     "name": "stderr",
     "output_type": "stream",
     "text": [
      "\u001b[A\u001b[A\n",
      "\n",
      " 61%|██████    | 5667/9330 [01:06<00:50, 71.86it/s]\u001b[A\u001b[A"
     ]
    },
    {
     "name": "stdout",
     "output_type": "stream",
     "text": [
      "TRAUTJD128F14890F5\n",
      "jazz\n",
      "TRAUTNT128F933CB62\n",
      "dance and electronica\n",
      "TRAUTOL128F42418E2\n",
      "NULL\n",
      "TRAUTPD128F92F1376\n",
      "pop\n",
      "TRAUTXO128F4263C8E\n",
      "NULL\n",
      "TRAUTXS128F932A629\n",
      "pop\n",
      "TRAUUIF128F93232FE\n",
      "dance and electronica\n",
      "TRAUURC128E078EC6E\n",
      "dance and electronica\n"
     ]
    },
    {
     "name": "stderr",
     "output_type": "stream",
     "text": [
      "\n",
      "\n",
      " 61%|██████    | 5676/9330 [01:06<00:48, 74.75it/s]\u001b[A\u001b[A\n",
      "\n",
      " 61%|██████    | 5684/9330 [01:06<00:49, 74.20it/s]\u001b[A\u001b[A"
     ]
    },
    {
     "name": "stdout",
     "output_type": "stream",
     "text": [
      "TRAUUYL128F9322F64\n",
      "pop\n",
      "TRAUUZF128EF347CD5\n",
      "pop\n",
      "TRAUVGG12903CEF9CD\n",
      "NULL\n",
      "TRAUVGO128F14836DB\n",
      "rock and indie\n",
      "TRAUVSF128F14A0B6F\n",
      "dance and electronica\n",
      "TRAUVTO128F4297AA2\n",
      "NULL\n",
      "TRAUVUF128F148D1AA\n",
      "pop\n",
      "TRAUVVR128F425A925\n",
      "pop\n"
     ]
    },
    {
     "name": "stderr",
     "output_type": "stream",
     "text": [
      "\n",
      "\n",
      " 61%|██████    | 5692/9330 [01:06<00:48, 74.81it/s]\u001b[A\u001b[A\n",
      "\n",
      " 61%|██████    | 5703/9330 [01:06<00:44, 80.96it/s]\u001b[A\u001b[A"
     ]
    },
    {
     "name": "stdout",
     "output_type": "stream",
     "text": [
      "TRAUWIL128F9334C00\n",
      "jazz\n",
      "TRAUWQL128F424696E\n",
      "metal\n",
      "TRAUWRW128F9358C69\n",
      "pop\n",
      "TRAUWWP12903CC79CB\n",
      "metal\n",
      "TRAUXEL128F42683D5\n",
      "rock and indie\n",
      "TRAUXEU12903CD3CD7\n",
      "pop\n",
      "TRAUXNO128F42774A0\n",
      "rock and indie\n",
      "TRAUXNU12903D11493\n",
      "NULL\n",
      "TRAUXSK128F427C58D\n",
      "rock and indie\n",
      "TRAUXSO128F42B863C\n",
      "rock and indie\n"
     ]
    },
    {
     "name": "stderr",
     "output_type": "stream",
     "text": [
      "\n",
      "\n",
      " 61%|██████    | 5712/9330 [01:06<00:47, 76.04it/s]\u001b[A\u001b[A\n",
      "\n",
      " 61%|██████▏   | 5723/9330 [01:06<00:43, 82.15it/s]"
     ]
    },
    {
     "name": "stdout",
     "output_type": "stream",
     "text": [
      "TRAUYKN128F933067A\n",
      "classical\n",
      "TRAUYLT128F427538E\n",
      "dance and electronica\n",
      "TRAUYOD128F42647FE\n",
      "pop\n",
      "TRAUYYW128F92E9E8F\n",
      "NULL\n",
      "TRAUYZG12903CDA4E9\n",
      "pop\n",
      "TRAUZFR128F93381F4\n",
      "NULL\n",
      "TRAUZFY128F42BCE57\n",
      "NULL\n",
      "TRAUZLI128E0791D51\n",
      "pop\n",
      "TRAUZLI128F427EA58\n",
      "NULL\n",
      "TRAUZTB128F422730F\n",
      "NULL\n",
      "TRAUZTR128F9351D2A\n",
      "pop\n"
     ]
    },
    {
     "name": "stderr",
     "output_type": "stream",
     "text": [
      "\u001b[A\u001b[A\n",
      "\n",
      " 61%|██████▏   | 5732/9330 [01:07<00:44, 80.54it/s]\u001b[A\u001b[A\n",
      "\n",
      " 62%|██████▏   | 5743/9330 [01:07<00:42, 83.73it/s]"
     ]
    },
    {
     "name": "stdout",
     "output_type": "stream",
     "text": [
      "TRAUZVU12903CC050D\n",
      "pop\n",
      "TRAVADZ12903CA4D29\n",
      "metal\n",
      "TRAVANT128F92E3F71\n",
      "pop\n",
      "TRAVASN128F9361074\n",
      "NULL\n",
      "TRAVAXK128F42A5166\n",
      "NULL\n",
      "TRAVBAH128F9305DFC\n",
      "pop\n",
      "TRAVBCR128F933AE8E\n",
      "rock and indie\n",
      "TRAVBGI128F425F366\n",
      "NULL\n",
      "TRAVBZD128F4244549\n",
      "NULL\n",
      "TRAVCBP128F422930E"
     ]
    },
    {
     "name": "stderr",
     "output_type": "stream",
     "text": [
      "\u001b[A\u001b[A\n",
      "\n",
      " 62%|██████▏   | 5754/9330 [01:07<00:40, 88.43it/s]\u001b[A\u001b[A\n",
      "\n",
      " 62%|██████▏   | 5764/9330 [01:07<00:42, 83.94it/s]"
     ]
    },
    {
     "name": "stdout",
     "output_type": "stream",
     "text": [
      "\n",
      "rock and indie\n",
      "TRAVCNA128F930975C\n",
      "metal\n",
      "TRAVCTG12903CFF7F9\n",
      "dance and electronica\n",
      "TRAVCWE12903CEF076\n",
      "hip-hop\n",
      "TRAVCWS128F1469EE2\n",
      "dance and electronica\n",
      "TRAVDBI12903D105BB\n",
      "rock and indie\n",
      "TRAVDBV128F424EAD8\n",
      "dance and electronica\n",
      "TRAVDGG128F92E389A\n",
      "pop\n",
      "TRAVDMO12903CDA1DB\n",
      "NULL\n",
      "TRAVDQU128EF34E7A8\n",
      "NULL\n"
     ]
    },
    {
     "name": "stderr",
     "output_type": "stream",
     "text": [
      "\u001b[A\u001b[A\n",
      "\n",
      " 62%|██████▏   | 5773/9330 [01:07<00:42, 83.88it/s]\u001b[A\u001b[A"
     ]
    },
    {
     "name": "stdout",
     "output_type": "stream",
     "text": [
      "TRAVEKB128F9321D0B\n",
      "soul and reggae\n",
      "TRAVELY128F42606F8\n",
      "pop\n",
      "TRAVEOQ128F931C8F4\n",
      "soul and reggae\n",
      "TRAVEQX128E07864AA\n",
      "pop\n",
      "TRAVESV12903CEDEDA\n",
      "NULL\n",
      "TRAVFEW128F92E2B47\n",
      "rock and indie\n",
      "TRAVFJV128F92D2043\n",
      "rock and indie\n",
      "TRAVFOA128F92F2B38\n",
      "pop\n",
      "TRAVFPH128F42621EE\n",
      "rock and indie\n"
     ]
    },
    {
     "name": "stderr",
     "output_type": "stream",
     "text": [
      "\n",
      "\n",
      " 62%|██████▏   | 5782/9330 [01:07<00:47, 74.05it/s]\u001b[A\u001b[A\n",
      "\n",
      " 62%|██████▏   | 5791/9330 [01:07<00:45, 78.08it/s]"
     ]
    },
    {
     "name": "stdout",
     "output_type": "stream",
     "text": [
      "TRAVFSL128E078E22A\n",
      "NULL\n",
      "TRAVGDE128F92F5F5E\n",
      "folk\n",
      "TRAVGFT128F424278B\n",
      "pop\n",
      "TRAVGLC128F931535B\n",
      "NULL\n",
      "TRAVGNH128F428CBA9\n",
      "rock and indie\n",
      "TRAVGYX128E078E8A8\n",
      "pop\n",
      "TRAVGZF128F4260E6F\n",
      "NULL\n",
      "TRAVGZS128F9338603\n",
      "NULL\n",
      "TRAVHIA128F1494B0C"
     ]
    },
    {
     "name": "stderr",
     "output_type": "stream",
     "text": [
      "\u001b[A\u001b[A\n",
      "\n",
      " 62%|██████▏   | 5800/9330 [01:07<00:48, 72.80it/s]\u001b[A\u001b[A\n",
      "\n",
      " 62%|██████▏   | 5810/9330 [01:07<00:44, 78.95it/s]"
     ]
    },
    {
     "name": "stdout",
     "output_type": "stream",
     "text": [
      "\n",
      "NULL\n",
      "TRAVHLR128F146B476\n",
      "rock and indie\n",
      "TRAVHPV128F933E986\n",
      "rock and indie\n",
      "TRAVHTT128F14987BB\n",
      "jazz\n",
      "TRAVHTY128F4271F2D\n",
      "NULL\n",
      "TRAVISL128F4213009\n",
      "NULL\n",
      "TRAVITI128F147DA2B\n",
      "NULL\n",
      "TRAVJDB128F93305EB\n",
      "pop\n",
      "TRAVJHK128E078370B\n",
      "pop\n"
     ]
    },
    {
     "name": "stderr",
     "output_type": "stream",
     "text": [
      "\u001b[A\u001b[A\n",
      "\n",
      " 62%|██████▏   | 5821/9330 [01:08<00:41, 84.77it/s]\u001b[A\u001b[A\n",
      "\n",
      " 62%|██████▏   | 5830/9330 [01:08<00:43, 80.18it/s]"
     ]
    },
    {
     "name": "stdout",
     "output_type": "stream",
     "text": [
      "TRAVJXS128F931C380\n",
      "NULL\n",
      "TRAVKGM12903CA66FB\n",
      "rock and indie\n",
      "TRAVKJI12903CF479A\n",
      "metal\n",
      "TRAVKJJ128F424DA32\n",
      "pop\n",
      "TRAVKKG128E0784E75\n",
      "NULL\n",
      "TRAVKOP12903CD4E39\n",
      "NULL\n",
      "TRAVKSX128F92EF211\n",
      "NULL\n",
      "TRAVKUT128F93462CE\n",
      "rock and indie\n",
      "TRAVKVC128F42671D3\n",
      "hip-hop\n",
      "TRAVLKA128F428BBD3\n",
      "NULL\n"
     ]
    },
    {
     "name": "stderr",
     "output_type": "stream",
     "text": [
      "\u001b[A\u001b[A\n",
      "\n",
      " 63%|██████▎   | 5839/9330 [01:08<00:44, 77.75it/s]\u001b[A\u001b[A"
     ]
    },
    {
     "name": "stdout",
     "output_type": "stream",
     "text": [
      "TRAVLNW128F4272F05\n",
      "pop\n",
      "TRAVLWL128F424EF6A\n",
      "pop\n",
      "TRAVLXZ128F42A22E4\n",
      "NULL\n",
      "TRAVMFC128F428CDE0\n",
      "hip-hop\n",
      "TRAVMPT128F4246BE4\n",
      "pop\n",
      "TRAVMQE12903D08335\n",
      "rock and indie\n",
      "TRAVMRI128F4259E76\n",
      "pop\n",
      "TRAVMUT128F92F9857\n",
      "NULL\n",
      "TRAVMWQ128F934B098\n"
     ]
    },
    {
     "name": "stderr",
     "output_type": "stream",
     "text": [
      "\n",
      "\n",
      " 63%|██████▎   | 5848/9330 [01:08<00:54, 64.16it/s]\u001b[A\u001b[A\n",
      "\n",
      " 63%|██████▎   | 5856/9330 [01:08<00:51, 66.82it/s]"
     ]
    },
    {
     "name": "stdout",
     "output_type": "stream",
     "text": [
      "pop\n",
      "TRAVMXD12903CBBD0B\n",
      "rock and indie\n",
      "TRAVMXQ128E0785F82\n",
      "soul and reggae\n",
      "TRAVMZX128F14AB117\n",
      "NULL\n",
      "TRAVNDK128F92E3F08\n",
      "NULL\n",
      "TRAVNHK12903CC5B48\n",
      "hip-hop\n",
      "TRAVNST128F422EBD2\n",
      "rock and indie\n",
      "TRAVNUK128F92F274F\n",
      "pop\n",
      "TRAVNVI128F4298D23\n",
      "NULL\n",
      "TRAVOBO128F422B7BC\n",
      "NULL\n"
     ]
    },
    {
     "name": "stderr",
     "output_type": "stream",
     "text": [
      "\u001b[A\u001b[A\n",
      "\n",
      " 63%|██████▎   | 5865/9330 [01:08<00:48, 71.68it/s]\u001b[A\u001b[A\n",
      "\n",
      " 63%|██████▎   | 5873/9330 [01:08<00:47, 72.79it/s]"
     ]
    },
    {
     "name": "stdout",
     "output_type": "stream",
     "text": [
      "TRAVOHH128F4247EF9\n",
      "NULL\n",
      "TRAVOLQ128F9322DB4\n",
      "rock and indie\n",
      "TRAVOPU128F9360B7D\n",
      "NULL\n",
      "TRAVOTJ128F1472926\n",
      "NULL\n",
      "TRAVOVP128E078512B\n",
      "rock and indie\n",
      "TRAVOXE12903D0FBB2\n",
      "soul and reggae\n",
      "TRAVPGQ128E079530E\n",
      "rock and indie\n",
      "TRAVPHB128F92DA4F5\n",
      "dance and electronica\n",
      "TRAVPHL128F424EAE1\n",
      "rock and indie\n",
      "TRAVPNQ128F933F216\n",
      "NULL\n",
      "TRAVPQQ128F92F998A\n",
      "NULL\n"
     ]
    },
    {
     "name": "stderr",
     "output_type": "stream",
     "text": [
      "\u001b[A\u001b[A\n",
      "\n",
      " 63%|██████▎   | 5887/9330 [01:08<00:41, 82.14it/s]\u001b[A\u001b[A\n",
      "\n",
      " 63%|██████▎   | 5897/9330 [01:09<00:39, 86.60it/s]"
     ]
    },
    {
     "name": "stdout",
     "output_type": "stream",
     "text": [
      "TRAVPYY128F92CEBAB\n",
      "pop\n",
      "TRAVQBP128F145BB9B\n",
      "rock and indie\n",
      "TRAVQIO128E0790E80\n",
      "NULL\n",
      "TRAVQWO128F429BC6B\n",
      "NULL\n",
      "TRAVQZF128F92F3CE3\n",
      "metal\n",
      "TRAVRIX128F92E8629\n",
      "rock and indie\n",
      "TRAVRJA128F9329C4C\n",
      "rock and indie\n",
      "TRAVRPL128F145E874\n",
      "rock and indie\n",
      "TRAVRTO128F4280C14\n"
     ]
    },
    {
     "name": "stderr",
     "output_type": "stream",
     "text": [
      "\u001b[A\u001b[A\n",
      "\n",
      " 63%|██████▎   | 5907/9330 [01:09<00:40, 83.93it/s]\u001b[A\u001b[A\n",
      "\n",
      " 63%|██████▎   | 5919/9330 [01:09<00:38, 89.43it/s]"
     ]
    },
    {
     "name": "stdout",
     "output_type": "stream",
     "text": [
      "NULL\n",
      "TRAVSQE12903CB6879\n",
      "rock and indie\n",
      "TRAVSQI128F4255127\n",
      "NULL\n",
      "TRAVSRW128F4294603\n",
      "jazz\n",
      "TRAVSVL128F14B12BE\n",
      "rock and indie\n",
      "TRAVSZP128F92C53A0\n",
      "folk\n",
      "TRAVTEH128E07953EA\n",
      "pop\n",
      "TRAVTMG128F4262F39\n",
      "hip-hop\n",
      "TRAVTUD128F93094F2\n",
      "pop\n",
      "TRAVTWI128F93586D0\n",
      "dance and electronica\n",
      "TRAVUAJ128E078EDA2\n"
     ]
    },
    {
     "name": "stderr",
     "output_type": "stream",
     "text": [
      "\u001b[A\u001b[A\n",
      "\n",
      " 64%|██████▎   | 5930/9330 [01:09<00:38, 87.92it/s]\u001b[A\u001b[A"
     ]
    },
    {
     "name": "stdout",
     "output_type": "stream",
     "text": [
      "pop\n",
      "TRAVUOW128F4262955\n",
      "dance and electronica\n",
      "TRAVUPN128F93408D6\n",
      "folk\n",
      "TRAVUXN128F147ED0F\n",
      "NULL\n",
      "TRAVVBW128F42819B2\n",
      "pop\n",
      "TRAVVHD128F4276138\n",
      "NULL\n",
      "TRAVVIV128F932617C\n",
      "rock and indie\n",
      "TRAVVRE128F92EC0A9\n",
      "pop\n"
     ]
    },
    {
     "name": "stderr",
     "output_type": "stream",
     "text": [
      "\n",
      "\n",
      " 64%|██████▎   | 5940/9330 [01:09<00:38, 87.34it/s]\u001b[A\u001b[A\n",
      "\n",
      " 64%|██████▍   | 5951/9330 [01:09<00:36, 92.72it/s]"
     ]
    },
    {
     "name": "stdout",
     "output_type": "stream",
     "text": [
      "TRAVVSL128F92F607D\n",
      "NULL\n",
      "TRAVVZW12903CCEEE7\n",
      "pop\n",
      "TRAVWIP128E078FA3D\n",
      "hip-hop\n",
      "TRAVWRV128F427D06A\n",
      "rock and indie\n",
      "TRAVWTN128F425D2D5\n",
      "rock and indie\n",
      "TRAVWYR128F92DED0F\n",
      "NULL\n",
      "TRAVWZA128F931F36E\n",
      "pop\n",
      "TRAVXBL128F42BB389\n",
      "pop\n"
     ]
    },
    {
     "name": "stderr",
     "output_type": "stream",
     "text": [
      "\u001b[A\u001b[A\n",
      "\n",
      " 64%|██████▍   | 5961/9330 [01:09<00:37, 89.52it/s]\u001b[A\u001b[A\n",
      "\n",
      " 64%|██████▍   | 5971/9330 [01:09<00:39, 85.17it/s]"
     ]
    },
    {
     "name": "stdout",
     "output_type": "stream",
     "text": [
      "TRAVXEP128F14539AE\n",
      "hip-hop\n",
      "TRAVXII128F92FCC6D\n",
      "dance and electronica\n",
      "TRAVXZP128F425C677\n",
      "NULL\n",
      "TRAVYHI12903CB95EC\n",
      "hip-hop\n",
      "TRAVYIU128F42625E1\n",
      "metal\n",
      "TRAVYNN128F425EBBC\n",
      "NULL\n",
      "TRAVYPH128F149B902\n",
      "rock and indie\n",
      "TRAVYRR128F423C597\n",
      "rock and indie\n",
      "TRAVYVD128F4237876\n",
      "pop\n"
     ]
    },
    {
     "name": "stderr",
     "output_type": "stream",
     "text": [
      "\u001b[A\u001b[A\n",
      "\n",
      " 64%|██████▍   | 5981/9330 [01:10<00:38, 86.51it/s]\u001b[A\u001b[A\n",
      "\n",
      " 64%|██████▍   | 5992/9330 [01:10<00:36, 91.96it/s]"
     ]
    },
    {
     "name": "stdout",
     "output_type": "stream",
     "text": [
      "TRAVYXL128EF34722F\n",
      "rock and indie\n",
      "TRAVZLU128F9305DD2\n",
      "NULL\n",
      "TRAVZWX128F92EC110\n",
      "pop\n",
      "TRAVZZV128F42AE511\n",
      "folk\n",
      "TRAWAHY128F14AA11E\n",
      "rock and indie\n",
      "TRAWAJX128F426570B\n",
      "NULL\n",
      "TRAWAXO12903CB2364\n",
      "rock and indie\n",
      "TRAWAXV128F92E075C\n",
      "pop\n",
      "TRAWBEN128F931012E\n",
      "NULL\n",
      "TRAWBFX128F4213891"
     ]
    },
    {
     "name": "stderr",
     "output_type": "stream",
     "text": [
      "\u001b[A\u001b[A\n",
      "\n",
      " 64%|██████▍   | 6002/9330 [01:10<00:41, 81.14it/s]\u001b[A\u001b[A"
     ]
    },
    {
     "name": "stdout",
     "output_type": "stream",
     "text": [
      "\n",
      "jazz\n",
      "TRAWBGU128F93306A8\n",
      "NULL\n",
      "TRAWBKF128F92D7EC2\n",
      "NULL\n",
      "TRAWBNP128F42BA71A\n",
      "pop\n",
      "TRAWBOE128F92F2F46\n",
      "rock and indie\n",
      "TRAWBOS128EF33F24A\n",
      "hip-hop\n",
      "TRAWBSO128F931F551\n",
      "rock and indie\n",
      "TRAWBSZ128F4278C10\n",
      "hip-hop\n",
      "TRAWBVQ128F149ADFD\n",
      "NULL\n",
      "TRAWBVW128F932A39F\n",
      "soul and reggae\n"
     ]
    },
    {
     "name": "stderr",
     "output_type": "stream",
     "text": [
      "\n",
      "\n",
      " 64%|██████▍   | 6011/9330 [01:10<00:45, 73.17it/s]\u001b[A\u001b[A"
     ]
    },
    {
     "name": "stdout",
     "output_type": "stream",
     "text": [
      "TRAWBWG128F1462C30\n",
      "NULL\n",
      "TRAWBXQ128F149BF78\n",
      "rock and indie\n",
      "TRAWBYJ128F4254E34\n",
      "dance and electronica\n",
      "TRAWCGS128F934BE2F\n",
      "metal\n",
      "TRAWCIC128F92FE36A\n",
      "pop\n",
      "TRAWCIS128F428CFD1\n",
      "metal\n",
      "TRAWCLF128F92F48C4\n",
      "NULL\n",
      "TRAWCQE128F14676AC\n",
      "pop\n",
      "TRAWCRG128F934F65B\n",
      "NULL\n"
     ]
    },
    {
     "name": "stderr",
     "output_type": "stream",
     "text": [
      "\n",
      "\n",
      " 65%|██████▍   | 6019/9330 [01:10<00:48, 67.80it/s]\u001b[A\u001b[A\n",
      "\n",
      " 65%|██████▍   | 6028/9330 [01:10<00:45, 71.80it/s]"
     ]
    },
    {
     "name": "stdout",
     "output_type": "stream",
     "text": [
      "TRAWCRK128F427CA9F\n",
      "NULL\n",
      "TRAWCUK128F92DE15C\n",
      "rock and indie\n",
      "TRAWCXJ128F426F2B5\n",
      "soul and reggae\n",
      "TRAWDLK128EF342E1E\n",
      "hip-hop\n",
      "TRAWDOU128F146D770\n",
      "NULL\n",
      "TRAWDWZ128F9340E55\n",
      "pop\n",
      "TRAWEDC128F14A2EBA\n",
      "rock and indie\n",
      "TRAWEDG128F42A5F1C\n",
      "folk\n"
     ]
    },
    {
     "name": "stderr",
     "output_type": "stream",
     "text": [
      "\u001b[A\u001b[A\n",
      "\n",
      " 65%|██████▍   | 6039/9330 [01:10<00:41, 79.33it/s]\u001b[A\u001b[A\n",
      "\n",
      " 65%|██████▍   | 6048/9330 [01:10<00:45, 72.56it/s]"
     ]
    },
    {
     "name": "stdout",
     "output_type": "stream",
     "text": [
      "TRAWEIX128F14B0F05\n",
      "hip-hop\n",
      "TRAWENG128F93105B0\n",
      "dance and electronica\n",
      "TRAWEQF128F42591E9\n",
      "NULL\n",
      "TRAWEST128F4242614\n",
      "rock and indie\n",
      "TRAWEUP128F92E72BD\n",
      "NULL\n",
      "TRAWEWS128F4297249\n",
      "hip-hop\n",
      "TRAWFBM12903C9F412\n",
      "metal\n",
      "TRAWFCM12903CBE6FA\n",
      "metal\n",
      "TRAWFGF128E0792FE0\n",
      "rock and indie\n",
      "TRAWFNS128F92F42F7\n",
      "rock and indie\n"
     ]
    },
    {
     "name": "stderr",
     "output_type": "stream",
     "text": [
      "\u001b[A\u001b[A\n",
      "\n",
      " 65%|██████▍   | 6056/9330 [01:11<00:47, 68.82it/s]\u001b[A\u001b[A\n",
      "\n",
      " 65%|██████▍   | 6064/9330 [01:11<00:47, 68.82it/s]"
     ]
    },
    {
     "name": "stdout",
     "output_type": "stream",
     "text": [
      "TRAWFQT128F4294716\n",
      "soul and reggae\n",
      "TRAWFRU128F42382AE\n",
      "jazz\n",
      "TRAWFTQ12903CAC1FA\n",
      "pop\n",
      "TRAWFVE128F42912CA\n",
      "metal\n",
      "TRAWFYX12903CA4766\n",
      "rock and indie\n",
      "TRAWFZB128F92FFB99\n",
      "pop\n",
      "TRAWGDB128F42AD39D\n",
      "soul and reggae\n",
      "TRAWGKB128F4268327\n",
      "metal\n",
      "TRAWGLP128F92DE5AD\n",
      "pop\n"
     ]
    },
    {
     "name": "stderr",
     "output_type": "stream",
     "text": [
      "\u001b[A\u001b[A\n",
      "\n",
      " 65%|██████▌   | 6073/9330 [01:11<00:44, 73.04it/s]\u001b[A\u001b[A"
     ]
    },
    {
     "name": "stdout",
     "output_type": "stream",
     "text": [
      "TRAWGTL128F932D4F9\n",
      "pop\n",
      "TRAWGXD128F428A36B\n",
      "pop\n",
      "TRAWGYK128F42B847B\n",
      "NULL\n",
      "TRAWGYZ128F92C494B\n",
      "rock and indie\n",
      "TRAWHJS128F93333E3\n",
      "rock and indie\n",
      "TRAWHKB12903C9A7E6\n",
      "NULL\n",
      "TRAWHKS128F9330619\n",
      "NULL\n",
      "TRAWHYL128F42934D4\n",
      "dance and electronica\n",
      "TRAWHZJ128E0785694\n",
      "rock and indie\n",
      "TRAWHZK12903CB5A01\n",
      "NULL\n"
     ]
    },
    {
     "name": "stderr",
     "output_type": "stream",
     "text": [
      "\n",
      "\n",
      " 65%|██████▌   | 6082/9330 [01:11<00:43, 74.41it/s]\u001b[A\u001b[A\n",
      "\n",
      " 65%|██████▌   | 6091/9330 [01:11<00:42, 76.07it/s]\u001b[A\u001b[A"
     ]
    },
    {
     "name": "stdout",
     "output_type": "stream",
     "text": [
      "TRAWIFJ128F4259E47\n",
      "pop\n",
      "TRAWIGC128F4295A2F\n",
      "NULL\n",
      "TRAWIGT128F427448E\n",
      "pop\n",
      "TRAWIJG128F42B502C\n",
      "NULL\n",
      "TRAWINM128F932555F\n",
      "dance and electronica\n",
      "TRAWIOY128F147E3B8\n",
      "pop\n",
      "TRAWISL128F422B153\n",
      "NULL\n",
      "TRAWIVY12903CF4A87\n",
      "rock and indie\n",
      "TRAWJDS128F4262D92\n",
      "pop\n"
     ]
    },
    {
     "name": "stderr",
     "output_type": "stream",
     "text": [
      "\n",
      "\n",
      " 65%|██████▌   | 6102/9330 [01:11<00:39, 82.65it/s]\u001b[A\u001b[A\n",
      "\n",
      " 66%|██████▌   | 6115/9330 [01:11<00:34, 92.65it/s]\u001b[A\u001b[A"
     ]
    },
    {
     "name": "stdout",
     "output_type": "stream",
     "text": [
      "TRAWJFG128F92EFA9B\n",
      "rock and indie\n",
      "TRAWJNK128F92FA89F\n",
      "dance and electronica\n",
      "TRAWKPT128E0795428\n",
      "rock and indie\n",
      "TRAWKQN128F427FA2F\n",
      "NULL\n",
      "TRAWKSZ128F92F0F25\n",
      "NULL\n",
      "TRAWKXK128F42B62B3\n",
      "hip-hop\n",
      "TRAWLGG128F42884CA\n",
      "soul and reggae\n",
      "TRAWLIM128F92F13EF\n",
      "rock and indie\n",
      "TRAWLLF128F427C487\n",
      "NULL\n",
      "TRAWLNP12903CB425B\n",
      "dance and electronica\n"
     ]
    },
    {
     "name": "stderr",
     "output_type": "stream",
     "text": [
      "\n",
      "\n",
      " 66%|██████▌   | 6125/9330 [01:11<00:35, 90.59it/s]\u001b[A\u001b[A\n",
      "\n",
      " 66%|██████▌   | 6139/9330 [01:11<00:31, 101.07it/s]\u001b[A\u001b[A"
     ]
    },
    {
     "name": "stdout",
     "output_type": "stream",
     "text": [
      "TRAWLYF128F92D9EE0\n",
      "rock and indie\n",
      "TRAWMCL12903CAC63B\n",
      "rock and indie\n",
      "TRAWMMI128F149CB27\n",
      "pop\n",
      "TRAWMXP128F424D68B\n",
      "NULL\n",
      "TRAWMYN128F4269C97\n",
      "dance and electronica\n",
      "TRAWNBV128F4279867\n",
      "NULL\n",
      "TRAWNCP128F4261F65\n",
      "rock and indie\n",
      "TRAWNDA128F9341C35\n",
      "NULL\n",
      "TRAWNOH128F4287513\n",
      "rock and indie\n"
     ]
    },
    {
     "name": "stderr",
     "output_type": "stream",
     "text": [
      "\n",
      "\n",
      " 66%|██████▌   | 6150/9330 [01:12<00:33, 95.79it/s] \u001b[A\u001b[A\n",
      "\n",
      " 66%|██████▌   | 6161/9330 [01:12<00:36, 87.73it/s]\u001b[A\u001b[A"
     ]
    },
    {
     "name": "stdout",
     "output_type": "stream",
     "text": [
      "TRAWNOJ128F4241807\n",
      "rock and indie\n",
      "TRAWNSM12903CA71FC\n",
      "NULL\n",
      "TRAWOBG128F93256C6\n",
      "rock and indie\n",
      "TRAWOCY128F145B051\n",
      "pop\n",
      "TRAWODX128F42AC413\n",
      "soul and reggae\n",
      "TRAWOHD128F148D176\n",
      "pop\n",
      "TRAWOPG128F92EF9A1\n",
      "pop\n",
      "TRAWOUA128F14AE2E7\n",
      "metal\n",
      "TRAWPBO128F933D918\n",
      "rock and indie\n",
      "TRAWPFX128F92E58B5\n",
      "NULL\n"
     ]
    },
    {
     "name": "stderr",
     "output_type": "stream",
     "text": [
      "\n",
      "\n",
      " 66%|██████▌   | 6175/9330 [01:12<00:31, 98.76it/s]\u001b[A\u001b[A\n",
      "\n",
      " 66%|██████▋   | 6186/9330 [01:12<00:34, 92.06it/s]"
     ]
    },
    {
     "name": "stdout",
     "output_type": "stream",
     "text": [
      "TRAWPFY128F428A9CD\n",
      "pop\n",
      "TRAWPNC128F92EAA90\n",
      "soul and reggae\n",
      "TRAWPOF128E078B8C0\n",
      "NULL\n",
      "TRAWPQO128F14604D1\n",
      "NULL\n",
      "TRAWPQV128F425290A\n",
      "NULL\n",
      "TRAWPXB12903CFA413\n",
      "pop\n",
      "TRAWQHO128F4269D39\n",
      "pop\n",
      "TRAWQXV128F14555B1\n",
      "NULL\n",
      "TRAWQYC128F931A8BE\n",
      "dance and electronica\n"
     ]
    },
    {
     "name": "stderr",
     "output_type": "stream",
     "text": [
      "\u001b[A\u001b[A\n",
      "\n",
      " 66%|██████▋   | 6196/9330 [01:12<00:36, 84.73it/s]\u001b[A\u001b[A"
     ]
    },
    {
     "name": "stdout",
     "output_type": "stream",
     "text": [
      "TRAWRFC12903CF2624\n",
      "NULL\n",
      "TRAWRHQ128F1495E6B\n",
      "NULL\n",
      "TRAWRKQ128F429866C\n",
      "NULL\n",
      "TRAWRKT128E0788857\n",
      "pop\n",
      "TRAWRPR12903CA9C97\n",
      "soul and reggae\n",
      "TRAWRWK128F4260B37\n",
      "jazz\n",
      "TRAWRZX128F93019AC\n",
      "soul and reggae\n",
      "TRAWSDQ128F9336A19\n",
      "NULL\n",
      "TRAWSJK128F42767F2\n",
      "pop\n",
      "TRAWSSL12903CC4734\n",
      "rock and indie\n"
     ]
    },
    {
     "name": "stderr",
     "output_type": "stream",
     "text": [
      "\n",
      "\n",
      " 67%|██████▋   | 6206/9330 [01:12<00:37, 83.28it/s]\u001b[A\u001b[A\n",
      "\n",
      " 67%|██████▋   | 6215/9330 [01:12<00:38, 81.64it/s]\u001b[A\u001b[A"
     ]
    },
    {
     "name": "stdout",
     "output_type": "stream",
     "text": [
      "TRAWSXU128F4275C84\n",
      "NULL\n",
      "TRAWSXV128F4273E35\n",
      "hip-hop\n",
      "TRAWSYF128F149431A\n",
      "dance and electronica\n",
      "TRAWTGS128F14569A8\n",
      "rock and indie\n",
      "TRAWTKK128F92C25D0\n",
      "rock and indie\n",
      "TRAWTLK12903CF4B2D\n",
      "soul and reggae\n",
      "TRAWTOK12903D0A21B\n",
      "rock and indie\n",
      "TRAWTPM128F932C531\n",
      "jazz\n",
      "TRAWTSO128F9345A3C\n",
      "NULL\n"
     ]
    },
    {
     "name": "stderr",
     "output_type": "stream",
     "text": [
      "\n",
      "\n",
      " 67%|██████▋   | 6226/9330 [01:12<00:36, 86.09it/s]\u001b[A\u001b[A\n",
      "\n",
      " 67%|██████▋   | 6239/9330 [01:13<00:33, 92.56it/s]"
     ]
    },
    {
     "name": "stdout",
     "output_type": "stream",
     "text": [
      "TRAWTUV128F426DD46\n",
      "pop\n",
      "TRAWULX128F4291255\n",
      "pop\n",
      "TRAWUSV128F425CF8D\n",
      "rock and indie\n",
      "TRAWUUX128F426731A\n",
      "NULL\n",
      "TRAWVBA128F426179A\n",
      "NULL\n",
      "TRAWVLS128F148D430\n",
      "hip-hop\n",
      "TRAWVNL128F9327983\n",
      "rock and indie\n",
      "TRAWVUW128F932F914\n",
      "NULL\n",
      "TRAWVWS128F42ADCD1\n",
      "dance and electronica\n"
     ]
    },
    {
     "name": "stderr",
     "output_type": "stream",
     "text": [
      "\u001b[A\u001b[A\n",
      "\n",
      " 67%|██████▋   | 6249/9330 [01:13<00:35, 86.99it/s]\u001b[A\u001b[A\n",
      "\n",
      " 67%|██████▋   | 6258/9330 [01:13<00:37, 82.40it/s]"
     ]
    },
    {
     "name": "stdout",
     "output_type": "stream",
     "text": [
      "TRAWWHM128F9310FD7\n",
      "pop\n",
      "TRAWWHT128F426894E\n",
      "rock and indie\n",
      "TRAWWIK128E078D19C\n",
      "NULL\n",
      "TRAWWQM128F148C796\n",
      "pop\n",
      "TRAWWTR128F93593BF\n",
      "NULL\n",
      "TRAWWVS128F1482068\n",
      "rock and indie\n",
      "TRAWXON128F1471203\n",
      "NULL\n",
      "TRAWXPP128F932B152\n",
      "NULL\n",
      "TRAWXQB128F932BCA5\n",
      "NULL\n"
     ]
    },
    {
     "name": "stderr",
     "output_type": "stream",
     "text": [
      "\u001b[A\u001b[A\n",
      "\n",
      " 67%|██████▋   | 6267/9330 [01:13<00:46, 65.51it/s]"
     ]
    },
    {
     "name": "stdout",
     "output_type": "stream",
     "text": [
      "TRAWXSL128F9353CE4\n",
      "dance and electronica\n",
      "TRAWXXP128F92FE765\n",
      "NULL\n",
      "TRAWXYD128F4255FBD\n",
      "pop\n",
      "TRAWXYT128F428CBE4\n",
      "NULL\n",
      "TRAWYCO128F9322CE1\n",
      "rock and indie\n",
      "TRAWYDB12903CC4519\n",
      "soul and reggae\n",
      "TRAWYIK12903CB4F3A\n",
      "pop\n",
      "TRAWYJE128F9324D18\n",
      "NULL\n",
      "TRAWYNV128F92F5E7E\n",
      "pop\n"
     ]
    },
    {
     "name": "stderr",
     "output_type": "stream",
     "text": [
      "\u001b[A\u001b[A\n",
      "\n",
      " 67%|██████▋   | 6276/9330 [01:13<00:44, 68.02it/s]\u001b[A\u001b[A\n",
      "\n",
      " 67%|██████▋   | 6285/9330 [01:13<00:42, 71.61it/s]"
     ]
    },
    {
     "name": "stdout",
     "output_type": "stream",
     "text": [
      "TRAWZFC128F92E78EF\n",
      "rock and indie\n",
      "TRAWZJQ128F92E1314\n",
      "rock and indie\n",
      "TRAWZJW128F42297EE\n",
      "NULL\n",
      "TRAWZRG128F1489B24\n",
      "rock and indie\n",
      "TRAWZYH128F422FE57\n",
      "dance and electronica\n",
      "TRAXAAS128F146B741\n",
      "pop\n",
      "TRAXAIT128F92D80C6\n",
      "NULL\n",
      "TRAXAOX128F930DB6B\n",
      "pop\n",
      "TRAXATR128F4244382\n",
      "NULL\n"
     ]
    },
    {
     "name": "stderr",
     "output_type": "stream",
     "text": [
      "\u001b[A\u001b[A\n",
      "\n",
      " 67%|██████▋   | 6293/9330 [01:13<00:43, 69.46it/s]\u001b[A\u001b[A"
     ]
    },
    {
     "name": "stdout",
     "output_type": "stream",
     "text": [
      "TRAXAYE128F9354352\n",
      "pop\n",
      "TRAXAZZ128F4255FAF\n",
      "hip-hop\n",
      "TRAXBFN12903C9D50E\n",
      "dance and electronica\n",
      "TRAXBJX128F428A6A9\n",
      "NULL\n",
      "TRAXBLJ128F92EEBB1\n",
      "jazz\n",
      "TRAXBTV12903CD8399\n",
      "pop\n",
      "TRAXBUC128F1469548\n",
      "dance and electronica\n",
      "TRAXBUJ128F4247432\n",
      "dance and electronica\n",
      "TRAXBVE128F932BD11\n",
      "NULL\n",
      "TRAXCZO12903CB819D\n",
      "NULL\n"
     ]
    },
    {
     "name": "stderr",
     "output_type": "stream",
     "text": [
      "\n",
      "\n",
      " 68%|██████▊   | 6305/9330 [01:13<00:38, 77.76it/s]\u001b[A\u001b[A\n",
      "\n",
      " 68%|██████▊   | 6314/9330 [01:14<00:37, 79.60it/s]"
     ]
    },
    {
     "name": "stdout",
     "output_type": "stream",
     "text": [
      "TRAXDAH128F422BBFC\n",
      "rock and indie\n",
      "TRAXDBM128E0785BD8\n",
      "NULL\n",
      "TRAXDCY128F932ECDA\n",
      "dance and electronica\n",
      "TRAXDDY12903C93E27\n",
      "rock and indie\n",
      "TRAXDEF128F4253194\n",
      "NULL\n",
      "TRAXDFA128F427CCE7\n",
      "NULL\n",
      "TRAXDFV128F93180C0\n",
      "rock and indie\n",
      "TRAXDNU128F9341CDE\n",
      "rock and indie\n",
      "TRAXDRW128F428A030\n",
      "NULL\n",
      "TRAXDZH128F425C673\n",
      "jazz\n",
      "TRAXEAY128F931C3D0\n",
      "NULL\n",
      "TRAXEHW128F423E590"
     ]
    },
    {
     "name": "stderr",
     "output_type": "stream",
     "text": [
      "\u001b[A\u001b[A\n",
      "\n",
      " 68%|██████▊   | 6325/9330 [01:14<00:35, 83.98it/s]\u001b[A\u001b[A\n",
      "\n",
      " 68%|██████▊   | 6339/9330 [01:14<00:31, 94.95it/s]"
     ]
    },
    {
     "name": "stdout",
     "output_type": "stream",
     "text": [
      "\n",
      "NULL\n",
      "TRAXEML128F934BC04\n",
      "metal\n",
      "TRAXEYV128F932CD95\n",
      "NULL\n",
      "TRAXFBO12903CDFCFC\n",
      "NULL\n",
      "TRAXFTO12903CAEA49\n",
      "pop\n",
      "TRAXFXT128F426A33A\n",
      "rock and indie\n",
      "TRAXGFM128F421EE47\n",
      "NULL\n",
      "TRAXGIT128F92E3C04\n",
      "rock and indie\n",
      "TRAXGOK128F14AA743\n",
      "NULL\n",
      "TRAXGVY128F933E9C9\n",
      "pop\n"
     ]
    },
    {
     "name": "stderr",
     "output_type": "stream",
     "text": [
      "\u001b[A\u001b[A\n",
      "\n",
      " 68%|██████▊   | 6350/9330 [01:14<00:34, 86.26it/s]\u001b[A\u001b[A\n",
      "\n",
      " 68%|██████▊   | 6360/9330 [01:14<00:33, 87.77it/s]"
     ]
    },
    {
     "name": "stdout",
     "output_type": "stream",
     "text": [
      "TRAXGZE128F4287B9E\n",
      "dance and electronica\n",
      "TRAXHEX128F92D28D4\n",
      "jazz\n",
      "TRAXHFE128F93065A9\n",
      "soul and reggae\n",
      "TRAXHFY128F932E4E7\n",
      "metal\n",
      "TRAXHQZ128F4278712\n",
      "NULL\n",
      "TRAXHTV128F934E987\n",
      "NULL\n",
      "TRAXIBJ12903CE2CB8\n",
      "NULL\n",
      "TRAXIIG128F427E41A\n",
      "NULL\n",
      "TRAXIPO128F14923B2\n",
      "pop\n",
      "TRAXIPR128F14882B2\n",
      "NULL\n"
     ]
    },
    {
     "name": "stderr",
     "output_type": "stream",
     "text": [
      "\u001b[A\u001b[A\n",
      "\n",
      " 68%|██████▊   | 6370/9330 [01:14<00:37, 78.49it/s]\u001b[A\u001b[A"
     ]
    },
    {
     "name": "stdout",
     "output_type": "stream",
     "text": [
      "TRAXIQA128F422C8C7\n",
      "jazz\n",
      "TRAXIVK128F42628CA\n",
      "rock and indie\n",
      "TRAXIYH128F92EE3B3\n",
      "NULL\n",
      "TRAXIYW12903CB4343\n",
      "metal\n",
      "TRAXJBW128E0788652\n",
      "NULL\n",
      "TRAXJGB128F93476D7\n",
      "rock and indie\n",
      "TRAXJGG128EF3686D7\n",
      "NULL\n",
      "TRAXJHG128F427EA02\n",
      "pop\n",
      "TRAXJOA128F93474E8\n",
      "pop\n",
      "TRAXJQM128F42903F2\n",
      "NULL\n"
     ]
    },
    {
     "name": "stderr",
     "output_type": "stream",
     "text": [
      "\n",
      "\n",
      " 68%|██████▊   | 6379/9330 [01:14<00:37, 79.41it/s]\u001b[A\u001b[A\n",
      "\n",
      " 68%|██████▊   | 6388/9330 [01:14<00:37, 78.43it/s]"
     ]
    },
    {
     "name": "stdout",
     "output_type": "stream",
     "text": [
      "TRAXJVO128F42AC534\n",
      "dance and electronica\n",
      "TRAXJVR12903CD2576\n",
      "dance and electronica\n",
      "TRAXKAQ128F930BCD6\n",
      "NULL\n",
      "TRAXKGF128F92D68E9\n",
      "hip-hop\n",
      "TRAXKGT128F42725B8\n",
      "pop\n",
      "TRAXKLH128F4289138\n",
      "rock and indie\n",
      "TRAXKPM12903D0611E\n",
      "NULL\n",
      "TRAXKRW128F93013DF\n",
      "NULL\n",
      "TRAXKVO12903CD735A\n",
      "NULL\n",
      "TRAXKXX128F4264EA1\n",
      "jazz\n",
      "TRAXLAY12903CA8612\n",
      "pop\n"
     ]
    },
    {
     "name": "stderr",
     "output_type": "stream",
     "text": [
      "\u001b[A\u001b[A\n",
      "\n",
      " 69%|██████▊   | 6397/9330 [01:15<00:36, 80.63it/s]\u001b[A\u001b[A\n",
      "\n",
      " 69%|██████▊   | 6406/9330 [01:15<00:39, 73.80it/s]"
     ]
    },
    {
     "name": "stdout",
     "output_type": "stream",
     "text": [
      "TRAXLIU128E07860D4\n",
      "NULL\n",
      "TRAXLLN128F428B982\n",
      "NULL\n",
      "TRAXLPR128F428E466\n",
      "rock and indie\n",
      "TRAXLRT128F4238A87\n",
      "NULL\n",
      "TRAXLWW128F9312D64\n",
      "pop\n",
      "TRAXLYT128F9348137\n",
      "hip-hop\n",
      "TRAXLZU12903D05F94\n",
      "pop\n",
      "TRAXMAK128E07822CB\n",
      "pop\n",
      "TRAXMHR128F421A89B\n",
      "rock and indie\n",
      "TRAXMNY12903CB5207\n",
      "dance and electronica\n"
     ]
    },
    {
     "name": "stderr",
     "output_type": "stream",
     "text": [
      "\u001b[A\u001b[A\n",
      "\n",
      " 69%|██████▉   | 6416/9330 [01:15<00:36, 79.05it/s]\u001b[A\u001b[A\n",
      "\n",
      " 69%|██████▉   | 6425/9330 [01:15<00:36, 78.90it/s]"
     ]
    },
    {
     "name": "stdout",
     "output_type": "stream",
     "text": [
      "TRAXMUC128F4273749\n",
      "pop\n",
      "TRAXMWV128F14612AB\n",
      "pop\n",
      "TRAXNJW128F427E124\n",
      "NULL\n",
      "TRAXNKL128F42AFD92\n",
      "rock and indie\n",
      "TRAXNMN128F4294EA6\n",
      "NULL\n",
      "TRAXNOE128F149158A\n",
      "NULL\n",
      "TRAXNWF128F422936F\n",
      "NULL\n",
      "TRAXNYL128F92DA2B1\n",
      "jazz\n",
      "TRAXOOY128F42280B0\n",
      "NULL\n",
      "TRAXOQD12903CDD59D\n",
      "metal\n"
     ]
    },
    {
     "name": "stderr",
     "output_type": "stream",
     "text": [
      "\u001b[A\u001b[A\n",
      "\n",
      " 69%|██████▉   | 6434/9330 [01:15<00:36, 78.53it/s]\u001b[A\u001b[A"
     ]
    },
    {
     "name": "stdout",
     "output_type": "stream",
     "text": [
      "TRAXOQP128F930DD49\n",
      "NULL\n",
      "TRAXPDE12903CD45BE\n",
      "NULL\n",
      "TRAXPDR128F424BCD7\n",
      "pop\n",
      "TRAXPEN128F933F4DC\n",
      "rock and indie\n",
      "TRAXPGM128F428BBA6\n",
      "jazz\n",
      "TRAXPHE128F92F4100\n",
      "rock and indie\n",
      "TRAXPVO128F427C41E\n",
      "pop\n",
      "TRAXPYB128F92FA0EB\n",
      "NULL\n",
      "TRAXQDR128F4260194\n",
      "dance and electronica\n",
      "TRAXQII128F42171C3\n",
      "NULL\n"
     ]
    },
    {
     "name": "stderr",
     "output_type": "stream",
     "text": [
      "\n",
      "\n",
      " 69%|██████▉   | 6442/9330 [01:15<00:39, 73.75it/s]\u001b[A\u001b[A\n",
      "\n",
      " 69%|██████▉   | 6450/9330 [01:15<00:38, 75.19it/s]\u001b[A\u001b[A"
     ]
    },
    {
     "name": "stdout",
     "output_type": "stream",
     "text": [
      "TRAXQNR128F4282B06\n",
      "pop\n",
      "TRAXQPD128F424BCB9\n",
      "NULL\n",
      "TRAXQTH128F423995E\n",
      "NULL\n",
      "TRAXQTY128F92D5C64\n",
      "NULL\n",
      "TRAXQZA128F1463DEB\n",
      "rock and indie\n",
      "TRAXRGF128F930A59F\n",
      "hip-hop\n",
      "TRAXRSK128F42B44D2\n",
      "pop\n",
      "TRAXRUB128F92DF1CF\n",
      "NULL\n",
      "TRAXRWA128F42464CD\n",
      "dance and electronica\n"
     ]
    },
    {
     "ename": "KeyboardInterrupt",
     "evalue": "",
     "output_type": "error",
     "traceback": [
      "\u001b[0;31m---------------------------------------------------------------------------\u001b[0m",
      "\u001b[0;31mKeyboardInterrupt\u001b[0m                         Traceback (most recent call last)",
      "\u001b[0;32m<ipython-input-13-e071c532c675>\u001b[0m in \u001b[0;36m<module>\u001b[0;34m()\u001b[0m\n\u001b[1;32m     68\u001b[0m     \u001b[0;31m# print (filepath)\u001b[0m\u001b[0;34m\u001b[0m\u001b[0;34m\u001b[0m\u001b[0m\n\u001b[1;32m     69\u001b[0m     \u001b[0;32mwith\u001b[0m \u001b[0mopen\u001b[0m\u001b[0;34m(\u001b[0m\u001b[0mfilepath\u001b[0m\u001b[0;34m)\u001b[0m \u001b[0;32mas\u001b[0m \u001b[0mdata_file\u001b[0m\u001b[0;34m:\u001b[0m\u001b[0;34m\u001b[0m\u001b[0m\n\u001b[0;32m---> 70\u001b[0;31m         \u001b[0mdata\u001b[0m \u001b[0;34m=\u001b[0m \u001b[0mjson\u001b[0m\u001b[0;34m.\u001b[0m\u001b[0mload\u001b[0m\u001b[0;34m(\u001b[0m\u001b[0mdata_file\u001b[0m\u001b[0;34m)\u001b[0m\u001b[0;34m\u001b[0m\u001b[0m\n\u001b[0m\u001b[1;32m     71\u001b[0m         \u001b[0;32mif\u001b[0m \u001b[0mlen\u001b[0m\u001b[0;34m(\u001b[0m\u001b[0mdata\u001b[0m\u001b[0;34m.\u001b[0m\u001b[0mget\u001b[0m\u001b[0;34m(\u001b[0m\u001b[0;34m'tags'\u001b[0m\u001b[0;34m)\u001b[0m\u001b[0;34m)\u001b[0m \u001b[0;34m!=\u001b[0m \u001b[0;36m0\u001b[0m\u001b[0;34m:\u001b[0m\u001b[0;34m\u001b[0m\u001b[0m\n\u001b[1;32m     72\u001b[0m             \u001b[0mtags\u001b[0m \u001b[0;34m=\u001b[0m \u001b[0mdata\u001b[0m\u001b[0;34m.\u001b[0m\u001b[0mget\u001b[0m\u001b[0;34m(\u001b[0m\u001b[0;34m'tags'\u001b[0m\u001b[0;34m)\u001b[0m\u001b[0;34m\u001b[0m\u001b[0m\n",
      "\u001b[0;32m/Users/kenleejr92/anaconda/lib/python2.7/json/__init__.pyc\u001b[0m in \u001b[0;36mload\u001b[0;34m(fp, encoding, cls, object_hook, parse_float, parse_int, parse_constant, object_pairs_hook, **kw)\u001b[0m\n\u001b[1;32m    285\u001b[0m \u001b[0;34m\u001b[0m\u001b[0m\n\u001b[1;32m    286\u001b[0m     \"\"\"\n\u001b[0;32m--> 287\u001b[0;31m     return loads(fp.read(),\n\u001b[0m\u001b[1;32m    288\u001b[0m         \u001b[0mencoding\u001b[0m\u001b[0;34m=\u001b[0m\u001b[0mencoding\u001b[0m\u001b[0;34m,\u001b[0m \u001b[0mcls\u001b[0m\u001b[0;34m=\u001b[0m\u001b[0mcls\u001b[0m\u001b[0;34m,\u001b[0m \u001b[0mobject_hook\u001b[0m\u001b[0;34m=\u001b[0m\u001b[0mobject_hook\u001b[0m\u001b[0;34m,\u001b[0m\u001b[0;34m\u001b[0m\u001b[0m\n\u001b[1;32m    289\u001b[0m         \u001b[0mparse_float\u001b[0m\u001b[0;34m=\u001b[0m\u001b[0mparse_float\u001b[0m\u001b[0;34m,\u001b[0m \u001b[0mparse_int\u001b[0m\u001b[0;34m=\u001b[0m\u001b[0mparse_int\u001b[0m\u001b[0;34m,\u001b[0m\u001b[0;34m\u001b[0m\u001b[0m\n",
      "\u001b[0;31mKeyboardInterrupt\u001b[0m: "
     ]
    }
   ],
   "source": [
    "'''\n",
    "import tags from lastfm dataset\n",
    "   \n",
    "@author - Farzan Memarian\n",
    " this is based on Andrew's id_title_artist.py and Alen's create_song_sql.py\n",
    "'''\n",
    "\n",
    "import hdf5_getters\n",
    "from tqdm import tqdm\n",
    "import pymysql.cursors\n",
    "import pandas as pd\n",
    "import numpy as np\n",
    "import glob\n",
    "import csv\n",
    "import pdb\n",
    "import json\n",
    "from pprint import pprint\n",
    "import pdb\n",
    "import re\n",
    "import unicodedata\n",
    "\n",
    "top_tags = { \n",
    "'classic rock or pop': ['classic rock','classic pop'],\n",
    "'classical': ['classical'],\n",
    "'dance and electronica': ['dance', 'electronica', 'electronic'],\n",
    "'folk': ['folk'],\n",
    "'hip-hop': ['hip-hop','hiphop','hip-Hop','hip hop'],\n",
    "'jazz': ['jazz'],\n",
    "'metal': ['metal'],\n",
    "'pop': ['pop'],\n",
    "'rock and indie': ['rock', 'indie'],\n",
    "'soul and reggae': ['soul', 'reggae'] }\n",
    "\n",
    "def pick_top_tags(track_tags, top_tags, tags_count):\n",
    "    match = []\n",
    "    for key, value in top_tags.items():\n",
    "        for i,t in enumerate(track_tags):\n",
    "            temp = re.findall(r\"(?=(\"+'|'.join(value)+r\"))\",t,flags=re.IGNORECASE)\n",
    "            if len(temp) == 0:\n",
    "                continue              \n",
    "            match.append((key, tags_count[i]))\n",
    "    sorted(match, key=lambda tup: tup[1])\n",
    "    if len(match) == 0: return 'NULL'\n",
    "    return match[0][0]\n",
    "           \n",
    "\n",
    "# for now we are just using the smaller version of the dataset corresponding to 10000 tracks\n",
    "# for development purposes. And the tags are stored at a pd.DataFrame\n",
    "glob_path = '/Users/kenleejr92/lastfm_subset/*/*/*/*'\n",
    "filepaths = glob.glob(glob_path)\n",
    "# establish connection to sql server\n",
    "connection = pymysql.connect(host='localhost',\\\n",
    "   user='root',password='yangspike92',db='songs')\n",
    "cursor = connection.cursor()\n",
    "\n",
    "# create sql table (only need to do this once)\n",
    "sql = '''DROP TABLE IF EXISTS genres;'''\n",
    "cursor.execute(sql)\n",
    "connection.commit()\n",
    "sql = '''CREATE TABLE IF NOT EXISTS genres (\n",
    "songID VARCHAR(50) PRIMARY KEY, \n",
    "genre VARCHAR(50) DEFAULT NULL,\n",
    "INDEX songID (songID)\n",
    ");'''\n",
    "cursor.execute(sql)\n",
    "connection.commit()\n",
    "\n",
    "for filepath in tqdm(filepaths):\n",
    "    # print (filepath)\n",
    "    with open(filepath) as data_file:    \n",
    "        data = json.load(data_file)\n",
    "        if len(data.get('tags')) != 0:\n",
    "            tags = data.get('tags')\n",
    "            song_id = data.get('track_id')\n",
    "            tags_pure = [i[0] for i in tags]\n",
    "            tags_count = [i[1] for i in tags]\n",
    "            match = pick_top_tags(tags_pure,top_tags, tags_count)\n",
    "            query = \"INSERT INTO genres (songID, genre) VALUES ('%s','%s')\" % (song_id, match)\n",
    "            cursor.execute(query)\n",
    "            connection.commit()\n",
    "            "
   ]
  }
 ],
 "metadata": {
  "kernelspec": {
   "display_name": "Python 2",
   "language": "python",
   "name": "python2"
  },
  "language_info": {
   "codemirror_mode": {
    "name": "ipython",
    "version": 2
   },
   "file_extension": ".py",
   "mimetype": "text/x-python",
   "name": "python",
   "nbconvert_exporter": "python",
   "pygments_lexer": "ipython2",
   "version": "2.7.13"
  }
 },
 "nbformat": 4,
 "nbformat_minor": 2
}
